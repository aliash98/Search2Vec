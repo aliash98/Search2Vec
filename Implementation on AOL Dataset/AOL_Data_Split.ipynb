{
  "nbformat": 4,
  "nbformat_minor": 0,
  "metadata": {
    "colab": {
      "name": "AOL_Data_Split.ipynb",
      "provenance": [],
      "collapsed_sections": [],
      "authorship_tag": "ABX9TyNTXfjL3fCqA2WryH2p3oP+",
      "include_colab_link": true
    },
    "kernelspec": {
      "name": "python3",
      "display_name": "Python 3"
    },
    "language_info": {
      "name": "python"
    }
  },
  "cells": [
    {
      "cell_type": "markdown",
      "metadata": {
        "id": "view-in-github",
        "colab_type": "text"
      },
      "source": [
        "<a href=\"https://colab.research.google.com/github/aliash98/Search2Vec-BScThesis/blob/main/Implementation%20on%20AOL%20Dataset/AOL_Data_Split.ipynb\" target=\"_parent\"><img src=\"https://colab.research.google.com/assets/colab-badge.svg\" alt=\"Open In Colab\"/></a>"
      ]
    },
    {
      "cell_type": "code",
      "metadata": {
        "id": "q0S2n0r1EN7_",
        "colab": {
          "base_uri": "https://localhost:8080/"
        },
        "outputId": "13e91a39-257b-43e5-b896-bc0d7c36e7d6"
      },
      "source": [
        "!pip install pandas\n",
        "!pip install numpy"
      ],
      "execution_count": null,
      "outputs": [
        {
          "output_type": "stream",
          "name": "stdout",
          "text": [
            "Requirement already satisfied: pandas in /usr/local/lib/python3.7/dist-packages (1.1.5)\n",
            "Requirement already satisfied: python-dateutil>=2.7.3 in /usr/local/lib/python3.7/dist-packages (from pandas) (2.8.2)\n",
            "Requirement already satisfied: pytz>=2017.2 in /usr/local/lib/python3.7/dist-packages (from pandas) (2018.9)\n",
            "Requirement already satisfied: numpy>=1.15.4 in /usr/local/lib/python3.7/dist-packages (from pandas) (1.19.5)\n",
            "Requirement already satisfied: six>=1.5 in /usr/local/lib/python3.7/dist-packages (from python-dateutil>=2.7.3->pandas) (1.15.0)\n",
            "Requirement already satisfied: numpy in /usr/local/lib/python3.7/dist-packages (1.19.5)\n"
          ]
        }
      ]
    },
    {
      "cell_type": "code",
      "metadata": {
        "id": "BaRu6Kw8Ef72"
      },
      "source": [
        "import matplotlib.pyplot as plt\n",
        "import itertools\n",
        "from datetime import datetime\n",
        "import pandas as pd\n",
        "import numpy as np\n",
        "import json\n",
        "import re\n",
        "import warnings\n",
        "import gc \n",
        "from tqdm import tqdm, trange"
      ],
      "execution_count": null,
      "outputs": []
    },
    {
      "cell_type": "code",
      "metadata": {
        "colab": {
          "base_uri": "https://localhost:8080/"
        },
        "id": "fvM4lRqDEibM",
        "outputId": "e0b354fe-e767-424d-f9ca-75d604d62f02"
      },
      "source": [
        "from google.colab import drive\n",
        "drive.mount('/content/gdrive')"
      ],
      "execution_count": null,
      "outputs": [
        {
          "output_type": "stream",
          "name": "stdout",
          "text": [
            "Mounted at /content/gdrive\n"
          ]
        }
      ]
    },
    {
      "cell_type": "code",
      "metadata": {
        "id": "RvSTbypfEnFN"
      },
      "source": [
        "df = pd.read_csv(r'./gdrive/MyDrive/Colab Notebooks/AOL_Implementation/aol.txt', sep=\"\\t\")   "
      ],
      "execution_count": null,
      "outputs": []
    },
    {
      "cell_type": "code",
      "metadata": {
        "colab": {
          "base_uri": "https://localhost:8080/",
          "height": 206
        },
        "id": "RqRU9pcdFGEe",
        "outputId": "7a00733a-afb2-4708-bb36-f0c63966968b"
      },
      "source": [
        "df.head(5)"
      ],
      "execution_count": null,
      "outputs": [
        {
          "output_type": "execute_result",
          "data": {
            "text/html": [
              "<div>\n",
              "<style scoped>\n",
              "    .dataframe tbody tr th:only-of-type {\n",
              "        vertical-align: middle;\n",
              "    }\n",
              "\n",
              "    .dataframe tbody tr th {\n",
              "        vertical-align: top;\n",
              "    }\n",
              "\n",
              "    .dataframe thead th {\n",
              "        text-align: right;\n",
              "    }\n",
              "</style>\n",
              "<table border=\"1\" class=\"dataframe\">\n",
              "  <thead>\n",
              "    <tr style=\"text-align: right;\">\n",
              "      <th></th>\n",
              "      <th>AnonID</th>\n",
              "      <th>Query</th>\n",
              "      <th>QueryTime</th>\n",
              "      <th>ItemRank</th>\n",
              "      <th>ClickURL</th>\n",
              "    </tr>\n",
              "  </thead>\n",
              "  <tbody>\n",
              "    <tr>\n",
              "      <th>0</th>\n",
              "      <td>479</td>\n",
              "      <td>family guy</td>\n",
              "      <td>2006-03-01 16:01:20</td>\n",
              "      <td>NaN</td>\n",
              "      <td>NaN</td>\n",
              "    </tr>\n",
              "    <tr>\n",
              "      <th>1</th>\n",
              "      <td>479</td>\n",
              "      <td>also sprach zarathustra</td>\n",
              "      <td>2006-03-02 14:48:55</td>\n",
              "      <td>NaN</td>\n",
              "      <td>NaN</td>\n",
              "    </tr>\n",
              "    <tr>\n",
              "      <th>2</th>\n",
              "      <td>479</td>\n",
              "      <td>family guy movie references</td>\n",
              "      <td>2006-03-03 22:37:46</td>\n",
              "      <td>1.0</td>\n",
              "      <td>http://www.familyguyfiles.com</td>\n",
              "    </tr>\n",
              "    <tr>\n",
              "      <th>3</th>\n",
              "      <td>479</td>\n",
              "      <td>top grossing movies of all time</td>\n",
              "      <td>2006-03-03 22:42:42</td>\n",
              "      <td>1.0</td>\n",
              "      <td>http://movieweb.com</td>\n",
              "    </tr>\n",
              "    <tr>\n",
              "      <th>4</th>\n",
              "      <td>479</td>\n",
              "      <td>top grossing movies of all time</td>\n",
              "      <td>2006-03-03 22:42:42</td>\n",
              "      <td>2.0</td>\n",
              "      <td>http://www.imdb.com</td>\n",
              "    </tr>\n",
              "  </tbody>\n",
              "</table>\n",
              "</div>"
            ],
            "text/plain": [
              "   AnonID  ...                       ClickURL\n",
              "0     479  ...                            NaN\n",
              "1     479  ...                            NaN\n",
              "2     479  ...  http://www.familyguyfiles.com\n",
              "3     479  ...            http://movieweb.com\n",
              "4     479  ...            http://www.imdb.com\n",
              "\n",
              "[5 rows x 5 columns]"
            ]
          },
          "metadata": {},
          "execution_count": 5
        }
      ]
    },
    {
      "cell_type": "code",
      "metadata": {
        "colab": {
          "base_uri": "https://localhost:8080/"
        },
        "id": "gxsKxYHeHAYq",
        "outputId": "a45a18f3-7cb9-4269-db30-429c700b930c"
      },
      "source": [
        "df['Query'].describe()"
      ],
      "execution_count": null,
      "outputs": [
        {
          "output_type": "execute_result",
          "data": {
            "text/plain": [
              "count     3614377\n",
              "unique    1244495\n",
              "top             -\n",
              "freq        98554\n",
              "Name: Query, dtype: object"
            ]
          },
          "metadata": {},
          "execution_count": 5
        }
      ]
    },
    {
      "cell_type": "code",
      "source": [
        "print((df['Query'].value_counts()==35).argmax())\n",
        "df = df[df.Query.isin(df['Query'].value_counts().head(6043).index)]"
      ],
      "metadata": {
        "colab": {
          "base_uri": "https://localhost:8080/"
        },
        "id": "YPa4wLU8fyIF",
        "outputId": "7fde55b6-93e7-4f39-e295-0ae9036bdc70"
      },
      "execution_count": null,
      "outputs": [
        {
          "output_type": "stream",
          "name": "stdout",
          "text": [
            "6043\n"
          ]
        }
      ]
    },
    {
      "cell_type": "code",
      "source": [
        "df.info()"
      ],
      "metadata": {
        "colab": {
          "base_uri": "https://localhost:8080/"
        },
        "id": "AEhc-sSChOBp",
        "outputId": "10bd5c0c-5e37-4fc9-f9d4-412b061f6d0c"
      },
      "execution_count": null,
      "outputs": [
        {
          "output_type": "stream",
          "name": "stdout",
          "text": [
            "<class 'pandas.core.frame.DataFrame'>\n",
            "Int64Index: 813190 entries, 0 to 3614502\n",
            "Data columns (total 5 columns):\n",
            " #   Column     Non-Null Count   Dtype  \n",
            "---  ------     --------------   -----  \n",
            " 0   AnonID     813190 non-null  int64  \n",
            " 1   Query      813190 non-null  object \n",
            " 2   QueryTime  813190 non-null  object \n",
            " 3   ItemRank   418029 non-null  float64\n",
            " 4   ClickURL   418029 non-null  object \n",
            "dtypes: float64(1), int64(1), object(3)\n",
            "memory usage: 37.2+ MB\n"
          ]
        }
      ]
    },
    {
      "cell_type": "code",
      "source": [
        "print((df['ClickURL'].value_counts()==10).argmax())\n",
        "\n",
        "# data = data[data.ClickURL.isin(data['ClickURL'].value_counts().head(2810).index)]\n",
        "# data.info()"
      ],
      "metadata": {
        "colab": {
          "base_uri": "https://localhost:8080/"
        },
        "id": "wo4fH4mWhR-S",
        "outputId": "50c986e1-b521-46f1-f92c-87e86cde96dc"
      },
      "execution_count": null,
      "outputs": [
        {
          "output_type": "stream",
          "name": "stdout",
          "text": [
            "3658\n"
          ]
        }
      ]
    },
    {
      "cell_type": "code",
      "metadata": {
        "colab": {
          "base_uri": "https://localhost:8080/"
        },
        "id": "CRHOkd8lIMaD",
        "outputId": "e0c9bb4a-9b4f-43f5-9145-f9d90394dac8"
      },
      "source": [
        "df['QueryTime'] = [datetime.fromisoformat(d) for d in df.QueryTime]\n",
        "df.info()"
      ],
      "execution_count": null,
      "outputs": [
        {
          "output_type": "stream",
          "name": "stdout",
          "text": [
            "<class 'pandas.core.frame.DataFrame'>\n",
            "Int64Index: 813190 entries, 0 to 3614502\n",
            "Data columns (total 5 columns):\n",
            " #   Column     Non-Null Count   Dtype         \n",
            "---  ------     --------------   -----         \n",
            " 0   AnonID     813190 non-null  int64         \n",
            " 1   Query      813190 non-null  object        \n",
            " 2   QueryTime  813190 non-null  datetime64[ns]\n",
            " 3   ItemRank   418029 non-null  float64       \n",
            " 4   ClickURL   418029 non-null  object        \n",
            "dtypes: datetime64[ns](1), float64(1), int64(1), object(2)\n",
            "memory usage: 37.2+ MB\n"
          ]
        }
      ]
    },
    {
      "cell_type": "code",
      "metadata": {
        "colab": {
          "base_uri": "https://localhost:8080/"
        },
        "id": "AwPUH58dOTXZ",
        "outputId": "31edbb00-3929-477c-fa5a-aeff37ecf22a"
      },
      "source": [
        "df['QueryTime'][2700000]"
      ],
      "execution_count": null,
      "outputs": [
        {
          "output_type": "execute_result",
          "data": {
            "text/plain": [
              "Timestamp('2006-03-25 19:45:14')"
            ]
          },
          "metadata": {},
          "execution_count": 17
        }
      ]
    },
    {
      "cell_type": "code",
      "metadata": {
        "colab": {
          "base_uri": "https://localhost:8080/"
        },
        "id": "BrfgiChgM5UU",
        "outputId": "4a83b1c3-a6e9-4abe-abc0-6df91cb68ddf"
      },
      "source": [
        "from_date = datetime.strptime('9/5/2006 19:45:00', '%d/%m/%Y %H:%M:%S')\n",
        "to_date = datetime.strptime('22/5/2006 00:00:00', '%d/%m/%Y %H:%M:%S')\n",
        "\n",
        "df_train = df[[ d <= from_date for d in df.QueryTime]]\n",
        "df_validation = df[[from_date < d <= to_date for d in df.QueryTime]]\n",
        "df_test = df[[to_date < d  for d in df.QueryTime]]\n",
        "\n",
        "print(df_train.info())\n",
        "print(df_validation.info())\n",
        "print(df_test.info())"
      ],
      "execution_count": null,
      "outputs": [
        {
          "output_type": "stream",
          "name": "stdout",
          "text": [
            "<class 'pandas.core.frame.DataFrame'>\n",
            "Int64Index: 567047 entries, 0 to 3575084\n",
            "Data columns (total 5 columns):\n",
            " #   Column     Non-Null Count   Dtype         \n",
            "---  ------     --------------   -----         \n",
            " 0   AnonID     567047 non-null  int64         \n",
            " 1   Query      567047 non-null  object        \n",
            " 2   QueryTime  567047 non-null  datetime64[ns]\n",
            " 3   ItemRank   300763 non-null  float64       \n",
            " 4   ClickURL   300763 non-null  object        \n",
            "dtypes: datetime64[ns](1), float64(1), int64(1), object(2)\n",
            "memory usage: 26.0+ MB\n",
            "None\n",
            "<class 'pandas.core.frame.DataFrame'>\n",
            "Int64Index: 108311 entries, 101 to 3602701\n",
            "Data columns (total 5 columns):\n",
            " #   Column     Non-Null Count   Dtype         \n",
            "---  ------     --------------   -----         \n",
            " 0   AnonID     108311 non-null  int64         \n",
            " 1   Query      108311 non-null  object        \n",
            " 2   QueryTime  108311 non-null  datetime64[ns]\n",
            " 3   ItemRank   55223 non-null   float64       \n",
            " 4   ClickURL   55223 non-null   object        \n",
            "dtypes: datetime64[ns](1), float64(1), int64(1), object(2)\n",
            "memory usage: 5.0+ MB\n",
            "None\n",
            "<class 'pandas.core.frame.DataFrame'>\n",
            "Int64Index: 137832 entries, 214 to 3614502\n",
            "Data columns (total 5 columns):\n",
            " #   Column     Non-Null Count   Dtype         \n",
            "---  ------     --------------   -----         \n",
            " 0   AnonID     137832 non-null  int64         \n",
            " 1   Query      137832 non-null  object        \n",
            " 2   QueryTime  137832 non-null  datetime64[ns]\n",
            " 3   ItemRank   62043 non-null   float64       \n",
            " 4   ClickURL   62043 non-null   object        \n",
            "dtypes: datetime64[ns](1), float64(1), int64(1), object(2)\n",
            "memory usage: 6.3+ MB\n",
            "None\n"
          ]
        }
      ]
    },
    {
      "cell_type": "code",
      "metadata": {
        "id": "k2Z6Fh3fS6MT"
      },
      "source": [
        "gc.collect()\n",
        "df_train.to_csv(r'./gdrive/MyDrive/Colab Notebooks/AOL_Implementation/train.csv', index=False)\n",
        "df_validation.to_csv(r'./gdrive/MyDrive/Colab Notebooks/AOL_Implementation/validation.csv', index=False)\n",
        "df_test.to_csv(r'./gdrive/MyDrive/Colab Notebooks/AOL_Implementation/test.csv', index=False)"
      ],
      "execution_count": null,
      "outputs": []
    }
  ]
}