{
  "nbformat": 4,
  "nbformat_minor": 0,
  "metadata": {
    "colab": {
      "name": "AOL_Evaluation.ipynb",
      "provenance": [],
      "authorship_tag": "ABX9TyMyHyUf9MXRWeI9prGBQnOk",
      "include_colab_link": true
    },
    "kernelspec": {
      "name": "python3",
      "display_name": "Python 3"
    },
    "language_info": {
      "name": "python"
    }
  },
  "cells": [
    {
      "cell_type": "markdown",
      "metadata": {
        "id": "view-in-github",
        "colab_type": "text"
      },
      "source": [
        "<a href=\"https://colab.research.google.com/github/aliash98/Search2Vec-BScThesis/blob/main/Implementation%20on%20AOL%20Dataset/AOL_Evaluation.ipynb\" target=\"_parent\"><img src=\"https://colab.research.google.com/assets/colab-badge.svg\" alt=\"Open In Colab\"/></a>"
      ]
    },
    {
      "cell_type": "code",
      "metadata": {
        "id": "Gv-t8RbU4bSP"
      },
      "source": [
        "from datetime import datetime\n",
        "import pandas as pd\n",
        "import numpy as np\n",
        "import re\n",
        "import json\n",
        "import warnings\n",
        "import gc \n",
        "from tqdm import tqdm, trange\n",
        "from scipy import spatial\n",
        "import math"
      ],
      "execution_count": null,
      "outputs": []
    },
    {
      "cell_type": "code",
      "metadata": {
        "colab": {
          "base_uri": "https://localhost:8080/"
        },
        "id": "FeWVMO0k4_AZ",
        "outputId": "edd5680f-3a01-4874-b6c2-e8cb3543cfdf"
      },
      "source": [
        "from google.colab import drive\n",
        "drive.mount('/content/gdrive')"
      ],
      "execution_count": null,
      "outputs": [
        {
          "output_type": "stream",
          "name": "stdout",
          "text": [
            "Mounted at /content/gdrive\n"
          ]
        }
      ]
    },
    {
      "cell_type": "code",
      "metadata": {
        "colab": {
          "base_uri": "https://localhost:8080/"
        },
        "id": "vwSaPNzA5FdJ",
        "outputId": "ebffabed-37c1-401f-bc9f-94e0a8d9b6a6"
      },
      "source": [
        "df = pd.read_csv(r'./gdrive/MyDrive/Colab Notebooks/AOL_Implementation/weights.tsv', sep=\"\\t\")   \n",
        "weights = df.values\n",
        "\n",
        "# *** Note : this weights matrix doesn't contain the 0th redundant index\n",
        "\n",
        "print(weights.shape)\n",
        "print(weights[:5, :5])"
      ],
      "execution_count": null,
      "outputs": [
        {
          "output_type": "stream",
          "name": "stdout",
          "text": [
            "(7895, 300)\n",
            "[[-0.02851121 -0.03439867 -0.03944187  0.01007509 -0.02832736]\n",
            " [-0.02665158 -0.00733381 -0.07140837 -0.00545206  0.03360269]\n",
            " [-0.03598765 -0.05363363  0.02089478  0.06033646 -0.04562914]\n",
            " [-0.02651295  0.00572839 -0.04466211  0.05167326 -0.05439606]\n",
            " [-0.08069196  0.07970319  0.06144302 -0.07563543 -0.10983358]]\n"
          ]
        }
      ]
    },
    {
      "cell_type": "code",
      "metadata": {
        "colab": {
          "base_uri": "https://localhost:8080/"
        },
        "id": "UrYRHSl45SfC",
        "outputId": "c78c2e83-6a91-460c-f36f-2d931bda816f"
      },
      "source": [
        "vocab = json.load( open( r'./gdrive/MyDrive/Colab Notebooks/AOL_Implementation/vocab.json' ) )\n",
        "print(type(vocab))\n",
        "inverse_vocab = {index: token for token, index in vocab.items()}\n",
        "print(inverse_vocab[1])"
      ],
      "execution_count": null,
      "outputs": [
        {
          "output_type": "stream",
          "name": "stdout",
          "text": [
            "<class 'dict'>\n",
            "emma watson\n"
          ]
        }
      ]
    },
    {
      "cell_type": "code",
      "source": [
        "# Shifting the vocab\n",
        "vocab_cor = {}\n",
        "for i in range(1, len(inverse_vocab)):\n",
        "  vocab_cor[inverse_vocab[i]] = i - 1\n",
        "\n",
        "inverse_vocab_cor = {index: token for token, index in vocab_cor.items()}\n",
        "print(inverse_vocab[0])"
      ],
      "metadata": {
        "colab": {
          "base_uri": "https://localhost:8080/"
        },
        "id": "CwmjPo4FyNWz",
        "outputId": "b1f457db-683a-40a8-c34a-3b83b093cf80"
      },
      "execution_count": null,
      "outputs": [
        {
          "output_type": "stream",
          "name": "stdout",
          "text": [
            "<pad>\n"
          ]
        }
      ]
    },
    {
      "cell_type": "code",
      "source": [
        "vocab_cor['emma watson']"
      ],
      "metadata": {
        "colab": {
          "base_uri": "https://localhost:8080/"
        },
        "id": "bxVhOaHlVlun",
        "outputId": "7ec815be-71a1-4e9b-b3e7-b5274916b152"
      },
      "execution_count": null,
      "outputs": [
        {
          "output_type": "execute_result",
          "data": {
            "text/plain": [
              "0"
            ]
          },
          "metadata": {},
          "execution_count": 6
        }
      ]
    },
    {
      "cell_type": "code",
      "source": [
        "inverse_vocab_cor[4979]"
      ],
      "metadata": {
        "colab": {
          "base_uri": "https://localhost:8080/",
          "height": 35
        },
        "id": "uqT3IRJfoNPr",
        "outputId": "21d7ea9d-7a58-43a9-ba10-2921e932a53f"
      },
      "execution_count": null,
      "outputs": [
        {
          "output_type": "execute_result",
          "data": {
            "application/vnd.google.colaboratory.intrinsic+json": {
              "type": "string"
            },
            "text/plain": [
              "'www.asiantown.net'"
            ]
          },
          "metadata": {},
          "execution_count": 10
        }
      ]
    },
    {
      "cell_type": "code",
      "source": [
        "# Please specify the correct number of queries and items right here\n",
        "\n",
        "# 4981 unique queries + 2915 unique urls\n",
        "\n",
        "vocab_size, dim = weights.shape\n",
        "number_of_uurls = 2915\n",
        "number_of_uqueries = 4980\n",
        "distances = np.zeros((number_of_uqueries, number_of_uurls), dtype=float)\n",
        "def all_cosine_distances():\n",
        "  for i in range(0, number_of_uqueries):\n",
        "    for j in range(number_of_uurls):\n",
        "      distances[i, j] = spatial.distance.cosine(weights[j + number_of_uqueries, :], weights[i, :])\n",
        "    if i % 100 == 0:\n",
        "      print(i)\n",
        "all_cosine_distances()\n",
        "print(weights.shape)"
      ],
      "metadata": {
        "id": "Dcesphq72qDz",
        "colab": {
          "base_uri": "https://localhost:8080/"
        },
        "outputId": "6da48986-ab53-4d11-e8cb-9db0618fe5da"
      },
      "execution_count": null,
      "outputs": [
        {
          "output_type": "stream",
          "name": "stdout",
          "text": [
            "0\n",
            "100\n",
            "200\n",
            "300\n",
            "400\n",
            "500\n",
            "600\n",
            "700\n",
            "800\n",
            "900\n",
            "1000\n",
            "1100\n",
            "1200\n",
            "1300\n",
            "1400\n",
            "1500\n",
            "1600\n",
            "1700\n",
            "1800\n",
            "1900\n",
            "2000\n",
            "2100\n",
            "2200\n",
            "2300\n",
            "2400\n",
            "2500\n",
            "2600\n",
            "2700\n",
            "2800\n",
            "2900\n",
            "3000\n",
            "3100\n",
            "3200\n",
            "3300\n",
            "3400\n",
            "3500\n",
            "3600\n",
            "3700\n",
            "3800\n",
            "3900\n",
            "4000\n",
            "4100\n",
            "4200\n",
            "4300\n",
            "4400\n",
            "4500\n",
            "4600\n",
            "4700\n",
            "4800\n",
            "4900\n",
            "(7895, 300)\n"
          ]
        }
      ]
    },
    {
      "cell_type": "code",
      "source": [
        "nearest_cat_vocab = {}\n",
        "counter = 0\n",
        "x, y = distances.shape\n",
        "print(x)\n",
        "print(y)\n",
        "for i in range(x):\n",
        "  temp_list = []\n",
        "  temp_arr = distances[i, :]\n",
        "  for j in range(10):\n",
        "    temp_index = np.argmin(temp_arr)\n",
        "    if i == 122:\n",
        "      print(temp_index + x)\n",
        "      print(temp_arr[temp_index])\n",
        "    temp_list.append(inverse_vocab_cor[x + temp_index])\n",
        "    temp_arr[temp_index] = 1\n",
        "\n",
        "  nearest_cat_vocab[inverse_vocab_cor[i]] = temp_list\n"
      ],
      "metadata": {
        "id": "k2h-GW3JaZgK",
        "colab": {
          "base_uri": "https://localhost:8080/"
        },
        "outputId": "564d3305-0b5f-4269-f6d2-366779e9f6af"
      },
      "execution_count": null,
      "outputs": [
        {
          "output_type": "stream",
          "name": "stdout",
          "text": [
            "4980\n",
            "2915\n",
            "5349\n",
            "0.2654277835286887\n",
            "5129\n",
            "0.2802815371384506\n",
            "5350\n",
            "0.32548910499083517\n",
            "5137\n",
            "0.3323852881512671\n",
            "5317\n",
            "0.3855190411820817\n",
            "6671\n",
            "0.40206260678402284\n",
            "7576\n",
            "0.41616606171424353\n",
            "5136\n",
            "0.46498239980723455\n",
            "6665\n",
            "0.5502567098196287\n",
            "4983\n",
            "0.641463963165277\n"
          ]
        }
      ]
    },
    {
      "cell_type": "code",
      "source": [
        "print(inverse_vocab_cor[12495])\n",
        "print(inverse_vocab_cor[122])\n",
        "print(nearest_cat_vocab[inverse_vocab_cor[122]])"
      ],
      "metadata": {
        "id": "a35QJ8aS7XQy"
      },
      "execution_count": null,
      "outputs": []
    },
    {
      "cell_type": "code",
      "metadata": {
        "id": "Fs9XgtZ_5iot"
      },
      "source": [
        "# Not necessary\n",
        "\n",
        "def least_cosine_distance(index, k):\n",
        "  vocab_size, dim = weights.shape\n",
        "  vector = weights[index, :]\n",
        "  # print(vector.shape)\n",
        "  # lets find the k nearest point to this\n",
        "  distances = []\n",
        "  indexes = []\n",
        "  min_distances = []\n",
        "  for i in range(0, vocab_size):\n",
        "    distances.append(spatial.distance.cosine(vector, weights[i, :]))\n",
        "  counter = 0\n",
        "  while counter < k:\n",
        "    temp_index = np.argmin(distances)\n",
        "    if temp_index == index:\n",
        "      distances[temp_index] = 1\n",
        "      continue\n",
        "    if not inverse_vocab[temp_index].endswith('-url'):\n",
        "      distances[temp_index] = 1\n",
        "      continue\n",
        "    indexes.append(temp_index + 1)\n",
        "    min_distances.append(distances[temp_index])\n",
        "    distances[temp_index] = 1\n",
        "    counter = counter + 1\n",
        "  return indexes, min_distances "
      ],
      "execution_count": null,
      "outputs": []
    },
    {
      "cell_type": "code",
      "metadata": {
        "colab": {
          "base_uri": "https://localhost:8080/"
        },
        "id": "Os0lZ3GY5sja",
        "outputId": "daaab5a1-9040-4b6c-a946-5f82bfb65430"
      },
      "source": [
        "my_point = 123\n",
        "indexes, min_distances = least_cosine_distance(my_point - 1, 10)\n",
        "print(inverse_vocab[my_point])\n",
        "print(min_distances)\n",
        "print(indexes)\n",
        "for index in indexes:\n",
        "  print(inverse_vocab[index])\n",
        "# a = weights[33, :]\n",
        "# b = weights[714, :]\n",
        "# print(1 - np.dot(a, b)/(np.linalg.norm(a) * np.linalg.norm(b)))"
      ],
      "execution_count": null,
      "outputs": [
        {
          "output_type": "stream",
          "name": "stdout",
          "text": [
            "anna benson\n",
            "[0.09910247357259117, 0.14348363992977942, 0.46863742095863814, 0.7979733532030139, 0.8019996059999295, 0.8121298074720742, 0.8235685943652963, 0.8273066896916158, 0.828901816384344, 0.8298963963907586]\n",
            "[12652, 12574, 13092, 13526, 14141, 13749, 14487, 14652, 13950, 14683]\n",
            "http://www.annabenson.net-url\n",
            "http://www.gorillamask.net-url\n",
            "http://www.askmen.com-url\n",
            "http://www.pcplanets.com-url\n",
            "http://www.fhmus.com-url\n",
            "http://www.annualcreditreport.com-url\n",
            "http://redsox.mlb.com-url\n",
            "http://www.anothersite.co.uk-url\n",
            "http://www.easygals.com-url\n",
            "http://www.wpunj.edu-url\n"
          ]
        }
      ]
    },
    {
      "cell_type": "code",
      "metadata": {
        "id": "uUW2xhstWxHK"
      },
      "source": [
        "test = pd.read_csv (r'./gdrive/MyDrive/Colab Notebooks/AOL_Implementation/test.csv')"
      ],
      "execution_count": null,
      "outputs": []
    },
    {
      "cell_type": "code",
      "metadata": {
        "id": "m67JB_MhW5ZL",
        "colab": {
          "base_uri": "https://localhost:8080/"
        },
        "outputId": "523bc357-8707-4f28-8df5-d80d66fd7511"
      },
      "source": [
        "test.info()"
      ],
      "execution_count": null,
      "outputs": [
        {
          "output_type": "stream",
          "name": "stdout",
          "text": [
            "<class 'pandas.core.frame.DataFrame'>\n",
            "RangeIndex: 137832 entries, 0 to 137831\n",
            "Data columns (total 5 columns):\n",
            " #   Column     Non-Null Count   Dtype  \n",
            "---  ------     --------------   -----  \n",
            " 0   AnonID     137832 non-null  int64  \n",
            " 1   Query      137832 non-null  object \n",
            " 2   QueryTime  137832 non-null  object \n",
            " 3   ItemRank   62043 non-null   float64\n",
            " 4   ClickURL   62043 non-null   object \n",
            "dtypes: float64(1), int64(1), object(3)\n",
            "memory usage: 5.3+ MB\n"
          ]
        }
      ]
    },
    {
      "cell_type": "code",
      "metadata": {
        "id": "UXlgn2tTX9kh",
        "colab": {
          "base_uri": "https://localhost:8080/"
        },
        "outputId": "65b8e581-8766-43f1-d27d-78ad005c5214"
      },
      "source": [
        "test.dropna(subset = [\"ClickURL\"], inplace=True)\n",
        "test.info()"
      ],
      "execution_count": null,
      "outputs": [
        {
          "output_type": "stream",
          "name": "stdout",
          "text": [
            "<class 'pandas.core.frame.DataFrame'>\n",
            "Int64Index: 62043 entries, 1 to 137826\n",
            "Data columns (total 5 columns):\n",
            " #   Column     Non-Null Count  Dtype  \n",
            "---  ------     --------------  -----  \n",
            " 0   AnonID     62043 non-null  int64  \n",
            " 1   Query      62043 non-null  object \n",
            " 2   QueryTime  62043 non-null  object \n",
            " 3   ItemRank   62043 non-null  float64\n",
            " 4   ClickURL   62043 non-null  object \n",
            "dtypes: float64(1), int64(1), object(3)\n",
            "memory usage: 2.8+ MB\n"
          ]
        }
      ]
    },
    {
      "cell_type": "code",
      "metadata": {
        "id": "1xHJtzgIZUPX",
        "colab": {
          "base_uri": "https://localhost:8080/",
          "height": 658
        },
        "outputId": "8fc96f0d-9319-48f6-9d41-e47739c291e6"
      },
      "source": [
        "test_optimized = test.iloc[:1].copy()\n",
        "test_optimized.loc[0] = test.iloc[3].copy()\n",
        "# test_optimized\n",
        "\n",
        "counter = 0\n",
        "temp_query = ''\n",
        "temp_id = -1\n",
        "for index, row in test.iterrows():\n",
        "  if row['Query'] == '-':\n",
        "    continue\n",
        "  if row['AnonID'] == temp_id and row['Query'] == temp_query:\n",
        "    continue\n",
        "  temp_query = row['Query']\n",
        "  temp_id = row['AnonID']\n",
        "  test_optimized.loc[counter] = row\n",
        "  counter = counter + 1\n",
        "  if index % 1000 == 0:\n",
        "    print(index)\n",
        "    # if index > 1000:\n",
        "    #   break\n",
        "\n",
        "test_optimized.head(10)"
      ],
      "execution_count": null,
      "outputs": [
        {
          "output_type": "stream",
          "name": "stdout",
          "text": [
            "4000\n",
            "10000\n",
            "23000\n",
            "24000\n",
            "26000\n",
            "35000\n",
            "36000\n",
            "44000\n",
            "50000\n",
            "79000\n",
            "85000\n",
            "103000\n",
            "107000\n",
            "108000\n",
            "130000\n",
            "135000\n",
            "136000\n"
          ]
        },
        {
          "output_type": "execute_result",
          "data": {
            "text/html": [
              "\n",
              "  <div id=\"df-94cc290f-ac01-4826-b42a-67be49eb9d8a\">\n",
              "    <div class=\"colab-df-container\">\n",
              "      <div>\n",
              "<style scoped>\n",
              "    .dataframe tbody tr th:only-of-type {\n",
              "        vertical-align: middle;\n",
              "    }\n",
              "\n",
              "    .dataframe tbody tr th {\n",
              "        vertical-align: top;\n",
              "    }\n",
              "\n",
              "    .dataframe thead th {\n",
              "        text-align: right;\n",
              "    }\n",
              "</style>\n",
              "<table border=\"1\" class=\"dataframe\">\n",
              "  <thead>\n",
              "    <tr style=\"text-align: right;\">\n",
              "      <th></th>\n",
              "      <th>AnonID</th>\n",
              "      <th>Query</th>\n",
              "      <th>QueryTime</th>\n",
              "      <th>ItemRank</th>\n",
              "      <th>ClickURL</th>\n",
              "    </tr>\n",
              "  </thead>\n",
              "  <tbody>\n",
              "    <tr>\n",
              "      <th>1</th>\n",
              "      <td>507</td>\n",
              "      <td>pogo</td>\n",
              "      <td>2006-05-25 23:21:59</td>\n",
              "      <td>1.0</td>\n",
              "      <td>http://www.pogo.com</td>\n",
              "    </tr>\n",
              "    <tr>\n",
              "      <th>0</th>\n",
              "      <td>507</td>\n",
              "      <td>craigslist</td>\n",
              "      <td>2006-05-25 19:28:30</td>\n",
              "      <td>11.0</td>\n",
              "      <td>http://atlanta.craigslist.org</td>\n",
              "    </tr>\n",
              "    <tr>\n",
              "      <th>2</th>\n",
              "      <td>1020</td>\n",
              "      <td>encyclopedia</td>\n",
              "      <td>2006-05-30 12:41:04</td>\n",
              "      <td>1.0</td>\n",
              "      <td>http://www.encyclopedia.com</td>\n",
              "    </tr>\n",
              "    <tr>\n",
              "      <th>3</th>\n",
              "      <td>2708</td>\n",
              "      <td>wetcircle.com</td>\n",
              "      <td>2006-05-22 06:47:42</td>\n",
              "      <td>1.0</td>\n",
              "      <td>http://www.wetcircle.com</td>\n",
              "    </tr>\n",
              "    <tr>\n",
              "      <th>4</th>\n",
              "      <td>2729</td>\n",
              "      <td>google.com</td>\n",
              "      <td>2006-05-22 08:42:22</td>\n",
              "      <td>1.0</td>\n",
              "      <td>http://www.google.com</td>\n",
              "    </tr>\n",
              "    <tr>\n",
              "      <th>5</th>\n",
              "      <td>6161</td>\n",
              "      <td>paragonfcu</td>\n",
              "      <td>2006-05-27 10:38:47</td>\n",
              "      <td>1.0</td>\n",
              "      <td>http://www.paragonfcu.org</td>\n",
              "    </tr>\n",
              "    <tr>\n",
              "      <th>6</th>\n",
              "      <td>7597</td>\n",
              "      <td>google. com</td>\n",
              "      <td>2006-05-30 19:25:13</td>\n",
              "      <td>1.0</td>\n",
              "      <td>http://www.google.com</td>\n",
              "    </tr>\n",
              "    <tr>\n",
              "      <th>7</th>\n",
              "      <td>10133</td>\n",
              "      <td>skylight bank</td>\n",
              "      <td>2006-05-25 09:59:37</td>\n",
              "      <td>1.0</td>\n",
              "      <td>http://www.skylight.net</td>\n",
              "    </tr>\n",
              "    <tr>\n",
              "      <th>8</th>\n",
              "      <td>10133</td>\n",
              "      <td>yahoo messenger</td>\n",
              "      <td>2006-05-29 21:49:54</td>\n",
              "      <td>3.0</td>\n",
              "      <td>http://www.yahoo.com</td>\n",
              "    </tr>\n",
              "    <tr>\n",
              "      <th>9</th>\n",
              "      <td>10189</td>\n",
              "      <td>annualcreditreport.com</td>\n",
              "      <td>2006-05-31 00:34:01</td>\n",
              "      <td>6.0</td>\n",
              "      <td>http://www.freecreditreport.com</td>\n",
              "    </tr>\n",
              "  </tbody>\n",
              "</table>\n",
              "</div>\n",
              "      <button class=\"colab-df-convert\" onclick=\"convertToInteractive('df-94cc290f-ac01-4826-b42a-67be49eb9d8a')\"\n",
              "              title=\"Convert this dataframe to an interactive table.\"\n",
              "              style=\"display:none;\">\n",
              "        \n",
              "  <svg xmlns=\"http://www.w3.org/2000/svg\" height=\"24px\"viewBox=\"0 0 24 24\"\n",
              "       width=\"24px\">\n",
              "    <path d=\"M0 0h24v24H0V0z\" fill=\"none\"/>\n",
              "    <path d=\"M18.56 5.44l.94 2.06.94-2.06 2.06-.94-2.06-.94-.94-2.06-.94 2.06-2.06.94zm-11 1L8.5 8.5l.94-2.06 2.06-.94-2.06-.94L8.5 2.5l-.94 2.06-2.06.94zm10 10l.94 2.06.94-2.06 2.06-.94-2.06-.94-.94-2.06-.94 2.06-2.06.94z\"/><path d=\"M17.41 7.96l-1.37-1.37c-.4-.4-.92-.59-1.43-.59-.52 0-1.04.2-1.43.59L10.3 9.45l-7.72 7.72c-.78.78-.78 2.05 0 2.83L4 21.41c.39.39.9.59 1.41.59.51 0 1.02-.2 1.41-.59l7.78-7.78 2.81-2.81c.8-.78.8-2.07 0-2.86zM5.41 20L4 18.59l7.72-7.72 1.47 1.35L5.41 20z\"/>\n",
              "  </svg>\n",
              "      </button>\n",
              "      \n",
              "  <style>\n",
              "    .colab-df-container {\n",
              "      display:flex;\n",
              "      flex-wrap:wrap;\n",
              "      gap: 12px;\n",
              "    }\n",
              "\n",
              "    .colab-df-convert {\n",
              "      background-color: #E8F0FE;\n",
              "      border: none;\n",
              "      border-radius: 50%;\n",
              "      cursor: pointer;\n",
              "      display: none;\n",
              "      fill: #1967D2;\n",
              "      height: 32px;\n",
              "      padding: 0 0 0 0;\n",
              "      width: 32px;\n",
              "    }\n",
              "\n",
              "    .colab-df-convert:hover {\n",
              "      background-color: #E2EBFA;\n",
              "      box-shadow: 0px 1px 2px rgba(60, 64, 67, 0.3), 0px 1px 3px 1px rgba(60, 64, 67, 0.15);\n",
              "      fill: #174EA6;\n",
              "    }\n",
              "\n",
              "    [theme=dark] .colab-df-convert {\n",
              "      background-color: #3B4455;\n",
              "      fill: #D2E3FC;\n",
              "    }\n",
              "\n",
              "    [theme=dark] .colab-df-convert:hover {\n",
              "      background-color: #434B5C;\n",
              "      box-shadow: 0px 1px 3px 1px rgba(0, 0, 0, 0.15);\n",
              "      filter: drop-shadow(0px 1px 2px rgba(0, 0, 0, 0.3));\n",
              "      fill: #FFFFFF;\n",
              "    }\n",
              "  </style>\n",
              "\n",
              "      <script>\n",
              "        const buttonEl =\n",
              "          document.querySelector('#df-94cc290f-ac01-4826-b42a-67be49eb9d8a button.colab-df-convert');\n",
              "        buttonEl.style.display =\n",
              "          google.colab.kernel.accessAllowed ? 'block' : 'none';\n",
              "\n",
              "        async function convertToInteractive(key) {\n",
              "          const element = document.querySelector('#df-94cc290f-ac01-4826-b42a-67be49eb9d8a');\n",
              "          const dataTable =\n",
              "            await google.colab.kernel.invokeFunction('convertToInteractive',\n",
              "                                                     [key], {});\n",
              "          if (!dataTable) return;\n",
              "\n",
              "          const docLinkHtml = 'Like what you see? Visit the ' +\n",
              "            '<a target=\"_blank\" href=https://colab.research.google.com/notebooks/data_table.ipynb>data table notebook</a>'\n",
              "            + ' to learn more about interactive tables.';\n",
              "          element.innerHTML = '';\n",
              "          dataTable['output_type'] = 'display_data';\n",
              "          await google.colab.output.renderOutput(dataTable, element);\n",
              "          const docLink = document.createElement('div');\n",
              "          docLink.innerHTML = docLinkHtml;\n",
              "          element.appendChild(docLink);\n",
              "        }\n",
              "      </script>\n",
              "    </div>\n",
              "  </div>\n",
              "  "
            ],
            "text/plain": [
              "   AnonID                   Query  ... ItemRank                         ClickURL\n",
              "1     507                    pogo  ...      1.0              http://www.pogo.com\n",
              "0     507              craigslist  ...     11.0    http://atlanta.craigslist.org\n",
              "2    1020            encyclopedia  ...      1.0      http://www.encyclopedia.com\n",
              "3    2708           wetcircle.com  ...      1.0         http://www.wetcircle.com\n",
              "4    2729              google.com  ...      1.0            http://www.google.com\n",
              "5    6161              paragonfcu  ...      1.0        http://www.paragonfcu.org\n",
              "6    7597             google. com  ...      1.0            http://www.google.com\n",
              "7   10133           skylight bank  ...      1.0          http://www.skylight.net\n",
              "8   10133         yahoo messenger  ...      3.0             http://www.yahoo.com\n",
              "9   10189  annualcreditreport.com  ...      6.0  http://www.freecreditreport.com\n",
              "\n",
              "[10 rows x 5 columns]"
            ]
          },
          "metadata": {},
          "execution_count": 17
        }
      ]
    },
    {
      "cell_type": "code",
      "source": [
        "test_optimized.info()"
      ],
      "metadata": {
        "colab": {
          "base_uri": "https://localhost:8080/"
        },
        "id": "noT7KOol2PLi",
        "outputId": "a00f5a05-c2e1-4d3d-ee12-c520ed1da240"
      },
      "execution_count": null,
      "outputs": [
        {
          "output_type": "stream",
          "name": "stdout",
          "text": [
            "<class 'pandas.core.frame.DataFrame'>\n",
            "Int64Index: 18020 entries, 1 to 18019\n",
            "Data columns (total 5 columns):\n",
            " #   Column     Non-Null Count  Dtype  \n",
            "---  ------     --------------  -----  \n",
            " 0   AnonID     18020 non-null  int64  \n",
            " 1   Query      18020 non-null  object \n",
            " 2   QueryTime  18020 non-null  object \n",
            " 3   ItemRank   18020 non-null  float64\n",
            " 4   ClickURL   18020 non-null  object \n",
            "dtypes: float64(1), int64(1), object(3)\n",
            "memory usage: 844.7+ KB\n"
          ]
        }
      ]
    },
    {
      "cell_type": "code",
      "source": [
        "test_optimized.to_csv(r'./gdrive/MyDrive/Colab Notebooks/AOL_Implementation/test_optimized.csv', index=False)"
      ],
      "metadata": {
        "id": "nYqkjYU1ArCs"
      },
      "execution_count": null,
      "outputs": []
    },
    {
      "cell_type": "code",
      "source": [
        "test_optimized = pd.read_csv (r'./gdrive/MyDrive/Colab Notebooks/AOL_Implementation/test_optimized.csv')"
      ],
      "metadata": {
        "id": "NIFmrIEykqdk"
      },
      "execution_count": null,
      "outputs": []
    },
    {
      "cell_type": "code",
      "source": [
        "# Not necessary\n",
        "\n",
        "nearest_cat_vocab = {}\n",
        "counter = 0\n",
        "for word in vocab.keys():\n",
        "  if not word.endswith('-url'):\n",
        "    counter += 1\n",
        "    if counter % 100 == 0:\n",
        "      print(counter)\n",
        "    # indexes, min_distances = least_cosine_distance(int(vocab[word]) - 1, 10)\n",
        "\n",
        "    # finding k minimum distances\n",
        "\n",
        "    temp_list = []\n",
        "    for index in indexes:\n",
        "      temp_list.append(inverse_vocab[index])\n",
        "    nearest_cat_vocab[word] = temp_list\n",
        "  \n",
        "print(nearest_cat_vocab)"
      ],
      "metadata": {
        "id": "RxfbNexCD0En"
      },
      "execution_count": null,
      "outputs": []
    },
    {
      "cell_type": "code",
      "source": [
        "mrr = 0\n",
        "mrr_default_method = 0\n",
        "not_found = 0\n",
        "first_hit = 0\n",
        "first_hit_default_method = 0\n",
        "# zero_counter = 0\n",
        "url_not_in_vocab = 0\n",
        "\n",
        "for index, row in test_optimized.iterrows():\n",
        "  temp_query = row['Query']\n",
        "  temp_url = row['ClickURL'] + '-url'\n",
        "  default_rank = int(row['ItemRank'])\n",
        "  # if default_rank == 0:\n",
        "  #   zero_counter += 1\n",
        "  if default_rank < 11 and default_rank > 0:\n",
        "    mrr_default_method += 1 / default_rank\n",
        "    if default_rank == 1:\n",
        "      first_hit_default_method += 1\n",
        "  if temp_query in nearest_cat_vocab.keys():\n",
        "    if temp_url in vocab_cor.keys(): \n",
        "      for j in range(10):  \n",
        "        if nearest_cat_vocab[temp_query][j] == temp_url:\n",
        "          if j == 0:\n",
        "            first_hit = first_hit + 1\n",
        "          mrr = mrr + 1 / (j+1)\n",
        "          break\n",
        "    else:\n",
        "      url_not_in_vocab += 1\n",
        "  else:\n",
        "    not_found = not_found + 1\n",
        "\n",
        "# print(zero_counter)\n",
        "print(\"Number of Rows: \" + str(test_optimized.shape[0]))\n",
        "print(\"URL Not in Vocab: \" + str(url_not_in_vocab))\n",
        "print(\"Query Not in Vocab: \" + str(not_found))\n",
        "print(\"Number of vocab-existing queries: \" + str(test_optimized.shape[0] - not_found))\n",
        "print(\"MRR: \" + str(mrr / test_optimized.shape[0]))\n",
        "print(\"MRR in vocab-existing queries: \" + str(mrr / (test_optimized.shape[0] - not_found) ))\n",
        "print(\"First Hit: \" + str(first_hit))\n",
        "print(\"Default MRR: \" + str(mrr_default_method / test_optimized.shape[0]))\n",
        "print(\"Default First Hit: \" + str(first_hit_default_method))"
      ],
      "metadata": {
        "colab": {
          "base_uri": "https://localhost:8080/"
        },
        "id": "bYxAPOW3BrSn",
        "outputId": "4c051055-a5fe-4a01-c996-febe66b98a0f"
      },
      "execution_count": null,
      "outputs": [
        {
          "output_type": "stream",
          "name": "stdout",
          "text": [
            "Number of Rows: 18020\n",
            "URL Not in Vocab: 1638\n",
            "Query Not in Vocab: 494\n",
            "Number of vocab-existing queries: 17526\n",
            "MRR: 0.7829900859714988\n",
            "MRR in vocab-existing queries: 0.8050599879725213\n",
            "First Hit: 13165\n",
            "Default MRR: 0.8536299834399292\n",
            "Default First Hit: 14061\n"
          ]
        }
      ]
    }
  ]
}