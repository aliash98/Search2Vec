{
  "nbformat": 4,
  "nbformat_minor": 0,
  "metadata": {
    "colab": {
      "name": "AOL_User_Classification.ipynb",
      "provenance": [],
      "authorship_tag": "ABX9TyP4RMvEb3lkmkCLVRqaHwBR",
      "include_colab_link": true
    },
    "kernelspec": {
      "name": "python3",
      "display_name": "Python 3"
    },
    "language_info": {
      "name": "python"
    }
  },
  "cells": [
    {
      "cell_type": "markdown",
      "metadata": {
        "id": "view-in-github",
        "colab_type": "text"
      },
      "source": [
        "<a href=\"https://colab.research.google.com/github/aliash98/Search2Vec-BScThesis/blob/main/Implementation%20on%20AOL%20Dataset/AOL_User_Classification.ipynb\" target=\"_parent\"><img src=\"https://colab.research.google.com/assets/colab-badge.svg\" alt=\"Open In Colab\"/></a>"
      ]
    },
    {
      "cell_type": "code",
      "execution_count": null,
      "metadata": {
        "id": "tg8uikAjCq_u"
      },
      "outputs": [],
      "source": [
        "from datetime import datetime\n",
        "import pandas as pd\n",
        "import numpy as np\n",
        "import re\n",
        "import json\n",
        "import warnings\n",
        "import gc \n",
        "from tqdm import tqdm, trange\n",
        "from scipy import spatial\n",
        "import math"
      ]
    },
    {
      "cell_type": "code",
      "source": [
        "from google.colab import drive\n",
        "drive.mount('/content/gdrive')"
      ],
      "metadata": {
        "id": "tEL1TLpGCzEE",
        "colab": {
          "base_uri": "https://localhost:8080/"
        },
        "outputId": "b52ce1b0-61d6-4845-a25a-3ad85052c3a0"
      },
      "execution_count": null,
      "outputs": [
        {
          "output_type": "stream",
          "name": "stdout",
          "text": [
            "Drive already mounted at /content/gdrive; to attempt to forcibly remount, call drive.mount(\"/content/gdrive\", force_remount=True).\n"
          ]
        }
      ]
    },
    {
      "cell_type": "code",
      "source": [
        "data = pd.read_csv (r'./gdrive/MyDrive/Colab Notebooks/AOL_Implementation/train.csv')"
      ],
      "metadata": {
        "id": "AkK_bs2eDRlZ"
      },
      "execution_count": null,
      "outputs": []
    },
    {
      "cell_type": "code",
      "source": [
        "data.info()"
      ],
      "metadata": {
        "colab": {
          "base_uri": "https://localhost:8080/"
        },
        "id": "7Nx9UP5cEM9E",
        "outputId": "1b69e352-aa16-4f45-a632-f86f2a78f656"
      },
      "execution_count": null,
      "outputs": [
        {
          "output_type": "stream",
          "name": "stdout",
          "text": [
            "<class 'pandas.core.frame.DataFrame'>\n",
            "RangeIndex: 567047 entries, 0 to 567046\n",
            "Data columns (total 5 columns):\n",
            " #   Column     Non-Null Count   Dtype  \n",
            "---  ------     --------------   -----  \n",
            " 0   AnonID     567047 non-null  int64  \n",
            " 1   Query      567047 non-null  object \n",
            " 2   QueryTime  567047 non-null  object \n",
            " 3   ItemRank   300763 non-null  float64\n",
            " 4   ClickURL   300763 non-null  object \n",
            "dtypes: float64(1), int64(1), object(3)\n",
            "memory usage: 21.6+ MB\n"
          ]
        }
      ]
    },
    {
      "cell_type": "code",
      "source": [
        "data['AnonID'].value_counts().head(5)"
      ],
      "metadata": {
        "colab": {
          "base_uri": "https://localhost:8080/"
        },
        "id": "XT25jdozEBAV",
        "outputId": "413d175d-93ad-4f08-fe3d-4f247d289e32"
      },
      "execution_count": null,
      "outputs": [
        {
          "output_type": "execute_result",
          "data": {
            "text/plain": [
              "2426641    1487\n",
              "700766     1104\n",
              "2067984    1096\n",
              "3033935    1045\n",
              "3318459    1026\n",
              "Name: AnonID, dtype: int64"
            ]
          },
          "metadata": {},
          "execution_count": 4
        }
      ]
    },
    {
      "cell_type": "code",
      "source": [
        "data['AnonID'].value_counts().describe()\n",
        "# data['AnonID'].value_counts().count()\n",
        "# Useful information about the users\n",
        "data['AnonID'].value_counts().head()"
      ],
      "metadata": {
        "colab": {
          "base_uri": "https://localhost:8080/"
        },
        "id": "L9fOyRETEl9c",
        "outputId": "cfcf6a5d-6b87-4777-c0bf-711cc56224d9"
      },
      "execution_count": null,
      "outputs": [
        {
          "output_type": "execute_result",
          "data": {
            "text/plain": [
              "2426641    1487\n",
              "700766     1104\n",
              "2067984    1096\n",
              "3033935    1045\n",
              "3318459    1026\n",
              "Name: AnonID, dtype: int64"
            ]
          },
          "metadata": {},
          "execution_count": 13
        }
      ]
    },
    {
      "cell_type": "code",
      "source": [
        "# Discounting users with less than 5 queries\n",
        "print((data['AnonID'].value_counts()==5).argmax())\n",
        "\n",
        "\n",
        "data = data[data.AnonID.isin(data['AnonID'].value_counts().head(18781).index)]\n",
        "# data.info()"
      ],
      "metadata": {
        "colab": {
          "base_uri": "https://localhost:8080/"
        },
        "id": "xdAF5HJuH_MY",
        "outputId": "a0bf4202-c4d9-4ee9-b43c-59d0d4e07ec9"
      },
      "execution_count": null,
      "outputs": [
        {
          "output_type": "stream",
          "name": "stdout",
          "text": [
            "18781\n"
          ]
        }
      ]
    },
    {
      "cell_type": "code",
      "source": [
        "# We should construct an 45004 * 45004 \n",
        "user_num = data['AnonID'].value_counts().count()\n",
        "W = np.zeros((user_num, user_num), dtype=float)\n",
        "# user_num"
      ],
      "metadata": {
        "id": "X3ALTNM7GnzR"
      },
      "execution_count": null,
      "outputs": []
    },
    {
      "cell_type": "code",
      "source": [
        "user_df = data['AnonID'].value_counts()\n",
        "user_df.describe()\n",
        "user_df.head()"
      ],
      "metadata": {
        "colab": {
          "base_uri": "https://localhost:8080/"
        },
        "id": "49AmNHmfJy4T",
        "outputId": "1309109f-70aa-46c6-c498-82c2b71124b9"
      },
      "execution_count": null,
      "outputs": [
        {
          "output_type": "execute_result",
          "data": {
            "text/plain": [
              "2426641    1487\n",
              "700766     1104\n",
              "2067984    1096\n",
              "3033935    1045\n",
              "3318459    1026\n",
              "Name: AnonID, dtype: int64"
            ]
          },
          "metadata": {},
          "execution_count": 7
        }
      ]
    },
    {
      "cell_type": "code",
      "source": [
        "counter = 0\n",
        "index_dict = {}\n",
        "for index, value in user_df.items():\n",
        "  if counter < 5:\n",
        "    print(f\"Index : {index}, Value : {value}\")\n",
        "  index_dict[index] = counter\n",
        "  counter += 1\n",
        "len(index_dict)"
      ],
      "metadata": {
        "colab": {
          "base_uri": "https://localhost:8080/"
        },
        "id": "oOERmnF7LFyu",
        "outputId": "97730262-6a66-4c93-bc1a-149cbeb4941e"
      },
      "execution_count": null,
      "outputs": [
        {
          "output_type": "stream",
          "name": "stdout",
          "text": [
            "Index : 2426641, Value : 1487\n",
            "Index : 700766, Value : 1104\n",
            "Index : 2067984, Value : 1096\n",
            "Index : 3033935, Value : 1045\n",
            "Index : 3318459, Value : 1026\n"
          ]
        },
        {
          "output_type": "execute_result",
          "data": {
            "text/plain": [
              "18781"
            ]
          },
          "metadata": {},
          "execution_count": 8
        }
      ]
    },
    {
      "cell_type": "code",
      "source": [
        "# construction of the numbers a docmunet has been clicked\n",
        "urls_df = data['ClickURL'].value_counts()\n",
        "# if it's slow then we can put it into a dict"
      ],
      "metadata": {
        "id": "I584qObOPjFf"
      },
      "execution_count": null,
      "outputs": []
    },
    {
      "cell_type": "code",
      "source": [
        "# Checking the urls_df\n",
        "urls_df.loc['http://www.google.com']"
      ],
      "metadata": {
        "colab": {
          "base_uri": "https://localhost:8080/"
        },
        "id": "rfCm00fX54GV",
        "outputId": "3261d7a8-a953-4f1d-baa1-f8b4d4128768"
      },
      "execution_count": null,
      "outputs": [
        {
          "output_type": "execute_result",
          "data": {
            "text/plain": [
              "23502"
            ]
          },
          "metadata": {},
          "execution_count": 10
        }
      ]
    },
    {
      "cell_type": "code",
      "source": [
        "urls_df.head(5)\n",
        "data.dropna(subset = [\"ClickURL\"], inplace=True)"
      ],
      "metadata": {
        "id": "v8wPSn6V6Qis"
      },
      "execution_count": null,
      "outputs": []
    },
    {
      "cell_type": "code",
      "source": [
        "# Preprocess, making dictionaries for clicked urls\n",
        "user_url_clicked_dict = {}\n",
        "for index_i, value_i in user_df.items():\n",
        "  # user_df.index[0]\n",
        "  data_i = data[data['AnonID'] == index_i]\n",
        "  a = set(data_i['ClickURL'])\n",
        "  user_url_clicked_dict[index_i] = a\n",
        "# data_i = data_i.drop_duplicates(subset=['ClickURL'])\n",
        "# print(a)\n",
        "print(len(user_url_clicked_dict))"
      ],
      "metadata": {
        "colab": {
          "base_uri": "https://localhost:8080/"
        },
        "id": "ldELk5POLLYw",
        "outputId": "e48ba220-57ba-4aa3-e288-f85b81de2b06"
      },
      "execution_count": null,
      "outputs": [
        {
          "output_type": "stream",
          "name": "stdout",
          "text": [
            "18781\n"
          ]
        }
      ]
    },
    {
      "cell_type": "code",
      "source": [
        "user_url_clicked_dict[user_df.index[1879]]\n",
        "user_df.loc[2426641]"
      ],
      "metadata": {
        "colab": {
          "base_uri": "https://localhost:8080/"
        },
        "id": "wmBnkkn9OHyt",
        "outputId": "8c152cbb-b781-416d-b5ad-578632c35f3b"
      },
      "execution_count": null,
      "outputs": [
        {
          "output_type": "execute_result",
          "data": {
            "text/plain": [
              "1487"
            ]
          },
          "metadata": {},
          "execution_count": 31
        }
      ]
    },
    {
      "cell_type": "code",
      "source": [
        "# Continue of preprocess\n",
        "# Forming a dict for finding the number of documents each user has clicked\n",
        "num_urls_for_each_user = {}\n",
        "for index_i, value_i in user_df.items():\n",
        "  num_urls_for_each_user[index_i] = value_i\n",
        "num_urls_for_each_user[700766]\n",
        "# Forming a dict for finding the number of clicks each document has\n",
        "num_clicks_for_each_url = {}\n",
        "for index_i, value_i in urls_df.items():\n",
        "  num_clicks_for_each_url[index_i] = value_i\n",
        "urls_df.head()\n",
        "num_clicks_for_each_url['http://www.mapquest.com']"
      ],
      "metadata": {
        "colab": {
          "base_uri": "https://localhost:8080/"
        },
        "id": "DGxQ0mMRUu0z",
        "outputId": "2fe967db-b073-48be-c2c0-9afdf7556591"
      },
      "execution_count": null,
      "outputs": [
        {
          "output_type": "execute_result",
          "data": {
            "text/plain": [
              "5843"
            ]
          },
          "metadata": {},
          "execution_count": 44
        }
      ]
    },
    {
      "cell_type": "code",
      "source": [
        "x_temp = 0\n",
        "for user in user_url_clicked_dict.keys():\n",
        "  for user_prime in user_url_clicked_dict.keys():\n",
        "    if user == user_prime:\n",
        "      continue\n",
        "    intersection = user_url_clicked_dict[user].intersection(user_url_clicked_dict[user_prime])\n",
        "    sigma = 0\n",
        "    for item in intersection:\n",
        "      sigma += 1 / np.log(1 + num_clicks_for_each_url[item])\n",
        "    W[index_dict[user], index_dict[user_prime]] = sigma / math.sqrt(num_urls_for_each_user[user] * num_urls_for_each_user[user_prime])\n",
        "  print(index_dict[user])  \n",
        "\n",
        "\n",
        "\n",
        "\n",
        "# x_temp = 0\n",
        "# for index_i, value_i in user_df.items():\n",
        "#   x_temp += 1\n",
        "#   data_i = data[data['AnonID'] == index_i]\n",
        "#   data_i = data_i.drop_duplicates(subset=['ClickURL'])\n",
        "#   for index_j, value_j in user_df.items():\n",
        "#     x_temp += 1\n",
        "#     if index_i == index_j:\n",
        "#       continue\n",
        "#     # Obtaining clicked documents of users\n",
        "#     data_j = data[data['AnonID'] == index_j]\n",
        "#     data_j = data_j.drop_duplicates(subset=['ClickURL'])\n",
        "#     # intersection = pd.merge(data_i, data_j, how='inner', on=['ClickURL'])\n",
        "#     intersection = pd.merge(data_i, data_j, how='inner', on=[\"ClickURL\"])\n",
        "#     # print(len(intersection))\n",
        "#     # print(len(data_i))\n",
        "#     # print(len(data_j))\n",
        "#     # print(data_i)\n",
        "#     # print(data_j)\n",
        "#     # print(intersection.iloc[0])\n",
        "#     sigma = 0\n",
        "#     for index_k, value_k in intersection['ClickURL'].items():\n",
        "#       sigma += 1 / np.log(1 + urls_df.loc[value_k])\n",
        "#     W[index_dict[index_i], index_dict[index_j]] = sigma / math.sqrt(value_i * value_j)\n",
        "#   print(index_dict[index_i])    \n"
      ],
      "metadata": {
        "id": "QmjM6YQ-MT10"
      },
      "execution_count": null,
      "outputs": []
    },
    {
      "cell_type": "code",
      "source": [
        "pd.DataFrame(W).to_csv(r'./gdrive/MyDrive/Colab Notebooks/AOL_Implementation/W.tsv', sep=\"\\t\", index=False, header=None)"
      ],
      "metadata": {
        "id": "WOXB2IyNYYQj"
      },
      "execution_count": null,
      "outputs": []
    }
  ]
}