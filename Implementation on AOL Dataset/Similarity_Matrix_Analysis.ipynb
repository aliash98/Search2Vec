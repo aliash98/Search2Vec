{
  "nbformat": 4,
  "nbformat_minor": 0,
  "metadata": {
    "colab": {
      "name": "Similarity_Matrix_Analysis.ipynb",
      "provenance": [],
      "authorship_tag": "ABX9TyNLkWCKx4roq+g0lF77+mm4",
      "include_colab_link": true
    },
    "kernelspec": {
      "name": "python3",
      "display_name": "Python 3"
    },
    "language_info": {
      "name": "python"
    }
  },
  "cells": [
    {
      "cell_type": "markdown",
      "metadata": {
        "id": "view-in-github",
        "colab_type": "text"
      },
      "source": [
        "<a href=\"https://colab.research.google.com/github/aliash98/Search2Vec-BScThesis/blob/main/Implementation%20on%20AOL%20Dataset/Similarity_Matrix_Analysis.ipynb\" target=\"_parent\"><img src=\"https://colab.research.google.com/assets/colab-badge.svg\" alt=\"Open In Colab\"/></a>"
      ]
    },
    {
      "cell_type": "code",
      "execution_count": null,
      "metadata": {
        "id": "L48a0DweH70T"
      },
      "outputs": [],
      "source": [
        "from datetime import datetime\n",
        "import pandas as pd\n",
        "import numpy as np\n",
        "import re\n",
        "import json\n",
        "import warnings\n",
        "import gc \n",
        "from tqdm import tqdm, trange\n",
        "from scipy import spatial\n",
        "import math"
      ]
    },
    {
      "cell_type": "code",
      "source": [
        "from google.colab import drive\n",
        "drive.mount('/content/gdrive')"
      ],
      "metadata": {
        "colab": {
          "base_uri": "https://localhost:8080/"
        },
        "id": "KpCFt-VBH-Fa",
        "outputId": "04b52a22-a44c-4617-d7aa-f639ed54554b"
      },
      "execution_count": null,
      "outputs": [
        {
          "output_type": "stream",
          "name": "stdout",
          "text": [
            "Mounted at /content/gdrive\n"
          ]
        }
      ]
    },
    {
      "cell_type": "code",
      "source": [
        "# from numpy import genfromtxt\n",
        "# my_data = genfromtxt(r'./gdrive/MyDrive/Colab Notebooks/AOL_Implementation/W.tsv', delimiter='\\t')\n",
        "df = pd.read_csv(r'./gdrive/MyDrive/Colab Notebooks/AOL_Implementation/W.tsv', sep=\"\\t\", header=None) "
      ],
      "metadata": {
        "id": "xVOxjUdqIR6C"
      },
      "execution_count": null,
      "outputs": []
    },
    {
      "cell_type": "code",
      "source": [
        "df.info()"
      ],
      "metadata": {
        "colab": {
          "base_uri": "https://localhost:8080/"
        },
        "id": "plIREVkRJ1eN",
        "outputId": "a33d2d44-6961-4a5d-94fe-ac65089eeca3"
      },
      "execution_count": null,
      "outputs": [
        {
          "output_type": "stream",
          "name": "stdout",
          "text": [
            "<class 'pandas.core.frame.DataFrame'>\n",
            "RangeIndex: 18781 entries, 0 to 18780\n",
            "Columns: 18781 entries, 0 to 18780\n",
            "dtypes: float64(18781)\n",
            "memory usage: 2.6 GB\n"
          ]
        }
      ]
    },
    {
      "cell_type": "code",
      "source": [
        "import sklearn, numpy\n",
        "import sklearn_extra.cluster"
      ],
      "metadata": {
        "id": "_rfoQbT7Zyj-"
      },
      "execution_count": null,
      "outputs": []
    },
    {
      "cell_type": "code",
      "source": [
        "!pip install scikit-learn-extra"
      ],
      "metadata": {
        "colab": {
          "base_uri": "https://localhost:8080/"
        },
        "id": "jHr5H7n7bEE2",
        "outputId": "e6fa1e08-2d3e-443e-c846-6c8ddb8fb7e9"
      },
      "execution_count": null,
      "outputs": [
        {
          "output_type": "stream",
          "name": "stdout",
          "text": [
            "Collecting scikit-learn-extra\n",
            "  Downloading scikit_learn_extra-0.2.0-cp37-cp37m-manylinux2010_x86_64.whl (1.7 MB)\n",
            "\u001b[K     |████████████████████████████████| 1.7 MB 5.3 MB/s \n",
            "\u001b[?25hRequirement already satisfied: numpy>=1.13.3 in /usr/local/lib/python3.7/dist-packages (from scikit-learn-extra) (1.19.5)\n",
            "Requirement already satisfied: scikit-learn>=0.23.0 in /usr/local/lib/python3.7/dist-packages (from scikit-learn-extra) (1.0.1)\n",
            "Requirement already satisfied: scipy>=0.19.1 in /usr/local/lib/python3.7/dist-packages (from scikit-learn-extra) (1.4.1)\n",
            "Requirement already satisfied: joblib>=0.11 in /usr/local/lib/python3.7/dist-packages (from scikit-learn>=0.23.0->scikit-learn-extra) (1.1.0)\n",
            "Requirement already satisfied: threadpoolctl>=2.0.0 in /usr/local/lib/python3.7/dist-packages (from scikit-learn>=0.23.0->scikit-learn-extra) (3.0.0)\n",
            "Installing collected packages: scikit-learn-extra\n",
            "Successfully installed scikit-learn-extra-0.2.0\n"
          ]
        }
      ]
    },
    {
      "cell_type": "code",
      "source": [
        "max_value = numpy.max(df.values)\n",
        "print(max_value)\n",
        "dist_arr = df.values\n",
        "print(dist_arr[133][122])\n",
        "dist_arr = 1 - dist_arr\n",
        "print(dist_arr[133][122])\n",
        "min_value = numpy.min(dist_arr)\n",
        "min_value"
      ],
      "metadata": {
        "colab": {
          "base_uri": "https://localhost:8080/"
        },
        "id": "zFj4SkAMfo5z",
        "outputId": "be5eded3-e6d4-4962-b3da-2e67cd996edc"
      },
      "execution_count": null,
      "outputs": [
        {
          "output_type": "stream",
          "name": "stdout",
          "text": [
            "0.32750306814933355\n",
            "0.0\n",
            "1.0\n"
          ]
        },
        {
          "output_type": "execute_result",
          "data": {
            "text/plain": [
              "0.6724969318506664"
            ]
          },
          "metadata": {},
          "execution_count": 25
        }
      ]
    },
    {
      "cell_type": "code",
      "source": [
        "ske = sklearn_extra.cluster.KMedoids(n_clusters=6, random_state=0, metric=\"precomputed\", init='k-medoids++')\n",
        "ske.fit(dist_arr)\n",
        "ske.labels_"
      ],
      "metadata": {
        "colab": {
          "base_uri": "https://localhost:8080/"
        },
        "id": "wFO0qK_raBLi",
        "outputId": "024b13e6-6be0-4756-cb1c-df6da1b43cba"
      },
      "execution_count": null,
      "outputs": [
        {
          "output_type": "stream",
          "name": "stderr",
          "text": [
            "/usr/local/lib/python3.7/dist-packages/sklearn_extra/cluster/_k_medoids.py:247: ConvergenceWarning: Maximum number of iteration reached before convergence. Consider increasing max_iter to improve the fit.\n",
            "  ConvergenceWarning,\n"
          ]
        },
        {
          "output_type": "execute_result",
          "data": {
            "text/plain": [
              "array([0, 1, 0, ..., 0, 1, 0])"
            ]
          },
          "metadata": {},
          "execution_count": 38
        }
      ]
    },
    {
      "cell_type": "code",
      "source": [
        "import scipy\n",
        "!pip install scipy"
      ],
      "metadata": {
        "colab": {
          "base_uri": "https://localhost:8080/"
        },
        "id": "9UAJolmpuJJs",
        "outputId": "0151cdfc-ba72-46d5-9acc-728ca7fa8c1e"
      },
      "execution_count": null,
      "outputs": [
        {
          "output_type": "stream",
          "name": "stdout",
          "text": [
            "Requirement already satisfied: scipy in /usr/local/lib/python3.7/dist-packages (1.4.1)\n",
            "Requirement already satisfied: numpy>=1.13.3 in /usr/local/lib/python3.7/dist-packages (from scipy) (1.19.5)\n"
          ]
        }
      ]
    },
    {
      "cell_type": "code",
      "source": [
        "# from scipy import *\n",
        "csr = scipy.sparse.csr_matrix(df.values)"
      ],
      "metadata": {
        "id": "mtBUJK-XtXjS"
      },
      "execution_count": null,
      "outputs": []
    },
    {
      "cell_type": "code",
      "source": [
        "print(type(csr))\n",
        "print(df.values.shape)"
      ],
      "metadata": {
        "colab": {
          "base_uri": "https://localhost:8080/"
        },
        "id": "FoL8SMaiuai2",
        "outputId": "af5e9776-8e56-4760-bcfd-4c5cd9fd7a81"
      },
      "execution_count": null,
      "outputs": [
        {
          "output_type": "stream",
          "name": "stdout",
          "text": [
            "<class 'scipy.sparse.csr.csr_matrix'>\n",
            "(18781, 18781)\n"
          ]
        }
      ]
    },
    {
      "cell_type": "code",
      "source": [
        "from sklearn.cluster import SpectralClustering\n",
        "clustering = SpectralClustering(n_clusters=2, affinity='precomputed', assign_labels='discretize', random_state=0).fit(df.values)\n",
        "clustering.labels_"
      ],
      "metadata": {
        "colab": {
          "base_uri": "https://localhost:8080/"
        },
        "id": "dYk6VvnxvkF3",
        "outputId": "c5339a71-ba3c-41d7-e02a-d68c09bc4d14"
      },
      "execution_count": null,
      "outputs": [
        {
          "output_type": "stream",
          "name": "stderr",
          "text": [
            "/usr/local/lib/python3.7/dist-packages/sklearn/manifold/_spectral_embedding.py:261: UserWarning: Graph is not fully connected, spectral embedding may not work as expected.\n",
            "  \"Graph is not fully connected, spectral embedding may not work as expected.\"\n"
          ]
        },
        {
          "output_type": "execute_result",
          "data": {
            "text/plain": [
              "array([0, 0, 0, ..., 0, 0, 0])"
            ]
          },
          "metadata": {},
          "execution_count": 32
        }
      ]
    },
    {
      "cell_type": "code",
      "source": [
        "counter_0 = 0\n",
        "counter_1 = 0\n",
        "counter_2 = 0\n",
        "counter_3 = 0\n",
        "counter_4 = 0\n",
        "counter_5 = 0\n",
        "for i in range(len(ske.labels_)):\n",
        "  if ske.labels_[i] == 0:\n",
        "    counter_0 += 1\n",
        "  elif ske.labels_[i] == 1:\n",
        "    counter_1 += 1\n",
        "  elif ske.labels_[i] == 2:\n",
        "    counter_2 += 1\n",
        "  elif ske.labels_[i] == 3:\n",
        "    counter_3 += 1\n",
        "  elif ske.labels_[i] == 4:\n",
        "    counter_4 += 1\n",
        "  else:\n",
        "    counter_5 += 1\n",
        "print(counter_0)\n",
        "print(counter_1)\n",
        "print(counter_2)\n",
        "print(counter_3)\n",
        "print(counter_4)\n",
        "print(counter_5)\n",
        "# clustering.labels_.shape"
      ],
      "metadata": {
        "colab": {
          "base_uri": "https://localhost:8080/"
        },
        "id": "4IVDG-rAxvig",
        "outputId": "eccfec41-2e52-4f71-bcec-e4f73f7fd799"
      },
      "execution_count": null,
      "outputs": [
        {
          "output_type": "stream",
          "name": "stdout",
          "text": [
            "10160\n",
            "4671\n",
            "393\n",
            "1739\n",
            "1415\n",
            "403\n"
          ]
        }
      ]
    },
    {
      "cell_type": "code",
      "source": [
        "print(ske.inertia_)"
      ],
      "metadata": {
        "colab": {
          "base_uri": "https://localhost:8080/"
        },
        "id": "2FaImpcbkmTh",
        "outputId": "2ff3b807-9473-4ae9-cf37-d2cba09769dc"
      },
      "execution_count": null,
      "outputs": [
        {
          "output_type": "stream",
          "name": "stdout",
          "text": [
            "18629.81627561308\n"
          ]
        }
      ]
    },
    {
      "cell_type": "code",
      "source": [
        "((df == 0).sum(axis=1) == 18781).sum()"
      ],
      "metadata": {
        "colab": {
          "base_uri": "https://localhost:8080/"
        },
        "id": "2e3rfilZRVC-",
        "outputId": "fd2c25b5-6ad8-4a5a-c59f-d18f86988964"
      },
      "execution_count": null,
      "outputs": [
        {
          "output_type": "execute_result",
          "data": {
            "text/plain": [
              "1720"
            ]
          },
          "metadata": {},
          "execution_count": 38
        }
      ]
    }
  ]
}