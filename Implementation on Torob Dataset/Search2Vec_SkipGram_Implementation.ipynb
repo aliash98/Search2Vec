{
  "nbformat": 4,
  "nbformat_minor": 0,
  "metadata": {
    "colab": {
      "name": "Search2Vec-SkipGram-Implementation.ipynb",
      "provenance": [],
      "collapsed_sections": [],
      "authorship_tag": "ABX9TyOf7UxXdKA1JVBVSUf1c/f4",
      "include_colab_link": true
    },
    "kernelspec": {
      "name": "python3",
      "display_name": "Python 3"
    },
    "language_info": {
      "name": "python"
    }
  },
  "cells": [
    {
      "cell_type": "markdown",
      "metadata": {
        "id": "view-in-github",
        "colab_type": "text"
      },
      "source": [
        "<a href=\"https://colab.research.google.com/github/aliash98/Search2Vec/blob/main/Search2Vec_SkipGram_Implementation.ipynb\" target=\"_parent\"><img src=\"https://colab.research.google.com/assets/colab-badge.svg\" alt=\"Open In Colab\"/></a>"
      ]
    },
    {
      "cell_type": "markdown",
      "metadata": {
        "id": "5YZyQXCkd6xn"
      },
      "source": [
        "# Initialisation"
      ]
    },
    {
      "cell_type": "code",
      "metadata": {
        "id": "ZTuwkyk8bwH-"
      },
      "source": [
        "import matplotlib.pyplot as plt\n",
        "import itertools\n",
        "from datetime import datetime\n",
        "import pandas as pd\n",
        "import numpy as np\n",
        "import json\n",
        "import re\n",
        "import warnings\n",
        "import gc \n",
        "from tqdm import tqdm, trange"
      ],
      "execution_count": null,
      "outputs": []
    },
    {
      "cell_type": "code",
      "metadata": {
        "colab": {
          "base_uri": "https://localhost:8080/"
        },
        "id": "tdfil2bHcSCT",
        "outputId": "4bd96ef5-41e5-42ae-c5ec-fdf8eb2f9401"
      },
      "source": [
        "from google.colab import drive\n",
        "drive.mount('/content/gdrive')"
      ],
      "execution_count": null,
      "outputs": [
        {
          "output_type": "stream",
          "name": "stdout",
          "text": [
            "Drive already mounted at /content/gdrive; to attempt to forcibly remount, call drive.mount(\"/content/gdrive\", force_remount=True).\n"
          ]
        }
      ]
    },
    {
      "cell_type": "code",
      "metadata": {
        "colab": {
          "base_uri": "https://localhost:8080/"
        },
        "id": "tJu2x3yce-em",
        "outputId": "935406f9-fe5a-4cdf-c9bb-2d4e7c04673b"
      },
      "source": [
        "% ls"
      ],
      "execution_count": null,
      "outputs": [
        {
          "output_type": "stream",
          "name": "stdout",
          "text": [
            "\u001b[0m\u001b[01;34mgdrive\u001b[0m/  \u001b[01;34mlogs\u001b[0m/  \u001b[01;34msample_data\u001b[0m/\n"
          ]
        }
      ]
    },
    {
      "cell_type": "code",
      "metadata": {
        "id": "sVeSUlQwe86Y"
      },
      "source": [
        "most_freq_q = pd.read_csv (r'./gdrive/MyDrive/Colab Notebooks/most_freq_queries_train.csv')"
      ],
      "execution_count": null,
      "outputs": []
    },
    {
      "cell_type": "code",
      "metadata": {
        "id": "YTrugDerf68_",
        "colab": {
          "base_uri": "https://localhost:8080/"
        },
        "outputId": "dcd317c2-eb42-43dc-d3fd-7f3dd2d1c326"
      },
      "source": [
        "most_freq_q.info()"
      ],
      "execution_count": null,
      "outputs": [
        {
          "output_type": "stream",
          "name": "stdout",
          "text": [
            "<class 'pandas.core.frame.DataFrame'>\n",
            "RangeIndex: 1381232 entries, 0 to 1381231\n",
            "Data columns (total 3 columns):\n",
            " #   Column     Non-Null Count    Dtype \n",
            "---  ------     --------------    ----- \n",
            " 0   _id        1381232 non-null  object\n",
            " 1   raw_query  1381232 non-null  object\n",
            " 2   datetime   1381232 non-null  object\n",
            "dtypes: object(3)\n",
            "memory usage: 31.6+ MB\n"
          ]
        }
      ]
    },
    {
      "cell_type": "code",
      "metadata": {
        "id": "uC8PBLGv1eZQ",
        "colab": {
          "base_uri": "https://localhost:8080/"
        },
        "outputId": "a954be97-994b-4218-fcad-14e8546267bd"
      },
      "source": [
        "most_freq_q['raw_query'].value_counts().head(50)"
      ],
      "execution_count": null,
      "outputs": [
        {
          "output_type": "execute_result",
          "data": {
            "text/plain": [
              "گوشی              26951\n",
              "تفنگ بادی         23448\n",
              "ساعت هوشمند       21212\n",
              "اسلایم            15903\n",
              "a52               15058\n",
              "اسپیکر            13403\n",
              "poco x3           13324\n",
              "گوشی سامسونگ      13072\n",
              "کولر گازی         13047\n",
              "هدفون             12910\n",
              "شوکر              12632\n",
              "ماسک              12596\n",
              "ps4               11562\n",
              "لپ تاپ            11535\n",
              "تفنگ شکاری        11423\n",
              "مودم              10632\n",
              "ریش تراش          10394\n",
              "تلویزیون          10001\n",
              "a32                9804\n",
              "گلدان              9441\n",
              "بازی               9262\n",
              "ماشین اصلاح        8931\n",
              "کفش                8716\n",
              "هندزفری            8535\n",
              "دلار               8472\n",
              "اسپیکر بلوتوثی     8156\n",
              "a21s               7858\n",
              "ساعت دیواری        7629\n",
              "باربی              7460\n",
              "ساعت               7385\n",
              "a72                7290\n",
              "poco m3            7089\n",
              "فندک               6760\n",
              "ماشین کنترلی       6752\n",
              "دریل               6738\n",
              "اپل واچ            6658\n",
              "کفش مردانه         6594\n",
              "روغن جامد          6554\n",
              "اسکوتر             6374\n",
              "موتور برق          6237\n",
              "redmi note 10      6199\n",
              "فلش                5922\n",
              "اسکیت              5919\n",
              "سامسونگ            5897\n",
              "پاور بانک          5882\n",
              "ایکس باکس          5780\n",
              "a71                5778\n",
              "mi 11              5733\n",
              "قهوه ساز           5700\n",
              "a10s               5604\n",
              "Name: raw_query, dtype: int64"
            ]
          },
          "metadata": {},
          "execution_count": 93
        }
      ]
    },
    {
      "cell_type": "code",
      "metadata": {
        "id": "8Z8J8o8bhoBz",
        "colab": {
          "base_uri": "https://localhost:8080/"
        },
        "outputId": "8571ac48-9383-418f-9b73-8996d8a357a3"
      },
      "source": [
        "most_freq_c = pd.read_csv (r'./gdrive/MyDrive/Colab Notebooks/most_freq_clicks_train.csv')\n",
        "most_freq_c.info()"
      ],
      "execution_count": null,
      "outputs": [
        {
          "output_type": "stream",
          "name": "stdout",
          "text": [
            "<class 'pandas.core.frame.DataFrame'>\n",
            "RangeIndex: 2236735 entries, 0 to 2236734\n",
            "Data columns (total 4 columns):\n",
            " #   Column           Dtype \n",
            "---  ------           ----- \n",
            " 0   datetime         object\n",
            " 1   search_log_id    object\n",
            " 2   rank             int64 \n",
            " 3   base_product_id  object\n",
            "dtypes: int64(1), object(3)\n",
            "memory usage: 68.3+ MB\n"
          ]
        }
      ]
    },
    {
      "cell_type": "code",
      "metadata": {
        "id": "Q6AYM40QiC6H",
        "colab": {
          "base_uri": "https://localhost:8080/"
        },
        "outputId": "2514f1da-f43c-464a-8dab-91f3761df4a8"
      },
      "source": [
        "most_freq_p = pd.read_csv (r'./gdrive/MyDrive/Colab Notebooks/most_freq_products_train.csv')\n",
        "most_freq_p.info()"
      ],
      "execution_count": null,
      "outputs": [
        {
          "output_type": "stream",
          "name": "stdout",
          "text": [
            "<class 'pandas.core.frame.DataFrame'>\n",
            "RangeIndex: 108956 entries, 0 to 108955\n",
            "Data columns (total 3 columns):\n",
            " #   Column         Non-Null Count   Dtype \n",
            "---  ------         --------------   ----- \n",
            " 0   _id            108956 non-null  object\n",
            " 1   category_name  108956 non-null  object\n",
            " 2   sellers        108956 non-null  object\n",
            "dtypes: object(3)\n",
            "memory usage: 2.5+ MB\n"
          ]
        }
      ]
    },
    {
      "cell_type": "code",
      "metadata": {
        "colab": {
          "base_uri": "https://localhost:8080/"
        },
        "id": "D5QosQw0uOas",
        "outputId": "0d4e77b8-82d8-4b20-d19c-fa0575370e8b"
      },
      "source": [
        "# Droping products with less than 5 times repitaion\n",
        "\n",
        "# most_freq_c['base_product_id'].value_counts()[29690]\n",
        "# (most_freq_c['base_product_id'].value_counts()==50).argmax()\n",
        "\n",
        "\n",
        "most_freq_c = most_freq_c[most_freq_c.base_product_id.isin(most_freq_c['base_product_id'].value_counts().head(6766).index)]\n",
        "most_freq_c.info()\n"
      ],
      "execution_count": null,
      "outputs": [
        {
          "output_type": "stream",
          "name": "stdout",
          "text": [
            "<class 'pandas.core.frame.DataFrame'>\n",
            "Int64Index: 1662905 entries, 0 to 2236733\n",
            "Data columns (total 4 columns):\n",
            " #   Column           Non-Null Count    Dtype \n",
            "---  ------           --------------    ----- \n",
            " 0   datetime         1662905 non-null  object\n",
            " 1   search_log_id    1662905 non-null  object\n",
            " 2   rank             1662905 non-null  int64 \n",
            " 3   base_product_id  1662905 non-null  object\n",
            "dtypes: int64(1), object(3)\n",
            "memory usage: 63.4+ MB\n"
          ]
        }
      ]
    },
    {
      "cell_type": "code",
      "metadata": {
        "colab": {
          "base_uri": "https://localhost:8080/"
        },
        "id": "P8eXrcT11OD5",
        "outputId": "a653d76a-5c27-4809-ed3c-1381c82aa79d"
      },
      "source": [
        "# Adjusting queries and products dataframes to this change\n",
        "most_freq_p = most_freq_p[most_freq_p._id.isin(most_freq_c['base_product_id'])]\n",
        "most_freq_q = most_freq_q[most_freq_q._id.isin(most_freq_c['search_log_id'])]\n",
        "print(most_freq_p.info())\n",
        "print(most_freq_q.info())\n",
        "gc.collect()\n"
      ],
      "execution_count": null,
      "outputs": [
        {
          "output_type": "stream",
          "name": "stdout",
          "text": [
            "<class 'pandas.core.frame.DataFrame'>\n",
            "Int64Index: 6766 entries, 9 to 108919\n",
            "Data columns (total 3 columns):\n",
            " #   Column         Non-Null Count  Dtype \n",
            "---  ------         --------------  ----- \n",
            " 0   _id            6766 non-null   object\n",
            " 1   category_name  6766 non-null   object\n",
            " 2   sellers        6766 non-null   object\n",
            "dtypes: object(3)\n",
            "memory usage: 211.4+ KB\n",
            "None\n",
            "<class 'pandas.core.frame.DataFrame'>\n",
            "Int64Index: 1016882 entries, 0 to 1381230\n",
            "Data columns (total 3 columns):\n",
            " #   Column     Non-Null Count    Dtype \n",
            "---  ------     --------------    ----- \n",
            " 0   _id        1016882 non-null  object\n",
            " 1   raw_query  1016882 non-null  object\n",
            " 2   datetime   1016882 non-null  object\n",
            "dtypes: object(3)\n",
            "memory usage: 31.0+ MB\n",
            "None\n"
          ]
        },
        {
          "output_type": "execute_result",
          "data": {
            "text/plain": [
              "39"
            ]
          },
          "metadata": {},
          "execution_count": 98
        }
      ]
    },
    {
      "cell_type": "markdown",
      "metadata": {
        "id": "ggGyYAkKubcl"
      },
      "source": [
        "# Construction of the Vocabulary"
      ]
    },
    {
      "cell_type": "code",
      "metadata": {
        "colab": {
          "base_uri": "https://localhost:8080/"
        },
        "id": "nEZXtVdFua7M",
        "outputId": "8318f261-525f-47c7-f621-73ceca98d14c"
      },
      "source": [
        "# Constructing tokens\n",
        "vocab, index = {}, 1  # start indexing from 1\n",
        "vocab['<pad>'] = 0\n",
        "# Importing queries to vocab\n",
        "for query in most_freq_q.raw_query:\n",
        "  if query not in vocab:\n",
        "    vocab[query] = index\n",
        "    index += 1\n",
        "\n",
        "\n",
        "# *** Note: one of the below sections should be executed only!\n",
        "\n",
        "\n",
        "# Importing products to vocab\n",
        "\n",
        "for product_id in most_freq_p._id:\n",
        "  if product_id not in vocab:\n",
        "    vocab[product_id + '-prod'] = index\n",
        "    index += 1\n",
        "\n",
        "# Importing categories to vocab\n",
        "\n",
        "# for category in most_freq_p.category_name:\n",
        "#   temp_str = category + 'cat'\n",
        "#   if temp_str not in vocab:\n",
        "#     vocab[temp_str] = index\n",
        "#     index += 1\n",
        "\n",
        "vocab_size = len(vocab)\n",
        "print(vocab.keys())\n",
        "print(vocab_size)"
      ],
      "execution_count": null,
      "outputs": [
        {
          "output_type": "stream",
          "name": "stdout",
          "text": [
            "dict_keys(['<pad>', 'موبایل', 'Ps4', 'a52', 'لپ تاپ', 'گوشی', 'لب تاب', 'گوشی موبایل', 'A52', 'لپتاپ', 'پلی استیشن ۴', 'ps4', 'پلی استیشن 4', 'لبتاب', 'لب تاپ', 'پی اس فور', 'لپ تاب', 'گوشی شیایومی', 'تفنگ بادی', 'گوشی شیائومی', 'گوشی موبایل سامسونگ', 'ساعت هوشمند', 'گوشی سامسونگ', 'poco x3', 'شیایومی', 'شیامی', 'شیائومی', 'Poco x3', 'موبایل سامسونگ', 'شیاومی', 'گوشی شیامی', 'xiaomi', 'a21s', 'ایفون', 'ریش تراش', 'اسلایم', 'a10s', 'A21s', 'a32', 'شیرآلات', 'redmi note 10', 'شیر الات', 'هارد اکسترنال', 'A10s', 'شیرالات', 'آیفون', 'Redmi note 10', 'ردمی نوت ۱۰', 'A32', 'a10 s', 'iphone', 'ردمی نوت 10', 'هارد', 'تلوزیون', 'مودم', 'هدفون', 'اسپیکر', 'دلار', 'تلویزیون', 'اپل واچ', 'poco', 'a71', 'سامسونگ', 'a72', 'A72', 'poco m3', 'ردمی ۹', 'آیفون ۱۲', 'xbox', 'redmi 9', 'ایکس باکس', 'note 9 pro', 'note 8 pro', 'ایفون ۱۲', 'A71', 'iphone 12', 'redmi9', 'Iphone 12', 'Poco m3', 'پاور بانک', 'نوکیا', 'هارد اینترنال', 'note 8', 'کولرگازی', 'دریل', 'هندزفری بلوتوث', 's20 fe', 'هندزفری', 'ایفون ایکس', 's21 ultra', 'A02', 'لباس شویی', 'iphone x', 'کفش', 'پاوربانک', 'ساعت', 'کولر گازی', 'لباسشویی', 'a02', 'note8', 'نوت 8', 'هندزفری بلوتوثی', 's20fe', 'ماشین لباسشویی', 'ایفون x', 'پلی استیشن', 'y8p', 'اسکوتر', 'رینگ لایت', 'باربی', 'چراغ قوه', 'mi11', 'تخت خواب', 'میکروفون', 'ماشین کنترلی', 'فلش', 'ساعت دیواری', 'mi 11', 'mi 10t pro', 'ماسک', 'آبمیوه گیری', 'ابمیوه گیری', 'گلدان', 'note 10 pro', 'گوشی نوکیا', 'x3', 'قهوه ساز', 'قهوه جوش', 'میکروفن', 'کفش مردانه', 'm62', 'دستگاه جوش', 'چرخ خیاطی', 'اسباب بازی دخترانه', 'شومیز', 'ایرپاد', 'گوشی a12', 'موتور برق', 'اسکیت', 'پلی استیشن 2', 'ماوس', 'کاغذ دیواری', 'سرویس خواب', 'mi band 6', 'دوربین مداربسته', 'کیس', 'فندک', 'دوچرخه ۲۶', 'ماینر', 'هواوی', 'mi 11 lite', 'گوشی ساده', 'بازی ps4', 'صندلی گیمینگ', 'a10', 'یخچال فریزر', 'موس', 'انگشتر', 'گوشی اپل', 'دوچرخه 26', 'دوربین مدار بسته', 'پلی استیشن ۲', 'A10', 'a20s', 'ps2', 'لپ تاپ لنوو', 'شورت مردانه', 'لپ تاپ ایسوس', 'ماشین', 'گوشی آیفون', 'دمبل', 'مینی فرز', 'شال', 'اسپیکر بلوتوثی', 'کتاب', 'فوتبال دستی', 'کیف زنانه', 'خودکار', 'ماشین ظرفشویی', 'ایکس باکس 360', 'گل', 'هویه', 'لپ تاپ گیمینگ', 'سگ', 'کباب پز', 'توپ', 'کوله پشتی', 'پراید', 'ماگ', 'ناخن مصنوعی', 'کوادکوپتر', 'آباژور', 'بازی', 'باربیکیو', 'سوتین', 'کالسکه', 'روان نویس', 'پلی استیشن 3', 'کفش فوتبال', 'گوشی ایفون', 'کتونی', 'توپ فوتبال', 'جاکفشی', 'ماسک سه بعدی', 'کیف', 'اتو مو', 'هدفون بی سیم', 'ماشین اصلاح', 'جا کفشی', 'ps3', 'ریسه', 'اتو', 'قابلمه', 'کتری قوری', 'a30', 'a20', 'رونیکس', 'صندل', 'تراز لیزری', 'سه چرخه', 'کولر ابی', 'تردمیل', 'گوشی a51', 'شوکر', 'کیس گیمینگ', 'دوچرخه ۲۰', 'پوکو', 'تلفن بی سیم', 'آکواریوم', 'پمپ آب', 'ترازو', 'فریزر', 'y7p', 'پمپ باد', 'عینک افتابی', 'پمپ اب', 's10', 'تفنگ ساچمه ای', 'عروسک باربی', 'مادربرد', 'ماشین اسباب بازی', 'mi 11 ultra', 'عینک آفتابی', 'روشویی', 'اچار', 'آچار', 'اکواریوم', 'جعبه بکس', 'سینی', 'بازی فکری', 'تلویزیون ال جی', 'کولر آبی', '5g', 'سرویس قابلمه', 'شلوار', 'کیف دخترانه', 'موتور شارژی', 'ماکروفر', 'تفنگ شکاری', 'لیزر', 'میز کامپیوتر', 'سمپاش', 'کفش استوک', 'گینر', 'تابلو', 'تبر', 'لیوان', 'اسپری تاخیری', 'سرویس خواب دو نفره', 'شلف', 'اسپینر', 'نردبان', 'پیپ', 'مانتو دخترانه', 'ابزار', 'هدست گیمینگ', 'گوشی a52', 'آینه', 'فرش ماشینی', 'سکه', 'عینک', 'آسیاب قهوه', 'موس گیمینگ', 'زودپز', 'لامپ', 'روغن', 'دوچرخه ۲۴', 'pocox3', 'کفش اسپرت', 'ادکلن', 's20 fe 5g', 'صندلی اداری', '9t', 'y9s', 'گوشت کوب برقی', 'چادر مسافرتی', 'لباس', 'دستبند', 'هدفون گیمینگ', 'مانتو زنانه', 'دسته بازی', 'کلت', 'دسته ps4', '12 pro max', 'گوشواره طلا', 'آیفون تصویری', 'redmi note 10 pro', 'چراغ مطالعه', 'انگشتر مردانه', 'اسیاب قهوه', 'ps4 pro', 'لوازم دوچرخه', 'همزن برقی', 'روغن جامد', 'اینه', 'گوشی تاشو', 'بتن کن', 'سم پاش', 'قلیان', 'ایکس باکس وان', 'چکش تخریب', 'فیجت', 'سه چرخه کودک', 'کولر گازی گری', 'درب ضد سرقت', 'گاز', 'ویپ', 'سرخ کن', 'اینورتر جوشکاری', 'یخچال اسنوا', 'فلاسک', 'میوه خشک کن', 'کیسه بوکس', 'ساعت مچی زنانه', 'ساندویچ ساز', 'مانیتور خودرو', 'اینورتر', 'مسواک برقی', 'کلت فلزی', 'پاسور', 'استند گل', 'تفنگ فلزی', 'فلش مموری', 'ساعت ایستاده', 'قوزبند', 'دوچرخه برقی', 'اسباب بازی پسرانه', 'لاستیک', 'هود', 'سنگ فرز', 'ماسک مو', 'پنکه سقفی', 'انگشتر نقره', 'جوراب', 'پاسماوری', 'گردنبند مردانه', 'کیف ابزار', 'گوشواره', 'تلویزیون اسنوا', 'تلمبه', 'پنل خورشیدی', 'ساعت کاسیو', 'm21', 'فرز انگشتی', 'ماساژور', 'ال ای دی', 'دوربین مخفی', 'کمد', 'چراغ دوچرخه', 'دوچرخه کوهستان', 'النگو طلا', 'لباس دخترانه', 'اره میزی', 'رادیو', 'باند ماشین', 'ترقه', 'سرویس چینی', 'مانیتور گیمینگ', 'ادون', 'موتور چهار چرخ', 'پیکان', 'لباس دختر کفشدوزکی', 'سرسره', 'موزر', 'گهواره', 'لباس زیر', 'موتورسیکلت', 'پنجه بوکس', 'پیراهن', 'مانتو مجلسی', 'قاشق چنگال', 'غذاساز', 'گاز صفحه ای', 'تبلت اپل', 'قلاده', 'دوربین شکاری', 'هایلو', 'موتور برقی', 'چمن مصنوعی', 'هندزفری سامسونگ', 'شکلات', 'ماسک پارچه ای', 'تیبا', 'فلاکس', 'میز ناهار خوری', 'ماسک تنفسی', 'کتونی زنانه', 'نوتلا', 'جی پلاس', 'لباس نوزاد', 'پوشک', 'گاز رومیزی', 'سینک', 'واتر اسلایم', 'تفنگ ساچمه', 'باند خودرو', 'سماور برقی', 'تیلر', 'کتری برقی', 'شورت', 'سوهان برقی', 'هودی', 'لباس ورزشی', 'لاک ژل', 'علف زن', 'کفش اسپرت مردانه', 'پیراهن مردانه', 'کاپشن', 'دوچرخه ثابت', 'جا ادویه', 'رینگ', 'دریل بتن کن', 'بیل', 'اسباب بازی ماشین', 'دمپایی', 'توپ والیبال', 'تب سنج', 'رومیزی', 'شلوار مردانه', 'ساعت رولکس', 'لامپ ال ای دی', 'تیله', 'کیف کمری', 'پیراهن دخترانه', 'کیف پول', 'بستنی ساز', 'سماور گازی', 'فر', 'کیف پول زنانه', 'دوچرخه المپیا', 'چاقو سفری', 'برنج', 'فرز', 'هولدر', 'کتری', 'عروس هلندی', 'کلت بادی', '206', 'فیگور', 'هودی دخترانه', 'منقل', 'لاستیک دوچرخه', 'باتوم', 'قهوه', 'تخت کودک', 'کواد کوپتر', 'قفس پرنده', 'اکسیمتر', 'اتو بخار', 'پوشک بچه', 'پژو پارس', 'کتونی مردانه', 'شطرنج', 'استند گلدان', 'دسته بازی کامپیوتر', 'پاور', 'ماژول', 'بانکه', 'تشک', 'دستبند مردانه', 'بازی کامپیوتری', 'اون توستر', 'شورت زنانه', 'رم', 'کفش ورزشی', 'کلاه کپ', 'دمپایی زنانه', 'اکشن فیگور', 'کفش کار', 'صندل دخترانه', 'حوله', 'تیشرت لش', 'بن تن', 'پنکه ایستاده', 'شومیز زنانه', 'کفکش', 'کمد لباس', 'پازل', 'باند', 'تلویزیون جی پلاس32 اینچ', 'بازی کامپیوتر', 'mmvlb-prod', 'mmsch-prod', 'mmivh-prod', 'mmlbv-prod', 'mmylu-prod', 'mmyiu-prod', 'myprj-prod', 'mzwtj-prod', 'musjv-prod', 'musrm-prod', 'muxus-prod', 'mbuku-prod', 'mumev-prod', 'mbkdc-prod', 'mbbew-prod', 'myiaz-prod', 'mbkdr-prod', 'muxqs-prod', 'mugqp-prod', 'mzohn-prod', 'magjx-prod', 'myhyl-prod', 'myppw-prod', 'muxnw-prod', 'mmydg-prod', 'mmlrc-prod', 'mukdr-prod', 'mtohy-prod', 'mshub-prod', 'mzhbc-prod', 'mmmsz-prod', 'mbbap-prod', 'mtdyg-prod', 'mmzag-prod', 'kmbua-prod', 'mbuzn-prod', 'mbrgk-prod', 'mmmhl-prod', 'mmykq-prod', 'mbwdx-prod', 'mugfb-prod', 'myfqr-prod', 'myfcf-prod', 'mkopz-prod', 'mbbye-prod', 'mbyno-prod', 'mmgvv-prod', 'mzgok-prod', 'mbbtv-prod', 'mbuzi-prod', 'mbuuh-prod', 'mzdrt-prod', 'matgk-prod', 'mmyfs-prod', 'mmmhv-prod', 'myhfy-prod', 'mmoiz-prod', 'mmmwo-prod', 'mordm-prod', 'mbuwb-prod', 'muxpm-prod', 'mugxf-prod', 'ygnxf-prod', 'myiay-prod', 'mkdql-prod', 'mtgvh-prod', 'mtawl-prod', 'mbkid-prod', 'kqfsr-prod', 'kbaqc-prod', 'micwu-prod', 'mylxa-prod', 'muusp-prod', 'mzdrz-prod', 'mzghb-prod', 'mbfvo-prod', 'mzghk-prod', 'mdgjs-prod', 'mttek-prod', 'mkbcv-prod', 'myiym-prod', 'muwod-prod', 'matrz-prod', 'mmitj-prod', 'myfqz-prod', 'mzgod-prod', 'myjkl-prod', 'muxqp-prod', 'mkyhu-prod', 'mkabk-prod', 'mtrty-prod', 'mbotw-prod', 'muyyj-prod', 'mttgc-prod', 'mtxhm-prod', 'myhut-prod', 'mttxt-prod', 'musor-prod', 'mdywi-prod', 'mbvij-prod', 'mabwi-prod', 'mkthy-prod', 'muqpy-prod', 'mmvda-prod', 'myhjf-prod', 'mmosv-prod', 'maddv-prod', 'mugqn-prod', 'mubcv-prod', 'maxin-prod', 'mbkjf-prod', 'mmisd-prod', 'muuxu-prod', 'mbotc-prod', 'mmpsi-prod', 'madaa-prod', 'mkapx-prod', 'mmitp-prod', 'mmyjk-prod', 'mugbw-prod', 'ygrrj-prod', 'mkahh-prod', 'mmifj-prod', 'muxym-prod', 'mmyyr-prod', 'mabws-prod', 'mkayb-prod', 'mmirf-prod', 'mkabc-prod', 'mzljb-prod', 'magji-prod', 'magjo-prod', 'magjg-prod', 'myfnz-prod', 'mynyr-prod', 'mbotp-prod', 'myfpq-prod', 'mmosk-prod', 'mmlpv-prod', 'musja-prod', 'mbbrz-prod', 'muxmg-prod', 'mmjnw-prod', 'mdsie-prod', 'mmulr-prod', 'mabon-prod', 'mmaay-prod', 'mtzyw-prod', 'mmizk-prod', 'mugfy-prod', 'mynzc-prod', 'mmmeg-prod', 'mmlzb-prod', 'mujre-prod', 'mmukj-prod', 'uejlt-prod', 'makjz-prod', 'mmmdk-prod', 'mylwm-prod', 'mbitz-prod', 'musta-prod', 'mustg-prod', 'muqgy-prod', 'mkapy-prod', 'mkwcg-prod', 'mmbdb-prod', 'mmyxf-prod', 'mzohg-prod', 'mzohd-prod', 'mmubb-prod', 'mypzg-prod', 'muxxf-prod', 'mumag-prod', 'mypzz-prod', 'muyuz-prod', 'mypdy-prod', 'muxkb-prod', 'mypze-prod', 'mypzi-prod', 'muyud-prod', 'myfoy-prod', 'myiee-prod', 'mynbz-prod', 'mtmlm-prod', 'mafav-prod', 'mabsy-prod', 'mkavr-prod', 'mkave-prod', 'muxvn-prod', 'muxxw-prod', 'mumar-prod', 'mueeg-prod', 'mueee-prod', 'mueen-prod', 'muxka-prod', 'mueei-prod', 'mmmay-prod', 'mazds-prod', 'mtlll-prod', 'mupzm-prod', 'mypzf-prod', 'mkdcq-prod', 'mktxx-prod', 'mugfl-prod', 'mzdrk-prod', 'mmfsq-prod', 'muawd-prod', 'mylqa-prod', 'myhzh-prod', 'muawf-prod', 'myhdb-prod', 'malpk-prod', 'myfje-prod', 'mbtje-prod', 'myrvu-prod', 'mugis-prod', 'mkcyf-prod', 'ycygl-prod', 'myrzx-prod', 'myosq-prod', 'mysrv-prod', 'mynfz-prod', 'mysmj-prod', 'mzegt-prod', 'mypzd-prod', 'mugrp-prod', 'mbbtw-prod', 'mbsmj-prod', 'mkfbr-prod', 'mypxl-prod', 'mkzbe-prod', 'mtait-prod', 'mbbrv-prod', 'mzwrk-prod', 'mkaam-prod', 'myhby-prod', 'musgo-prod', 'maznd-prod', 'musos-prod', 'mvpkb-prod', 'mmptf-prod', 'mylht-prod', 'mmigh-prod', 'mbmsj-prod', 'mlbds-prod', 'muxku-prod', 'murkp-prod', 'maxwe-prod', 'mkfyg-prod', 'myhke-prod', 'mypzr-prod', 'mmyia-prod', 'mapdx-prod', 'mfchy-prod', 'mmubd-prod', 'mbujb-prod', 'mfchg-prod', 'mbblg-prod', 'muqgw-prod', 'mmvjn-prod', 'mugdv-prod', 'mbfye-prod', 'mucne-prod', 'myqjn-prod', 'myfzh-prod', 'mtdjw-prod', 'mkojm-prod', 'mmjim-prod', 'mkove-prod', 'mkayy-prod', 'myfcq-prod', 'mtane-prod', 'muege-prod', 'mueng-prod', 'mumjg-prod', 'maoba-prod', 'mkapu-prod', 'mmlpc-prod', 'myfia-prod', 'mucxz-prod', 'myjjc-prod', 'makhm-prod', 'myged-prod', 'mmnib-prod', 'mmncu-prod', 'mbicz-prod', 'muqql-prod', 'muxdl-prod', 'maaye-prod', 'maamn-prod', 'maamd-prod', 'mkbgf-prod', 'mkadr-prod', 'mkadh-prod', 'mkaau-prod', 'mkajr-prod', 'yqmld-prod', 'mkzlk-prod', 'mkade-prod', 'mypxp-prod', 'muugs-prod', 'myhks-prod', 'muwsn-prod', 'mmhvk-prod', 'mbykp-prod', 'mmngq-prod', 'mmols-prod', 'mmopk-prod', 'mbkdx-prod', 'mbuax-prod', 'mmmkq-prod', 'mlbgb-prod', 'mmiob-prod', 'mkava-prod', 'muuot-prod', 'mmudu-prod', 'mmiap-prod', 'mmnox-prod', 'mbuji-prod', 'mmwyn-prod', 'mmlda-prod', 'mmhbd-prod', 'myhkg-prod', 'mumaz-prod', 'mkdda-prod', 'mmmmv-prod', 'mugnn-prod', 'mmmfq-prod', 'mmmbg-prod', 'yactd-prod', 'mmosw-prod', 'mzidr-prod', 'mbyzz-prod', 'mmlzz-prod', 'micpc-prod', 'mzdkd-prod', 'mmutl-prod', 'mmmij-prod', 'murud-prod', 'muwjk-prod', 'muxpt-prod', 'mtavc-prod', 'mybqu-prod', 'makhy-prod', 'mkapg-prod', 'mkdvz-prod', 'mmitz-prod', 'mmylt-prod', 'mkaou-prod', 'mbbav-prod', 'madae-prod', 'myiub-prod', 'mmmcl-prod', 'mznym-prod', 'mypzp-prod', 'mbump-prod', 'mbygi-prod', 'mbbaw-prod', 'myjxr-prod', 'mkadv-prod', 'mmuuf-prod', 'mbypr-prod', 'musnu-prod', 'mawdv-prod', 'muwih-prod', 'uenns-prod', 'mmisa-prod', 'mmyzh-prod', 'mmukq-prod', 'mbyom-prod', 'mueex-prod', 'muxxi-prod', 'mbuhu-prod', 'mwlet-prod', 'mezhg-prod', 'mmjba-prod', 'mmdcw-prod', 'muugb-prod', 'mmlgc-prod', 'mmlpk-prod', 'mmujf-prod', 'muams-prod', 'musbh-prod', 'mugxs-prod', 'mkvqh-prod', 'mtani-prod', 'mmkla-prod', 'mmjxw-prod', 'mmlfj-prod', 'myxxa-prod', 'myxhl-prod', 'mzger-prod', 'ueokj-prod', 'mmyor-prod', 'yzesw-prod', 'malzp-prod', 'mdwtr-prod', 'mmpog-prod', 'mumhl-prod', 'myfhn-prod', 'mlbwz-prod', 'mumjo-prod', 'mchyb-prod', 'mbokp-prod', 'mzxir-prod', 'yhref-prod', 'mtfnp-prod', 'mdgmj-prod', 'muxgk-prod', 'mkdmh-prod', 'mmptz-prod', 'mmdyd-prod', 'mtxmf-prod', 'mbber-prod', 'mmmzd-prod', 'mzivo-prod', 'mkacl-prod', 'mkacm-prod', 'mkarl-prod', 'mkacq-prod', 'mmtad-prod', 'mmmmh-prod', 'muggn-prod', 'mmmmb-prod', 'musfw-prod', 'mknbp-prod', 'mktru-prod', 'mkafs-prod', 'mktrk-prod', 'mmovp-prod', 'mabnv-prod', 'mbixc-prod', 'mtzyp-prod', 'mbtjz-prod', 'madfd-prod', 'mxldu-prod', 'mbbth-prod', 'mmjxc-prod', 'mqdng-prod', 'mksmy-prod', 'myyce-prod', 'mthcd-prod', 'mmmin-prod', 'mmpty-prod', 'mbujd-prod', 'mmytl-prod', 'mbynt-prod', 'mbyfv-prod', 'mmncf-prod', 'mznam-prod', 'myjyn-prod', 'mdngh-prod', 'maifm-prod', 'mmyds-prod', 'mkamx-prod', 'mabhl-prod', 'mbkga-prod', 'mugfu-prod', 'muwka-prod', 'myfqa-prod', 'mmygu-prod', 'mkdgi-prod', 'muxnc-prod', 'makho-prod', 'myoae-prod', 'mmmdr-prod', 'mafjz-prod', 'mabvx-prod', 'mktur-prod', 'myhfk-prod', 'mucqj-prod', 'muxdo-prod', 'mmlxj-prod', 'mmvlo-prod', 'mazpi-prod', 'mypdf-prod', 'mugxg-prod', 'mkayd-prod', 'myxpu-prod', 'mypzl-prod', 'mkbjl-prod', 'mzega-prod', 'mbyzk-prod', 'mmiiw-prod', 'mkvhc-prod', 'mmupy-prod', 'mbmmk-prod', 'mkgsc-prod', 'mawjl-prod', 'mtgni-prod', 'mttxy-prod', 'mmumb-prod', 'mmybs-prod', 'mbyag-prod', 'mkkns-prod', 'makpu-prod', 'mubcj-prod', 'mkaog-prod', 'mtgnb-prod', 'mteko-prod', 'marcz-prod', 'mkapk-prod', 'mkfbv-prod', 'mkjnl-prod', 'mkfbx-prod', 'myfpc-prod', 'mkggk-prod', 'mmici-prod', 'mkdtz-prod', 'muepq-prod', 'mdwsf-prod', 'mwsxp-prod', 'mmudo-prod', 'mmous-prod', 'mbyws-prod', 'myeqd-prod', 'mbyoy-prod', 'mxdki-prod', 'mbagm-prod', 'mbagb-prod', 'myjkp-prod', 'mmmmo-prod', 'mzulh-prod', 'mtohz-prod', 'myxtg-prod', 'mmdex-prod', 'murer-prod', 'mmtaz-prod', 'mkxfl-prod', 'mkfrx-prod', 'muceq-prod', 'madco-prod', 'muggz-prod', 'mmmbw-prod', 'mbmps-prod', 'mbcrq-prod', 'mbkjn-prod', 'mzxiv-prod', 'maxad-prod', 'yyfny-prod', 'muwyf-prod', 'muglp-prod', 'musju-prod', 'macdm-prod', 'mmmzw-prod', 'mmlpu-prod', 'myhsa-prod', 'mmmhj-prod', 'mugfj-prod', 'mbmto-prod', 'mzoui-prod', 'mbyyi-prod', 'mmagc-prod', 'myfhd-prod', 'myiki-prod', 'mugnf-prod', 'mktqq-prod', 'mugxn-prod', 'mabor-prod', 'mkafi-prod', 'mutih-prod', 'mbupv-prod', 'mypcp-prod', 'myjls-prod', 'mmkrb-prod', 'mmitn-prod', 'mtpfx-prod', 'muqps-prod', 'mmiri-prod', 'mmmpd-prod', 'mkofy-prod', 'mkgva-prod', 'myznl-prod', 'mbbyw-prod', 'mzwrb-prod', 'myjjp-prod', 'utecf-prod', 'myprc-prod', 'mmixs-prod', 'mmnrn-prod', 'myyjj-prod', 'uvqac-prod', 'mmglh-prod', 'miand-prod', 'mtelr-prod', 'musfc-prod', 'musfp-prod', 'mmuum-prod', 'muctq-prod', 'muptv-prod', 'myntv-prod', 'myffp-prod', 'mmnwe-prod', 'mznmh-prod', 'mttpi-prod', 'mcbbz-prod', 'mmvhs-prod', 'mtgch-prod', 'mmpxd-prod', 'mafdo-prod', 'maayn-prod', 'mabhq-prod', 'mmncb-prod', 'mmkkp-prod', 'mmknc-prod', 'mmmcj-prod', 'mfjox-prod', 'mmjfe-prod', 'mbozt-prod', 'mtxqh-prod', 'mtqtb-prod', 'mbyzt-prod', 'mbgqe-prod', 'mbawm-prod', 'mylvn-prod', 'mynzy-prod', 'mkxci-prod', 'myjes-prod', 'mtthm-prod', 'mkgvj-prod', 'mkgsq-prod', 'myrdo-prod', 'mymcd-prod', 'mmngk-prod', 'mkabe-prod', 'yfyui-prod', 'muenr-prod', 'mtrsr-prod', 'mbbys-prod', 'mmmpi-prod', 'musad-prod', 'musan-prod', 'mbtjp-prod', 'mtdbj-prod', 'mmptv-prod', 'mylcx-prod', 'mkxfx-prod', 'myfdb-prod', 'mmmqk-prod', 'mmokn-prod', 'mmngd-prod', 'mmguz-prod', 'myfei-prod', 'muxgb-prod', 'mmyjw-prod', 'muwry-prod', 'muxao-prod', 'muxgy-prod', 'mypzq-prod', 'madry-prod', 'mbylb-prod', 'mumck-prod', 'muugr-prod', 'mktfy-prod', 'mahrn-prod', 'muwji-prod', 'myoob-prod', 'musjl-prod', 'mugle-prod', 'muavo-prod', 'mmist-prod', 'mkicd-prod', 'mtivp-prod', 'mkmzp-prod', 'myoic-prod', 'mypcc-prod', 'mazyi-prod', 'mylrd-prod', 'mtanh-prod', 'mujim-prod', 'mxdfy-prod', 'mmmbf-prod', 'mzwfo-prod', 'mrmzt-prod', 'myhdl-prod', 'mktxp-prod', 'mttpz-prod', 'muqpc-prod', 'muvzz-prod', 'mmlbp-prod', 'mypwi-prod', 'mmyjs-prod', 'mazpg-prod', 'mazpo-prod', 'mdpsi-prod', 'mtdzk-prod', 'mbiat-prod', 'mkdaq-prod', 'mnxtc-prod', 'mttzy-prod', 'mkdbp-prod', 'mkolt-prod', 'mkduo-prod', 'mkdms-prod', 'mbuvz-prod', 'mktdu-prod', 'mknbc-prod', 'mtdqo-prod', 'mmyho-prod', 'mughg-prod', 'mktqv-prod', 'mknyg-prod', 'mmiah-prod', 'bkiyi-prod', 'mzdlz-prod', 'mylgg-prod', 'mylrb-prod', 'mtpiv-prod', 'muspf-prod', 'mmtzy-prod', 'mmomz-prod', 'mmhwq-prod', 'mmlwe-prod', 'mzomi-prod', 'mzomo-prod', 'mzomz-prod', 'mmird-prod', 'myfqk-prod', 'mumjz-prod', 'maaqi-prod', 'mmoxj-prod', 'mkbjg-prod', 'mmlky-prod', 'mcrtu-prod', 'muxxx-prod', 'myerg-prod', 'mugqf-prod', 'mmlas-prod', 'mkavc-prod', 'mkijr-prod', 'mmltu-prod', 'mynms-prod', 'mtxue-prod', 'mmyad-prod', 'musgr-prod', 'mmihi-prod', 'mmnnr-prod', 'mtxmi-prod', 'muxhy-prod', 'muxld-prod', 'mmnvp-prod', 'mmyqe-prod', 'mmmda-prod', 'maqky-prod', 'myfok-prod', 'mugvu-prod', 'mmbfg-prod', 'mzidf-prod', 'mmkrl-prod', 'myjxa-prod', 'mmihr-prod', 'mmnca-prod', 'mmihx-prod', 'mkdug-prod', 'muxml-prod', 'mmzax-prod', 'myfdt-prod', 'muxas-prod', 'mbulx-prod', 'mtrhk-prod', 'kqdkt-prod', 'mugqr-prod', 'mlequ-prod', 'mymck-prod', 'mmpmd-prod', 'matsa-prod', 'myiqv-prod', 'myoyc-prod', 'myxgt-prod', 'yhlis-prod', 'murns-prod', 'mbfyr-prod', 'mktit-prod', 'mttmu-prod', 'mbynz-prod', 'mmuzx-prod', 'mykvy-prod', 'mmihs-prod', 'mktzx-prod', 'yajgb-prod', 'mkatk-prod', 'myroz-prod', 'mmlbh-prod', 'mugcp-prod', 'mkuij-prod', 'mbzpb-prod', 'mmmnb-prod', 'myfyc-prod', 'mziym-prod', 'mmnro-prod', 'mkayq-prod', 'maxif-prod', 'mmyyk-prod', 'mymrv-prod', 'mmydx-prod', 'mymjb-prod', 'myjlw-prod', 'mknbh-prod', 'mmowx-prod', 'mmyxe-prod', 'mbktn-prod', 'mdgmv-prod', 'mttxv-prod', 'myfjs-prod', 'mktcm-prod', 'mktii-prod', 'muxmc-prod', 'mnypu-prod', 'muxjl-prod', 'mmvln-prod', 'mdgcd-prod', 'mmbah-prod', 'mkahj-prod', 'mmntt-prod', 'mmbag-prod', 'mttgq-prod', 'mabxj-prod', 'mabzb-prod', 'muuof-prod', 'mbtjg-prod', 'mmjnl-prod', 'mmjnc-prod', 'myfce-prod', 'mzpwp-prod', 'mugqj-prod', 'mmolw-prod', 'mypxc-prod', 'muglr-prod', 'mtdjc-prod', 'myfou-prod', 'maaqu-prod', 'muxop-prod', 'mahqc-prod', 'mkayt-prod', 'mmnow-prod', 'mmgpm-prod', 'mbkgr-prod', 'mboza-prod', 'mmmwi-prod', 'mmhxj-prod', 'mmmyt-prod', 'mktfu-prod', 'mktqx-prod', 'mknye-prod', 'mmyuo-prod', 'mmmsa-prod', 'mmyuk-prod', 'mmyug-prod', 'mmkee-prod', 'mmmuz-prod', 'mmmun-prod', 'mmmrl-prod', 'mmufu-prod', 'mmywf-prod', 'mmmsk-prod', 'madsd-prod', 'mbbtq-prod', 'mkanu-prod', 'muczq-prod', 'mmjby-prod', 'murvo-prod', 'muxvo-prod', 'myfon-prod', 'myosm-prod', 'mmuuv-prod', 'mugca-prod', 'mmjbu-prod', 'mbkja-prod', 'mbund-prod', 'mxqie-prod', 'mbyny-prod', 'mbynm-prod', 'mmuit-prod', 'mknax-prod', 'mkavz-prod', 'mbahh-prod', 'uqvwh-prod', 'mtteu-prod', 'mtqta-prod', 'mmubu-prod', 'mbkzp-prod', 'mmlzm-prod', 'matgb-prod', 'mvwtw-prod', 'mbunx-prod', 'mmuba-prod', 'mmogb-prod', 'mtzsl-prod', 'misfn-prod', 'mmngw-prod', 'mukbj-prod', 'mmogk-prod', 'mkzua-prod', 'mziqs-prod', 'mqhes-prod', 'mmmov-prod', 'mujrq-prod', 'msmsp-prod', 'mysqw-prod', 'myrds-prod', 'mynpo-prod', 'mtnat-prod', 'mucdw-prod', 'mylzh-prod', 'musgt-prod', 'mmyby-prod', 'mmlko-prod', 'mugqh-prod', 'mteln-prod', 'mbdaf-prod', 'mmncm-prod', 'mmlcf-prod', 'mysqi-prod', 'mynyg-prod', 'mkmrr-prod', 'myjxf-prod', 'mzivy-prod', 'mmugl-prod', 'mmyiz-prod', 'myffw-prod', 'mkddo-prod', 'mmuqc-prod', 'mktfa-prod', 'mfljr-prod', 'mfljq-prod', 'mbitk-prod', 'mbbna-prod', 'mazwy-prod', 'mmnoz-prod', 'muuoh-prod', 'muqvz-prod', 'mujrx-prod', 'muxwe-prod', 'mmuyv-prod', 'mkagj-prod', 'mkapi-prod', 'mtnag-prod', 'myxsc-prod', 'mugrw-prod', 'musgw-prod', 'mudfg-prod', 'mmipe-prod', 'ytutn-prod', 'mmlcy-prod', 'mafxo-prod', 'mmgqu-prod', 'ytyrx-prod', 'mmyde-prod', 'mmirn-prod', 'mtawq-prod', 'mbkjt-prod', 'mmhsm-prod', 'mbyyn-prod', 'mmjfq-prod', 'mmvhg-prod', 'mykbn-prod', 'muwid-prod', 'mmykv-prod', 'mbuyc-prod', 'mbuee-prod', 'mbaal-prod', 'mfaqr-prod', 'mazyu-prod', 'musjt-prod', 'mkacv-prod', 'mmfwf-prod', 'mkzvq-prod', 'madws-prod', 'madwo-prod', 'mmtvw-prod', 'mtoti-prod', 'myfej-prod', 'mtoto-prod', 'mmufy-prod', 'myfri-prod', 'maeik-prod', 'mmkds-prod', 'maxak-prod', 'myprv-prod', 'myiuk-prod', 'mbotr-prod', 'mktvw-prod', 'myfso-prod', 'mtdfv-prod', 'mnavf-prod', 'mafdf-prod', 'mkkva-prod', 'mmjfs-prod', 'mmylm-prod', 'uabpv-prod', 'mmxto-prod', 'mkafw-prod', 'mfchk-prod', 'mfchu-prod', 'mbuaj-prod', 'makpz-prod', 'mynep-prod', 'myixa-prod', 'myrwl-prod', 'mbasj-prod', 'muxws-prod', 'mmndz-prod', 'mubzl-prod', 'mabtx-prod', 'mtzyb-prod', 'mpfsj-prod', 'mypvr-prod', 'mmfjt-prod', 'myxul-prod', 'mmriv-prod', 'mycgt-prod', 'mywae-prod', 'mugjt-prod', 'muxql-prod', 'mmdyq-prod', 'mbkqm-prod', 'mykka-prod', 'myrob-prod', 'mbwcw-prod', 'mbuva-prod', 'mbkuf-prod', 'mysdt-prod', 'muxre-prod', 'myfrk-prod', 'mmuks-prod', 'mactj-prod', 'mmtyy-prod', 'mmpxl-prod', 'mypvq-prod', 'mmngu-prod', 'myigo-prod', 'mkaft-prod', 'mkazc-prod', 'mkafa-prod', 'mkazs-prod', 'mmjro-prod', 'muplv-prod', 'mazpd-prod', 'mmfjw-prod', 'ygkoq-prod', 'mktxb-prod', 'mmuyo-prod', 'mmmdg-prod', 'mmuub-prod', 'mmlid-prod', 'mzxuw-prod', 'mabop-prod', 'moqkg-prod', 'mabdq-prod', 'mybmj-prod', 'mybfp-prod', 'mypcw-prod', 'mmhji-prod', 'mbshj-prod', 'mkpst-prod', 'mabvv-prod', 'mmyvp-prod', 'mkiip-prod', 'mmarw-prod', 'mmadm-prod', 'muyrv-prod', 'mktxa-prod', 'makjd-prod', 'mtohs-prod', 'mazrn-prod', 'mylcd-prod', 'mtnyf-prod', 'myfqt-prod', 'mmyqi-prod', 'mmkcf-prod', 'mksxz-prod', 'mmfte-prod', 'uffbv-prod', 'mzidn-prod', 'mmiis-prod', 'mmnlz-prod', 'muxlv-prod', 'muxtr-prod', 'mklru-prod', 'mbywv-prod', 'mdaqf-prod', 'mtthy-prod', 'macij-prod', 'mtkpz-prod', 'mkxzi-prod', 'mylem-prod', 'mylgc-prod', 'mmnvd-prod', 'mmuyp-prod', 'mmpgj-prod', 'mugvm-prod', 'mktxf-prod', 'mfjnb-prod', 'mulgb-prod', 'mmnlq-prod', 'mmnrt-prod', 'mmnwc-prod', 'mktfb-prod', 'myfdf-prod', 'mtduy-prod', 'mugrx-prod', 'mmzcz-prod', 'mmtpc-prod', 'mmfzx-prod', 'mmmlg-prod', 'mtano-prod', 'mmymq-prod', 'mmvlr-prod', 'mabnq-prod', 'mmlxs-prod', 'mkgzv-prod', 'mmnxc-prod', 'movef-prod', 'mmmjr-prod', 'mmgej-prod', 'mmmue-prod', 'mmisb-prod', 'mbabf-prod', 'mbabo-prod', 'mtafr-prod', 'mkoll-prod', 'mtogl-prod', 'mktib-prod', 'muwqv-prod', 'muyvi-prod', 'mbben-prod', 'mmmrj-prod', 'mylgw-prod', 'mmxtw-prod', 'mfljv-prod', 'mbmmy-prod', 'mmixb-prod', 'muayp-prod', 'muavn-prod', 'mfjxi-prod', 'mmpkx-prod', 'mmnim-prod', 'mmnnh-prod', 'mmink-prod', 'mmybw-prod', 'myntq-prod', 'myhgn-prod', 'mkdgg-prod', 'musjy-prod', 'mbyzr-prod', 'muxnv-prod', 'mueqk-prod', 'madat-prod', 'mkzqn-prod', 'mazei-prod', 'mmlpy-prod', 'mugcm-prod', 'mbtnl-prod', 'mmdgn-prod', 'mkttn-prod', 'masdh-prod', 'mtnbk-prod', 'minox-prod', 'mmngi-prod', 'mkzqx-prod', 'mtlvo-prod', 'muxnl-prod', 'myctg-prod', 'mzido-prod', 'mtngq-prod', 'mugny-prod', 'musps-prod', 'mbprj-prod', 'myffq-prod', 'mvotq-prod', 'mylwa-prod', 'mlnim-prod', 'mznbh-prod', 'matrx-prod', 'muqqh-prod', 'muumf-prod', 'myznj-prod', 'myukk-prod', 'mmzas-prod', 'mzwtr-prod', 'mukqf-prod', 'maaer-prod', 'madzr-prod', 'mbupc-prod', 'mznyi-prod', 'myziz-prod', 'myphz-prod', 'muqqc-prod', 'mbugf-prod', 'mmghf-prod', 'mtdxs-prod', 'mmmxj-prod', 'mtdqg-prod', 'maboi-prod', 'mmydi-prod', 'mbbin-prod', 'mbbep-prod', 'mkihp-prod', 'mkdqm-prod', 'mbyjk-prod', 'mibrh-prod', 'makpt-prod', 'mtvnk-prod', 'mabzy-prod', 'muxiy-prod', 'mmmcv-prod', 'mmyma-prod', 'mugdp-prod', 'mmnvi-prod', 'muxls-prod', 'mugqz-prod', 'mugqq-prod', 'mlmfv-prod', 'mmybb-prod', 'mmuaj-prod', 'mmmdb-prod', 'mugqx-prod', 'mbbuv-prod', 'mkaad-prod', 'mmtlm-prod', 'mfcpg-prod', 'mmmjf-prod', 'mtteb-prod', 'mtaea-prod', 'mvwik-prod', 'mzxty-prod', 'matxj-prod', 'mkaaa-prod', 'myoxv-prod', 'mmyzr-prod', 'mmlia-prod', 'mfiie-prod', 'mmquo-prod', 'mbyng-prod', 'mbyfh-prod', 'mdslu-prod', 'myoac-prod', 'mbakh-prod', 'mynal-prod', 'myntf-prod', 'mkaab-prod', 'mknng-prod', 'mmlfx-prod', 'musjz-prod', 'myntj-prod', 'muxfp-prod', 'myfjc-prod', 'udigl-prod', 'mkbpo-prod', 'mbkmv-prod', 'mamjc-prod', 'mynev-prod', 'myosc-prod', 'masdq-prod', 'mzwte-prod', 'mbuhq-prod', 'mbyob-prod', 'mmnvf-prod', 'mwmjh-prod', 'mksgu-prod', 'mdsiw-prod', 'mbtuy-prod', 'mypqu-prod', 'mtgzl-prod', 'mktzg-prod', 'mbbnj-prod', 'mypwo-prod', 'myfch-prod', 'mkzvu-prod', 'mmvlh-prod', 'mbywj-prod', 'mdjil-prod', 'yacvq-prod', 'mbyih-prod', 'mbyzi-prod', 'mmytr-prod', 'mmngf-prod', 'mmneh-prod', 'mmips-prod', 'mkadq-prod', 'mbabx-prod', 'mmagw-prod', 'mknyi-prod', 'mbbng-prod', 'mkbvg-prod', 'myhwp-prod', 'mmmrq-prod', 'mmywn-prod', 'mmmib-prod', 'mmmub-prod', 'mmunv-prod', 'mmmih-prod', 'mznyb-prod', 'mbbuz-prod', 'mbuai-prod', 'mylen-prod', 'myfjb-prod', 'muxwx-prod', 'muvyf-prod', 'mzidd-prod', 'mmpoq-prod', 'mugbt-prod', 'myxzg-prod', 'miang-prod', 'mbzkg-prod', 'mynte-prod', 'makhz-prod', 'myast-prod', 'mymgt-prod', 'mbyfp-prod', 'mnchc-prod', 'mywft-prod', 'mbyfj-prod', 'mabjj-prod', 'mmpaj-prod', 'mmxvs-prod', 'mbbrn-prod', 'mbuhj-prod', 'mmmrr-prod', 'mktdk-prod', 'mkwti-prod', 'mtttj-prod', 'mugiu-prod', 'muyhc-prod', 'mafdy-prod', 'myfee-prod', 'mypza-prod', 'mziqn-prod', 'mzdfq-prod', 'mkaak-prod', 'mbkyg-prod', 'mabax-prod', 'mabtm-prod', 'mbyfq-prod', 'mywaw-prod', 'mypxv-prod', 'mkdcv-prod', 'mmnha-prod', 'mbywc-prod', 'myukc-prod', 'mmlle-prod', 'mypdk-prod', 'muaso-prod', 'mzivu-prod', 'mylez-prod', 'mtdxx-prod', 'mtqtd-prod', 'mfjoi-prod', 'mmmkv-prod', 'mmunq-prod', 'mkayf-prod', 'makjt-prod', 'makjf-prod', 'muget-prod', 'mbdas-prod', 'mmkjx-prod', 'mujhd-prod', 'mbacu-prod', 'mbuzx-prod', 'mkiwy-prod', 'mktry-prod', 'muwiy-prod', 'mugcj-prod', 'mbbte-prod', 'mmtqp-prod', 'maokr-prod', 'mmyms-prod', 'mkwtx-prod', 'mymrp-prod', 'mdgjr-prod', 'matab-prod', 'mbmtw-prod', 'myldm-prod', 'mmjlp-prod', 'mmyxd-prod', 'mmtzg-prod', 'muvvu-prod', 'mchvn-prod', 'muqqv-prod', 'mzidi-prod', 'mkiek-prod', 'muqqq-prod', 'mmpnr-prod', 'mkrks-prod', 'mkayx-prod', 'myfry-prod', 'mmloh-prod', 'ummmu-prod', 'ummmn-prod', 'ummmg-prod', 'ummmx-prod', 'yhnsn-prod', 'ummmo-prod', 'ummmi-prod', 'ummme-prod', 'ummmw-prod', 'ummmr-prod', 'yhhvg-prod', 'yhhve-prod', 'ummzb-prod', 'yhhvx-prod', 'yhxip-prod', 'yhhvr-prod', 'mzfnu-prod', 'mmazm-prod', 'mbfvx-prod', 'mkamh-prod', 'mbbup-prod', 'mmvjd-prod', 'mmagr-prod', 'mmjkl-prod', 'mmost-prod', 'yalqr-prod', 'matzr-prod', 'margy-prod', 'matzl-prod', 'madzd-prod', 'matzc-prod', 'mtrhb-prod', 'mmmzv-prod', 'mtdfc-prod', 'matnp-prod', 'mznus-prod', 'mmnvl-prod', 'mklhe-prod', 'muqqr-prod', 'mabaj-prod', 'mgfkb-prod', 'mbyze-prod', 'mmlam-prod', 'mbbru-prod', 'mwcav-prod', 'mmdtb-prod', 'macjh-prod', 'mbkks-prod', 'morte-prod', 'mbukb-prod', 'mmjne-prod', 'mmmfr-prod', 'mmpsd-prod', 'yqqyq-prod', 'mmdrr-prod', 'myjma-prod', 'mtgee-prod', 'mbtsd-prod', 'muxvq-prod', 'muusk-prod', 'mugve-prod', 'muuso-prod', 'mudap-prod', 'mafdi-prod', 'muyyw-prod', 'mkddb-prod', 'mkddf-prod', 'mmocp-prod', 'mbyzn-prod', 'mziab-prod', 'mmmty-prod', 'mznbj-prod', 'mmldw-prod', 'mtdvm-prod', 'mugfp-prod', 'mymrg-prod', 'makpk-prod', 'mmyks-prod', 'mylvl-prod', 'mmmbq-prod', 'mttth-prod', 'mfiid-prod', 'mkonh-prod', 'mkavx-prod', 'mkaud-prod', 'maall-prod', 'mmvvp-prod', 'musny-prod', 'madad-prod', 'mmmrf-prod', 'mmyhe-prod', 'malve-prod', 'mmuug-prod', 'mmubt-prod', 'mmdsh-prod', 'mkaww-prod', 'mbunz-prod', 'mbgjs-prod', 'kbdom-prod', 'myfek-prod', 'mmadd-prod', 'mmmbl-prod', 'mbynk-prod', 'mbyna-prod', 'mmjbg-prod', 'yshgp-prod', 'murvg-prod', 'mziqx-prod', 'mugxq-prod', 'mziqo-prod', 'mziqg-prod', 'mueyx-prod', 'myiue-prod', 'mvkuk-prod', 'myfqo-prod', 'myfqg-prod', 'mugnm-prod', 'muxtk-prod', 'mugfv-prod', 'mtzyv-prod', 'mmgdp-prod', 'mmitd-prod', 'mmonx-prod', 'mmscp-prod', 'mkiob-prod', 'mbbia-prod', 'mynpx-prod', 'mmmtd-prod', 'mypcr-prod', 'mypxe-prod', 'madld-prod', 'mugcf-prod', 'mustf-prod', 'mtops-prod', 'mbtyr-prod', 'mzray-prod', 'mulgd-prod', 'mtohd-prod', 'mmvlf-prod', 'mmbzr-prod', 'mmlik-prod', 'mmyjo-prod', 'mmrlf-prod', 'maaxw-prod', 'mtoex-prod', 'mabda-prod', 'mmmzs-prod', 'mmjnk-prod', 'myfjp-prod', 'mkdtr-prod', 'mtafh-prod', 'mbugn-prod', 'mbuja-prod', 'mkagq-prod', 'mablv-prod', 'mtnit-prod', 'mtotx-prod', 'mtotn-prod', 'mmmuu-prod', 'muguf-prod', 'mmifv-prod', 'mugso-prod', 'mmloq-prod', 'myntr-prod', 'mzrhk-prod', 'myntt-prod', 'mtaqr-prod', 'mtdzu-prod', 'mynth-prod', 'mmbtn-prod', 'mmmtk-prod', 'mmmtt-prod', 'mmmzq-prod', 'muwym-prod', 'mmpyc-prod', 'mmjsp-prod', 'mkamw-prod', 'mkamo-prod', 'mkamg-prod', 'mmnve-prod', 'myfhq-prod', 'mktqr-prod', 'mktdl-prod', 'mkdwt-prod', 'muscy-prod', 'mfjon-prod', 'myxze-prod', 'mkkui-prod', 'mkkkp-prod', 'yvcdf-prod', 'mynyl-prod', 'mzclc-prod', 'mkami-prod', 'mmnww-prod', 'mmirz-prod', 'mvgrx-prod', 'mutij-prod', 'mafap-prod', 'muagr-prod', 'maijk-prod', 'mmmrc-prod', 'mmtzr-prod', 'muwzj-prod', 'mbmgy-prod', 'muqqm-prod', 'mkxmk-prod', 'mmrpg-prod', 'magbo-prod', 'mmyzy-prod', 'mudhl-prod', 'mumjx-prod', 'muyys-prod', 'muybx-prod', 'muyyg-prod', 'makhu-prod', 'mynln-prod', 'mynty-prod', 'mpdhb-prod', 'mzdxq-prod', 'muqzs-prod', 'muczs-prod', 'mbbxz-prod', 'maobd-prod', 'muylp-prod', 'muzzk-prod', 'muqog-prod', 'mulff-prod', 'mbuub-prod', 'mazpn-prod', 'mtdyl-prod', 'mmmtz-prod', 'myfem-prod', 'myxtn-prod', 'mmyhc-prod', 'mtlnk-prod', 'mynza-prod', 'mmmrd-prod', 'mmyci-prod', 'mmlau-prod', 'mtopc-prod', 'myphy-prod', 'mubcp-prod', 'myfjn-prod', 'mmkhm-prod', 'mugui-prod', 'mmuuq-prod', 'mbosi-prod', 'mmpiq-prod', 'mdwte-prod', 'mtaow-prod', 'mznjl-prod', 'mqbbl-prod', 'mureo-prod', 'mfmrw-prod', 'mttis-prod', 'mtteh-prod', 'mugvi-prod', 'myjjl-prod', 'mabnr-prod', 'mbulq-prod', 'mafdb-prod', 'mznjv-prod', 'mtaql-prod', 'mbabd-prod', 'mmvlq-prod', 'matnv-prod', 'mmyly-prod', 'mmdep-prod', 'mkgza-prod', 'muvqp-prod', 'mbupr-prod', 'mmztr-prod', 'mznjq-prod', 'mtanr-prod', 'mbbrc-prod', 'mzzho-prod', 'muggi-prod', 'mmhjb-prod', 'mttzt-prod', 'mbozm-prod', 'mkaxq-prod', 'mkwzn-prod', 'mbbec-prod', 'mmukm-prod', 'mmkrx-prod', 'maxwl-prod', 'mktha-prod', 'mzdlm-prod', 'matoj-prod', 'myhkb-prod', 'mmncx-prod', 'mmmqy-prod', 'mbbjx-prod', 'musoq-prod', 'matnj-prod', 'matnh-prod', 'mzqbn-prod', 'mkodl-prod', 'mkdut-prod', 'mmyhf-prod', 'mkodc-prod', 'mkfby-prod', 'mktqo-prod', 'mkfsj-prod', 'muctg-prod', 'mbtal-prod', 'mkzij-prod', 'mdqmi-prod', 'mktqc-prod', 'mkayw-prod', 'mkdmp-prod', 'msfxv-prod', 'mmlwm-prod', 'mlrel-prod', 'muxfj-prod', 'mughq-prod', 'mutal-prod', 'mkmhw-prod', 'muqvf-prod', 'musjm-prod', 'mervn-prod', 'mumab-prod', 'mmeqj-prod', 'muxwk-prod', 'mmtno-prod', 'mmmid-prod', 'mbuzw-prod', 'mktxy-prod', 'mdqmf-prod', 'mtoej-prod', 'madhr-prod', 'mdxtg-prod', 'mdhny-prod', 'mustt-prod', 'mmoih-prod', 'musds-prod', 'musvs-prod', 'musxd-prod', 'mzrhu-prod', 'mznhm-prod', 'mugee-prod', 'mzgxa-prod', 'mahcs-prod', 'mzxup-prod', 'kboux-prod', 'mugnk-prod', 'mznjp-prod', 'mzgeq-prod', 'mkopn-prod', 'mktdt-prod', 'muiyd-prod', 'matrd-prod', 'mbfgu-prod', 'mttge-prod', 'mttgr-prod', 'mttxb-prod', 'mylrz-prod', 'mmnmo-prod', 'mdgca-prod', 'musnb-prod', 'mkbjq-prod', 'mxelr-prod', 'mylgs-prod', 'mmmnz-prod', 'mmkpp-prod', 'mmyar-prod', 'mbyww-prod', 'mylpn-prod', 'mmmgk-prod', 'mmmpm-prod', 'mugxo-prod', 'mazri-prod', 'mywpt-prod', 'mziaw-prod', 'mmpoi-prod', 'mmkxq-prod', 'yxpqk-prod', 'mmjov-prod', 'muepw-prod', 'mynhb-prod', 'mayep-prod', 'mtxcl-prod', 'myphi-prod', 'yudrm-prod', 'mkafo-prod', 'mktrb-prod', 'mmynd-prod', 'mmlcr-prod', 'muxlp-prod', 'muwdx-prod', 'mtdbr-prod', 'mkvhr-prod', 'muknu-prod', 'mypmu-prod', 'mushu-prod', 'musjd-prod', 'mkaob-prod', 'mkaiz-prod', 'mzzhn-prod', 'mkaoi-prod', 'mmxun-prod', 'uvbkq-prod', 'mbuvd-prod', 'mbgss-prod', 'mbuvo-prod', 'mbuvt-prod', 'mbuvb-prod', 'mynfk-prod', 'mttpg-prod', 'mmdzn-prod', 'mznjk-prod', 'mzdmu-prod', 'mtfwv-prod', 'yyzcp-prod', 'mmplb-prod', 'mabgb-prod', 'mynpm-prod', 'mbdhb-prod', 'myfdy-prod', 'myhoe-prod', 'mdrke-prod', 'muxlx-prod', 'mdrki-prod', 'mkaid-prod', 'mmucx-prod', 'mmujq-prod', 'mkafl-prod', 'malrc-prod', 'makjn-prod', 'yhwoc-prod', 'mbyjf-prod', 'mmpip-prod', 'mkzuu-prod', 'mbbeq-prod', 'mvzov-prod', 'mtaiy-prod', 'mmjbz-prod', 'mkbpn-prod', 'mmmyg-prod', 'madck-prod', 'mktfm-prod', 'mkavf-prod', 'mugcx-prod', 'mzxip-prod', 'myeec-prod', 'myxgy-prod', 'muybu-prod', 'myjjj-prod', 'mmujr-prod', 'myjpz-prod', 'yfyre-prod', 'mmltj-prod', 'mmira-prod', 'mmvld-prod', 'mynej-prod', 'mmvhn-prod', 'mjkvq-prod', 'musdx-prod', 'mybya-prod', 'mbvou-prod', 'mknwk-prod', 'mbkgl-prod', 'mdhub-prod', 'mmlbr-prod', 'mbnos-prod', 'mbuzc-prod', 'mbhlw-prod', 'mmutq-prod', 'myero-prod', 'mumwc-prod', 'mnyaq-prod', 'mmolc-prod', 'mmxtq-prod', 'mtddl-prod', 'mmosf-prod', 'mlnax-prod', 'mywkd-prod', 'myqvk-prod', 'mmyjf-prod', 'mmonu-prod', 'matvx-prod', 'myuka-prod', 'mmdsm-prod', 'mybgq-prod', 'mbumd-prod', 'mknbv-prod', 'mtfmj-prod', 'mylgr-prod', 'mmywl-prod', 'makji-prod', 'myosv-prod', 'mcjae-prod', 'mknkd-prod', 'mbgbb-prod', 'mtdbe-prod', 'myfeh-prod', 'maowq-prod', 'mabxq-prod', 'maowc-prod', 'mabxl-prod', 'matqm-prod', 'mkgej-prod', 'mkayn-prod', 'msecc-prod', 'myooa-prod', 'mmufm-prod', 'mkthu-prod', 'mbdus-prod', 'mmrzp-prod', 'mmjnq-prod', 'mkaun-prod', 'makjo-prod', 'mmmde-prod', 'muznv-prod', 'mmxtr-prod', 'mmolx-prod', 'myncu-prod', 'myixt-prod', 'muxtz-prod', 'myoxu-prod', 'maboc-prod', 'mmbzz-prod', 'mabxv-prod', 'ydbio-prod', 'mugcw-prod', 'mynzs-prod', 'mkapb-prod', 'mtotw-prod', 'mkapz-prod', 'mkfjg-prod', 'myfep-prod', 'maokq-prod', 'mmusa-prod', 'muxgd-prod', 'mmlit-prod', 'mzdkf-prod', 'mbawi-prod', 'mmuou-prod', 'mmnlb-prod', 'mmlcc-prod', 'mkazg-prod', 'muxoq-prod', 'mmisu-prod', 'mmukk-prod', 'madaf-prod', 'mymoh-prod', 'mabzn-prod', 'mktxz-prod', 'maztu-prod', 'mmybt-prod', 'mmnpz-prod', 'mmnpt-prod', 'muqpn-prod', 'mkapd-prod', 'mupxh-prod', 'mugcy-prod', 'musoc-prod', 'mupxj-prod', 'mulou-prod', 'mkgqs-prod', 'mktsy-prod', 'mazyz-prod', 'myfhi-prod', 'mucti-prod', 'mburp-prod', 'mugrn-prod', 'muame-prod', 'mzfbc-prod', 'mabtp-prod', 'mutus-prod', 'muwoy-prod', 'mmbyq-prod', 'mmuyj-prod', 'mugek-prod', 'mbkru-prod', 'mafdu-prod', 'mmuzw-prod', 'mtgfp-prod', 'mkgse-prod', 'mycgm-prod', 'mmuyl-prod', 'mkaok-prod', 'myvuz-prod', 'mkait-prod', 'mkaoy-prod', 'mynqi-prod', 'myncz-prod', 'mynld-prod', 'mkabv-prod', 'mknwn-prod', 'mkawq-prod', 'maaxm-prod', 'mymhj-prod', 'mynlt-prod', 'mdrkx-prod', 'mabhc-prod', 'mnavz-prod', 'mnavo-prod', 'mmihn-prod', 'myntw-prod', 'mynzz-prod', 'mgzis-prod', 'mmmzg-prod', 'mktls-prod', 'mgvvt-prod', 'mktlo-prod', 'mkapf-prod', 'mkome-prod', 'mbnwa-prod', 'mmkao-prod', 'mzodg-prod', 'mmpti-prod', 'mkdgf-prod', 'mzoud-prod', 'mkali-prod', 'madln-prod', 'mawjq-prod', 'mmygg-prod', 'mkfuv-prod', 'mmxcx-prod', 'mznnx-prod', 'mznng-prod', 'mmyjg-prod', 'mmadt-prod', 'musxe-prod', 'mdgmc-prod', 'mkdgs-prod', 'mkopo-prod', 'mkdgv-prod', 'mkdgu-prod', 'mkdgp-prod', 'mkdgx-prod', 'mkdxe-prod', 'mbzkh-prod', 'mkdgc-prod', 'mbugo-prod', 'mbynb-prod', 'mmutc-prod', 'mbyzw-prod', 'mbbql-prod', 'musxn-prod', 'muxgz-prod', 'mdrab-prod', 'mtgfv-prod', 'mknpp-prod', 'mmwgs-prod', 'myuar-prod', 'mmpij-prod', 'mmltm-prod', 'mmjxt-prod', 'mjkvv-prod', 'myzqf-prod', 'mmbfw-prod', 'mbumo-prod', 'mmyko-prod', 'mbbrg-prod', 'mugci-prod', 'muxne-prod', 'mugcg-prod', 'yhhhn-prod', 'yhhvw-prod', 'yhhvs-prod', 'yhhvo-prod', 'ummmk-prod', 'ummza-prod', 'yhxiq-prod', 'mkafx-prod', 'mzrho-prod', 'mmymo-prod', 'mmuyc-prod', 'myoxa-prod', 'mkafe-prod', 'mkafq-prod', 'mbozy-prod', 'mmmet-prod', 'mkazx-prod', 'mktzi-prod', 'mktzr-prod', 'mzdod-prod', 'mafda-prod', 'mzidx-prod', 'muxga-prod', 'mzidw-prod', 'mmmjq-prod', 'mbuny-prod', 'mzwfs-prod', 'mzwfv-prod', 'mbuli-prod', 'ygkga-prod', 'mugqg-prod', 'mynry-prod', 'mynfm-prod', 'yggan-prod', 'myoai-prod', 'myoao-prod', 'mynfd-prod', 'myntd-prod', 'mysab-prod', 'mysaa-prod', 'mysqs-prod', 'myoar-prod', 'myntk-prod', 'mysbq-prod', 'mugfh-prod', 'myeqg-prod', 'myigj-prod', 'mtfew-prod', 'mvpac-prod', 'mynyi-prod', 'ybpcl-prod', 'myntz-prod', 'mynta-prod', 'myntn-prod', 'mtfee-prod', 'mynfy-prod', 'mvpwu-prod', 'mtpfp-prod', 'mtanj-prod', 'mtanv-prod', 'mtanl-prod', 'mtfey-prod', 'mmiii-prod', 'mazty-prod', 'mmuyq-prod', 'mmegl-prod', 'muxwa-prod', 'muwjt-prod', 'myoax-prod', 'mmtzu-prod', 'mymeg-prod', 'mbehu-prod', 'mynel-prod', 'mbygb-prod', 'myiyk-prod', 'mklvx-prod', 'mmirt-prod', 'muxwd-prod', 'muxlr-prod', 'mzzuw-prod', 'mkdcc-prod', 'mmgre-prod', 'matgu-prod', 'mkagl-prod', 'mtwsp-prod', 'mtwwk-prod', 'mbzaw-prod', 'mugcs-prod', 'mugco-prod', 'mabtn-prod', 'mtgnk-prod', 'madle-prod', 'mmyjx-prod', 'mkaap-prod', 'mmmxp-prod', 'muusg-prod', 'mkkzh-prod', 'madli-prod', 'mylhx-prod', 'mazlc-prod', 'musdl-prod', 'myoag-prod', 'mmygt-prod', 'mmowq-prod', 'mmigp-prod', 'mzidg-prod', 'musjh-prod', 'mbuhb-prod', 'yqbay-prod', 'mbulw-prod', 'mkomd-prod', 'uojav-prod', 'madem-prod', 'mmygb-prod', 'myxuv-prod', 'mywjj-prod', 'mmvpb-prod', 'mmpuy-prod', 'mkzfv-prod', 'mkawj-prod', 'masfy-prod', 'mazwm-prod', 'mkzvh-prod', 'mukol-prod', 'mkhhj-prod', 'mmirb-prod', 'mtdbq-prod', 'mylcc-prod', 'mazro-prod', 'mugbs-prod', 'mzdof-prod', 'mmmvp-prod', 'ygzsx-prod', 'mdplh-prod', 'mmltv-prod', 'mbunb-prod', 'mttxu-prod', 'mzdfg-prod', 'mttiy-prod', 'myhud-prod', 'mmlwh-prod', 'mbyok-prod', 'mbbyc-prod', 'mmjss-prod', 'myfhs-prod', 'mynmu-prod', 'myhdm-prod', 'mfmte-prod', 'mmbaz-prod', 'mubqz-prod', 'myhdf-prod', 'myffe-prod', 'muqqw-prod', 'mmoqy-prod', 'mtxlu-prod', 'mmhsu-prod', 'mzdfj-prod', 'mmaoy-prod', 'mbjjj-prod', 'mmpcc-prod', 'mmkfi-prod', 'mmllf-prod', 'mmpgx-prod', 'mucra-prod', 'mbyak-prod', 'mkopi-prod', 'mmosi-prod', 'musjq-prod', 'mmixy-prod', 'mzwfx-prod', 'mmybm-prod', 'mdsiv-prod', 'mtxms-prod', 'mkajs-prod', 'muscn-prod', 'mugrm-prod', 'mbbyr-prod', 'mmwyf-prod', 'migzp-prod', 'mugir-prod', 'mtkgc-prod', 'myvky-prod', 'magjd-prod', 'mmydf-prod', 'mbbxb-prod', 'myfeo-prod', 'mmvlx-prod', 'mmvlg-prod', 'myfez-prod', 'mkmwr-prod', 'mmtaa-prod', 'mbozk-prod', 'mbuuj-prod', 'mmosn-prod', 'mmmbi-prod', 'mabhr-prod', 'mbdvx-prod', 'mykvm-prod', 'mugut-prod', 'mabaw-prod', 'mkzbq-prod', 'mbydc-prod', 'mmyvc-prod', 'mmyvl-prod', 'mynjy-prod', 'mmpiv-prod', 'matzi-prod', 'mtanc-prod', 'mvrqk-prod', 'mmlty-prod', 'mmltb-prod', 'mmpnx-prod', 'mmpkd-prod', 'mmpir-prod', 'mmpoa-prod', 'matzd-prod', 'mmpxm-prod', 'mmpie-prod', 'mmpoy-prod', 'mmpok-prod', 'mmpil-prod', 'mmpns-prod', 'mmltz-prod', 'mmpnh-prod', 'mmpic-prod', 'mmpof-prod', 'mmpnl-prod', 'mmpnw-prod', 'mmyqn-prod', 'musod-prod', 'myeqf-prod', 'myose-prod', 'mkdds-prod', 'mkazb-prod', 'myiqq-prod', 'myoaq-prod', 'myigp-prod', 'myndh-prod', 'mynfa-prod', 'mbuzg-prod', 'mttpn-prod', 'muywx-prod', 'mmmkl-prod', 'mylcl-prod', 'ufifv-prod', 'myfcl-prod', 'mmllz-prod', 'muger-prod', 'mmtnn-prod', 'makxd-prod', 'mugew-prod', 'mmevu-prod', 'mktmi-prod', 'mbysk-prod', 'mkaui-prod', 'mbuup-prod', 'mttgh-prod', 'mttgv-prod', 'mzwfe-prod', 'muvgq-prod', 'myfib-prod', 'mmifq-prod', 'mylrf-prod', 'mktmm-prod', 'mktmd-prod', 'myntl-prod', 'mkgvo-prod', 'mbsqj-prod', 'mkgvi-prod', 'muyts-prod', 'muytg-prod', 'myfwh-prod', 'matri-prod', 'mmubz-prod', 'mbtbk-prod', 'madak-prod', 'mbbnf-prod', 'mkgvd-prod', 'mmnwx-prod', 'mmmnm-prod', 'mmmnd-prod', 'mabpr-prod', 'mmyaw-prod', 'mmmqc-prod', 'mmmgu-prod', 'mmmba-prod', 'mmmoh-prod', 'mmmgz-prod', 'mmmgy-prod', 'mmmbb-prod', 'mmmgf-prod', 'mmmpp-prod', 'mmmnk-prod', 'mmksh-prod', 'mmpxb-prod', 'matsm-prod', 'mbkti-prod', 'mkaxe-prod', 'mmbqb-prod', 'mkicf-prod', 'mmvtr-prod', 'mmden-prod', 'mmtcn-prod', 'mauha-prod', 'mtrak-prod', 'mabvr-prod', 'myixb-prod', 'mughh-prod', 'myprp-prod', 'mktxo-prod', 'mbbuc-prod', 'mmtbr-prod', 'mbyae-prod', 'muqqe-prod', 'mmobu-prod', 'mtnan-prod', 'myfnf-prod', 'mugnt-prod', 'mttea-prod', 'mtxzf-prod', 'mzruq-prod', 'mzdkn-prod', 'mlido-prod', 'mbbrt-prod', 'mmosz-prod', 'mmmtf-prod', 'mmmmq-prod', 'mziqe-prod', 'mtaid-prod', 'majvn-prod', 'mloze-prod', 'mtzyj-prod', 'mdppu-prod', 'mafdz-prod', 'mmvjy-prod', 'mktuq-prod', 'mmlla-prod', 'mykps-prod', 'muxll-prod', 'mtans-prod', 'myjuc-prod', 'mypzh-prod', 'mmnlk-prod', 'mkavh-prod', 'mmmbn-prod', 'mmoso-prod', 'mmjfc-prod', 'maovj-prod', 'mbuhm-prod', 'mbjmx-prod', 'mbzsl-prod', 'mmmgx-prod', 'mtlxt-prod', 'mtwwm-prod', 'mtlxk-prod', 'morct-prod', 'mkopv-prod', 'mrukm-prod', 'mtkpn-prod', 'mucxf-prod', 'madfk-prod', 'myfcv-prod', 'mianz-prod', 'mazwv-prod', 'mazwc-prod', 'mmysz-prod', 'mbkkc-prod', 'mmyjn-prod', 'mmmpx-prod', 'mmmya-prod', 'muecp-prod', 'mmpjr-prod', 'mmmws-prod', 'mzwfw-prod', 'mzwfr-prod', 'mmhyu-prod', 'mkadp-prod', 'mmpow-prod', 'mucxb-prod', 'mypvv-prod', 'matzu-prod', 'mmnlt-prod', 'mmisy-prod', 'mmixm-prod', 'myfan-prod', 'maohv-prod', 'mmmyy-prod', 'mktxm-prod', 'mkayu-prod', 'mrvwd-prod', 'mkdgy-prod', 'mmnvr-prod', 'macdu-prod', 'mmyqx-prod', 'mktqg-prod', 'myszk-prod', 'mktsi-prod', 'mkbvp-prod', 'mknbl-prod', 'mmaoc-prod', 'mxwlq-prod', 'muwya-prod', 'myffl-prod', 'mdplp-prod', 'mmmtb-prod', 'muxxz-prod', 'mueic-prod', 'mkoob-prod', 'yntoq-prod', 'muglc-prod', 'mmlyu-prod', 'mmitq-prod', 'mtxmn-prod', 'mbuae-prod', 'kthij-prod', 'mbhzq-prod', 'myfww-prod', 'mbtyv-prod', 'mmytq-prod', 'mtjsd-prod', 'mdrkw-prod', 'krdxs-prod', 'mkjsv-prod', 'muzgz-prod', 'mmzfm-prod', 'mtddp-prod', 'mbuya-prod', 'mmyye-prod', 'mmjsj-prod', 'mkapw-prod', 'mdgco-prod', 'myfqd-prod', 'mzdfl-prod', 'mbbrs-prod', 'mmykd-prod', 'mziqw-prod', 'muuwx-prod', 'mkodq-prod', 'mmmpo-prod', 'muenp-prod', 'myfwr-prod', 'myxhs-prod', 'mmyym-prod', 'myiak-prod', 'mynyw-prod', 'mmxjy-prod', 'murpf-prod', 'mktiz-prod', 'mbumi-prod', 'mtgdl-prod', 'mblxl-prod', 'maegl-prod', 'mbuhz-prod', 'mmvvn-prod', 'mbfhl-prod', 'mbuas-prod', 'mtaqv-prod', 'mosdd-prod', 'malsd-prod', 'mmygd-prod', 'mnavg-prod', 'mzdfv-prod', 'mtotg-prod', 'mmiwx-prod', 'mmoip-prod', 'mmixf-prod', 'mmgrt-prod', 'mugak-prod', 'mugbb-prod', 'mugbz-prod', 'mugaa-prod', 'mugba-prod', 'yujza-prod', 'mtfml-prod', 'mzxtu-prod', 'mzkml-prod', 'ujdse-prod', 'mtozq-prod', 'mmncz-prod', 'myjpf-prod', 'musxp-prod', 'mtdbc-prod', 'mbblf-prod', 'mbuvf-prod', 'mbmmj-prod', 'mnaqe-prod', 'mmaca-prod', 'mylwd-prod', 'mmltk-prod', 'mkfyc-prod', 'mbyza-prod', 'mknhq-prod', 'mbupp-prod', 'mumei-prod', 'mmnvq-prod', 'mmoii-prod', 'ybkyr-prod', 'mwirv-prod', 'mmmje-prod', 'mljkv-prod', 'myhua-prod', 'mmpks-prod', 'mmptp-prod', 'mmnep-prod', 'mmvtc-prod', 'mmjgv-prod', 'mudaf-prod', 'mutiw-prod', 'mtzul-prod', 'mbyek-prod', 'mdrkg-prod', 'melez-prod', 'mkpvm-prod', 'mkatd-prod', 'muggg-prod', 'mkkvc-prod', 'mmmux-prod', 'mtanq-prod', 'myosr-prod', 'mbkyq-prod', 'mifio-prod', 'mkbgz-prod', 'mypzx-prod', 'mmokt-prod', 'krzza-prod', 'mwirq-prod', 'mozfh-prod', 'mmykc-prod', 'yggno-prod', 'ypglv-prod', 'mahgn-prod', 'mkdmw-prod', 'mupxv-prod', 'mtnmu-prod', 'mmjwp-prod', 'mkadc-prod', 'mkagv-prod', 'mthuy-prod', 'muvsm-prod', 'myoqm-prod', 'mbost-prod', 'myfob-prod', 'myffc-prod', 'maxwq-prod', 'maxwc-prod', 'mmizr-prod', 'mzomf-prod', 'mmogm-prod', 'yfvgw-prod', 'mmplk-prod', 'mkzqt-prod', 'myfpo-prod', 'mygdl-prod', 'mmpko-prod', 'mmjgc-prod', 'muxln-prod', 'mtaok-prod', 'masll-prod', 'myjjv-prod', 'myfqm-prod', 'maxam-prod', 'myuae-prod', 'mmlua-prod', 'makrv-prod', 'mmmdo-prod', 'mkblu-prod', 'malsi-prod', 'muxmi-prod', 'mkafc-prod', 'musaz-prod', 'mdppm-prod', 'mmpnc-prod', 'mmlyb-prod', 'mmlyt-prod', 'mauht-prod', 'mkitm-prod', 'myuac-prod', 'mmpld-prod', 'mkxpg-prod', 'mytfl-prod', 'mzwuo-prod', 'myjuv-prod', 'mugcn-prod', 'mkmgb-prod', 'kzahr-prod', 'mfchb-prod', 'muwjb-prod', 'muwhd-prod', 'mmfco-prod', 'mkipo-prod', 'mkipx-prod', 'mmkgh-prod', 'mtzsv-prod', 'mblxj-prod', 'mbuar-prod', 'mtxvu-prod', 'muemh-prod', 'mmmau-prod', 'mugfa-prod', 'mugft-prod', 'mkddg-prod', 'mbkgw-prod', 'mmnnf-prod', 'mmmow-prod', 'mbozv-prod', 'ufasd-prod', 'mtash-prod', 'mmlpq-prod', 'mmjbt-prod', 'mtasv-prod', 'mmnga-prod', 'ueaka-prod', 'mtafw-prod', 'mzogx-prod', 'mmmjl-prod', 'mmluk-prod', 'mmpvw-prod', 'mkasi-prod', 'mtdbp-prod', 'myyrp-prod', 'musde-prod', 'mkipn-prod', 'mmuke-prod', 'mmlkv-prod', 'mmpew-prod', 'mmnec-prod', 'mmiin-prod', 'makgl-prod', 'maxey-prod', 'maxet-prod', 'mkkvo-prod', 'mylsj-prod', 'myuah-prod', 'mzdfx-prod', 'mtivj-prod', 'myssy-prod', 'yastg-prod', 'mynzh-prod', 'mywkf-prod', 'myotr-prod', 'mksvp-prod', 'myfnh-prod', 'myfor-prod', 'myfzq-prod', 'mbysb-prod', 'mynyf-prod', 'mynru-prod', 'myoyr-prod', 'mbamc-prod', 'ytmjs-prod', 'mkaza-prod', 'myign-prod', 'myntu-prod', 'maxwv-prod', 'mbysy-prod', 'mbydh-prod', 'mktdd-prod', 'mueia-prod', 'muerl-prod', 'muxkt-prod', 'myhzp-prod', 'mubqa-prod', 'mkwzg-prod', 'matzy-prod', 'mbyeb-prod', 'mmjfz-prod', 'mmbty-prod', 'mmmht-prod', 'myian-prod', 'mazki-prod', 'mybpn-prod', 'mymwv-prod', 'myytf-prod', 'mymez-prod', 'mmjgq-prod', 'yqras-prod', 'myfro-prod', 'mdwed-prod', 'mkzbv-prod', 'mkdud-prod', 'mkass-prod', 'mdsly-prod', 'muqgf-prod', 'mttpo-prod', 'mmpyj-prod', 'mugzd-prod', 'mtdum-prod', 'mkzbh-prod', 'mazem-prod', 'mmykg-prod', 'mkays-prod', 'mknsc-prod', 'myerq-prod', 'mbzin-prod', 'muyap-prod', 'myeqi-prod', 'myuej-prod', 'mydtr-prod', 'mmmtn-prod', 'mmfhf-prod', 'mabvw-prod', 'mabve-prod', 'myniv-prod', 'muyub-prod', 'mkdmr-prod', 'myfjg-prod', 'mmraz-prod', 'mkain-prod', 'mktft-prod', 'mnkoh-prod', 'myojz-prod', 'mzdfw-prod', 'mmjfw-prod', 'yunze-prod', 'mzdsf-prod', 'mkdua-prod', 'mkaso-prod', 'mkofu-prod', 'myiuy-prod', 'maaqd-prod', 'mytfp-prod', 'mulhc-prod', 'makrl-prod', 'mmrvh-prod', 'myneh-prod', 'mmnwn-prod', 'mmlkq-prod', 'mugud-prod', 'myfim-prod', 'myjjr-prod', 'mnwkq-prod', 'mbnxw-prod', 'mmmrp-prod', 'myodv-prod', 'mmiie-prod', 'makxm-prod', 'mymjk-prod', 'mmmoo-prod', 'mzxmh-prod', 'mzxyu-prod', 'myjrz-prod', 'mbsnx-prod', 'myjxd-prod', 'muxxo-prod', 'mmyji-prod', 'mubps-prod', 'mmtmt-prod', 'mabac-prod', 'mtdjs-prod', 'mwytb-prod', 'mugcu-prod', 'mlmlx-prod', 'musol-prod', 'mylwy-prod', 'mazrr-prod', 'mabox-prod', 'mmpxz-prod', 'mbkqk-prod', 'mugdh-prod', 'mkath-prod', 'maapy-prod', 'mynmw-prod', 'myppg-prod', 'mbtwy-prod', 'mmlai-prod', 'ujsbq-prod', 'mtfer-prod', 'mmymk-prod', 'mmlwj-prod', 'mbmmh-prod', 'mdnfa-prod', 'mbtex-prod', 'mbteg-prod', 'mbtes-prod', 'mbzij-prod', 'mbtrl-prod', 'mbzii-prod', 'mbtrp-prod', 'mbtrj-prod', 'mbtee-prod', 'mbtew-prod', 'muuid-prod', 'mbbra-prod', 'mumji-prod', 'mzhed-prod', 'mmbdg-prod', 'mmiaj-prod', 'mkthb-prod', 'mtyji-prod', 'mmkvp-prod', 'mkdwf-prod', 'mmtew-prod', 'mujcf-prod', 'mbmge-prod', 'mkarp-prod', 'myffv-prod', 'mabmb-prod', 'mmdom-prod', 'mbbim-prod', 'mbkia-prod', 'muxlc-prod', 'mamxv-prod', 'mblsy-prod', 'mmnwi-prod', 'mkdgb-prod', 'mecpr-prod', 'mmbmr-prod', 'mbtmm-prod', 'mmmmm-prod', 'mmnlm-prod', 'mysbh-prod', 'mfcpo-prod', 'mmnsb-prod', 'mzxiq-prod', 'mfcjg-prod', 'musgs-prod', 'mmlut-prod', 'mutsk-prod', 'mmmpb-prod', 'matrt-prod', 'maach-prod', 'myfpl-prod', 'mkbhi-prod', 'mynmc-prod', 'myueh-prod', 'mzoun-prod', 'udhgh-prod', 'mmmsb-prod', 'mmjnh-prod', 'mmmcp-prod', 'maobk-prod', 'mkasr-prod', 'mtafv-prod', 'mbrbv-prod', 'mmmbd-prod', 'myfjj-prod', 'murel-prod', 'mysbv-prod', 'mynct-prod', 'mtddv-prod', 'mabhe-prod', 'mmuze-prod', 'mkdxh-prod', 'mukrb-prod', 'mtdxe-prod', 'muxwn-prod', 'mbuaq-prod', 'mjklf-prod', 'mmyyi-prod', 'mzdfs-prod', 'mufnk-prod', 'mfdjn-prod', 'muxhs-prod', 'mukgv-prod', 'mfiiw-prod', 'mxyuo-prod', 'mxyus-prod', 'muapa-prod', 'mxyuf-prod', 'myjri-prod', 'mylcs-prod', 'mktko-prod', 'mnavs-prod', 'myjxt-prod', 'mkako-prod', 'mkbhj-prod', 'mkakw-prod', 'mkbhc-prod', 'mkakd-prod', 'mkojx-prod', 'mkbhl-prod', 'mkbhe-prod', 'mkbhr-prod', 'mkaxu-prod', 'mkams-prod', 'mkapo-prod', 'mdrkc-prod', 'mmipx-prod', 'mmnry-prod', 'mmnhv-prod', 'mylqt-prod', 'mmjog-prod', 'mmvhf-prod', 'mbosb-prod', 'maftn-prod', 'mdgcz-prod', 'mkdcs-prod', 'macdk-prod', 'mbypw-prod', 'mmjsg-prod', 'mtpgz-prod', 'mbhlr-prod', 'mttiu-prod', 'mmloj-prod', 'mmtvr-prod', 'mmjlr-prod', 'mmjle-prod', 'mmloc-prod', 'mybhu-prod', 'mmjsn-prod', 'myfiz-prod', 'mmjsh-prod', 'myyrr-prod', 'mymga-prod', 'mmizc-prod', 'myfws-prod', 'mmpsy-prod', 'mttik-prod', 'mbypq-prod', 'mbunu-prod', 'mmlzk-prod', 'mmltc-prod', 'mbunt-prod', 'myikg-prod', 'mkase-prod', 'mkasw-prod', 'mktmy-prod', 'myfef-prod', 'mkiug-prod', 'mafdv-prod', 'mljfi-prod', 'mydtk-prod', 'mmybz-prod', 'mtxuw-prod', 'megij-prod', 'mtaom-prod', 'mtgny-prod', 'myfjz-prod', 'ypzex-prod', 'mmeqm-prod', 'mmeqv-prod', 'mkanm-prod', 'muxov-prod', 'mkipi-prod', 'mmniy-prod', 'mabgy-prod', 'mznab-prod', 'mbbib-prod', 'yhvft-prod', 'mmlpp-prod', 'maaew-prod', 'mmuui-prod', 'yjfsw-prod', 'mmuyg-prod', 'makpd-prod', 'mtoxy-prod', 'mustn-prod', 'mzfnk-prod', 'mmbie-prod', 'mawtu-prod', 'muwjd-prod', 'mmuqj-prod', 'kwbtj-prod', 'mkfyl-prod', 'muxqw-prod', 'mbzao-prod', 'mukfm-prod', 'mynpi-prod', 'myjle-prod', 'mutko-prod', 'musbv-prod', 'mymwc-prod', 'mymet-prod', 'mmvbn-prod', 'mbthc-prod', 'madwr-prod', 'mtnkh-prod', 'mzzhi-prod', 'mbule-prod', 'muvsu-prod', 'mkjqm-prod', 'mkawr-prod', 'mkdcw-prod', 'mkiou-prod', 'makhd-prod', 'mfjoo-prod', 'mbbkk-prod', 'myrdx-prod', 'mmllv-prod', 'myomd-prod', 'myegh-prod', 'mtfwh-prod', 'mypce-prod', 'mkdgk-prod', 'myxho-prod', 'myfeq-prod', 'myfrm-prod', 'mmblq-prod', 'mustz-prod', 'myhkw-prod', 'myhkv-prod', 'matzb-prod', 'mbaez-prod', 'yhide-prod', 'mmmtu-prod', 'mmmmp-prod', 'mbkye-prod', 'mbkyw-prod', 'mmopi-prod', 'mbyot-prod', 'mypvj-prod', 'mmlbl-prod', 'mmnws-prod', 'mmoxo-prod', 'mycxj-prod', 'mabts-prod', 'mypzw-prod', 'mmxcs-prod', 'mdpdy-prod', 'mtpds-prod', 'mbujm-prod', 'mywfi-prod', 'mshpp-prod', 'mbnff-prod', 'muhkf-prod', 'muqaz-prod', 'mujtn-prod', 'mkwnp-prod', 'mmmei-prod', 'mmmvy-prod', 'mughv-prod', 'mugrq-prod', 'mugrv-prod', 'muslg-prod', 'mylhn-prod', 'mruuj-prod', 'yacvw-prod', 'mdrko-prod', 'mmnog-prod', 'mtodo-prod', 'kirxd-prod', 'mmxaf-prod', 'mmygi-prod', 'yaeak-prod', 'mmmfi-prod', 'mkjnq-prod', 'mmoog-prod', 'mmbfh-prod', 'mktzp-prod', 'mknbe-prod', 'mkekh-prod', 'myigi-prod', 'mmgho-prod', 'muwij-prod', 'mmmsn-prod', 'mbkys-prod', 'murej-prod', 'myfji-prod', 'myjrf-prod', 'mkvzd-prod', 'mbgiv-prod', 'ygxde-prod', 'mzghz-prod', 'myiew-prod', 'mzdxr-prod', 'mypvw-prod', 'mmmpt-prod', 'mbtrh-prod', 'muxxn-prod', 'muxxs-prod', 'muxkn-prod', 'mkzta-prod', 'ygkir-prod', 'mbyzs-prod', 'muxrz-prod', 'mmngz-prod', 'mygdo-prod', 'mmytn-prod', 'myixm-prod', 'yxzod-prod', 'myfcg-prod', 'myfis-prod', 'ylxkx-prod', 'ytmhr-prod', 'madab-prod', 'mmujg-prod', 'mbkge-prod', 'ubqrz-prod', 'mmvlp-prod', 'mktdm-prod', 'mkaxs-prod', 'mkaxc-prod', 'muglv-prod', 'mkjnv-prod', 'mbczw-prod', 'mmigv-prod', 'mklaj-prod', 'mmydn-prod', 'mmmmz-prod', 'myfiy-prod', 'maidj-prod', 'mkatn-prod', 'mkata-prod', 'mkvbq-prod', 'mupms-prod', 'mmmhp-prod', 'mmjfn-prod', 'mkisj-prod', 'mmjhn-prod', 'mucxa-prod', 'mmyke-prod', 'mmmzh-prod', 'mykgy-prod', 'mmpji-prod', 'magup-prod', 'mypzm-prod', 'mmpnj-prod', 'mmpom-prod', 'mmllh-prod', 'uqvci-prod', 'mnavn-prod', 'masqm-prod', 'mabsk-prod', 'mmino-prod', 'mmmys-prod', 'mynbq-prod', 'mybbh-prod', 'matui-prod', 'mmmzl-prod', 'mytnu-prod', 'mminf-prod', 'mmutr-prod', 'mbmyk-prod', 'mbgzf-prod', 'mtaov-prod', 'mtzbv-prod', 'mtaor-prod', 'mtaoj-prod', 'muxlw-prod', 'mmymb-prod', 'mmlbo-prod', 'mbyzb-prod', 'mmory-prod', 'yaeug-prod', 'mktxk-prod', 'mzrht-prod', 'mbwlf-prod', 'mkajq-prod', 'mkfjv-prod', 'mmbkc-prod', 'mbuyu-prod', 'mbaqx-prod', 'mkauf-prod', 'mugsi-prod', 'muxwu-prod', 'muyuk-prod', 'mbuze-prod', 'mkaya-prod', 'myfhl-prod', 'musdw-prod', 'muugw-prod', 'mmnvc-prod', 'mkafu-prod', 'mvgrw-prod', 'mugwa-prod', 'muvsk-prod', 'mkuip-prod', 'mkkkk-prod', 'mlxno-prod', 'myocj-prod', 'mvgre-prod', 'muvsy-prod', 'muwow-prod', 'muxgj-prod', 'mbbyp-prod', 'mkiil-prod', 'mktxv-prod', 'mmnxr-prod', 'mmtkn-prod', 'mmmiq-prod', 'mupml-prod', 'muypy-prod', 'mbdye-prod', 'maunt-prod', 'muhqn-prod', 'mtasp-prod', 'mbypv-prod', 'mbabz-prod', 'mbabn-prod', 'mmllw-prod', 'mmuuw-prod', 'mukdq-prod', 'mukga-prod', 'mmkze-prod', 'mkaty-prod', 'mkatm-prod', 'mbbwa-prod', 'mwqby-prod', 'mmmlr-prod', 'myfir-prod', 'muqqp-prod', 'mumhq-prod', 'mmpsm-prod', 'mbkgz-prod', 'matzw-prod', 'mmpws-prod', 'mmpkg-prod', 'mmpih-prod', 'mmpnq-prod', 'mmpou-prod', 'mmkpz-prod', 'yynsb-prod', 'muxvi-prod', 'mafnj-prod', 'mmmjv-prod', 'mmuci-prod', 'muris-prod', 'myhkr-prod', 'muxkd-prod', 'mmmyd-prod', 'mmugp-prod', 'mbtyq-prod', 'mmvpm-prod', 'mmpxp-prod', 'mmvpk-prod', 'mmvlc-prod', 'mmjuz-prod', 'mmpsu-prod', 'murng-prod', 'musqv-prod', 'mkasv-prod', 'mkzlt-prod', 'mylhf-prod', 'mmytp-prod', 'ygknd-prod', 'krttu-prod', 'mmumk-prod', 'mmllq-prod', 'mbupj-prod', 'mmlgm-prod', 'mkopl-prod', 'mkazk-prod', 'mumhr-prod', 'maxwr-prod', 'musbc-prod', 'mkabz-prod', 'mmnsm-prod', 'mktiu-prod', 'mbeah-prod', 'mmtly-prod', 'matzm-prod', 'mtopr-prod', 'mzgtg-prod', 'uvmyz-prod', 'mmyyj-prod', 'mmnnn-prod', 'mmymw-prod', 'muwou-prod', 'mifsq-prod', 'mtxjj-prod', 'muhko-prod', 'myoif-prod', 'mmkce-prod', 'mznju-prod', 'mkufr-prod', 'mzopu-prod', 'mmnjg-prod', 'mkbvn-prod', 'mbbrr-prod', 'mynfu-prod', 'mmpmn-prod', 'mfcha-prod', 'murvx-prod', 'mmktz-prod', 'mkdgq-prod', 'mkdgl-prod', 'mkdga-prod', 'mkdsb-prod', 'mkdsm-prod', 'mygdu-prod', 'mygdj-prod', 'mdetg-prod', 'myhda-prod', 'mumea-prod', 'muwjo-prod', 'mtfwp-prod', 'myfeb-prod', 'myiyd-prod', 'myrnt-prod', 'mmgja-prod', 'mmlbx-prod', 'mkiom-prod', 'mtasl-prod', 'mtasj-prod', 'mazes-prod', 'mzpwh-prod', 'muylo-prod', 'myjyg-prod', 'mkawe-prod', 'mdcsg-prod', 'mmlsh-prod', 'mylvv-prod', 'mzdey-prod', 'mylsl-prod', 'mkbhf-prod', 'mbtaw-prod', 'mkqot-prod', 'mkpsd-prod', 'mmmbp-prod', 'yusee-prod', 'mmnhc-prod', 'mmgvq-prod', 'mixtj-prod', 'mbuwd-prod', 'mugwl-prod', 'mmnsu-prod', 'mmluq-prod', 'mfycp-prod', 'miifg-prod', 'mmmjw-prod', 'mmuun-prod', 'matak-prod', 'mmuud-prod', 'myfeu-prod', 'mbfry-prod', 'muqgi-prod', 'mkaxo-prod', 'myimj-prod', 'mmmzn-prod', 'ygkvj-prod', 'yggee-prod', 'mmhty-prod', 'myfru-prod', 'ygdll-prod', 'mznux-prod', 'mkaux-prod', 'mycll-prod', 'mkgzq-prod', 'mtxzz-prod', 'mmifh-prod', 'mbbrk-prod', 'mugkh-prod', 'myjse-prod', 'myojr-prod', 'makvm-prod', 'mypmt-prod', 'mugwi-prod', 'mmoib-prod', 'mifnv-prod', 'mmokz-prod', 'yacct-prod', 'yagef-prod', 'ygzjq-prod', 'ygaaw-prod', 'ygaar-prod', 'ygaah-prod', 'ygaag-prod', 'ygaal-prod', 'makxu-prod', 'ygvkb-prod', 'mkvhl-prod', 'madeu-prod', 'murwl-prod', 'mmosg-prod', 'muxwm-prod', 'mbbrb-prod', 'mmymu-prod', 'mmykh-prod', 'mpiuh-prod', 'mzomb-prod', 'mbvom-prod', 'muuwd-prod', 'mmkqp-prod', 'mmtvs-prod', 'mypfd-prod', 'mmygf-prod', 'muxgu-prod', 'myhgt-prod', 'mazta-prod', 'mmqyq-prod', 'mbuhh-prod', 'yedpj-prod', 'madhu-prod', 'myhub-prod', 'masfu-prod', 'mbkyx-prod', 'mmmop-prod', 'myosw-prod', 'mutie-prod', 'myiav-prod', 'mufkk-prod', 'muxwz-prod', 'myhzj-prod', 'mkaxk-prod', 'ktqas-prod', 'yxuxr-prod', 'mteiy-prod', 'murga-prod', 'matrf-prod', 'mtaib-prod', 'myjyb-prod', 'mmoim-prod', 'mmidw-prod', 'mushy-prod', 'mfouc-prod', 'mypuo-prod', 'myhwu-prod', 'mbbnn-prod', 'mkazn-prod', 'mmlem-prod', 'mbbkt-prod', 'mbbul-prod', 'mukrv-prod', 'mmmxa-prod', 'myppc-prod', 'mmmog-prod', 'mduml-prod', 'mzhak-prod', 'mmmbv-prod', 'mcore-prod', 'mapbk-prod', 'matza-prod', 'mvset-prod', 'mmppv-prod', 'mynlz-prod', 'mkaah-prod', 'mkaav-prod', 'mmgau-prod', 'mmmpg-prod', 'mmliy-prod', 'mmlwz-prod', 'mkbvu-prod', 'mmoqw-prod', 'mzbam-prod', 'myhys-prod', 'mzhab-prod', 'mmgdd-prod', 'mmvpt-prod', 'mkajg-prod', 'myhkm-prod', 'mysqn-prod', 'mbbtc-prod', 'mmlpb-prod', 'mzxhx-prod', 'mulga-prod', 'mkzam-prod', 'mtdfk-prod', 'myprl-prod', 'mkzfr-prod', 'mugig-prod', 'mazsl-prod', 'mkaws-prod', 'mzpwl-prod', 'mktzw-prod', 'mmudq-prod', 'mvduu-prod', 'mbufj-prod', 'myfik-prod', 'mmnif-prod', 'mmywq-prod', 'mtniz-prod', 'myfcw-prod', 'mmhgr-prod', 'mmmbu-prod', 'mmmta-prod', 'mmmmj-prod', 'mkzvb-prod', 'myjjq-prod', 'mbdfh-prod', 'mvwal-prod', 'muwzq-prod', 'mygem-prod', 'mmnty-prod', 'mktxq-prod', 'myzyd-prod', 'mylzm-prod', 'mzouo-prod', 'mueqb-prod', 'muszg-prod', 'mtaoe-prod', 'mmqlp-prod', 'myhyo-prod', 'mbzkl-prod', 'mmvpe-prod', 'mmnvo-prod', 'mmlfr-prod', 'mbfhc-prod', 'mmtzl-prod', 'mtdxc-prod', 'mtdxg-prod', 'mbbtr-prod', 'madwx-prod', 'mttim-prod', 'mmbzg-prod', 'yakdx-prod', 'mtawe-prod', 'mdeto-prod', 'mmidc-prod', 'mmnwr-prod', 'mkokf-prod', 'mmole-prod', 'mmukp-prod', 'myrmp-prod', 'mzivk-prod', 'mzivm-prod', 'mujrg-prod', 'mdrkq-prod', 'mbbyq-prod', 'mbulg-prod', 'myfgl-prod', 'mmmos-prod', 'mywpf-prod', 'mmbzc-prod', 'mmmze-prod', 'mzhai-prod', 'mdgqz-prod', 'mdgct-prod', 'mtgnn-prod', 'mktdz-prod', 'mmkkc-prod', 'mkiht-prod', 'mmvpy-prod', 'mbyde-prod', 'mmtve-prod', 'mbydr-prod', 'mktdp-prod', 'mubnh-prod', 'mylqg-prod', 'mynha-prod', 'mmygo-prod', 'mkakq-prod', 'maahx-prod', 'mtzsc-prod', 'muguk-prod', 'maobn-prod', 'myiaa-prod', 'mttnh-prod', 'mbzqe-prod', 'mmywy-prod', 'mmpng-prod', 'mmpnv-prod', 'mbzai-prod', 'mbyzg-prod', 'mmykx-prod', 'ygatw-prod', 'myfpv-prod', 'muxjs-prod', 'mmuyx-prod', 'madfo-prod', 'mmkht-prod', 'mmkrp-prod', 'mmbab-prod', 'mtumm-prod', 'mmmjx-prod', 'muxlo-prod', 'mmngv-prod', 'mmlpl-prod', 'mkbgt-prod', 'mmnnc-prod', 'mmnnv-prod', 'mmopy-prod', 'mmnsv-prod', 'mmnnl-prod', 'mmnnq-prod', 'mmnpg-prod', 'mugqt-prod', 'mugqb-prod', 'mmmdi-prod', 'mmmef-prod', 'mujtf-prod', 'mylha-prod', 'mkamj-prod', 'mkbcj-prod', 'myflo-prod', 'mbyzo-prod', 'mbbrm-prod', 'mmovj-prod', 'mbemu-prod', 'ygkvp-prod', 'mmphh-prod', 'majzs-prod', 'mzhal-prod', 'mcezb-prod', 'mureh-prod', 'muxli-prod', 'myuml-prod', 'mmljr-prod', 'mmucl-prod', 'mkopd-prod', 'mmiva-prod', 'mmivb-prod', 'mbypc-prod', 'matth-prod', 'mmyml-prod', 'mklcf-prod', 'mmvle-prod', 'muzrk-prod', 'mmmil-prod', 'mbbag-prod', 'mmywb-prod', 'mbzih-prod', 'mbdxs-prod', 'mmuzp-prod', 'mmumn-prod', 'mypqy-prod', 'muvgs-prod', 'myiko-prod', 'muqvi-prod', 'mttzu-prod', 'mkdtq-prod', 'mbung-prod', 'mmyre-prod', 'mmylb-prod', 'mmjfx-prod', 'mmmjs-prod', 'mmkww-prod', 'mmutw-prod', 'mmphz-prod', 'mmaih-prod', 'mypsm-prod', 'mmpmw-prod', 'mmnre-prod', 'mmmiz-prod', 'mmayc-prod', 'mmnmn-prod', 'maazv-prod', 'mkdqc-prod', 'mmmzb-prod', 'mmngg-prod', 'mmnpi-prod', 'mmniu-prod', 'mmnpn-prod', 'mmngs-prod', 'mmnnj-prod', 'mmnpd-prod', 'mmnnp-prod', 'musak-prod', 'mbkrk-prod', 'musam-prod', 'muvnh-prod', 'musai-prod', 'mbkej-prod', 'mugxt-prod', 'mbwoe-prod', 'myncn-prod', 'mbyga-prod', 'mbuni-prod', 'muybk-prod', 'muyyq-prod', 'mbabt-prod', 'mbfgb-prod', 'mbdvc-prod', 'mmqlq-prod', 'mazrf-prod', 'muhtq-prod', 'mkbhz-prod', 'maczh-prod', 'mznug-prod', 'mkzcg-prod', 'muyty-prod', 'mulgt-prod', 'mkdae-prod', 'mmpod-prod', 'mfjna-prod', 'ygaas-prod', 'myiyy-prod', 'mbbwb-prod', 'muamw-prod', 'mkatq-prod', 'byqyg-prod', 'macdy-prod', 'myfea-prod', 'myfec-prod', 'mmngx-prod', 'mmngo-prod', 'mmmcq-prod', 'mktze-prod', 'mmntz-prod', 'mmikd-prod', 'mkthd-prod', 'yxzvw-prod', 'musho-prod', 'mkaof-prod', 'muqaw-prod', 'mtdbh-prod', 'mtfpf-prod', 'myfwj-prod', 'mabtb-prod', 'mkdgm-prod', 'muaym-prod', 'mzlju-prod', 'mmqyv-prod', 'muqgd-prod', 'muxlq-prod', 'mmjlh-prod', 'mymgi-prod', 'maftz-prod', 'mdplq-prod', 'mxqir-prod', 'mmgjz-prod', 'mmizp-prod', 'yzpvz-prod', 'mkbhp-prod', 'myfhy-prod', 'myfqb-prod', 'mtfeb-prod', 'mmulh-prod', 'mkabu-prod', 'mminl-prod', 'mugcz-prod', 'mmogq-prod', 'malna-prod', 'mmymj-prod', 'mmlif-prod', 'mafeg-prod', 'myfhp-prod', 'musti-prod', 'myicn-prod', 'mtoha-prod', 'ydrcr-prod', 'makjp-prod', 'mbuhp-prod', 'mbyof-prod', 'mmuuh-prod', 'makgq-prod', 'mnxcn-prod', 'mznuw-prod', 'mkggb-prod', 'mabxp-prod', 'mtaop-prod', 'mbtvz-prod', 'mkkul-prod', 'mtnaf-prod', 'maazm-prod', 'mkazw-prod', 'mugbn-prod', 'mugam-prod', 'mugbk-prod', 'mmuyh-prod', 'mmmfx-prod', 'myicj-prod', 'mmygm-prod', 'myjmn-prod', 'mmyhz-prod', 'mueuy-prod', 'mzdxe-prod', 'mkayk-prod', 'mkayg-prod', 'mkkuz-prod', 'mbywx-prod', 'mbyln-prod', 'mmilu-prod', 'mmhrj-prod', 'mtyeh-prod', 'myfer-prod', 'mbkkr-prod', 'myxhe-prod', 'myfed-prod', 'mbmts-prod', 'mbbwt-prod', 'mkmwc-prod', 'myhxa-prod', 'mydvv-prod', 'mjrvi-prod', 'mbbwk-prod', 'mmmzu-prod', 'mkxzc-prod', 'mugqc-prod', 'mmlbe-prod', 'mymgy-prod', 'mugqd-prod', 'muwmv-prod', 'muekw-prod', 'muxlz-prod', 'mylhi-prod', 'myjyz-prod', 'mylwb-prod', 'maogv-prod', 'mktvg-prod', 'mmyda-prod', 'myxmd-prod', 'myfoa-prod', 'mmyfq-prod', 'mnypz-prod', 'mpwbe-prod', 'muwav-prod', 'mylvj-prod', 'mznnw-prod', 'mznns-prod', 'mznne-prod', 'mkgzs-prod', 'mmuxu-prod', 'mmmvh-prod', 'mpdob-prod', 'mbatz-prod', 'mymgs-prod', 'myaxp-prod', 'mmjsr-prod', 'myask-prod', 'mmjso-prod', 'mmjlc-prod', 'mmlbg-prod', 'mkzms-prod', 'madaz-prod', 'mmmeu-prod', 'mbzfg-prod', 'mmkru-prod', 'muamc-prod', 'mbkjg-prod', 'myivf-prod', 'mmrcy-prod', 'mmyvq-prod', 'mktfi-prod', 'mugrl-prod', 'mmynn-prod', 'myrxz-prod', 'matxc-prod', 'mmmvu-prod', 'mmltl-prod', 'mmmzc-prod', 'muwja-prod', 'mmpyp-prod', 'mkzzc-prod', 'mdumv-prod', 'mmtkz-prod', 'mmyjz-prod', 'mkawc-prod', 'mzxic-prod', 'mmtvv-prod', 'mmtah-prod', 'marrl-prod', 'mmtxa-prod', 'myriu-prod', 'mbuhy-prod', 'mugll-prod', 'mzgda-prod', 'mdwsd-prod', 'mzdlf-prod', 'mdwsz-prod', 'mzsfb-prod', 'mzsfz-prod', 'mdwsi-prod', 'mdwsn-prod', 'mzdly-prod', 'muglq-prod', 'mkaaj-prod', 'yxzot-prod', 'mureq-prod', 'mtxqy-prod', 'muwpy-prod', 'mmigl-prod', 'murqx-prod', 'mkebj-prod', 'mmoar-prod', 'yivcp-prod', 'mywjv-prod', 'mkzvy-prod', 'mkioz-prod', 'mkvqq-prod', 'mbttt-prod', 'muwdm-prod', 'mmhtt-prod', 'mmvlj-prod', 'mylqx-prod', 'mmnxl-prod', 'mmbqo-prod', 'mzlja-prod', 'mmlth-prod', 'ygyos-prod', 'mugcd-prod', 'mustd-prod', 'yutkq-prod', 'mianf-prod', 'mbuhk-prod', 'mylqf-prod', 'mylqi-prod', 'mubqb-prod', 'mylqd-prod', 'myhdy-prod', 'mbtyc-prod', 'mbawn-prod', 'mdyew-prod', 'mbuns-prod', 'mkapr-prod', 'mafal-prod', 'mmuyw-prod', 'ycvpu-prod', 'matve-prod', 'mktfg-prod', 'matxv-prod', 'kyncf-prod', 'yzkzy-prod', 'mkvwj-prod', 'mmmfl-prod', 'mmymn-prod', 'mmymt-prod', 'mmntf-prod', 'mbkzb-prod', 'mbyld-prod', 'mfxqh-prod', 'myxzk-prod', 'mbkjb-prod', 'myxzb-prod', 'myria-prod', 'myiuf-prod', 'mbyuo-prod', 'mmycf-prod', 'mmmhm-prod', 'mbyou-prod', 'mmlgq-prod', 'muvyn-prod', 'mbkeh-prod', 'mymef-prod', 'mzyjh-prod', 'mmldv-prod', 'mbbwu-prod', 'mbbwy-prod', 'ytvud-prod', 'mbuwu-prod', 'mmosb-prod', 'mtafj-prod', 'mbbur-prod', 'mbbuq-prod', 'mkato-prod', 'mkwzz-prod', 'mbabg-prod', 'mmfwi-prod', 'muker-prod', 'mynfb-prod', 'mktfo-prod', 'mymgm-prod', 'mkatc-prod', 'mabew-prod', 'myuyz-prod', 'mmoak-prod', 'mmpkf-prod', 'muvzq-prod', 'mmmjb-prod', 'mmuul-prod', 'mbfyw-prod', 'mtppx-prod', 'mbyus-prod', 'myxzo-prod', 'mmukv-prod', 'mmuuk-prod', 'mmymc-prod', 'myxza-prod', 'myium-prod', 'mylaf-prod', 'mmmrn-prod', 'mmmmd-prod', 'mkabi-prod', 'mmnxh-prod', 'mmnhq-prod', 'mazyd-prod', 'mzgoz-prod', 'mmord-prod', 'mmynk-prod', 'mkgzp-prod', 'myhgo-prod', 'muyvw-prod', 'myiqy-prod', 'mmnvj-prod', 'mmmhq-prod', 'mbydn-prod', 'mmlkh-prod', 'mmpoo-prod', 'mmluu-prod', 'mmpkw-prod', 'mmjlq-prod', 'mkesl-prod', 'mkgvh-prod', 'mkgvp-prod', 'ufkjw-prod', 'mbpzq-prod', 'mkonj-prod', 'mmpgh-prod', 'kyjee-prod', 'mtojy-prod', 'myhsh-prod', 'mmnsy-prod', 'mynhu-prod', 'mmtci-prod', 'mkats-prod', 'mkatf-prod', 'mtnai-prod', 'mtdyh-prod', 'mmegd-prod', 'mmmxf-prod', 'mkafg-prod', 'mbyjo-prod', 'mdplj-prod', 'mkaut-prod', 'mmxqj-prod', 'uvdkm-prod', 'mmugj-prod', 'mbonp-prod', 'mmlah-prod', 'mmvll-prod', 'mkaib-prod', 'mupme-prod', 'mmneu-prod', 'mmuus-prod', 'mbkgs-prod', 'muqpb-prod', 'mages-prod', 'mkyhm-prod', 'myiuz-prod', 'mmhjf-prod', 'mmhjk-prod', 'mkbhq-prod', 'muxor-prod', 'mylwz-prod', 'mujbn-prod', 'mfnoq-prod', 'yzbxh-prod', 'mkaia-prod', 'mwyta-prod', 'mbkts-prod', 'mugwn-prod', 'mmolr-prod', 'mmmkc-prod', 'mktxt-prod', 'mmfwc-prod', 'mmumt-prod', 'muxwf-prod', 'mzdxl-prod', 'myezo-prod', 'mtxqv-prod', 'mylqz-prod', 'mzout-prod', 'mzguj-prod', 'mzouz-prod', 'mftjg-prod', 'mzoke-prod', 'mmlci-prod', 'mktxj-prod', 'mkaal-prod', 'mmtvq-prod', 'myzre-prod', 'mykhi-prod', 'mkawh-prod', 'muuib-prod', 'myigc-prod', 'mmuac-prod', 'mmoig-prod', 'mmpot-prod', 'mkxzp-prod', 'mmudx-prod', 'mkicv-prod', 'ugecb-prod', 'mkapn-prod', 'mbkkq-prod', 'muxwt-prod', 'mmvlv-prod', 'mdsic-prod', 'mbbeh-prod', 'mkfpt-prod', 'mktxg-prod', 'mywbc-prod', 'musdr-prod', 'mbuye-prod', 'myjxo-prod', 'mtdqh-prod', 'mbbry-prod', 'mmmym-prod', 'myjsw-prod', 'musgq-prod', 'muxmo-prod', 'mmkng-prod', 'myfqe-prod', 'mbuwt-prod', 'muwyt-prod', 'uqpgn-prod', 'uxsdr-prod', 'mmtmd-prod', 'mahec-prod', 'mktgj-prod', 'mbbiu-prod', 'mbbev-prod', 'mmnly-prod', 'mmnld-prod', 'mmcij-prod', 'mbcgw-prod', 'mvwrj-prod', 'yqnwk-prod', 'myfhe-prod', 'mmmbo-prod', 'mhdzi-prod', 'myevd-prod', 'mkthf-prod', 'mmknp-prod', 'muvyi-prod', 'mbtaj-prod', 'mkwye-prod', 'murem-prod', 'mbdup-prod', 'mmymi-prod', 'yanvl-prod', 'myfra-prod', 'mvsep-prod', 'maogc-prod', 'mglrl-prod', 'mudqz-prod', 'mmlbw-prod', 'mmlwu-prod', 'mmlax-prod', 'mmlim-prod', 'mybvq-prod', 'mtann-prod', 'mbyxl-prod', 'mmucg-prod', 'mpmti-prod', 'mbaoh-prod', 'mkazo-prod', 'mmmbs-prod', 'mbahv-prod', 'mfpab-prod', 'mzgog-prod', 'mdhrx-prod', 'mmuye-prod', 'kbzql-prod', 'mbkgj-prod', 'mmyla-prod', 'myiui-prod', 'mfjnk-prod', 'mfjnt-prod', 'mmqce-prod', 'mmjhz-prod', 'mmmyk-prod', 'mmlwp-prod', 'myjhb-prod', 'mblrz-prod', 'mmyvm-prod', 'mmyqh-prod', 'myiqt-prod', 'mmutu-prod', 'mylco-prod', 'muwpc-prod', 'mmgde-prod', 'mmkph-prod', 'mmymx-prod', 'mmlbc-prod', 'mmlbi-prod', 'mylyy-prod', 'maxeu-prod', 'mmigq-prod', 'musga-prod', 'mysay-prod', 'mmxnt-prod', 'mabtu-prod', 'mmipw-prod', 'mpwib-prod', 'mbzgb-prod', 'matzk-prod', 'mosdl-prod', 'mbnao-prod', 'muggx-prod', 'muggd-prod', 'mbbwl-prod', 'myfgj-prod', 'mugqa-prod', 'myfnj-prod', 'mypmm-prod', 'mmidr-prod', 'mlhpz-prod', 'mksee-prod', 'mbywq-prod', 'mktqs-prod', 'mmidp-prod', 'mzdfp-prod', 'mmiwf-prod', 'mdpny-prod', 'morca-prod', 'mmytg-prod', 'muxnr-prod', 'mmybl-prod', 'mmmbj-prod', 'maobb-prod', 'makpm-prod', 'matwo-prod', 'mkthm-prod', 'mkday-prod', 'mktrf-prod', 'mkaly-prod', 'mmtiy-prod', 'mzwui-prod', 'mtddj-prod', 'mebff-prod', 'musoz-prod', 'muwfm-prod', 'muson-prod', 'muwmz-prod', 'muwmg-prod', 'musdp-prod', 'muwmf-prod', 'muwfu-prod', 'mbawz-prod', 'mmlzx-prod', 'miifx-prod', 'mbulo-prod', 'mzdog-prod', 'mzftm-prod', 'mylsw-prod', 'muxwb-prod', 'muwaa-prod', 'mmvpu-prod', 'mkgsr-prod', 'mmvlw-prod', 'mmyme-prod', 'mulgk-prod', 'mkatv-prod', 'mbbwn-prod', 'mmyzk-prod', 'mmipl-prod', 'mdpfn-prod', 'mmorz-prod', 'muqjn-prod', 'mudty-prod', 'mmnvh-prod', 'mkbga-prod', 'mmosa-prod', 'mmihg-prod', 'mubpw-prod', 'mygjc-prod', 'myfen-prod', 'mmpei-prod', 'mmosl-prod', 'muxgt-prod', 'mmnqp-prod', 'mmnid-prod', 'mmiho-prod', 'mmnvm-prod', 'mmopf-prod', 'mmnni-prod', 'mmolg-prod', 'mmolq-prod', 'mmihe-prod', 'mmihw-prod', 'mmoab-prod', 'kqtaq-prod', 'mtkdp-prod', 'uduti-prod', 'mybly-prod', 'mmjhr-prod', 'muxxg-prod', 'mdpfo-prod', 'ysjvx-prod', 'mmytz-prod', 'mabtj-prod', 'mzpem-prod', 'mdgjw-prod', 'mazyt-prod', 'mbyqh-prod', 'mynmx-prod', 'mykho-prod', 'mbbxa-prod', 'musoe-prod', 'muycg-prod', 'mdfeb-prod', 'muixg-prod', 'mmvve-prod', 'mtgdq-prod', 'mmnvz-prod', 'mmtzk-prod', 'mmdag-prod', 'mbzry-prod', 'ubqrt-prod', 'mmmqs-prod', 'mylqo-prod', 'mktso-prod', 'kyzay-prod', 'mmmjp-prod', 'mfnzu-prod', 'mmujb-prod', 'mbywr-prod', 'mmkah-prod', 'mmpub-prod', 'matsy-prod', 'mkate-prod', 'mmnns-prod', 'mbnay-prod', 'mattz-prod', 'mfljp-prod', 'mbdvn-prod', 'mbuuk-prod', 'mbywp-prod', 'mkvst-prod', 'mmmqv-prod', 'matzf-prod', 'mtasx-prod', 'mbybm-prod', 'myrss-prod', 'mbuwp-prod', 'mbuex-prod', 'mtdyj-prod', 'mtdyp-prod', 'mbzan-prod', 'mmybu-prod', 'myfad-prod', 'mmmch-prod', 'mmlwa-prod', 'mmnrw-prod', 'mmixz-prod', 'mugfm-prod', 'myhuc-prod', 'mmmed-prod', 'mahmj-prod', 'mudhr-prod', 'masla-prod', 'muyoo-prod', 'mmjhg-prod', 'muxoj-prod', 'mdpzp-prod', 'mtall-prod', 'myibh-prod', 'mygsa-prod', 'myivy-prod', 'mysca-prod', 'mmjnv-prod', 'myoaw-prod', 'mkduq-prod', 'mmlri-prod', 'myasq-prod', 'myqvg-prod', 'mbuzr-prod', 'mbbjb-prod', 'mbasn-prod', 'mugsg-prod', 'mbzhp-prod', 'mmoki-prod', 'myjyi-prod', 'mkauo-prod', 'mmiix-prod', 'mmnlf-prod', 'mmixd-prod', 'mbkgx-prod', 'mmuto-prod', 'mujqv-prod', 'mkdff-prod', 'mugss-prod', 'mugzf-prod', 'murua-prod', 'mmapc-prod', 'mkitg-prod', 'mmmre-prod', 'mmmzj-prod', 'yrfsd-prod', 'mmyxa-prod', 'mmmml-prod', 'myhyf-prod', 'mtvva-prod', 'mtqtn-prod', 'mycdm-prod', 'mysqc-prod', 'mvqno-prod', 'mzfaj-prod', 'mmmuy-prod', 'mynlf-prod', 'mlewt-prod', 'mbumf-prod', 'maqup-prod', 'maztd-prod', 'maztb-prod', 'mlhjt-prod', 'maamy-prod', 'udqie-prod', 'mbebw-prod', 'uuyyd-prod', 'muxlg-prod', 'mtbza-prod', 'mabli-prod', 'mbdgb-prod', 'mbunf-prod', 'mtqtt-prod', 'musdq-prod', 'muqgt-prod', 'mktvt-prod', 'mkazl-prod', 'mkcwf-prod', 'mytbs-prod', 'myfdk-prod', 'mmjid-prod', 'mygmp-prod', 'kbkpy-prod', 'mmmyz-prod', 'mmmyi-prod', 'myala-prod', 'mmoal-prod', 'mazsh-prod', 'mabvq-prod', 'mmpne-prod', 'matzz-prod', 'mdpnu-prod', 'mbuym-prod', 'mulgu-prod', 'mmyud-prod', 'muvnc-prod', 'maatp-prod', 'myhxy-prod', 'madrk-prod', 'myhgs-prod', 'mawjj-prod', 'mbdiu-prod', 'myhge-prod', 'mmlxe-prod', 'mmhko-prod', 'mbuua-prod', 'mmyzb-prod', 'mtagc-prod', 'mmmqd-prod', 'mmytd-prod', 'mmmqn-prod', 'ymepm-prod', 'mmmjj-prod', 'mmkkr-prod', 'mmmnu-prod', 'mmmqw-prod', 'mmmqe-prod', 'mmmgg-prod', 'mugze-prod', 'mmyve-prod', 'mujrw-prod', 'matgz-prod', 'mmqcc-prod', 'mkapt-prod', 'mmkqg-prod', 'muamp-prod', 'mbdjt-prod', 'ujbna-prod', 'mmlat-prod', 'mmlan-prod', 'muqas-prod', 'mkbds-prod', 'mkbqt-prod', 'mkabd-prod', 'mdwsg-prod', 'mznph-prod', 'musjb-prod', 'myjyh-prod', 'mdavq-prod', 'myfuu-prod', 'mmmlp-prod', 'mmnod-prod', 'mtajh-prod', 'mtthd-prod', 'mmxtc-prod', 'muqqj-prod', 'mucxi-prod', 'mkavj-prod', 'mbevm-prod', 'mmgwb-prod', 'mmlul-prod', 'maamm-prod', 'mmhma-prod', 'mmhkg-prod', 'mylji-prod', 'mbkke-prod', 'mmmbc-prod', 'maztz-prod', 'mugru-prod', 'matxl-prod', 'mytdw-prod', 'mytdr-prod', 'mymer-prod', 'mmizv-prod', 'mywkt-prod', 'mygqz-prod', 'myssu-prod', 'myrsm-prod', 'myszu-prod', 'myoas-prod', 'mysrr-prod', 'mbnpm-prod', 'mmoit-prod', 'yawbp-prod', 'mmyca-prod', 'mbyjw-prod', 'mmmri-prod', 'yccum-prod', 'muwwi-prod', 'muqcs-prod', 'mynjl-prod', 'mynff-prod', 'myiyu-prod', 'mmliu-prod', 'mymgl-prod', 'muxbr-prod', 'mufux-prod', 'muyqb-prod', 'yqbma-prod', 'mkdar-prod', 'mtohn-prod', 'madff-prod', 'mmiio-prod', 'mfotx-prod', 'yqtyz-prod', 'mmduo-prod', 'unzoh-prod', 'muvva-prod', 'mmyyt-prod', 'mktxe-prod', 'mtxvy-prod', 'mmnlu-prod', 'mmmuw-prod', 'mtxes-prod', 'mpngo-prod', 'mbjko-prod', 'mzgte-prod', 'mkapc-prod', 'mmizw-prod', 'muftz-prod', 'mmlad-prod', 'mmlao-prod', 'mmlwb-prod', 'mmjll-prod', 'mmjho-prod', 'mktin-prod', 'mkatl-prod', 'mtalh-prod', 'mdxma-prod', 'mwirc-prod', 'mmmmk-prod', 'myijc-prod', 'myorw-prod', 'mydle-prod', 'mmmxz-prod', 'mmmam-prod', 'ywjkr-prod', 'ydnaz-prod', 'mynlj-prod', 'mmlsu-prod', 'mbaeu-prod', 'muxle-prod', 'mmltd-prod', 'mmykz-prod', 'mmuku-prod', 'myfwp-prod', 'mmuua-prod', 'mycgk-prod', 'mbbtj-prod', 'mmkfe-prod', 'myiab-prod', 'mmyyf-prod', 'mugqe-prod', 'mmmpf-prod', 'musow-prod', 'kbxwt-prod', 'mizvn-prod', 'mmmmf-prod', 'mbnvm-prod', 'ugccv-prod', 'mznnc-prod', 'mugas-prod', 'myasm-prod', 'mmpww-prod', 'mmngb-prod', 'myiux-prod', 'mwirp-prod', 'mmmoj-prod', 'mmbsi-prod', 'mmmgm-prod', 'mmyct-prod', 'mmmqg-prod', 'miifw-prod', 'mussu-prod', 'mmnon-prod', 'mkztk-prod', 'mypue-prod', 'muwnh-prod', 'mmyss-prod', 'mbofw-prod', 'mufir-prod', 'mmnwl-prod', 'mmmzp-prod', 'myhyg-prod', 'mmjix-prod', 'mmidv-prod', 'mmlyf-prod', 'mmmdm-prod', 'mbyij-prod', 'mmuzd-prod', 'mukyk-prod', 'mmmbx-prod', 'mtccw-prod', 'ujtiu-prod', 'mmuce-prod', 'mbynu-prod', 'mmucr-prod', 'utyvr-prod', 'musat-prod', 'mtzbs-prod', 'mtdiu-prod', 'mmymy-prod', 'marrp-prod', 'mbanm-prod', 'mmmbh-prod', 'mmmuk-prod', 'mtdfe-prod', 'mmucn-prod', 'mmlve-prod', 'myhsp-prod', 'mmzun-prod', 'mmmqf-prod', 'mtgex-prod', 'mmvli-prod', 'muwsj-prod', 'yzpvt-prod', 'mmups-prod', 'mmmga-prod', 'mmtpz-prod', 'mmygr-prod', 'mmlbs-prod', 'mmlaz-prod', 'mmlag-prod', 'mmlwt-prod', 'mmlbq-prod', 'mmlwk-prod', 'mmlgy-prod', 'mmlaa-prod', 'mymgd-prod', 'mmlol-prod', 'mmlov-prod', 'mmlaf-prod', 'mmukr-prod', 'mugrg-prod', 'mmmmu-prod', 'yaiue-prod', 'mmnej-prod', 'mywyr-prod', 'mmmbr-prod', 'mmymg-prod', 'mkszu-prod', 'mkaks-prod', 'mypur-prod', 'mmmbe-prod', 'mmyim-prod', 'maboh-prod', 'mbugp-prod', 'mmuyt-prod', 'muwsq-prod', 'mujrs-prod', 'mypao-prod', 'myekx-prod', 'mujht-prod', 'mmuue-prod', 'mmmyu-prod', 'myfxm-prod', 'mkdch-prod', 'mmyxo-prod', 'mmnvu-prod', 'mtcjy-prod', 'mmyyn-prod', 'myfid-prod', 'mmymd-prod', 'mmmqh-prod', 'mmmny-prod', 'mmmxo-prod', 'mmmkg-prod', 'mmneq-prod', 'mylsc-prod', 'mmuli-prod', 'mmmoq-prod', 'mmmcy-prod', 'mmybh-prod', 'makgh-prod', 'muxmq-prod', 'mtxcq-prod', 'mugpm-prod', 'mkiem-prod', 'muglh-prod', 'mabhh-prod', 'mkezk-prod', 'musbj-prod', 'mabpl-prod', 'muggs-prod', 'mmmfc-prod', 'muvqh-prod', 'mbihx-prod', 'mmujt-prod', 'muwsh-prod', 'mmmke-prod', 'myrms-prod', 'mmmkr-prod', 'mmmek-prod', 'muhlr-prod', 'muvix-prod', 'mbuna-prod', 'mmyay-prod', 'mzhcv-prod', 'mzhch-prod', 'mmmva-prod', 'mnavx-prod', 'mmmmn-prod', 'mmyik-prod', 'mmyxv-prod', 'yqylk-prod', 'mypld-prod', 'mmoik-prod', 'mmiws-prod', 'muggf-prod', 'mbyby-prod', 'myuyf-prod', 'myuuy-prod', 'mypvh-prod', 'matzs-prod', 'mmmkj-prod', 'mulgy-prod', 'mmyyg-prod', 'mtcnq-prod', 'mkavs-prod', 'mvefq-prod', 'ubgeg-prod', 'mmmmy-prod', 'mmide-prod', 'yanvj-prod', 'mmmez-prod', 'mmyys-prod', 'mmmea-prod', 'madlg-prod', 'ygiel-prod', 'mbkrb-prod', 'mdgcf-prod', 'muwab-prod', 'yaoxj-prod', 'yaowb-prod', 'yaoxu-prod', 'yasah-prod', 'yaorr-prod', 'yanhe-prod', 'mmuzf-prod', 'mmpff-prod', 'mmyvx-prod', 'mmmxd-prod', 'mmchb-prod', 'maayf-prod', 'maayo-prod', 'mugzx-prod', 'muruf-prod', 'mmmdu-prod', 'mmygl-prod', 'myasw-prod', 'mmyyq-prod', 'mmmmx-prod', 'mkxgm-prod', 'muwrk-prod', 'mmttm-prod', 'mmyyd-prod', 'mugus-prod', 'mtoph-prod', 'mvsve-prod', 'mmrjm-prod', 'mmmom-prod', 'mtdvy-prod', 'myfhu-prod', 'yhwvq-prod', 'mmyaz-prod', 'mvsed-prod', 'mmmks-prod', 'mkbpt-prod', 'mmmdn-prod', 'mnkuq-prod', 'myley-prod', 'mmxqv-prod', 'mbkqa-prod', 'mminq-prod', 'mmmvm-prod', 'muwwm-prod', 'myfwe-prod', 'myfet-prod', 'mmlib-prod', 'mmujd-prod', 'mukee-prod', 'mmnwp-prod', 'mmykt-prod', 'mzgec-prod', 'mktmt-prod', 'mmvvv-prod', 'mmuqp-prod', 'mzyjm-prod', 'madbg-prod', 'mmmma-prod', 'mmudm-prod', 'mktmz-prod', 'myjjh-prod', 'mbuvn-prod', 'myfhm-prod', 'mabna-prod', 'mbupl-prod', 'mmyyo-prod', 'muxlf-prod', 'mmnla-prod', 'myfha-prod', 'mmyua-prod', 'yqknb-prod', 'mmvpp-prod', 'mkdgo-prod', 'mmmjc-prod', 'mmymf-prod', 'yhnew-prod', 'mmlta-prod', 'ubgrg-prod', 'mbbel-prod', 'mzdxc-prod', 'mmmdy-prod', 'mynxk-prod', 'mafdn-prod', 'mmvvc-prod', 'mbyam-prod', 'mtzik-prod', 'muycf-prod', 'mmipg-prod', 'myjvp-prod', 'mmmzi-prod', 'mmmkw-prod', 'mmlzp-prod', 'mktia-prod', 'mktvm-prod', 'mmmme-prod', 'mttzk-prod', 'mmycv-prod', 'mugbf-prod', 'mmlju-prod', 'mmysr-prod', 'mmmok-prod', 'mmucy-prod', 'mmpem-prod', 'musli-prod', 'mmlhz-prod', 'muxae-prod', 'myfqy-prod', 'mmyiy-prod', 'myfgh-prod', 'myfgp-prod', 'mmytw-prod', 'mmyrn-prod', 'mmyyx-prod', 'mmkeq-prod', 'mmyib-prod', 'mmdue-prod', 'myeuu-prod', 'mbbld-prod', 'mkavo-prod', 'mmydt-prod', 'mmlxo-prod', 'mmlxn-prod', 'mmhtj-prod', 'mmlsb-prod', 'mtaiu-prod', 'mmkrs-prod', 'muenx-prod', 'muxmj-prod', 'muxmr-prod', 'mrjcs-prod', 'kwkwh-prod', 'mmuow-prod', 'mmbzd-prod', 'mkavn-prod', 'yqjhq-prod', 'muglg-prod', 'mmvhd-prod', 'mtaoq-prod', 'mtaoc-prod', 'mbbkm-prod', 'mjdvo-prod', 'muguo-prod', 'mmkeg-prod', 'mmvjx-prod', 'mmltr-prod', 'mbbnd-prod', 'mawyh-prod', 'myxzw-prod', 'mmlrg-prod', 'mabov-prod', 'marxe-prod', 'mabpe-prod', 'mtafc-prod', 'mtgfl-prod', 'mylwg-prod', 'mkatt-prod', 'mmpuh-prod', 'mylce-prod', 'mmmpa-prod', 'mypdz-prod', 'mazrd-prod', 'mmmit-prod', 'mkatz-prod', 'mmlti-prod', 'mmbee-prod', 'mmxoj-prod', 'mugrr-prod', 'myfdd-prod', 'myjsh-prod', 'mkabq-prod', 'mmacg-prod', 'mkddn-prod', 'mklrh-prod', 'mmchh-prod', 'mmyjr-prod', 'muupr-prod', 'mknwa-prod', 'mmhxp-prod', 'myfoz-prod', 'mzrau-prod', 'mmlxr-prod', 'mmlxx-prod', 'mmlck-prod', 'muepc-prod', 'mmjfr-prod', 'mugix-prod', 'mmoau-prod', 'mmobg-prod', 'muxag-prod', 'mynpw-prod', 'muwap-prod', 'myiru-prod', 'mukrp-prod', 'muacq-prod', 'mbash-prod', 'mbukf-prod', 'mazeq-prod', 'mknbj-prod', 'mypcq-prod', 'mmmzr-prod', 'myhdi-prod', 'muxac-prod', 'muxgn-prod', 'mucel-prod', 'mafde-prod', 'mmydu-prod', 'mbuuf-prod', 'mknwb-prod', 'mmtlf-prod', 'mlhnu-prod', 'mmlnh-prod', 'matfl-prod', 'mugcv-prod', 'musfs-prod', 'mbkgn-prod', 'muanz-prod', 'mylsh-prod', 'mdxxj-prod', 'mbozb-prod', 'muhjn-prod', 'mmpeu-prod', 'mbaso-prod', 'musnz-prod', 'mmppw-prod', 'mujvw-prod', 'myiap-prod', 'mmutx-prod', 'mtgal-prod', 'myhyr-prod', 'mkiqe-prod', 'mknai-prod', 'mypqs-prod', 'mafjd-prod', 'mkabm-prod', 'myfjo-prod', 'micpw-prod', 'mmlcb-prod', 'mmlrw-prod', 'mypvc-prod', 'mypcs-prod', 'mkddt-prod', 'mazsp-prod', 'mateh-prod', 'mmlnx-prod', 'mthca-prod', 'mktzq-prod', 'myfhg-prod', 'mmlzu-prod', 'myvbw-prod', 'mmlnv-prod', 'mmlns-prod', 'mmlnj-prod', 'mazrg-prod', 'mmlcm-prod', 'mmpxk-prod', 'mmkpr-prod', 'muxmv-prod', 'muylz-prod', 'mueis-prod', 'mabag-prod', 'mbbee-prod', 'mmlak-prod', 'mngxc-prod', 'mmpdi-prod', 'mywvj-prod', 'mtdwu-prod', 'mbyac-prod', 'muuik-prod', 'mkddi-prod', 'mmjkj-prod', 'mymja-prod', 'mtdqt-prod', 'mmocs-prod', 'mmlrp-prod', 'mscpe-prod', 'myhuw-prod', 'mylpo-prod', 'mmiwe-prod', 'mbsge-prod', 'mugxp-prod', 'mziqi-prod', 'mazdw-prod', 'mztqy-prod', 'mkdij-prod', 'mmmsg-prod', 'ulkvk-prod', 'mmuja-prod', 'mmjwq-prod', 'mmmuo-prod', 'mmpst-prod', 'mtttp-prod', 'mfchm-prod', 'mypco-prod', 'mbktw-prod', 'mugnb-prod', 'mabdz-prod', 'mkamf-prod', 'mmism-prod', 'mylhd-prod', 'myprq-prod', 'myclv-prod', 'mmoap-prod', 'mynkm-prod', 'mmlxv-prod', 'mzoid-prod', 'myhsk-prod', 'mvquh-prod', 'mvqky-prod', 'mnmuf-prod', 'mypqk-prod', 'mzgjf-prod', 'mtotf-prod', 'mmjnx-prod', 'muctp-prod', 'muctl-prod', 'mmlhd-prod', 'mznyy-prod', 'mmgnu-prod', 'myleu-prod', 'mueii-prod', 'mmmwg-prod', 'mynzd-prod', 'mabyn-prod', 'mbkyc-prod', 'mbbtp-prod', 'mmbwo-prod', 'muuoy-prod', 'movgh-prod', 'mmown-prod', 'mzdxv-prod', 'matfr-prod', 'myfqf-prod', 'matgm-prod', 'mmyfe-prod', 'mmlrs-prod', 'mabyi-prod', 'mugbu-prod', 'myfhr-prod', 'mmmro-prod', 'mbbae-prod', 'mkddd-prod', 'myfzj-prod', 'mbual-prod', 'mbydl-prod', 'mbydq-prod', 'mbydv-prod', 'mylwu-prod', 'mazfq-prod', 'mtaim-prod', 'mmlnf-prod', 'mmlwv-prod', 'myjlr-prod', 'musgy-prod', 'mabzm-prod', 'muroy-prod', 'maboq-prod', 'mynnn-prod', 'mtgdc-prod', 'mznbi-prod', 'mmnne-prod', 'mynku-prod', 'mmphu-prod', 'muwrd-prod', 'mazdv-prod', 'mysin-prod', 'mukzh-prod', 'mmlxg-prod', 'myjje-prod', 'mbsqp-prod', 'mzxtb-prod', 'maeee-prod', 'mathc-prod', 'mygds-prod', 'mbbln-prod', 'mazrk-prod', 'mmfrm-prod', 'mmuuy-prod', 'mkagp-prod', 'mmydw-prod', 'mkzcw-prod', 'mabnp-prod', 'murou-prod', 'mzasx-prod', 'myjkv-prod', 'mypcj-prod', 'myfhj-prod', 'mzclr-prod', 'myoxq-prod', 'muyve-prod', 'myhxp-prod', 'mmoay-prod', 'mznav-prod', 'mmnrj-prod', 'mmdsl-prod', 'mmlrl-prod', 'mmlng-prod', 'matgy-prod', 'mtdqf-prod', 'mmrbo-prod', 'mmmhw-prod', 'mmbtp-prod', 'mmyjl-prod', 'myfes-prod', 'mmuoe-prod', 'mazee-prod', 'mmjkp-prod', 'muwxa-prod', 'muejm-prod', 'mylwh-prod', 'matgt-prod', 'muuit-prod', 'myhdh-prod', 'mmpea-prod', 'myhgq-prod', 'mbuju-prod', 'mygez-prod', 'mbujn-prod', 'mmjon-prod', 'mukop-prod', 'mynpe-prod', 'mmyov-prod', 'myrng-prod', 'mmitl-prod', 'mbbro-prod', 'myjbh-prod', 'mmtzo-prod', 'myhfu-prod', 'mmlkf-prod', 'muenw-prod', 'mminm-prod', 'mtaiz-prod', 'mmhuv-prod', 'muznh-prod', 'mkgsv-prod', 'mmykf-prod', 'mynmm-prod', 'mksaz-prod', 'myfcp-prod', 'myfle-prod', 'myfcs-prod', 'matra-prod', 'myfci-prod', 'mynbo-prod', 'myfli-prod', 'myfjw-prod', 'myiuc-prod', 'myfcn-prod', 'myfcj-prod', 'myfjv-prod', 'myfjx-prod', 'myida-prod', 'mbyan-prod', 'mybqy-prod', 'mmtmn-prod', 'mmygs-prod', 'mawtw-prod', 'mmvhx-prod', 'mbyoz-prod', 'mathl-prod', 'mtkeu-prod', 'mkzbj-prod', 'mbnxg-prod', 'maxis-prod', 'mugro-prod', 'myfdu-prod', 'mypcx-prod', 'mylvg-prod', 'mymqm-prod', 'mymjd-prod', 'mtaqp-prod', 'mmtlk-prod', 'mynnt-prod', 'mynzu-prod', 'muugy-prod', 'mktht-prod', 'mmydd-prod', 'mkscb-prod', 'mmncw-prod', 'myfjl-prod', 'mueig-prod', 'muapu-prod', 'mbbnt-prod', 'maboj-prod', 'mbuac-prod', 'mkgee-prod', 'maayv-prod', 'mbkjz-prod', 'mmyvk-prod', 'mzmtm-prod', 'mugfk-prod', 'mmnnw-prod', 'mmvht-prod', 'mmlsk-prod', 'mmhjn-prod', 'miwry-prod', 'myiyg-prod', 'mmlnl-prod', 'mmxws-prod', 'myfqi-prod', 'mbote-prod', 'myfjt-prod', 'mmhqk-prod', 'mmhjd-prod', 'mymrq-prod', 'mmhjt-prod', 'mylwi-prod', 'musov-prod', 'mzoma-prod', 'muqga-prod', 'mugua-prod', 'mmjns-prod', 'mmkrr-prod', 'mbcyn-prod', 'mbbaj-prod', 'muncn-prod', 'mzgot-prod', 'myffs-prod', 'mkzfn-prod', 'mdsvh-prod', 'maztk-prod', 'mbzgz-prod', 'mazlm-prod', 'mtgzx-prod', 'mtgzw-prod', 'mtgzr-prod', 'mtgnu-prod', 'mkawv-prod', 'muosg-prod', 'yggwp-prod', 'ygqcv-prod', 'myosk-prod', 'mmped-prod', 'mabnc-prod', 'mmjxe-prod', 'mmopz-prod', 'mmlxh-prod', 'mmxzk-prod', 'myjlg-prod', 'mkoqv-prod', 'mumen-prod', 'myrnn-prod', 'myple-prod', 'mkakj-prod', 'muxhk-prod', 'mtrhl-prod', 'manbr-prod', 'mznsc-prod', 'mkyhl-prod', 'mbkml-prod', 'myhgf-prod', 'myfja-prod', 'mybaq-prod', 'muuiz-prod', 'mbuyr-prod', 'mugcl-prod', 'mywvl-prod', 'mkzfo-prod', 'myiyp-prod', 'mypqr-prod', 'musge-prod', 'mbchh-prod', 'mafrh-prod', 'mylcn-prod', 'mkbbw-prod', 'mmpjj-prod', 'mmhbq-prod', 'mawjp-prod', 'micsl-prod', 'mbbah-prod', 'mjkzq-prod', 'mjktq-prod', 'mybgh-prod', 'mughx-prod', 'mmmir-prod', 'mubiy-prod', 'mbuud-prod', 'mmlnu-prod', 'mmjig-prod', 'mmygj-prod', 'mmyoo-prod', 'maowl-prod', 'maows-prod', 'mabsm-prod', 'mmoug-prod', 'mmokd-prod', 'mabza-prod', 'mabvg-prod', 'mznpp-prod', 'mbkdi-prod', 'mabnl-prod', 'muxyy-prod', 'mazrb-prod', 'mzdrb-prod', 'mdlnn-prod', 'mylcr-prod', 'mmngy-prod', 'muwra-prod', 'mbuui-prod', 'mbtjs-prod', 'mmulo-prod', 'mmjwc-prod', 'myfiw-prod', 'mmiky-prod', 'mmywc-prod', 'mmkgr-prod', 'mkaby-prod', 'mtzyl-prod', 'mtzyq-prod', 'mkati-prod', 'myjhm-prod', 'ytzmj-prod', 'mugsx-prod', 'mmbwv-prod', 'mugsw-prod', 'muccj-prod', 'mugzu-prod', 'ytlgd-prod', 'muxdj-prod', 'mugse-prod', 'mugxz-prod', 'mbolh-prod', 'mmlkn-prod', 'muqvh-prod', 'mzomt-prod', 'mbuhl-prod', 'mawzh-prod', 'masvl-prod', 'mugaq-prod', 'mzgob-prod', 'mynyv-prod', 'mmcjv-prod', 'myfjm-prod', 'mujvv-prod', 'mkzfz-prod', 'mmvjo-prod', 'mkapa-prod', 'myhgh-prod', 'mbftl-prod', 'mypfe-prod', 'mymau-prod', 'mmnzp-prod', 'myjlx-prod', 'myjxu-prod', 'mugin-prod', 'mtoxm-prod', 'mbuhv-prod', 'mmtzh-prod', 'mugiz-prod', 'myfjr-prod', 'myieq-prod', 'mbupq-prod', 'mmtlb-prod', 'mbuph-prod', 'mfgsu-prod', 'myfph-prod', 'mkaan-prod', 'mkzbc-prod', 'mablr-prod', 'mdgmr-prod', 'mktzs-prod', 'mablc-prod', 'masdp-prod', 'mabzd-prod', 'mabzf-prod', 'mmmiw-prod', 'mkbcp-prod', 'mkqtt-prod', 'mmmix-prod', 'mbfyc-prod', 'mamav-prod', 'myiua-prod', 'myiun-prod', 'mkarv-prod', 'mkzbl-prod', 'mbfff-prod', 'mmpoe-prod', 'mkomu-prod', 'ktjfi-prod', 'mazrm-prod', 'myhxz-prod', 'maklh-prod', 'mumjd-prod', 'musbr-prod', 'mqtuc-prod', 'mmjbb-prod', 'mmika-prod', 'mymrx-prod', 'musgl-prod', 'mbyis-prod', 'myfcr-prod', 'myiel-prod', 'myius-prod', 'myfqu-prod', 'mkasg-prod', 'mbyas-prod', 'muxax-prod', 'mbzby-prod', 'mbqur-prod', 'muxwy-prod', 'mmygv-prod', 'mmlna-prod', 'mmyxc-prod', 'mynzn-prod', 'mugio-prod', 'mugie-prod', 'matga-prod', 'mmlni-prod', 'mynby-prod', 'mbbas-prod', 'mmvvr-prod', 'mmbgp-prod', 'mmvpd-prod', 'mmbcs-prod', 'mmokf-prod', 'mbuyy-prod', 'mmlnw-prod', 'mmljm-prod', 'mmupr-prod', 'mmuys-prod', 'muaxa-prod', 'mmhml-prod', 'mmlca-prod', 'matoh-prod', 'mmpvc-prod', 'mknbq-prod', 'mazdr-prod', 'mmlza-prod', 'mmvjg-prod', 'mmlrj-prod', 'mmtzq-prod', 'mugkg-prod', 'mmxhz-prod', 'myfeg-prod', 'myfjf-prod', 'mypjc-prod', 'myjyr-prod', 'mmlnn-prod', 'mmhyf-prod', 'muwdq-prod', 'myxum-prod', 'myxuy-prod', 'mtpyw-prod', 'myhdv-prod', 'mybio-prod', 'mmmyb-prod', 'mazwr-prod', 'mazwq-prod', 'mmtzz-prod', 'musgc-prod', 'myfho-prod', 'mugcq-prod', 'mugar-prod', 'mbebq-prod', 'mabhp-prod', 'mmbas-prod', 'mujvs-prod', 'mtnao-prod', 'mugxi-prod', 'mmyyh-prod', 'mmjkh-prod', 'mugun-prod', 'muxmh-prod', 'myxio-prod', 'mzjmm-prod', 'maksy-prod', 'myhsz-prod', 'mazru-prod', 'yxmwq-prod', 'myogl-prod', 'mkaxw-prod', 'musqp-prod', 'mtanp-prod', 'yqnxr-prod', 'myzqb-prod', 'muabm-prod', 'mypdx-prod', 'mmdta-prod', 'myodj-prod', 'myftr-prod', 'muegf-prod', 'muapp-prod', 'mtdle-prod', 'mylci-prod', 'mynnv-prod', 'musll-prod', 'mmlnr-prod', 'mmhyy-prod', 'mmyox-prod', 'mmlrr-prod', 'mmlnp-prod', 'mmlno-prod', 'mmlnd-prod', 'mmlnb-prod', 'mmlnt-prod', 'mmlrx-prod', 'mmlne-prod', 'mmlnc-prod', 'mmlnq-prod', 'mmmrg-prod', 'mmlab-prod', 'musjp-prod', 'mtnax-prod', 'mtafe-prod', 'mugxd-prod', 'mufwf-prod', 'murjl-prod', 'mazde-prod', 'mmtil-prod', 'mmydo-prod', 'matzq-prod', 'mbuwk-prod', 'mmzcf-prod', 'mkavi-prod', 'mzdra-prod', 'mmnbe-prod', 'mabth-prod', 'mmnrh-prod', 'mmncy-prod', 'myfsy-prod', 'mkbpg-prod', 'mbuyb-prod', 'myhug-prod', 'mbuky-prod', 'muuol-prod', 'myftc-prod', 'mmpfu-prod', 'mmydk-prod', 'mmnng-prod', 'mzahv-prod', 'mkbqk-prod', 'mugez-prod', 'mmudl-prod', 'mumjn-prod', 'maxbh-prod', 'mkaug-prod', 'mmfbh-prod', 'munkr-prod', 'mzwfn-prod', 'mmmdx-prod', 'mmywr-prod', 'mbkjd-prod', 'mmlzd-prod', 'mmybg-prod', 'mbbls-prod', 'mmbkd-prod', 'mmbmg-prod', 'mktmu-prod', 'mkacw-prod', 'mymio-prod', 'myhgg-prod', 'mdmzg-prod', 'mmmfw-prod', 'madnc-prod', 'myjuq-prod', 'mtdje-prod', 'murke-prod', 'mmulp-prod', 'mbumh-prod', 'mmgvk-prod', 'mtaoh-prod', 'mthfo-prod', 'mazdc-prod', 'mtgfh-prod', 'mbgbr-prod', 'maalp-prod', 'mubif-prod', 'mmasa-prod', 'mtdlc-prod', 'mkcym-prod', 'muruv-prod', 'mbvhk-prod', 'mypxr-prod', 'mmlph-prod', 'mueln-prod', 'mmnri-prod', 'myiug-prod', 'myuxg-prod', 'mybqs-prod', 'mmaau-prod', 'mbumj-prod', 'mmlwc-prod', 'mmlwr-prod', 'muuoz-prod', 'mmifl-prod', 'mmmsu-prod', 'mmakf-prod', 'mubkc-prod', 'muuok-prod', 'mmnut-prod', 'mmzbp-prod', 'maxii-prod', 'mlcgq-prod', 'mmvho-prod', 'mynnz-prod', 'muxiu-prod', 'mmkcz-prod', 'muroa-prod', 'mmuuc-prod', 'manbl-prod', 'mmlwl-prod', 'mssob-prod', 'mkddz-prod', 'muxmw-prod', 'myjlv-prod', 'mmhtb-prod', 'mmlxq-prod', 'mmjxv-prod', 'maify-prod', 'mmuur-prod', 'mmmvv-prod', 'mmlnz-prod', 'mmhjz-prod', 'mdsvj-prod', 'muuwi-prod', 'mmiku-prod', 'mylwt-prod', 'myfot-prod', 'myjsq-prod', 'mmfpj-prod', 'mmnxp-prod', 'mmukh-prod', 'myjyt-prod', 'mmlxw-prod', 'mmlxc-prod', 'muegw-prod', 'muegz-prod', 'mmhtk-prod', 'mypqe-prod', 'mkxfc-prod', 'mbbes-prod', 'mbkdw-prod', 'muxww-prod', 'mahwr-prod', 'mylcf-prod', 'mbuls-prod', 'mmlcu-prod', 'mabpp-prod', 'myjrk-prod', 'mylhg-prod', 'mmyxq-prod', 'mkhhh-prod', 'mkxfp-prod', 'myhdp-prod', 'miwcg-prod', 'mugbp-prod', 'muunr-prod', 'mvxrq-prod', 'mmywt-prod', 'mmini-prod', 'mzwfg-prod', 'muxfv-prod', 'muxkz-prod', 'mbuyk-prod', 'mynzk-prod', 'mbfyi-prod', 'mbbej-prod', 'mmykn-prod', 'mmlks-prod', 'mtdqi-prod', 'muaco-prod', 'mmpol-prod', 'mming-prod', 'mzomd-prod', 'mktzj-prod', 'mawjh-prod', 'mmlbj-prod', 'mttxp-prod', 'mbcjm-prod', 'mtgof-prod', 'mypuv-prod', 'yaprb-prod', 'mbyli-prod', 'mkfbe-prod', 'yndpt-prod', 'mmlxf-prod', 'mmnnx-prod', 'myhxb-prod', 'mzudk-prod', 'mkauz-prod', 'mmjlz-prod', 'muenj-prod', 'musmj-prod', 'mugbd-prod', 'mtxru-prod', 'mmbtm-prod', 'mmhwv-prod', 'mktfn-prod', 'mtaif-prod', 'myxar-prod', 'myecf-prod', 'mypqx-prod', 'myhdj-prod', 'mkbpi-prod', 'mktfd-prod', 'mmixk-prod', 'mugbx-prod', 'mksal-prod', 'murxk-prod', 'makhn-prod', 'musfr-prod', 'msark-prod', 'myfhw-prod', 'mjdvg-prod', 'mkfbo-prod', 'mkfbd-prod', 'mksgl-prod', 'myfdz-prod', 'mmstw-prod', 'mmvvq-prod', 'mmaaz-prod', 'mbyjd-prod', 'mmuma-prod', 'mueyg-prod', 'mzhbq-prod', 'mmhqo-prod', 'mkthk-prod', 'mbnax-prod', 'mkbqy-prod', 'matwz-prod', 'mmutg-prod', 'mtzdv-prod', 'mubnj-prod', 'mbozf-prod', 'myfpp-prod', 'myfiu-prod', 'usyto-prod', 'mtaik-prod', 'mabal-prod', 'muxjw-prod', 'muuga-prod', 'mmmpn-prod', 'mmigc-prod', 'myfhh-prod', 'mkmcu-prod', 'mbuzo-prod', 'mkdde-prod', 'mbasi-prod', 'myjgz-prod', 'mmkjm-prod', 'mmjbm-prod', 'myoxj-prod', 'mkdvf-prod', 'mzgoa-prod', 'musgm-prod', 'mkdmj-prod', 'mmmic-prod', 'mbtyl-prod', 'myfjd-prod', 'myoxh-prod', 'mmyii-prod', 'mdsir-prod', 'mmopt-prod', 'mmfey-prod', 'ygghb-prod', 'mafdq-prod', 'mkwhp-prod', 'mmnct-prod', 'mmmmr-prod', 'mmoww-prod', 'muxme-prod', 'mmucc-prod', 'mbitf-prod', 'mtogh-prod', 'myjsv-prod', 'myhgi-prod', 'mmyvv-prod', 'mmvpa-prod', 'mbkkv-prod', 'mktap-prod', 'yrbiv-prod', 'mmngt-prod', 'mdgml-prod', 'yrzwu-prod', 'mkzvx-prod', 'yaocc-prod', 'mminn-prod', 'myrvb-prod', 'mtelf-prod', 'mtgng-prod', 'myqou-prod', 'mabdt-prod', 'mmmiv-prod', 'middv-prod', 'mmyso-prod', 'mktfz-prod', 'mukgb-prod', 'mbkii-prod', 'mkamd-prod', 'mtavm-prod', 'mtaqh-prod', 'mkawl-prod', 'mygst-prod', 'mmnxj-prod', 'mmpos-prod', 'mbyai-prod', 'mbozu-prod', 'mugau-prod', 'mmyrc-prod', 'mmxtx-prod', 'mbbli-prod', 'madlo-prod', 'mmhxv-prod', 'mazev-prod', 'mylcg-prod', 'mmjld-prod', 'mmobh-prod', 'mbype-prod', 'mbyja-prod', 'mbaqq-prod', 'mafdk-prod', 'mmyvh-prod', 'mktrl-prod', 'mmatr-prod', 'mykkc-prod', 'mtvrq-prod', 'yaprd-prod', 'muagl-prod', 'muagq-prod', 'mmuav-prod', 'mmags-prod', 'mmmis-prod', 'mmnrp-prod', 'myxud-prod', 'maksn-prod', 'mtzyc-prod', 'mtzyr-prod', 'mmnvn-prod', 'mpvib-prod', 'mbcns-prod', 'mkcjb-prod', 'mbamv-prod', 'mbamq-prod', 'myogp-prod', 'mujyr-prod', 'mktqh-prod', 'mknyo-prod', 'muvkv-prod', 'mypcl-prod', 'mugiq-prod', 'mbocp-prod', 'mmlay-prod', 'muxje-prod', 'mmmvj-prod', 'mldvl-prod', 'mazah-prod', 'myqqf-prod', 'mmlro-prod', 'mtxql-prod', 'mymiw-prod', 'mkbcl-prod', 'muqva-prod', 'mkbpf-prod', 'myziy-prod', 'meyix-prod', 'mtdls-prod', 'mmmip-prod', 'muzpu-prod', 'mmcgq-prod', 'mktxc-prod', 'muepj-prod', 'mktxh-prod', 'mkdqr-prod', 'mkaps-prod', 'muwia-prod', 'mugec-prod', 'muges-prod', 'mugex-prod', 'mkmrj-prod', 'mbnwz-prod', 'myukp-prod', 'mkvwh-prod', 'mybkv-prod', 'mmmxi-prod', 'mmjhj-prod', 'mmopu-prod', 'mbdzk-prod', 'mylho-prod', 'maxdt-prod', 'mtdgy-prod', 'myodh-prod', 'mzopy-prod', 'muman-prod', 'myjpg-prod', 'mznno-prod', 'mugri-prod', 'madai-prod', 'mylcz-prod', 'mygwj-prod', 'mypch-prod', 'mmnrr-prod', 'mdsiq-prod', 'mkocx-prod', 'mmnvv-prod', 'mtdqz-prod', 'mmtmi-prod', 'mmbbi-prod', 'mtzsr-prod', 'mzgew-prod', 'maftt-prod', 'muxms-prod', 'mable-prod', 'myirt-prod', 'muglj-prod', 'mbasg-prod', 'muwsa-prod', 'mkakl-prod', 'muiyu-prod', 'mumaw-prod', 'mudmf-prod', 'moasd-prod', 'mbyao-prod', 'mziva-prod', 'mmhxh-prod', 'mtddh-prod', 'madag-prod', 'mmmza-prod', 'mbkjo-prod', 'mmkrq-prod', 'mbukm-prod', 'mabof-prod', 'mknae-prod', 'mmlnk-prod', 'myhuk-prod', 'mmujz-prod', 'mlewq-prod', 'mustx-prod', 'muqpf-prod', 'yggni-prod', 'muxmx-prod', 'mylct-prod', 'mmeqt-prod', 'musnk-prod', 'mugxj-prod', 'muagv-prod', 'muene-prod', 'mmoxh-prod', 'musaa-prod', 'mugrj-prod', 'madbb-prod', 'mazeg-prod', 'myjsc-prod', 'mynlh-prod', 'mabsu-prod', 'maowv-prod', 'mtzyu-prod', 'muwrb-prod', 'mmubg-prod', 'mbumz-prod', 'mmmss-prod', 'mbunm-prod', 'myfqn-prod', 'myfco-prod', 'muyvx-prod', 'mukpx-prod', 'mynhc-prod', 'mkvhj-prod', 'mmmmt-prod', 'mpvlf-prod', 'mbrga-prod', 'mbrgb-prod', 'mypcy-prod', 'mmuyr-prod', 'mnavd-prod', 'maxik-prod', 'mbukd-prod', 'mkavd-prod', 'mbtwk-prod', 'mktvk-prod', 'madrh-prod', 'mbysu-prod', 'mkidg-prod', 'muxaw-prod', 'mypda-prod', 'mmnno-prod', 'madac-prod', 'mdumq-prod', 'mmymz-prod', 'mdnxf-prod', 'mmogy-prod', 'mmnrf-prod', 'mypvp-prod', 'mkaua-prod', 'mmlxd-prod', 'mtgfj-prod', 'mkabn-prod', 'mmamx-prod', 'mbyoa-prod', 'mugik-prod', 'mmmhr-prod', 'mmfzg-prod', 'mzpnw-prod', 'mmuox-prod', 'mmmcu-prod', 'mafji-prod', 'mugux-prod', 'muuia-prod', 'mmygc-prod', 'mkzpq-prod', 'mucce-prod', 'mvglz-prod', 'mmyki-prod', 'mypve-prod', 'muyvo-prod', 'mmjxl-prod', 'musmn-prod', 'madax-prod', 'mmyal-prod', 'mtalp-prod', 'mmtza-prod', 'mmryb-prod', 'mmtpp-prod', 'myfpg-prod', 'myhjd-prod', 'mbkto-prod', 'mazeh-prod', 'murzy-prod', 'mzglw-prod', 'mmyvj-prod', 'mmmlz-prod', 'myhye-prod', 'myfoq-prod', 'mmmzk-prod', 'mmmpz-prod', 'mmhsy-prod', 'kynqd-prod', 'kyncd-prod', 'mafta-prod', 'muusu-prod', 'mylqj-prod', 'mmklm-prod', 'mmnxq-prod', 'mmlxp-prod', 'mmpto-prod', 'mkapm-prod', 'mabav-prod', 'mabaq-prod', 'mmmii-prod', 'mmyub-prod', 'mmmdd-prod', 'mmyyy-prod', 'mmyxy-prod', 'mkiny-prod', 'mbblo-prod', 'mknbo-prod', 'mdjer-prod', 'mazeo-prod', 'mypps-prod', 'mazry-prod', 'mbunw-prod', 'mbjtp-prod', 'mmusn-prod', 'myfnt-prod', 'mkthz-prod', 'mkdte-prod', 'mmumd-prod', 'myhgz-prod', 'myhyq-prod', 'mmyon-prod', 'mmlxl-prod', 'mmhtz-prod', 'mmosu-prod', 'mmkmv-prod', 'mmmgd-prod', 'mmmfh-prod', 'mmmkp-prod', 'mylvp-prod', 'msztf-prod', 'mkavg-prod', 'muavd-prod', 'mmhkh-prod', 'mbehn-prod', 'muyrf-prod', 'mazew-prod', 'muxkf-prod', 'mybar-prod', 'mbpxe-prod', 'mzwfi-prod', 'myfod-prod', 'mkayr-prod', 'mzwfc-prod', 'ugere-prod', 'mzhce-prod', 'mykan-prod', 'mkodh-prod', 'mmyjv-prod', 'mkodj-prod', 'mmkho-prod', 'mkasx-prod', 'mmlrv-prod', 'musfe-prod', 'mmyqa-prod', 'myffx-prod', 'mmcfq-prod', 'mmlre-prod', 'mmmzz-prod', 'musfv-prod', 'mugdj-prod', 'muqgk-prod', 'mavho-prod', 'mbyax-prod', 'mynzb-prod', 'matzt-prod', 'micsd-prod', 'myfze-prod', 'muens-prod', 'mmdrm-prod', 'mmisz-prod', 'mupzg-prod', 'maboe-prod', 'mabtd-prod', 'maaqm-prod', 'myvwe-prod', 'mbkji-prod', 'myffr-prod', 'mmngn-prod', 'mugay-prod', 'myiya-prod', 'mmtqd-prod', 'mymjn-prod', 'mktif-prod', 'mmvjs-prod', 'mypqm-prod', 'mmltp-prod', 'mbufh-prod', 'mmtmo-prod', 'mmxro-prod', 'mmxit-prod', 'muslf-prod', 'mynpr-prod', 'mmkrk-prod', 'mmptn-prod', 'muxuc-prod', 'mylgx-prod', 'mmbew-prod', 'mugbi-prod', 'mbotv-prod', 'mtaiv-prod', 'muxyu-prod', 'mmmsi-prod', 'maftf-prod', 'mmmio-prod', 'mmmsm-prod', 'mmvjw-prod', 'mbmes-prod', 'mfiiz-prod', 'makrx-prod', 'mazej-prod', 'mmitm-prod', 'mysgr-prod', 'mkgvt-prod', 'mkgvz-prod', 'mkodp-prod', 'mtxqp-prod', 'mtvvu-prod', 'mdgmq-prod', 'muaby-prod', 'mmyjc-prod', 'mktxn-prod', 'mknaw-prod', 'mmifp-prod', 'mybqb-prod', 'mmorp-prod', 'mpnek-prod', 'mafjf-prod', 'mueiz-prod', 'mtzsq-prod', 'mzgee-prod', 'madfa-prod', 'msbpt-prod', 'mtdxw-prod', 'mbrbr-prod', 'mzgyr-prod', 'mumaa-prod', 'mypzc-prod', 'mypzj-prod', 'mypzo-prod', 'mypdm-prod', 'mkdtw-prod', 'mkidr-prod', 'mknyr-prod', 'muxvz-prod', 'mkidx-prod', 'mabtt-prod', 'madkl-prod', 'mukoj-prod', 'muajo-prod', 'mtdjg-prod', 'mtdjx-prod', 'myhkl-prod', 'mypdu-prod', 'myjur-prod', 'mypzs-prod', 'mypzn-prod', 'myhkx-prod', 'mumao-prod', 'myjue-prod', 'muyun-prod', 'mumaf-prod', 'mkolc-prod', 'mykvq-prod', 'mumer-prod', 'mmktx-prod', 'mkzum-prod', 'musop-prod', 'mktqp-prod', 'yggfa-prod', 'mmuax-prod', 'mmyyb-prod', 'mmmui-prod', 'ylnof-prod', 'mkonv-prod', 'mbkrt-prod', 'mkaaf-prod', 'mkajo-prod', 'mkzvl-prod', 'mmucz-prod', 'yacvi-prod', 'mkaat-prod', 'mkafm-prod', 'mbbnz-prod', 'mkdgw-prod', 'mkdgz-prod', 'mkdgt-prod', 'mkdgd-prod', 'mmdsy-prod', 'mmdsu-prod', 'mmuas-prod', 'mmuzk-prod', 'mmuag-prod', 'mmdhh-prod', 'mmyya-prod', 'mmmur-prod', 'mmmug-prod', 'mmktd-prod', 'mlmro-prod', 'mmuta-prod', 'mugql-prod', 'mugqo-prod', 'mugqi-prod', 'mkzvr-prod', 'mzbrs-prod', 'mtngu-prod', 'myvtk-prod', 'myojc-prod', 'myiau-prod', 'mynla-prod', 'mkpxy-prod', 'mkaaz-prod', 'mkaay-prod', 'mkfhl-prod', 'mkadj-prod', 'mkatu-prod', 'myfdm-prod', 'mynzm-prod', 'musto-prod', 'yirnp-prod', 'mdydt-prod', 'myfxj-prod', 'myxgz-prod', 'mbzkp-prod', 'mmdyc-prod', 'mtoso-prod', 'makpb-prod', 'mabhj-prod', 'mazwe-prod', 'mdysc-prod', 'mtxcp-prod', 'maddh-prod', 'mbuza-prod', 'mmmby-prod', 'mypcm-prod', 'mmbvw-prod', 'mktfk-prod', 'myfhx-prod', 'muvet-prod', 'mmpef-prod', 'mmmvq-prod', 'mtafq-prod', 'mmzae-prod', 'mmifn-prod', 'mkzbp-prod', 'maowp-prod', 'mutiq-prod', 'mafah-prod', 'muxxe-prod', 'maoww-prod', 'muyut-prod', 'mypzv-prod', 'mpmwt-prod', 'mmmie-prod', 'mmdos-prod', 'mukgn-prod', 'mmjmq-prod', 'mabzk-prod', 'mmikz-prod', 'myfwv-prod', 'myfel-prod', 'muxxd-prod', 'mkarj-prod', 'mkacy-prod', 'mmoac-prod', 'mugch-prod', 'mbuhc-prod', 'mmxwr-prod', 'mmyhr-prod', 'mugic-prod', 'mkoip-prod', 'mtxcv-prod', 'mktio-prod', 'mkdrb-prod', 'mbyfl-prod', 'mxcle-prod', 'mkayz-prod', 'mmmsf-prod', 'mbihv-prod', 'mugep-prod', 'mdwqt-prod', 'mdwqa-prod', 'myjhy-prod', 'mazlt-prod', 'myeyl-prod', 'mabyo-prod', 'mmosd-prod', 'mynft-prod', 'mmobz-prod', 'mmikf-prod', 'mtxzo-prod', 'mkafr-prod', 'mkaff-prod', 'mkohv-prod', 'mkadl-prod', 'mmpmz-prod', 'mmybk-prod', 'mkpnx-prod', 'mkayo-prod', 'mtfmv-prod', 'mbihn-prod', 'mkgeq-prod', 'mkayc-prod', 'mmmxn-prod', 'mugqm-prod', 'madan-prod', 'maxia-prod', 'marhy-prod', 'mugrc-prod', 'mfvcr-prod', 'mmkhk-prod', 'mynil-prod', 'mmmbk-prod', 'mmmfp-prod', 'mmmbt-prod', 'mmdyv-prod', 'mbkdo-prod', 'mmuuu-prod', 'mzolh-prod', 'muxnx-prod', 'mabap-prod', 'mmfji-prod', 'mbtap-prod', 'mkihj-prod', 'mmnck-prod', 'mzdfh-prod', 'mbfif-prod', 'mykad-prod', 'mmumz-prod', 'mmylk-prod', 'mmywp-prod', 'muugk-prod', 'muuij-prod', 'mmoka-prod', 'mysgl-prod', 'mskde-prod', 'mmuao-prod', 'mbukx-prod', 'mtkpv-prod', 'mabog-prod', 'mmxte-prod', 'mabod-prod', 'mzfhb-prod', 'makxy-prod', 'mmnvs-prod', 'mvwaa-prod', 'mynna-prod', 'mbyzu-prod', 'mtgno-prod', 'mbywe-prod', 'mmlzy-prod', 'mkzvj-prod', 'maaqg-prod', 'maaqt-prod', 'masdl-prod', 'mkgnv-prod', 'maagh-prod', 'mmnoo-prod', 'mueps-prod', 'mbotj-prod', 'mtawr-prod', 'mdhzv-prod', 'myfnw-prod', 'ycqws-prod', 'mypqw-prod', 'mmyit-prod', 'musve-prod', 'mmpht-prod', 'mbyaw-prod', 'mzxtk-prod', 'mufwg-prod', 'mktzv-prod', 'mmnwg-prod', 'mbarh-prod', 'mulqx-prod', 'mmkdl-prod', 'mbumn-prod', 'mtdqd-prod', 'mtdqn-prod', 'mktxl-prod', 'maboo-prod', 'mylhz-prod', 'myfnd-prod', 'myrdk-prod', 'umufx-prod', 'yhrxo-prod', 'muxmp-prod', 'mmubc-prod', 'mmmzf-prod', 'myicr-prod', 'mmmqp-prod', 'mmygw-prod', 'mmocn-prod', 'mmvls-prod', 'uegqm-prod', 'mmikn-prod', 'yvcrp-prod', 'myfhv-prod', 'mmlcz-prod', 'maazq-prod', 'mmltq-prod', 'muscu-prod', 'mmyou-prod', 'mmxsq-prod', 'mugdl-prod', 'myprr-prod', 'murvf-prod', 'mzgos-prod', 'umjda-prod', 'mmoru-prod', 'muxnq-prod', 'mmnhr-prod', 'murot-prod', 'mfqyz-prod', 'mylwk-prod', 'yccgb-prod', 'muxwo-prod', 'mmeun-prod', 'mknys-prod', 'mznix-prod', 'mufpq-prod', 'myhso-prod', 'mufxe-prod', 'yhrxe-prod', 'mmlvv-prod', 'myfpj-prod', 'mktdh-prod', 'mmgpn-prod', 'mibvx-prod', 'muuon-prod', 'mtdxv-prod', 'mysjq-prod', 'myncx-prod', 'mmlxz-prod', 'mktxd-prod', 'mkaym-prod', 'mygff-prod', 'mzjpo-prod', 'mugsn-prod', 'mzqjh-prod', 'mzouf-prod', 'mzoug-prod', 'murvn-prod', 'muuip-prod', 'mbkmm-prod', 'myjnc-prod', 'muxie-prod', 'mabvs-prod', 'mydvt-prod', 'mabol-prod', 'mkxdg-prod', 'mmtrj-prod', 'mmupe-prod', 'mugiw-prod', 'mbbri-prod', 'mazsj-prod', 'myiec-prod', 'mtopv-prod', 'muxns-prod', 'mmygy-prod', 'myfhk-prod', 'mnosx-prod', 'mwxrk-prod', 'mtfwl-prod', 'mtzyk-prod', 'myprh-prod', 'muxwr-prod', 'mktqw-prod', 'muapt-prod', 'mugnu-prod', 'myutm-prod', 'mukrh-prod', 'mbblx-prod', 'mabzu-prod', 'mmlzt-prod', 'mukrq-prod', 'mkkra-prod', 'mmpxh-prod', 'mypxj-prod', 'mktuv-prod', 'mtgrc-prod', 'mkacu-prod', 'mugre-prod', 'mmosy-prod', 'mbyit-prod', 'mtdlw-prod', 'muytz-prod', 'mmtrl-prod', 'mabzz-prod', 'mmtvc-prod', 'mabzi-prod', 'mkdwz-prod', 'mbydw-prod', 'mbffx-prod', 'mmjfv-prod', 'mazyk-prod', 'mdwyp-prod', 'myiem-prod', 'myhfm-prod', 'mmykj-prod', 'mmoxp-prod', 'mfnrt-prod', 'mmnrb-prod', 'mknan-prod', 'mkfmx-prod', 'mumep-prod', 'mmizl-prod', 'mzfnt-prod', 'mmppp-prod', 'mmmfj-prod', 'mmmgn-prod', 'mmmbz-prod', 'mmmnn-prod', 'mabpq-prod', 'mmitv-prod', 'mmyqk-prod', 'myfcx-prod', 'maasx-prod', 'mugby-prod', 'mktdq-prod', 'mzdgh-prod', 'muxup-prod', 'yhreo-prod', 'myfwq-prod', 'myfwc-prod', 'mznbb-prod', 'muxol-prod', 'mabpv-prod', 'mmpmc-prod', 'mmpfz-prod', 'mmhbc-prod', 'myprg-prod', 'mtgnm-prod', 'muegt-prod', 'mmmuf-prod', 'mmmcm-prod', 'myjlq-prod', 'mmuia-prod', 'mkqxn-prod', 'mzmay-prod', 'mzgku-prod', 'ygdjn-prod', 'mkodv-prod', 'mawje-prod', 'mygea-prod', 'mcvns-prod', 'mkbqm-prod', 'mbkyv-prod', 'mtrdo-prod', 'mtafl-prod', 'mkzbr-prod', 'mkabl-prod', 'mkooh-prod', 'mmyyu-prod', 'mfahi-prod', 'mmkju-prod', 'mmows-prod', 'mycgb-prod', 'myjxk-prod', 'myjll-prod', 'mmcxs-prod', 'muxgf-prod', 'mmhqm-prod', 'mmnvg-prod', 'mmkcx-prod', 'mmytj-prod', 'mmyxk-prod', 'matrn-prod', 'matrg-prod', 'matro-prod', 'mkayj-prod', 'mypdi-prod', 'mmujx-prod', 'mkdme-prod', 'mmouo-prod', 'mkiiv-prod', 'mmmzt-prod', 'mmuvk-prod', 'mmubf-prod', 'mmlwq-prod', 'mywhy-prod', 'mywhu-prod', 'myjjs-prod', 'mbahj-prod', 'mbyzq-prod', 'mmjws-prod', 'mmlxi-prod', 'myvdq-prod', 'mzgue-prod', 'mmvhz-prod', 'mmudy-prod', 'mmgat-prod', 'mtaqq-prod', 'mkavt-prod', 'yggwi-prod', 'myhdn-prod', 'myhdu-prod', 'mbstm-prod', 'kyawi-prod', 'mkatb-prod', 'mkavw-prod', 'mmoko-prod', 'mmmqq-prod', 'muega-prod', 'mushi-prod', 'mttzm-prod', 'musoh-prod', 'muvzf-prod', 'mbuzs-prod', 'mbyzf-prod', 'myogh-prod', 'mmjqx-prod', 'mmivl-prod', 'mkdce-prod', 'mbugi-prod', 'myfda-prod', 'mnavi-prod', 'mbynn-prod', 'mknas-prod', 'uqhch-prod', 'mtzjp-prod', 'mznbk-prod', 'yoaow-prod', 'meihd-prod', 'mabti-prod', 'mbtjv-prod', 'myojn-prod', 'mypha-prod', 'mmtpo-prod', 'mkdaw-prod', 'mkomb-prod', 'mmmjg-prod', 'mmvpc-prod', 'mmuby-prod', 'matfx-prod', 'muguz-prod', 'mmmab-prod', 'muenc-prod', 'mmlmj-prod', 'mbkmb-prod', 'mmnxv-prod', 'mmdty-prod', 'mzmbc-prod', 'madgq-prod', 'mujge-prod', 'myuav-prod', 'mmunp-prod', 'ugefr-prod', 'mygdy-prod', 'myjya-prod', 'myuxl-prod', 'magkj-prod', 'myoxm-prod', 'mmvlz-prod', 'mbcja-prod', 'mbawa-prod', 'myiql-prod', 'musxs-prod', 'mypxq-prod', 'mmvbq-prod', 'myhgd-prod', 'mtdsf-prod', 'maalj-prod', 'murvw-prod', 'mugit-prod', 'mubkb-prod', 'mazwu-prod', 'mynli-prod', 'mymji-prod', 'mmpxq-prod'])\n",
            "7267\n"
          ]
        }
      ]
    },
    {
      "cell_type": "code",
      "metadata": {
        "id": "ORwf6KsZUFEF"
      },
      "source": [
        "# Exporting to a json file\n",
        "\n",
        "# Rename considering the mode of execution\n",
        "\n",
        "json.dump( vocab, open( r'./gdrive/MyDrive/Colab Notebooks/vocab_productbased.json', 'w' ) )"
      ],
      "execution_count": null,
      "outputs": []
    },
    {
      "cell_type": "markdown",
      "metadata": {
        "id": "Q9aZtz8NV6Bd"
      },
      "source": [
        "## Inverting and Listing vocab"
      ]
    },
    {
      "cell_type": "code",
      "metadata": {
        "id": "GFcmmXxVV-2p"
      },
      "source": [
        "inverse_vocab = {index: token for token, index in vocab.items()}\n",
        "# print(inverse_vocab.keys())\n",
        "# print(inverse_vocab[4])"
      ],
      "execution_count": null,
      "outputs": []
    },
    {
      "cell_type": "markdown",
      "metadata": {
        "id": "3kqsbMpt2AGd"
      },
      "source": [
        "# Extracting training sets"
      ]
    },
    {
      "cell_type": "code",
      "metadata": {
        "id": "M4jbuY3p6MMk",
        "colab": {
          "base_uri": "https://localhost:8080/"
        },
        "outputId": "63be876c-53aa-4d29-e3fb-c15398fbd360"
      },
      "source": [
        "most_freq_c.rename(columns={'search_log_id':'_id'}, inplace=True)\n",
        "most_freq_c.info()"
      ],
      "execution_count": null,
      "outputs": [
        {
          "output_type": "stream",
          "name": "stdout",
          "text": [
            "<class 'pandas.core.frame.DataFrame'>\n",
            "Int64Index: 1662905 entries, 0 to 2236733\n",
            "Data columns (total 4 columns):\n",
            " #   Column           Non-Null Count    Dtype \n",
            "---  ------           --------------    ----- \n",
            " 0   datetime         1662905 non-null  object\n",
            " 1   _id              1662905 non-null  object\n",
            " 2   rank             1662905 non-null  int64 \n",
            " 3   base_product_id  1662905 non-null  object\n",
            "dtypes: int64(1), object(3)\n",
            "memory usage: 63.4+ MB\n"
          ]
        }
      ]
    },
    {
      "cell_type": "markdown",
      "metadata": {
        "id": "dqOapmTKZpz0"
      },
      "source": [
        "## Merging datasets"
      ]
    },
    {
      "cell_type": "code",
      "metadata": {
        "colab": {
          "base_uri": "https://localhost:8080/"
        },
        "id": "XRrmYyV-2Fg9",
        "outputId": "11cb44e3-d574-4553-b5b1-b60aaae19ddf"
      },
      "source": [
        "# We should build targets (means queries), context (containing 1 + and 4 -), and it's labels\n",
        "# For each query, we should retrieve it's clicks to get it's products\n",
        "# Each of these query -> product denotes a positive sample\n",
        "# Maybe we have to join our three data frames\n",
        "# We don't need product data frame at all!\n",
        "# So just joining Qs and Clicks\n",
        "# A single Q can convert to a few entries\n",
        "merged_q_c = pd.merge(most_freq_q, most_freq_c, how='inner', on=[\"_id\"])\n",
        "print(merged_q_c.info())\n",
        "print(merged_q_c.head(5))"
      ],
      "execution_count": null,
      "outputs": [
        {
          "output_type": "stream",
          "name": "stdout",
          "text": [
            "<class 'pandas.core.frame.DataFrame'>\n",
            "Int64Index: 1662905 entries, 0 to 1662904\n",
            "Data columns (total 6 columns):\n",
            " #   Column           Non-Null Count    Dtype \n",
            "---  ------           --------------    ----- \n",
            " 0   _id              1662905 non-null  object\n",
            " 1   raw_query        1662905 non-null  object\n",
            " 2   datetime_x       1662905 non-null  object\n",
            " 3   datetime_y       1662905 non-null  object\n",
            " 4   rank             1662905 non-null  int64 \n",
            " 5   base_product_id  1662905 non-null  object\n",
            "dtypes: int64(1), object(5)\n",
            "memory usage: 88.8+ MB\n",
            "None\n",
            "                        _id raw_query  ... rank base_product_id\n",
            "0  6098383e97d4cd91f2a00f4d    موبایل  ...   25           mmmbh\n",
            "1  60983843cfdd4491dedcbd97       Ps4  ...    1           mmmis\n",
            "2  6098384f327e628bd4b38afe       a52  ...    4           mmyct\n",
            "3  6098384f327e628bd4b38afe       a52  ...    4           mmyct\n",
            "4  60983853dbcdf8a26ae98833    لپ تاپ  ...   56           mmnoo\n",
            "\n",
            "[5 rows x 6 columns]\n"
          ]
        }
      ]
    },
    {
      "cell_type": "code",
      "metadata": {
        "colab": {
          "base_uri": "https://localhost:8080/"
        },
        "id": "vGRYMgNq7NQS",
        "outputId": "606e0fdc-edf4-4240-82be-dbc65fe03264"
      },
      "source": [
        "# Just keeping the 'raw_query' and 'base_product_id' columns\n",
        "merged_q_c = merged_q_c[['raw_query','base_product_id']]\n",
        "\n",
        "\n",
        "# ***Note: these upcoming lines are just for categorical version\n",
        "\n",
        "# most_freq_p.rename(columns={'_id':'base_product_id'}, inplace=True)\n",
        "# # print(most_freq_p.info())\n",
        "# merged_q_c = pd.merge(merged_q_c, most_freq_p, how='inner', on=[\"base_product_id\"])\n",
        "# merged_q_c = merged_q_c[['raw_query','category_name']]\n",
        "# gc.collect()\n",
        "\n",
        "print(merged_q_c.info())\n",
        "print(merged_q_c.head(5))"
      ],
      "execution_count": null,
      "outputs": [
        {
          "output_type": "stream",
          "name": "stdout",
          "text": [
            "<class 'pandas.core.frame.DataFrame'>\n",
            "Int64Index: 1662905 entries, 0 to 1662904\n",
            "Data columns (total 2 columns):\n",
            " #   Column           Non-Null Count    Dtype \n",
            "---  ------           --------------    ----- \n",
            " 0   raw_query        1662905 non-null  object\n",
            " 1   base_product_id  1662905 non-null  object\n",
            "dtypes: object(2)\n",
            "memory usage: 38.1+ MB\n",
            "None\n",
            "  raw_query base_product_id\n",
            "0    موبایل           mmmbh\n",
            "1       Ps4           mmmis\n",
            "2       a52           mmyct\n",
            "3       a52           mmyct\n",
            "4    لپ تاپ           mmnoo\n"
          ]
        }
      ]
    },
    {
      "cell_type": "markdown",
      "metadata": {
        "id": "tqZJXU84iT2r"
      },
      "source": [
        "Checking categories of one significant query"
      ]
    },
    {
      "cell_type": "code",
      "metadata": {
        "colab": {
          "base_uri": "https://localhost:8080/"
        },
        "id": "1VtH2c83ibnE",
        "outputId": "d296630b-19df-4e6f-96d9-7ead9962ad4b"
      },
      "source": [
        "# merged_q_c[merged_q_c['raw_query'] == 'کولر گازی'].category_name.value_counts().head(10)\n",
        "merged_q_c[merged_q_c['raw_query'] == 'کولر گازی'].base_product_id.value_counts().head(10)"
      ],
      "execution_count": null,
      "outputs": [
        {
          "output_type": "execute_result",
          "data": {
            "text/plain": [
              "mmnrj    3167\n",
              "mmnrp    2835\n",
              "mmncm    1167\n",
              "mmnrh    1138\n",
              "mmncy     968\n",
              "mmnni     960\n",
              "mmnca     648\n",
              "mmnnf     588\n",
              "mmols     519\n",
              "mmnck     504\n",
              "Name: base_product_id, dtype: int64"
            ]
          },
          "metadata": {},
          "execution_count": 105
        }
      ]
    },
    {
      "cell_type": "markdown",
      "metadata": {
        "id": "Y_7zUdRde_-Z"
      },
      "source": [
        "## Putting into np arrays"
      ]
    },
    {
      "cell_type": "code",
      "metadata": {
        "colab": {
          "base_uri": "https://localhost:8080/"
        },
        "id": "wErI8hKsbTgF",
        "outputId": "fc3ab259-55d0-4e5d-e940-afd8380324bc"
      },
      "source": [
        "import random\n",
        "\n",
        "default = np.zeros(5, dtype=int)\n",
        "default[0] = 1\n",
        "# print(default)\n",
        "targets = []\n",
        "contexts = []\n",
        "labels = []\n",
        "temp = np.array(5)\n",
        "for ind in merged_q_c.index:\n",
        "    targets.append(vocab[merged_q_c['raw_query'][ind]])\n",
        "    temp = np.zeros(5, dtype=int)\n",
        "\n",
        "    # ***Note: change here when you want to switch to product_id training mode\n",
        "\n",
        "    # temp[0] = vocab[merged_q_c['category_name'][ind] + 'cat']\n",
        "    temp[0] = vocab[merged_q_c['base_product_id'][ind] + '-prod']\n",
        "\n",
        "    # getting 4 random negative samples\n",
        "    for i in range(1, 5):\n",
        "      temp[i] = random.randint(0, vocab_size - 1)\n",
        "    contexts.append(temp)\n",
        "    labels.append(default)\n",
        "\n",
        "    # Including Reverse (X, Y)\n",
        "\n",
        "    # targets.append(vocab[merged_q_c['category_name'][ind] + 'cat'])\n",
        "    # temp = np.zeros(5, dtype=int)\n",
        "\n",
        "    # # ***Note: change here when you want to switch to product_id training mode\n",
        "\n",
        "    # temp[0] = vocab[merged_q_c['raw_query'][ind]]\n",
        "    # # getting 4 random negative samples\n",
        "    # for i in range(1, 5):\n",
        "    #   temp[i] = random.randint(0, vocab_size - 1)\n",
        "    # contexts.append(temp)\n",
        "    # labels.append(default)\n",
        "\n",
        "\n",
        "targets = np.array(targets)\n",
        "contexts = np.array(contexts)\n",
        "labels = np.array(labels)\n",
        "\n",
        "gc.collect()\n",
        "print(targets[:5])\n",
        "print(contexts[:10,:5])\n",
        "print(labels[:10,:5])\n"
      ],
      "execution_count": null,
      "outputs": [
        {
          "output_type": "stream",
          "name": "stdout",
          "text": [
            "[1 2 3 3 4]\n",
            "[[5133 5647 6878 4592 2911]\n",
            " [6381 6495 4078 1318 4254]\n",
            " [5099 3415 3657 6429 3328]\n",
            " [5099 2295 5122 7199 4191]\n",
            " [6954  434 2159 1398 1820]\n",
            " [3281 6005  441 1921 3135]\n",
            " [3281 5968 5648 6581  705]\n",
            " [5116 5712 3099 2656 5897]\n",
            " [ 557 4688 5641 4630  624]\n",
            " [3425 2502  543 3883 5818]]\n",
            "[[1 0 0 0 0]\n",
            " [1 0 0 0 0]\n",
            " [1 0 0 0 0]\n",
            " [1 0 0 0 0]\n",
            " [1 0 0 0 0]\n",
            " [1 0 0 0 0]\n",
            " [1 0 0 0 0]\n",
            " [1 0 0 0 0]\n",
            " [1 0 0 0 0]\n",
            " [1 0 0 0 0]]\n"
          ]
        }
      ]
    },
    {
      "cell_type": "code",
      "metadata": {
        "colab": {
          "base_uri": "https://localhost:8080/"
        },
        "id": "KGpVTy37joFG",
        "outputId": "6ccee4f7-791d-408f-900d-4a7133073778"
      },
      "source": [
        "print(contexts.shape)\n",
        "print(type(contexts))"
      ],
      "execution_count": null,
      "outputs": [
        {
          "output_type": "stream",
          "name": "stdout",
          "text": [
            "(1662905, 5)\n",
            "<class 'numpy.ndarray'>\n"
          ]
        }
      ]
    },
    {
      "cell_type": "markdown",
      "metadata": {
        "id": "w_kFqsWGfkha"
      },
      "source": [
        "# Setting up tensorflow"
      ]
    },
    {
      "cell_type": "code",
      "metadata": {
        "id": "mzwMT2TucruZ"
      },
      "source": [
        "import tensorflow as tf\n",
        "from tensorflow.keras import layers\n",
        "AUTOTUNE = tf.data.AUTOTUNE"
      ],
      "execution_count": null,
      "outputs": []
    },
    {
      "cell_type": "markdown",
      "metadata": {
        "id": "UcibOyrxfrC8"
      },
      "source": [
        "## Defining \"dataset\""
      ]
    },
    {
      "cell_type": "code",
      "metadata": {
        "colab": {
          "base_uri": "https://localhost:8080/"
        },
        "id": "7KEPGeX5l1AR",
        "outputId": "7fe8f9b1-9d58-4d2f-8217-5982bcc92944"
      },
      "source": [
        "BATCH_SIZE = 1024\n",
        "BUFFER_SIZE = 10000\n",
        "dataset = tf.data.Dataset.from_tensor_slices(((targets, contexts), labels))\n",
        "dataset = dataset.shuffle(BUFFER_SIZE).batch(BATCH_SIZE, drop_remainder=True)\n",
        "print(dataset)"
      ],
      "execution_count": null,
      "outputs": [
        {
          "output_type": "stream",
          "name": "stdout",
          "text": [
            "<BatchDataset shapes: (((1024,), (1024, 5)), (1024, 5)), types: ((tf.int64, tf.int64), tf.int64)>\n"
          ]
        }
      ]
    },
    {
      "cell_type": "code",
      "metadata": {
        "colab": {
          "base_uri": "https://localhost:8080/"
        },
        "id": "MFQSUTk7l5As",
        "outputId": "ffc6275d-00ab-4ce1-e232-0da7c440d071"
      },
      "source": [
        "dataset = dataset.cache().prefetch(buffer_size=AUTOTUNE)\n",
        "print(dataset)"
      ],
      "execution_count": null,
      "outputs": [
        {
          "output_type": "stream",
          "name": "stdout",
          "text": [
            "<PrefetchDataset shapes: (((1024,), (1024, 5)), (1024, 5)), types: ((tf.int64, tf.int64), tf.int64)>\n"
          ]
        }
      ]
    },
    {
      "cell_type": "markdown",
      "metadata": {
        "id": "1mpwewnGf5Zi"
      },
      "source": [
        "## Word2Vec class implementation"
      ]
    },
    {
      "cell_type": "code",
      "metadata": {
        "id": "mv77Wp8qnBmO"
      },
      "source": [
        "class Word2Vec(tf.keras.Model):\n",
        "  def __init__(self, vocab_size, embedding_dim):\n",
        "    super(Word2Vec, self).__init__()\n",
        "    self.target_embedding = layers.Embedding(vocab_size,\n",
        "                                      embedding_dim,\n",
        "                                      input_length=1,\n",
        "                                      name=\"w2v_embedding\")\n",
        "    \n",
        "    # *** should we change right here?\n",
        "    self.context_embedding = layers.Embedding(vocab_size,\n",
        "                                       embedding_dim,\n",
        "                                       input_length=num_ns+1,\n",
        "                                       name=\"w2v_embedding2\")\n",
        "\n",
        "  def call(self, pair):\n",
        "    target, context = pair\n",
        "    # target: (batch, dummy?)  # The dummy axis doesn't exist in TF2.7+\n",
        "    # context: (batch, context)\n",
        "    if len(target.shape) == 2:\n",
        "      target = tf.squeeze(target, axis=1)\n",
        "    # target: (batch,)\n",
        "    word_emb = self.target_embedding(target)\n",
        "    # word_emb: (batch, embed)\n",
        "    context_emb = self.context_embedding(context)\n",
        "    # context_emb: (batch, context, embed)\n",
        "    dots = tf.einsum('be,bce->bc', word_emb, context_emb)\n",
        "    # dots: (batch, context)\n",
        "    return dots"
      ],
      "execution_count": null,
      "outputs": []
    },
    {
      "cell_type": "markdown",
      "metadata": {
        "id": "bBBxYS0ZgGub"
      },
      "source": [
        "## Possible loss function alternative"
      ]
    },
    {
      "cell_type": "code",
      "metadata": {
        "id": "wzEciJHrncjL"
      },
      "source": [
        "# Do ye need a change in our loss function?\n",
        "\n",
        "# def custom_loss(x_logit, y_true):\n",
        "#       return tf.nn.sigmoid_cross_entropy_with_logits(logits=x_logit, labels=y_true)"
      ],
      "execution_count": null,
      "outputs": []
    },
    {
      "cell_type": "markdown",
      "metadata": {
        "id": "vuMJw6hhgV4w"
      },
      "source": [
        "## Optimizer, Dims, loss"
      ]
    },
    {
      "cell_type": "code",
      "metadata": {
        "id": "V1W9y8gyndSH"
      },
      "source": [
        "embedding_dim = 300\n",
        "num_ns = 4\n",
        "word2vec = Word2Vec(vocab_size, embedding_dim)\n",
        "word2vec.compile(optimizer='adam',\n",
        "                 loss=tf.keras.losses.CategoricalCrossentropy(from_logits=True),\n",
        "                 metrics=['accuracy'])"
      ],
      "execution_count": null,
      "outputs": []
    },
    {
      "cell_type": "code",
      "metadata": {
        "id": "KXloDG6doYsd"
      },
      "source": [
        "tensorboard_callback = tf.keras.callbacks.TensorBoard(log_dir=\"logs\")"
      ],
      "execution_count": null,
      "outputs": []
    },
    {
      "cell_type": "markdown",
      "metadata": {
        "id": "lNelA_v0grZg"
      },
      "source": [
        "## Main learning section"
      ]
    },
    {
      "cell_type": "code",
      "metadata": {
        "colab": {
          "base_uri": "https://localhost:8080/"
        },
        "id": "YSHUGbX0ocyI",
        "outputId": "9f004711-159d-4762-816f-44b789f92b63"
      },
      "source": [
        "gc.collect()\n",
        "word2vec.fit(dataset, epochs=1, callbacks=[tensorboard_callback])"
      ],
      "execution_count": null,
      "outputs": [
        {
          "output_type": "stream",
          "name": "stdout",
          "text": [
            "1623/1623 [==============================] - 74s 46ms/step - loss: 0.1910 - accuracy: 0.9814\n"
          ]
        },
        {
          "output_type": "execute_result",
          "data": {
            "text/plain": [
              "<keras.callbacks.History at 0x7f2024f33a50>"
            ]
          },
          "metadata": {},
          "execution_count": 114
        }
      ]
    },
    {
      "cell_type": "code",
      "metadata": {
        "id": "jxkZr6XNohDL"
      },
      "source": [
        "# #docs_infra: no_execute\n",
        "# %load_ext tensorboard\n",
        "# %tensorboard --logdir logs"
      ],
      "execution_count": null,
      "outputs": []
    },
    {
      "cell_type": "markdown",
      "metadata": {
        "id": "RgnihoLsg5WM"
      },
      "source": [
        "## Extracting weights"
      ]
    },
    {
      "cell_type": "code",
      "metadata": {
        "id": "Jk-jXdBpyzLY",
        "colab": {
          "base_uri": "https://localhost:8080/"
        },
        "outputId": "439b98a7-9d17-44ff-9110-98d354e84028"
      },
      "source": [
        "weights = word2vec.get_layer('w2v_embedding').get_weights()[0]\n",
        "weights2 = word2vec.get_layer('w2v_embedding2').get_weights()[0]\n",
        "average_weights = ( weights + weights2 ) / 2.0\n",
        "print(average_weights.shape)\n",
        "print(str(weights[0, 0]) + \"  \" + str(weights2[0, 0]) + \"  \" + str(average_weights[0, 0])) \n",
        "\n",
        "# vocab = vectorize_layer.get_vocabulary()"
      ],
      "execution_count": null,
      "outputs": [
        {
          "output_type": "stream",
          "name": "stdout",
          "text": [
            "(7267, 300)\n",
            "0.0437675  -0.025960458  0.008903521\n"
          ]
        }
      ]
    },
    {
      "cell_type": "code",
      "metadata": {
        "colab": {
          "base_uri": "https://localhost:8080/"
        },
        "id": "4T16OupHnHkz",
        "outputId": "eca30bc9-4b07-4754-89aa-3eb06f9866fe"
      },
      "source": [
        "len(word2vec.get_layer('w2v_embedding').get_weights())\n",
        "len(word2vec.get_layer('w2v_embedding2').get_weights())"
      ],
      "execution_count": null,
      "outputs": [
        {
          "output_type": "execute_result",
          "data": {
            "text/plain": [
              "1"
            ]
          },
          "metadata": {},
          "execution_count": 55
        }
      ]
    },
    {
      "cell_type": "markdown",
      "metadata": {
        "id": "pl6hoY9UHKqY"
      },
      "source": [
        "Exporting weights to google drive "
      ]
    },
    {
      "cell_type": "code",
      "metadata": {
        "id": "poyRuCYZHPwK"
      },
      "source": [
        "pd.DataFrame(average_weights).to_csv(r'./gdrive/MyDrive/Colab Notebooks/learned_weights_productbased.tsv', sep=\"\\t\", index=False, header=None)"
      ],
      "execution_count": null,
      "outputs": []
    },
    {
      "cell_type": "markdown",
      "metadata": {
        "id": "Bx2S0lepJhjk"
      },
      "source": [
        "An alternative for exporting it into files"
      ]
    },
    {
      "cell_type": "code",
      "metadata": {
        "id": "NCkwCVY4y1_R"
      },
      "source": [
        "import io\n",
        "# out_v = io.open('vectors.tsv', 'w', encoding='utf-8')\n",
        "out_m = io.open('metadata.tsv', 'w', encoding='utf-8')\n",
        "# out_v2 = io.open('vectors2.tsv', 'w', encoding='utf-8')\n",
        "out_v_avg = io.open('vectors_avg.tsv', 'w', encoding='utf-8')\n",
        "\n",
        "for index, word in enumerate(vocab):\n",
        "  if index == 0:\n",
        "    continue  # skip 0, it's padding.\n",
        "  # vec = weights[index]\n",
        "  # vec2 = weights2[index]\n",
        "  # out_v.write('\\t'.join([str(x) for x in vec]) + \"\\n\")\n",
        "  # out_v2.write('\\t'.join([str(x) for x in vec2]) + \"\\n\")\n",
        "  vec_avg = average_weights[index]\n",
        "  out_v_avg.write('\\t'.join([str(x) for x in vec_avg]) + \"\\n\")\n",
        "  out_m.write(word + \"\\n\")\n",
        "# out_v.close()\n",
        "# out_v2.close()\n",
        "out_v_avg.close()\n",
        "out_m.close()"
      ],
      "execution_count": null,
      "outputs": []
    },
    {
      "cell_type": "code",
      "metadata": {
        "colab": {
          "base_uri": "https://localhost:8080/",
          "height": 17
        },
        "id": "DrqKMPT3y7ho",
        "outputId": "6a34f196-c0e0-43f9-8a01-d16179fa5a20"
      },
      "source": [
        "try:\n",
        "  from google.colab import files\n",
        "  # files.download('vectors.tsv')\n",
        "  # files.download('vectors2.tsv')\n",
        "  files.download('vectors_avg.tsv')\n",
        "  files.download('metadata.tsv')\n",
        "except Exception:\n",
        "  pass"
      ],
      "execution_count": null,
      "outputs": [
        {
          "output_type": "display_data",
          "data": {
            "application/javascript": [
              "\n",
              "    async function download(id, filename, size) {\n",
              "      if (!google.colab.kernel.accessAllowed) {\n",
              "        return;\n",
              "      }\n",
              "      const div = document.createElement('div');\n",
              "      const label = document.createElement('label');\n",
              "      label.textContent = `Downloading \"${filename}\": `;\n",
              "      div.appendChild(label);\n",
              "      const progress = document.createElement('progress');\n",
              "      progress.max = size;\n",
              "      div.appendChild(progress);\n",
              "      document.body.appendChild(div);\n",
              "\n",
              "      const buffers = [];\n",
              "      let downloaded = 0;\n",
              "\n",
              "      const channel = await google.colab.kernel.comms.open(id);\n",
              "      // Send a message to notify the kernel that we're ready.\n",
              "      channel.send({})\n",
              "\n",
              "      for await (const message of channel.messages) {\n",
              "        // Send a message to notify the kernel that we're ready.\n",
              "        channel.send({})\n",
              "        if (message.buffers) {\n",
              "          for (const buffer of message.buffers) {\n",
              "            buffers.push(buffer);\n",
              "            downloaded += buffer.byteLength;\n",
              "            progress.value = downloaded;\n",
              "          }\n",
              "        }\n",
              "      }\n",
              "      const blob = new Blob(buffers, {type: 'application/binary'});\n",
              "      const a = document.createElement('a');\n",
              "      a.href = window.URL.createObjectURL(blob);\n",
              "      a.download = filename;\n",
              "      div.appendChild(a);\n",
              "      a.click();\n",
              "      div.remove();\n",
              "    }\n",
              "  "
            ],
            "text/plain": [
              "<IPython.core.display.Javascript object>"
            ]
          },
          "metadata": {}
        },
        {
          "output_type": "display_data",
          "data": {
            "application/javascript": [
              "download(\"download_fe0fb39c-cef4-48da-af78-96a658f151dc\", \"vectors_avg.tsv\", 5494920)"
            ],
            "text/plain": [
              "<IPython.core.display.Javascript object>"
            ]
          },
          "metadata": {}
        },
        {
          "output_type": "display_data",
          "data": {
            "application/javascript": [
              "\n",
              "    async function download(id, filename, size) {\n",
              "      if (!google.colab.kernel.accessAllowed) {\n",
              "        return;\n",
              "      }\n",
              "      const div = document.createElement('div');\n",
              "      const label = document.createElement('label');\n",
              "      label.textContent = `Downloading \"${filename}\": `;\n",
              "      div.appendChild(label);\n",
              "      const progress = document.createElement('progress');\n",
              "      progress.max = size;\n",
              "      div.appendChild(progress);\n",
              "      document.body.appendChild(div);\n",
              "\n",
              "      const buffers = [];\n",
              "      let downloaded = 0;\n",
              "\n",
              "      const channel = await google.colab.kernel.comms.open(id);\n",
              "      // Send a message to notify the kernel that we're ready.\n",
              "      channel.send({})\n",
              "\n",
              "      for await (const message of channel.messages) {\n",
              "        // Send a message to notify the kernel that we're ready.\n",
              "        channel.send({})\n",
              "        if (message.buffers) {\n",
              "          for (const buffer of message.buffers) {\n",
              "            buffers.push(buffer);\n",
              "            downloaded += buffer.byteLength;\n",
              "            progress.value = downloaded;\n",
              "          }\n",
              "        }\n",
              "      }\n",
              "      const blob = new Blob(buffers, {type: 'application/binary'});\n",
              "      const a = document.createElement('a');\n",
              "      a.href = window.URL.createObjectURL(blob);\n",
              "      a.download = filename;\n",
              "      div.appendChild(a);\n",
              "      a.click();\n",
              "      div.remove();\n",
              "    }\n",
              "  "
            ],
            "text/plain": [
              "<IPython.core.display.Javascript object>"
            ]
          },
          "metadata": {}
        },
        {
          "output_type": "display_data",
          "data": {
            "application/javascript": [
              "download(\"download_8996bfc2-282f-4f21-988f-7a2a717149c0\", \"metadata.tsv\", 46001)"
            ],
            "text/plain": [
              "<IPython.core.display.Javascript object>"
            ]
          },
          "metadata": {}
        }
      ]
    },
    {
      "cell_type": "code",
      "metadata": {
        "colab": {
          "base_uri": "https://localhost:8080/"
        },
        "id": "GFEGNKsC1lv0",
        "outputId": "0cf2586a-f5ba-472e-827a-2e19c04f9355"
      },
      "source": [
        "print(most_freq_p['category_name'].value_counts().shape)\n",
        "my_product = most_freq_p[most_freq_p['_id'] == 'mzkmd']\n",
        "print(my_product['category_name'])\n",
        "print(my_product['sellers'])"
      ],
      "execution_count": null,
      "outputs": [
        {
          "output_type": "stream",
          "text": [
            "(756,)\n",
            "36343    ماشین اصلاح و ریش‌ تراش\n",
            "Name: category_name, dtype: object\n",
            "36343    [{'name1': 'ریش تراش فیلیپس (هلند) 5000 S5672/...\n",
            "Name: sellers, dtype: object\n"
          ],
          "name": "stdout"
        }
      ]
    },
    {
      "cell_type": "code",
      "metadata": {
        "colab": {
          "base_uri": "https://localhost:8080/"
        },
        "id": "HZokhkqfoVm7",
        "outputId": "e5d55a68-af50-4366-f4c4-1c090617599b"
      },
      "source": [
        "print(average_weights[:5,:5])"
      ],
      "execution_count": null,
      "outputs": [
        {
          "output_type": "stream",
          "text": [
            "[[-0.02409964  0.13826536 -0.18278532  0.01125851 -0.04670435]\n",
            " [-0.15826955  0.04051213 -0.08192925 -0.1244172  -0.06435126]\n",
            " [ 0.07748422  0.12065294 -0.06195807  0.07564399  0.03261204]\n",
            " [-0.02833261  0.10057643 -0.11756508 -0.0561972  -0.04967486]\n",
            " [ 0.1147184   0.04362245 -0.09093378 -0.07859519 -0.00983895]]\n"
          ],
          "name": "stdout"
        }
      ]
    }
  ]
}
