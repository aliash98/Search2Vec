{
  "nbformat": 4,
  "nbformat_minor": 0,
  "metadata": {
    "colab": {
      "name": "SkipGram_Validation_Code.ipynb",
      "provenance": [],
      "authorship_tag": "ABX9TyN18GcyVLX+nUfIjusrqH54",
      "include_colab_link": true
    },
    "kernelspec": {
      "name": "python3",
      "display_name": "Python 3"
    },
    "language_info": {
      "name": "python"
    }
  },
  "cells": [
    {
      "cell_type": "markdown",
      "metadata": {
        "id": "view-in-github",
        "colab_type": "text"
      },
      "source": [
        "<a href=\"https://colab.research.google.com/github/aliash98/Search2Vec/blob/main/SkipGram_Validation_Code.ipynb\" target=\"_parent\"><img src=\"https://colab.research.google.com/assets/colab-badge.svg\" alt=\"Open In Colab\"/></a>"
      ]
    },
    {
      "cell_type": "markdown",
      "metadata": {
        "id": "xTTF56m2lJ9w"
      },
      "source": [
        "## Initialization"
      ]
    },
    {
      "cell_type": "code",
      "metadata": {
        "colab": {
          "base_uri": "https://localhost:8080/"
        },
        "id": "dTf_KQ3RlSfr",
        "outputId": "6a811007-2dd6-4ae4-836a-a3e00f9e03db"
      },
      "source": [
        "!pip install pandas\n",
        "!pip install numpy"
      ],
      "execution_count": null,
      "outputs": [
        {
          "output_type": "stream",
          "name": "stdout",
          "text": [
            "Requirement already satisfied: pandas in /usr/local/lib/python3.7/dist-packages (1.1.5)\n",
            "Requirement already satisfied: pytz>=2017.2 in /usr/local/lib/python3.7/dist-packages (from pandas) (2018.9)\n",
            "Requirement already satisfied: numpy>=1.15.4 in /usr/local/lib/python3.7/dist-packages (from pandas) (1.19.5)\n",
            "Requirement already satisfied: python-dateutil>=2.7.3 in /usr/local/lib/python3.7/dist-packages (from pandas) (2.8.2)\n",
            "Requirement already satisfied: six>=1.5 in /usr/local/lib/python3.7/dist-packages (from python-dateutil>=2.7.3->pandas) (1.15.0)\n",
            "Requirement already satisfied: numpy in /usr/local/lib/python3.7/dist-packages (1.19.5)\n"
          ]
        }
      ]
    },
    {
      "cell_type": "code",
      "metadata": {
        "id": "aCUTKQm7lYSw"
      },
      "source": [
        "from datetime import datetime\n",
        "import pandas as pd\n",
        "import numpy as np\n",
        "import re\n",
        "import json\n",
        "import warnings\n",
        "import gc \n",
        "from tqdm import tqdm, trange\n",
        "from scipy import spatial\n",
        "import math"
      ],
      "execution_count": null,
      "outputs": []
    },
    {
      "cell_type": "code",
      "metadata": {
        "colab": {
          "base_uri": "https://localhost:8080/"
        },
        "id": "L56vGsu-mEd-",
        "outputId": "3e963372-3441-455e-8448-0d3cd20e5abf"
      },
      "source": [
        "from google.colab import drive\n",
        "drive.mount('/content/gdrive')"
      ],
      "execution_count": null,
      "outputs": [
        {
          "output_type": "stream",
          "name": "stdout",
          "text": [
            "Drive already mounted at /content/gdrive; to attempt to forcibly remount, call drive.mount(\"/content/gdrive\", force_remount=True).\n"
          ]
        }
      ]
    },
    {
      "cell_type": "code",
      "metadata": {
        "colab": {
          "base_uri": "https://localhost:8080/"
        },
        "id": "mZI--UmymhWb",
        "outputId": "326fa1a5-6f67-4646-9604-0aa878de4aa7"
      },
      "source": [
        "df = pd.read_csv(r'./gdrive/MyDrive/Colab Notebooks/learned_weights_productbased.tsv', sep=\"\\t\")   \n",
        "weights = df.values\n",
        "\n",
        "# *** Note : this weights matrix doesn't contain the 0th redundant index\n",
        "\n",
        "print(weights.shape)\n",
        "print(weights[:5, :5])"
      ],
      "execution_count": null,
      "outputs": [
        {
          "output_type": "stream",
          "name": "stdout",
          "text": [
            "(7266, 300)\n",
            "[[-0.13176316  0.06450842  0.04117316  0.09357771 -0.10613987]\n",
            " [ 0.13581131  0.06118518  0.06497271  0.09971684  0.11181994]\n",
            " [-0.09656929  0.06580082 -0.1086641   0.08446457  0.02570293]\n",
            " [ 0.09812609 -0.12900965 -0.13850017  0.06715225 -0.10543239]\n",
            " [-0.15182501  0.08127624  0.07283206  0.12366455 -0.11300164]]\n"
          ]
        }
      ]
    },
    {
      "cell_type": "code",
      "metadata": {
        "colab": {
          "base_uri": "https://localhost:8080/"
        },
        "id": "KLOIjdBmjeFi",
        "outputId": "971f08e5-467a-4b22-d20c-e7301f10620d"
      },
      "source": [
        "vocab = json.load( open( r'./gdrive/MyDrive/Colab Notebooks/vocab_productbased.json' ) )\n",
        "print(type(vocab))\n",
        "inverse_vocab = {index: token for token, index in vocab.items()}\n",
        "print(inverse_vocab[1])"
      ],
      "execution_count": null,
      "outputs": [
        {
          "output_type": "stream",
          "name": "stdout",
          "text": [
            "<class 'dict'>\n",
            "موبایل\n"
          ]
        }
      ]
    },
    {
      "cell_type": "markdown",
      "metadata": {
        "id": "EVYwhmzypjn1"
      },
      "source": [
        "## Finding the least cosine distance for a point"
      ]
    },
    {
      "cell_type": "code",
      "metadata": {
        "id": "jBs-PrJNppvR"
      },
      "source": [
        "def least_cosine_distance(index, k):\n",
        "  vocab_size, dim = weights.shape\n",
        "  vector = weights[index, :]\n",
        "  # print(vector.shape)\n",
        "  # lets find the k nearest point to this\n",
        "  distances = []\n",
        "  indexes = []\n",
        "  min_distances = []\n",
        "  for i in range(0, vocab_size):\n",
        "    distances.append(spatial.distance.cosine(vector, weights[i, :]))\n",
        "  counter = 0\n",
        "  while counter < k:\n",
        "    temp_index = np.argmin(distances)\n",
        "    if temp_index == index:\n",
        "      distances[temp_index] = 1\n",
        "      continue\n",
        "    if not inverse_vocab[temp_index].endswith('-prod'):\n",
        "      distances[temp_index] = 1\n",
        "      continue\n",
        "    indexes.append(temp_index + 1)\n",
        "    min_distances.append(distances[temp_index])\n",
        "    distances[temp_index] = 1\n",
        "    counter = counter + 1\n",
        "  return indexes, min_distances \n",
        "\n",
        "    "
      ],
      "execution_count": null,
      "outputs": []
    },
    {
      "cell_type": "code",
      "metadata": {
        "colab": {
          "base_uri": "https://localhost:8080/"
        },
        "id": "6jul9srQl5kM",
        "outputId": "3ed6885d-b219-46b2-cf71-696a4709cb31"
      },
      "source": [
        "vocab['هارد اکسترنال']"
      ],
      "execution_count": null,
      "outputs": [
        {
          "output_type": "execute_result",
          "data": {
            "text/plain": [
              "42"
            ]
          },
          "metadata": {},
          "execution_count": 58
        }
      ]
    },
    {
      "cell_type": "code",
      "metadata": {
        "colab": {
          "base_uri": "https://localhost:8080/"
        },
        "id": "Xa-NBFlUetoa",
        "outputId": "cbd8184c-c120-4d51-ba3a-816619faef65"
      },
      "source": [
        "my_point = 42\n",
        "indexes, min_distances = least_cosine_distance(my_point - 1, 10)\n",
        "print(inverse_vocab[my_point])\n",
        "print(min_distances)\n",
        "print(indexes)\n",
        "for index in indexes:\n",
        "  print(inverse_vocab[index])\n",
        "# a = weights[33, :]\n",
        "# b = weights[714, :]\n",
        "# print(1 - np.dot(a, b)/(np.linalg.norm(a) * np.linalg.norm(b)))"
      ],
      "execution_count": null,
      "outputs": [
        {
          "output_type": "stream",
          "name": "stdout",
          "text": [
            "هارد اکسترنال\n",
            "[0.06177504337191009, 0.07163379492400113, 0.07357228260164206, 0.07426750791217762, 0.07558182972033023, 0.07700407940401566, 0.07701380002998082, 0.0789112422859547, 0.08323561698513049, 0.08544488216035717]\n",
            "[5856, 1777, 1124, 3612, 1758, 3157, 1955, 1588, 5946, 6209]\n",
            "mmngy-prod\n",
            "mmngf-prod\n",
            "mmngk-prod\n",
            "mmngz-prod\n",
            "mmnvf-prod\n",
            "mmnga-prod\n",
            "mmocp-prod\n",
            "mmnvd-prod\n",
            "mmika-prod\n",
            "mmini-prod\n"
          ]
        }
      ]
    },
    {
      "cell_type": "markdown",
      "metadata": {
        "id": "bTzexzRpmEPI"
      },
      "source": [
        "## Getting the validation set"
      ]
    },
    {
      "cell_type": "code",
      "metadata": {
        "id": "6xWYnFxLO4eR"
      },
      "source": [
        "validation_query = pd.read_csv (r'./gdrive/MyDrive/Colab Notebooks/most_freq_queries_validation.csv')\n",
        "validation_clicks = pd.read_csv (r'./gdrive/MyDrive/Colab Notebooks/most_freq_clicks_validation.csv')\n",
        "validation_products = pd.read_csv (r'./gdrive/MyDrive/Colab Notebooks/most_freq_products_validation.csv')"
      ],
      "execution_count": null,
      "outputs": []
    },
    {
      "cell_type": "code",
      "metadata": {
        "id": "SWVZjVqxPokD"
      },
      "source": [
        "# Rename\n",
        "validation_clicks.rename(columns={'search_log_id':'_id'}, inplace=True)"
      ],
      "execution_count": null,
      "outputs": []
    },
    {
      "cell_type": "code",
      "metadata": {
        "colab": {
          "base_uri": "https://localhost:8080/"
        },
        "id": "1PCB-_YxjaiG",
        "outputId": "12cd6f03-f051-42be-ef12-ccac99a58c4a"
      },
      "source": [
        "print(validation_query.info())\n",
        "print(validation_clicks.info())\n",
        "print(validation_products.info())"
      ],
      "execution_count": null,
      "outputs": [
        {
          "output_type": "stream",
          "name": "stdout",
          "text": [
            "<class 'pandas.core.frame.DataFrame'>\n",
            "RangeIndex: 243638 entries, 0 to 243637\n",
            "Data columns (total 3 columns):\n",
            " #   Column     Non-Null Count   Dtype \n",
            "---  ------     --------------   ----- \n",
            " 0   _id        243638 non-null  object\n",
            " 1   raw_query  243638 non-null  object\n",
            " 2   datetime   243638 non-null  object\n",
            "dtypes: object(3)\n",
            "memory usage: 5.6+ MB\n",
            "None\n",
            "<class 'pandas.core.frame.DataFrame'>\n",
            "RangeIndex: 395070 entries, 0 to 395069\n",
            "Data columns (total 4 columns):\n",
            " #   Column           Non-Null Count   Dtype \n",
            "---  ------           --------------   ----- \n",
            " 0   datetime         395070 non-null  object\n",
            " 1   _id              395070 non-null  object\n",
            " 2   rank             395070 non-null  int64 \n",
            " 3   base_product_id  395070 non-null  object\n",
            "dtypes: int64(1), object(3)\n",
            "memory usage: 12.1+ MB\n",
            "None\n",
            "<class 'pandas.core.frame.DataFrame'>\n",
            "RangeIndex: 45544 entries, 0 to 45543\n",
            "Data columns (total 3 columns):\n",
            " #   Column         Non-Null Count  Dtype \n",
            "---  ------         --------------  ----- \n",
            " 0   _id            45544 non-null  object\n",
            " 1   category_name  45544 non-null  object\n",
            " 2   sellers        45544 non-null  object\n",
            "dtypes: object(3)\n",
            "memory usage: 1.0+ MB\n",
            "None\n"
          ]
        }
      ]
    },
    {
      "cell_type": "markdown",
      "metadata": {
        "id": "EqjOf25kLVM9"
      },
      "source": [
        "## 10 nearaset category/product vocabulary"
      ]
    },
    {
      "cell_type": "code",
      "metadata": {
        "id": "ozwbFsUeptBj"
      },
      "source": [
        "nearest_cat_vocab = {}\n",
        "counter = 0\n",
        "for word in vocab.keys():\n",
        "  if not word.endswith('-prod'):\n",
        "    counter += 1\n",
        "    print(counter)\n",
        "    indexes, min_distances = least_cosine_distance(int(vocab[word]) - 1, 10)\n",
        "    temp_list = []\n",
        "    for index in indexes:\n",
        "      temp_list.append(inverse_vocab[index])\n",
        "    nearest_cat_vocab[word] = temp_list\n",
        "  \n",
        "print(nearest_cat_vocab)"
      ],
      "execution_count": null,
      "outputs": []
    },
    {
      "cell_type": "markdown",
      "metadata": {
        "id": "fOD1uxUBLPvU"
      },
      "source": [
        "## Constructing the list of logs"
      ]
    },
    {
      "cell_type": "code",
      "metadata": {
        "colab": {
          "base_uri": "https://localhost:8080/"
        },
        "id": "DBRIfDOQGESm",
        "outputId": "36f7e2fe-fc2c-48de-a12c-440564188875"
      },
      "source": [
        "logs = []\n",
        "for i in range(1, 11):\n",
        "  logs.append(1 / math.log(i + 1, 2))\n",
        "print(logs)"
      ],
      "execution_count": null,
      "outputs": [
        {
          "output_type": "stream",
          "name": "stdout",
          "text": [
            "[1.0, 0.6309297535714574, 0.5, 0.43067655807339306, 0.38685280723454163, 0.3562071871080222, 0.3333333333333333, 0.3154648767857287, 0.30102999566398114, 0.2890648263178878]\n"
          ]
        }
      ]
    },
    {
      "cell_type": "markdown",
      "metadata": {
        "id": "8OiJA-jwLJqH"
      },
      "source": [
        "## Merging all datasets"
      ]
    },
    {
      "cell_type": "code",
      "metadata": {
        "colab": {
          "base_uri": "https://localhost:8080/"
        },
        "id": "UA7aqocztuyp",
        "outputId": "5db4e7ed-5cb8-4061-ec85-f252485ac39f"
      },
      "source": [
        "# *** Note: next lines are for categorical mode\n",
        "\n",
        "# validation_products.rename(columns={'_id':'base_product_id'}, inplace=True)\n",
        "# merged_click_product = pd.merge(validation_clicks, validation_products, how='inner', on=[\"base_product_id\"])\n",
        "# print(merged_click_product.info())\n",
        "# merged_click_product = merged_click_product.drop_duplicates(subset=['_id'])\n",
        "\n",
        "merged_click_product = validation_clicks.drop_duplicates(subset=['_id'])\n",
        "total_df = pd.merge(validation_query, merged_click_product, how='inner', on=[\"_id\"])\n",
        "total_df.info()"
      ],
      "execution_count": null,
      "outputs": [
        {
          "output_type": "stream",
          "name": "stdout",
          "text": [
            "<class 'pandas.core.frame.DataFrame'>\n",
            "Int64Index: 243638 entries, 0 to 243637\n",
            "Data columns (total 6 columns):\n",
            " #   Column           Non-Null Count   Dtype \n",
            "---  ------           --------------   ----- \n",
            " 0   _id              243638 non-null  object\n",
            " 1   raw_query        243638 non-null  object\n",
            " 2   datetime_x       243638 non-null  object\n",
            " 3   datetime_y       243638 non-null  object\n",
            " 4   rank             243638 non-null  int64 \n",
            " 5   base_product_id  243638 non-null  object\n",
            "dtypes: int64(1), object(5)\n",
            "memory usage: 13.0+ MB\n"
          ]
        }
      ]
    },
    {
      "cell_type": "markdown",
      "metadata": {
        "id": "igad0iXZLx_0"
      },
      "source": [
        "## Computing the nDCG"
      ]
    },
    {
      "cell_type": "code",
      "metadata": {
        "colab": {
          "base_uri": "https://localhost:8080/"
        },
        "id": "WFKzBz1pc6pl",
        "outputId": "9f406e96-2754-4632-d112-38a3bb27441d"
      },
      "source": [
        "N, M = total_df.shape\n",
        "print(N)\n",
        "\n",
        "first_hit = 0\n",
        "first_hit_default_method = 0\n",
        "ndcg = 0\n",
        "ndcg_default_method = 0\n",
        "\n",
        "for i in range(N):\n",
        "  temp_query = total_df.iloc[i, 1]\n",
        "  # temp_category = total_df.iloc[i, 6] + 'cat'\n",
        "  temp_product = total_df.iloc[i, 5] + '-prod'\n",
        "\n",
        "  for j in range(10):\n",
        "    if nearest_cat_vocab[temp_query][j] == temp_product:\n",
        "      if j == 0:\n",
        "        first_hit = first_hit + 1\n",
        "      ndcg = ndcg + logs[j]\n",
        "      break\n",
        "  temp_rank = int(total_df.iloc[i, 4])\n",
        "  if temp_rank < 10:\n",
        "    ndcg_default_method = ndcg_default_method + logs[temp_rank]\n",
        "    if temp_rank == 0:\n",
        "        first_hit_default_method = first_hit_default_method + 1\n",
        "        # print('hi')\n",
        "    # print(i)\n",
        "print(ndcg)\n",
        "\n",
        "\n",
        "\n"
      ],
      "execution_count": null,
      "outputs": [
        {
          "output_type": "stream",
          "name": "stdout",
          "text": [
            "243638\n",
            "43845.48686319846\n"
          ]
        }
      ]
    },
    {
      "cell_type": "code",
      "metadata": {
        "colab": {
          "base_uri": "https://localhost:8080/"
        },
        "id": "jSZgzOO0KDTr",
        "outputId": "95f218e4-5da8-4c43-f510-e17131d879ed"
      },
      "source": [
        "print('Observed model nDCG, according to the first clicks of each query, is ' + \"{:.2f}\".format(ndcg/N * 100) + '%')\n",
        "print('Observed default nDCG, according to the first clicks of each query, is ' + \"{:.2f}\".format(ndcg_default_method/N * 100) + '%')"
      ],
      "execution_count": null,
      "outputs": [
        {
          "output_type": "stream",
          "name": "stdout",
          "text": [
            "Observed model nDCG, according to the first clicks of each query, is 18.00%\n",
            "Observed default nDCG, according to the first clicks of each query, is 27.53%\n"
          ]
        }
      ]
    },
    {
      "cell_type": "code",
      "metadata": {
        "colab": {
          "base_uri": "https://localhost:8080/"
        },
        "id": "gD81mavPMkth",
        "outputId": "35132ba0-1cf4-4bfa-b19d-fda488c5cdec"
      },
      "source": [
        "print('Observed first hit, according to the model, is ' + \"{:.2f}\".format(first_hit/N * 100) + '%')\n",
        "print('Observed first hit, according to the default model, is ' + \"{:.2f}\".format(first_hit_default_method/N * 100) + '%')"
      ],
      "execution_count": null,
      "outputs": [
        {
          "output_type": "stream",
          "name": "stdout",
          "text": [
            "Observed first hit, according to the model, is 6.81%\n",
            "Observed first hit, according to the default model, is 11.54%\n"
          ]
        }
      ]
    },
    {
      "cell_type": "code",
      "metadata": {
        "colab": {
          "base_uri": "https://localhost:8080/"
        },
        "id": "a6r-2T04ICU0",
        "outputId": "d02310f5-210e-416b-fbe9-48b81f97ba00"
      },
      "source": [
        "x, y = validation_products.shape\n",
        "print(x)\n",
        "plus = 0\n",
        "for k in range(x-1):\n",
        "  if (validation_products.iloc[k, 0] + '-prod') not in vocab.keys():\n",
        "    plus += 1\n",
        "print(plus)"
      ],
      "execution_count": null,
      "outputs": [
        {
          "output_type": "stream",
          "name": "stdout",
          "text": [
            "45544\n",
            "36162\n"
          ]
        }
      ]
    },
    {
      "cell_type": "code",
      "metadata": {
        "colab": {
          "base_uri": "https://localhost:8080/"
        },
        "id": "TlEP8C7_SQAE",
        "outputId": "6ec0d893-f503-47a0-f8b1-512d46b2b021"
      },
      "source": [
        "# query_cat_occur = merged_q_c.groupby(merged_q_c.columns.tolist(),as_index=False).size()\n",
        "\n",
        "\n",
        "# merged_q_c['occur'] = merged_q_c.groupby('raw_query')['category_name'].transform('size')\n",
        "# print(query_cat_occur.head(5))"
      ],
      "execution_count": null,
      "outputs": [
        {
          "output_type": "stream",
          "text": [
            "    raw_query            category_name  size\n",
            "0  12 pro max                شارژر اپل     2\n",
            "1  12 pro max    محافظ صفحه گوشی آیفون     2\n",
            "2  12 pro max   کیف و کاور گوشی و تبلت     9\n",
            "3  12 pro max          گوشی اپل، آیفون   468\n",
            "4         206  سایر لوازم تزئینی خودرو     1\n"
          ],
          "name": "stdout"
        }
      ]
    },
    {
      "cell_type": "code",
      "metadata": {
        "colab": {
          "base_uri": "https://localhost:8080/"
        },
        "id": "dE3sqgR4eIDo",
        "outputId": "514af81f-ca77-499d-efa3-05952f0a6c7c"
      },
      "source": [
        "# print(query_cat_occur[query_cat_occur['raw_query'] == 'ماشین'])"
      ],
      "execution_count": null,
      "outputs": [
        {
          "output_type": "stream",
          "text": [
            "     raw_query                  category_name  size\n",
            "1942     ماشین                    اسکناس شمار     1\n",
            "1943     ماشین         تجهیزات آشپزخانه صنعتی     7\n",
            "1944     ماشین                دستگاه برش کاغذ     1\n",
            "1945     ماشین                   دستگاه ماینر     1\n",
            "1946     ماشین  دستگاه‌های بسته‌بندی و شیرینگ     2\n",
            "1947     ماشین        سایر برندهای اسپرسو ساز     1\n",
            "1948     ماشین               فایل‌های دانلودی     4\n",
            "1949     ماشین               قطعات الکترونیکی     2\n",
            "1950     ماشین          لوازم جانبی ابزارآلات     3\n",
            "1951     ماشین        ماشین اصلاح و ریش‌ تراش   313\n",
            "1952     ماشین                    ماشین شارژی     2\n",
            "1953     ماشین                ماشین ظرف‌‌شویی     1\n",
            "1954     ماشین   ماشین، قطار، کشتی اسباب بازی   729\n"
          ],
          "name": "stdout"
        }
      ]
    }
  ]
}
