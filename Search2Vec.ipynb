{
  "nbformat": 4,
  "nbformat_minor": 0,
  "metadata": {
    "colab": {
      "name": "Search2Vec.ipynb",
      "provenance": [],
      "collapsed_sections": [
        "pGpbpb4AiY4H",
        "2m2pIJ4y-K7Y"
      ],
      "toc_visible": true,
      "authorship_tag": "ABX9TyNkD05Azq5OafdFgHpwYPcu",
      "include_colab_link": true
    },
    "kernelspec": {
      "name": "python3",
      "display_name": "Python 3"
    },
    "language_info": {
      "name": "python"
    }
  },
  "cells": [
    {
      "cell_type": "markdown",
      "metadata": {
        "id": "view-in-github",
        "colab_type": "text"
      },
      "source": [
        "<a href=\"https://colab.research.google.com/github/aliash98/Search2Vec/blob/main/Search2Vec.ipynb\" target=\"_parent\"><img src=\"https://colab.research.google.com/assets/colab-badge.svg\" alt=\"Open In Colab\"/></a>"
      ]
    },
    {
      "cell_type": "markdown",
      "metadata": {
        "id": "VOI5piBO8RBT"
      },
      "source": [
        "# **Setting Up Dependencies**\n"
      ]
    },
    {
      "cell_type": "markdown",
      "metadata": {
        "id": "pGpbpb4AiY4H"
      },
      "source": [
        "## Installing Libraries"
      ]
    },
    {
      "cell_type": "code",
      "metadata": {
        "colab": {
          "base_uri": "https://localhost:8080/"
        },
        "id": "9Hq9fKR-8Okp",
        "outputId": "2b2432d5-769b-454e-b75e-ffbe822cbf67"
      },
      "source": [
        "!pip install pandas\n",
        "!pip install numpy"
      ],
      "execution_count": null,
      "outputs": [
        {
          "output_type": "stream",
          "text": [
            "Requirement already satisfied: pandas in /usr/local/lib/python3.7/dist-packages (1.1.5)\n",
            "Requirement already satisfied: pytz>=2017.2 in /usr/local/lib/python3.7/dist-packages (from pandas) (2018.9)\n",
            "Requirement already satisfied: python-dateutil>=2.7.3 in /usr/local/lib/python3.7/dist-packages (from pandas) (2.8.1)\n",
            "Requirement already satisfied: numpy>=1.15.4 in /usr/local/lib/python3.7/dist-packages (from pandas) (1.19.5)\n",
            "Requirement already satisfied: six>=1.5 in /usr/local/lib/python3.7/dist-packages (from python-dateutil>=2.7.3->pandas) (1.15.0)\n",
            "Requirement already satisfied: numpy in /usr/local/lib/python3.7/dist-packages (1.19.5)\n"
          ],
          "name": "stdout"
        }
      ]
    },
    {
      "cell_type": "markdown",
      "metadata": {
        "id": "2m2pIJ4y-K7Y"
      },
      "source": [
        "## Importing"
      ]
    },
    {
      "cell_type": "code",
      "metadata": {
        "id": "iIF5AUkM-NaW"
      },
      "source": [
        "import matplotlib.pyplot as plt\n",
        "import itertools\n",
        "from datetime import datetime\n",
        "import pandas as pd\n",
        "import numpy as np\n",
        "import json\n",
        "import re\n",
        "import warnings\n",
        "import gc \n",
        "from tqdm import tqdm, trange"
      ],
      "execution_count": null,
      "outputs": []
    },
    {
      "cell_type": "markdown",
      "metadata": {
        "id": "ro-VGN8M_EiO"
      },
      "source": [
        "## Some Configuration:"
      ]
    },
    {
      "cell_type": "code",
      "metadata": {
        "id": "ONSK-BnT_I6f"
      },
      "source": [
        "warnings.filterwarnings(\"ignore\") # do not display warnings at all\n",
        "\n",
        "pd.set_option('display.max_column',500) # sets the maximum number of columns displayed when a frame is pretty-printed. Truncated lines are replaced by an ellipsis.\n",
        "pd.set_option('display.expand_frame_repr',False) # allows for the representation of dataframes to stretch across pages, wrapped over the full column vs row-wise.\n",
        "pd.set_option('display.width',1000) # Width of the display in characters. \n",
        "pd.set_option('max_colwidth',500) # sets the maximum width of columns. Cells of this length or longer will be truncated with an ellipsis."
      ],
      "execution_count": null,
      "outputs": []
    },
    {
      "cell_type": "markdown",
      "metadata": {
        "id": "DSyIuBcOjgU0"
      },
      "source": [
        "# **Preparing Data**"
      ]
    },
    {
      "cell_type": "markdown",
      "metadata": {
        "id": "e6xM9z1e_oCl"
      },
      "source": [
        "## Reading Data from Drive"
      ]
    },
    {
      "cell_type": "code",
      "metadata": {
        "colab": {
          "base_uri": "https://localhost:8080/"
        },
        "id": "cD-iKWL2_rmZ",
        "outputId": "c6756c6d-2226-4e16-8c71-8e3371a1d654"
      },
      "source": [
        "!gdown --id 1W87y-JeBUfyCdsT8uF32rrx0STmfdLYZ\n",
        "!7z x torob_dataset.7z"
      ],
      "execution_count": null,
      "outputs": [
        {
          "output_type": "stream",
          "text": [
            "Downloading...\n",
            "From: https://drive.google.com/uc?id=1W87y-JeBUfyCdsT8uF32rrx0STmfdLYZ\n",
            "To: /content/torob_dataset.7z\n",
            "295MB [00:03, 94.4MB/s]\n",
            "\n",
            "7-Zip [64] 16.02 : Copyright (c) 1999-2016 Igor Pavlov : 2016-05-21\n",
            "p7zip Version 16.02 (locale=en_US.UTF-8,Utf16=on,HugeFiles=on,64 bits,2 CPUs Intel(R) Xeon(R) CPU @ 2.30GHz (306F0),ASM,AES-NI)\n",
            "\n",
            "Scanning the drive for archives:\n",
            "  0M Scan\b\b\b\b\b\b\b\b\b         \b\b\b\b\b\b\b\b\b1 file, 295162437 bytes (282 MiB)\n",
            "\n",
            "Extracting archive: torob_dataset.7z\n",
            "--\n",
            "Path = torob_dataset.7z\n",
            "Type = 7z\n",
            "Physical Size = 295162437\n",
            "Headers Size = 315\n",
            "Method = LZMA2:24\n",
            "Solid = +\n",
            "Blocks = 2\n",
            "\n",
            "  0%\b\b\b\b    \b\b\b\b  0% 3 - train/base_products.json\b\b\b\b\b\b\b\b\b\b\b\b\b\b\b\b\b\b\b\b\b\b\b\b\b\b\b\b\b\b\b\b\b                                 \b\b\b\b\b\b\b\b\b\b\b\b\b\b\b\b\b\b\b\b\b\b\b\b\b\b\b\b\b\b\b\b\b  1% 3 - train/base_products.json\b\b\b\b\b\b\b\b\b\b\b\b\b\b\b\b\b\b\b\b\b\b\b\b\b\b\b\b\b\b\b\b\b                                 \b\b\b\b\b\b\b\b\b\b\b\b\b\b\b\b\b\b\b\b\b\b\b\b\b\b\b\b\b\b\b\b\b  2% 3 - train/base_products.json\b\b\b\b\b\b\b\b\b\b\b\b\b\b\b\b\b\b\b\b\b\b\b\b\b\b\b\b\b\b\b\b\b                                 \b\b\b\b\b\b\b\b\b\b\b\b\b\b\b\b\b\b\b\b\b\b\b\b\b\b\b\b\b\b\b\b\b  3% 3 - train/base_products.json\b\b\b\b\b\b\b\b\b\b\b\b\b\b\b\b\b\b\b\b\b\b\b\b\b\b\b\b\b\b\b\b\b                                 \b\b\b\b\b\b\b\b\b\b\b\b\b\b\b\b\b\b\b\b\b\b\b\b\b\b\b\b\b\b\b\b\b  4% 3 - train/base_products.json\b\b\b\b\b\b\b\b\b\b\b\b\b\b\b\b\b\b\b\b\b\b\b\b\b\b\b\b\b\b\b\b\b                                 \b\b\b\b\b\b\b\b\b\b\b\b\b\b\b\b\b\b\b\b\b\b\b\b\b\b\b\b\b\b\b\b\b  5% 3 - train/base_products.json\b\b\b\b\b\b\b\b\b\b\b\b\b\b\b\b\b\b\b\b\b\b\b\b\b\b\b\b\b\b\b\b\b                                 \b\b\b\b\b\b\b\b\b\b\b\b\b\b\b\b\b\b\b\b\b\b\b\b\b\b\b\b\b\b\b\b\b  6% 3 - train/base_products.json\b\b\b\b\b\b\b\b\b\b\b\b\b\b\b\b\b\b\b\b\b\b\b\b\b\b\b\b\b\b\b\b\b                                 \b\b\b\b\b\b\b\b\b\b\b\b\b\b\b\b\b\b\b\b\b\b\b\b\b\b\b\b\b\b\b\b\b  7% 3 - train/base_products.json\b\b\b\b\b\b\b\b\b\b\b\b\b\b\b\b\b\b\b\b\b\b\b\b\b\b\b\b\b\b\b\b\b                                 \b\b\b\b\b\b\b\b\b\b\b\b\b\b\b\b\b\b\b\b\b\b\b\b\b\b\b\b\b\b\b\b\b  8% 3 - train/base_products.json\b\b\b\b\b\b\b\b\b\b\b\b\b\b\b\b\b\b\b\b\b\b\b\b\b\b\b\b\b\b\b\b\b                                 \b\b\b\b\b\b\b\b\b\b\b\b\b\b\b\b\b\b\b\b\b\b\b\b\b\b\b\b\b\b\b\b\b  9% 3 - train/base_products.json\b\b\b\b\b\b\b\b\b\b\b\b\b\b\b\b\b\b\b\b\b\b\b\b\b\b\b\b\b\b\b\b\b                                 \b\b\b\b\b\b\b\b\b\b\b\b\b\b\b\b\b\b\b\b\b\b\b\b\b\b\b\b\b\b\b\b\b 10% 3 - train/base_products.json\b\b\b\b\b\b\b\b\b\b\b\b\b\b\b\b\b\b\b\b\b\b\b\b\b\b\b\b\b\b\b\b\b                                 \b\b\b\b\b\b\b\b\b\b\b\b\b\b\b\b\b\b\b\b\b\b\b\b\b\b\b\b\b\b\b\b\b 11% 3 - train/base_products.json\b\b\b\b\b\b\b\b\b\b\b\b\b\b\b\b\b\b\b\b\b\b\b\b\b\b\b\b\b\b\b\b\b                                 \b\b\b\b\b\b\b\b\b\b\b\b\b\b\b\b\b\b\b\b\b\b\b\b\b\b\b\b\b\b\b\b\b 12% 3 - train/base_products.json\b\b\b\b\b\b\b\b\b\b\b\b\b\b\b\b\b\b\b\b\b\b\b\b\b\b\b\b\b\b\b\b\b                                 \b\b\b\b\b\b\b\b\b\b\b\b\b\b\b\b\b\b\b\b\b\b\b\b\b\b\b\b\b\b\b\b\b 13% 3 - train/base_products.json\b\b\b\b\b\b\b\b\b\b\b\b\b\b\b\b\b\b\b\b\b\b\b\b\b\b\b\b\b\b\b\b\b                                 \b\b\b\b\b\b\b\b\b\b\b\b\b\b\b\b\b\b\b\b\b\b\b\b\b\b\b\b\b\b\b\b\b 14% 3 - train/base_products.json\b\b\b\b\b\b\b\b\b\b\b\b\b\b\b\b\b\b\b\b\b\b\b\b\b\b\b\b\b\b\b\b\b                                 \b\b\b\b\b\b\b\b\b\b\b\b\b\b\b\b\b\b\b\b\b\b\b\b\b\b\b\b\b\b\b\b\b 15% 3 - train/base_products.json\b\b\b\b\b\b\b\b\b\b\b\b\b\b\b\b\b\b\b\b\b\b\b\b\b\b\b\b\b\b\b\b\b                                 \b\b\b\b\b\b\b\b\b\b\b\b\b\b\b\b\b\b\b\b\b\b\b\b\b\b\b\b\b\b\b\b\b 16% 3 - train/base_products.json\b\b\b\b\b\b\b\b\b\b\b\b\b\b\b\b\b\b\b\b\b\b\b\b\b\b\b\b\b\b\b\b\b                                 \b\b\b\b\b\b\b\b\b\b\b\b\b\b\b\b\b\b\b\b\b\b\b\b\b\b\b\b\b\b\b\b\b 17% 3 - train/base_products.json\b\b\b\b\b\b\b\b\b\b\b\b\b\b\b\b\b\b\b\b\b\b\b\b\b\b\b\b\b\b\b\b\b                                 \b\b\b\b\b\b\b\b\b\b\b\b\b\b\b\b\b\b\b\b\b\b\b\b\b\b\b\b\b\b\b\b\b 18% 3 - train/base_products.json\b\b\b\b\b\b\b\b\b\b\b\b\b\b\b\b\b\b\b\b\b\b\b\b\b\b\b\b\b\b\b\b\b                                 \b\b\b\b\b\b\b\b\b\b\b\b\b\b\b\b\b\b\b\b\b\b\b\b\b\b\b\b\b\b\b\b\b 19% 3 - train/base_products.json\b\b\b\b\b\b\b\b\b\b\b\b\b\b\b\b\b\b\b\b\b\b\b\b\b\b\b\b\b\b\b\b\b                                 \b\b\b\b\b\b\b\b\b\b\b\b\b\b\b\b\b\b\b\b\b\b\b\b\b\b\b\b\b\b\b\b\b 20% 3 - train/base_products.json\b\b\b\b\b\b\b\b\b\b\b\b\b\b\b\b\b\b\b\b\b\b\b\b\b\b\b\b\b\b\b\b\b                                 \b\b\b\b\b\b\b\b\b\b\b\b\b\b\b\b\b\b\b\b\b\b\b\b\b\b\b\b\b\b\b\b\b 21% 3 - train/base_products.json\b\b\b\b\b\b\b\b\b\b\b\b\b\b\b\b\b\b\b\b\b\b\b\b\b\b\b\b\b\b\b\b\b                                 \b\b\b\b\b\b\b\b\b\b\b\b\b\b\b\b\b\b\b\b\b\b\b\b\b\b\b\b\b\b\b\b\b 22% 3 - train/base_products.json\b\b\b\b\b\b\b\b\b\b\b\b\b\b\b\b\b\b\b\b\b\b\b\b\b\b\b\b\b\b\b\b\b                                 \b\b\b\b\b\b\b\b\b\b\b\b\b\b\b\b\b\b\b\b\b\b\b\b\b\b\b\b\b\b\b\b\b 23% 3 - train/base_products.json\b\b\b\b\b\b\b\b\b\b\b\b\b\b\b\b\b\b\b\b\b\b\b\b\b\b\b\b\b\b\b\b\b                                 \b\b\b\b\b\b\b\b\b\b\b\b\b\b\b\b\b\b\b\b\b\b\b\b\b\b\b\b\b\b\b\b\b 24% 3 - train/base_products.json\b\b\b\b\b\b\b\b\b\b\b\b\b\b\b\b\b\b\b\b\b\b\b\b\b\b\b\b\b\b\b\b\b                                 \b\b\b\b\b\b\b\b\b\b\b\b\b\b\b\b\b\b\b\b\b\b\b\b\b\b\b\b\b\b\b\b\b 25% 3 - train/base_products.json\b\b\b\b\b\b\b\b\b\b\b\b\b\b\b\b\b\b\b\b\b\b\b\b\b\b\b\b\b\b\b\b\b                                 \b\b\b\b\b\b\b\b\b\b\b\b\b\b\b\b\b\b\b\b\b\b\b\b\b\b\b\b\b\b\b\b\b 26% 3 - train/base_products.json\b\b\b\b\b\b\b\b\b\b\b\b\b\b\b\b\b\b\b\b\b\b\b\b\b\b\b\b\b\b\b\b\b                                 \b\b\b\b\b\b\b\b\b\b\b\b\b\b\b\b\b\b\b\b\b\b\b\b\b\b\b\b\b\b\b\b\b 27% 3 - train/base_products.json\b\b\b\b\b\b\b\b\b\b\b\b\b\b\b\b\b\b\b\b\b\b\b\b\b\b\b\b\b\b\b\b\b                                 \b\b\b\b\b\b\b\b\b\b\b\b\b\b\b\b\b\b\b\b\b\b\b\b\b\b\b\b\b\b\b\b\b 28% 3 - train/base_products.json\b\b\b\b\b\b\b\b\b\b\b\b\b\b\b\b\b\b\b\b\b\b\b\b\b\b\b\b\b\b\b\b\b                                 \b\b\b\b\b\b\b\b\b\b\b\b\b\b\b\b\b\b\b\b\b\b\b\b\b\b\b\b\b\b\b\b\b 29% 3 - train/base_products.json\b\b\b\b\b\b\b\b\b\b\b\b\b\b\b\b\b\b\b\b\b\b\b\b\b\b\b\b\b\b\b\b\b                                 \b\b\b\b\b\b\b\b\b\b\b\b\b\b\b\b\b\b\b\b\b\b\b\b\b\b\b\b\b\b\b\b\b 30% 3 - train/base_products.json\b\b\b\b\b\b\b\b\b\b\b\b\b\b\b\b\b\b\b\b\b\b\b\b\b\b\b\b\b\b\b\b\b                                 \b\b\b\b\b\b\b\b\b\b\b\b\b\b\b\b\b\b\b\b\b\b\b\b\b\b\b\b\b\b\b\b\b 31% 3 - train/base_products.json\b\b\b\b\b\b\b\b\b\b\b\b\b\b\b\b\b\b\b\b\b\b\b\b\b\b\b\b\b\b\b\b\b                                 \b\b\b\b\b\b\b\b\b\b\b\b\b\b\b\b\b\b\b\b\b\b\b\b\b\b\b\b\b\b\b\b\b 32% 3 - train/base_products.json\b\b\b\b\b\b\b\b\b\b\b\b\b\b\b\b\b\b\b\b\b\b\b\b\b\b\b\b\b\b\b\b\b                                 \b\b\b\b\b\b\b\b\b\b\b\b\b\b\b\b\b\b\b\b\b\b\b\b\b\b\b\b\b\b\b\b\b 33% 3 - train/base_products.json\b\b\b\b\b\b\b\b\b\b\b\b\b\b\b\b\b\b\b\b\b\b\b\b\b\b\b\b\b\b\b\b\b                                 \b\b\b\b\b\b\b\b\b\b\b\b\b\b\b\b\b\b\b\b\b\b\b\b\b\b\b\b\b\b\b\b\b 34% 3 - train/base_products.json\b\b\b\b\b\b\b\b\b\b\b\b\b\b\b\b\b\b\b\b\b\b\b\b\b\b\b\b\b\b\b\b\b                                 \b\b\b\b\b\b\b\b\b\b\b\b\b\b\b\b\b\b\b\b\b\b\b\b\b\b\b\b\b\b\b\b\b 35% 3 - train/base_products.json\b\b\b\b\b\b\b\b\b\b\b\b\b\b\b\b\b\b\b\b\b\b\b\b\b\b\b\b\b\b\b\b\b                                 \b\b\b\b\b\b\b\b\b\b\b\b\b\b\b\b\b\b\b\b\b\b\b\b\b\b\b\b\b\b\b\b\b 36% 3 - train/base_products.json\b\b\b\b\b\b\b\b\b\b\b\b\b\b\b\b\b\b\b\b\b\b\b\b\b\b\b\b\b\b\b\b\b                                 \b\b\b\b\b\b\b\b\b\b\b\b\b\b\b\b\b\b\b\b\b\b\b\b\b\b\b\b\b\b\b\b\b 36% 4 - train/click_log_train.json\b\b\b\b\b\b\b\b\b\b\b\b\b\b\b\b\b\b\b\b\b\b\b\b\b\b\b\b\b\b\b\b\b\b\b                                   \b\b\b\b\b\b\b\b\b\b\b\b\b\b\b\b\b\b\b\b\b\b\b\b\b\b\b\b\b\b\b\b\b\b\b 37% 4 - train/click_log_train.json\b\b\b\b\b\b\b\b\b\b\b\b\b\b\b\b\b\b\b\b\b\b\b\b\b\b\b\b\b\b\b\b\b\b\b                                   \b\b\b\b\b\b\b\b\b\b\b\b\b\b\b\b\b\b\b\b\b\b\b\b\b\b\b\b\b\b\b\b\b\b\b 38% 4 - train/click_log_train.json\b\b\b\b\b\b\b\b\b\b\b\b\b\b\b\b\b\b\b\b\b\b\b\b\b\b\b\b\b\b\b\b\b\b\b                                   \b\b\b\b\b\b\b\b\b\b\b\b\b\b\b\b\b\b\b\b\b\b\b\b\b\b\b\b\b\b\b\b\b\b\b 39% 4 - train/click_log_train.json\b\b\b\b\b\b\b\b\b\b\b\b\b\b\b\b\b\b\b\b\b\b\b\b\b\b\b\b\b\b\b\b\b\b\b                                   \b\b\b\b\b\b\b\b\b\b\b\b\b\b\b\b\b\b\b\b\b\b\b\b\b\b\b\b\b\b\b\b\b\b\b 40% 4 - train/click_log_train.json\b\b\b\b\b\b\b\b\b\b\b\b\b\b\b\b\b\b\b\b\b\b\b\b\b\b\b\b\b\b\b\b\b\b\b                                   \b\b\b\b\b\b\b\b\b\b\b\b\b\b\b\b\b\b\b\b\b\b\b\b\b\b\b\b\b\b\b\b\b\b\b 41% 4 - train/click_log_train.json\b\b\b\b\b\b\b\b\b\b\b\b\b\b\b\b\b\b\b\b\b\b\b\b\b\b\b\b\b\b\b\b\b\b\b                                   \b\b\b\b\b\b\b\b\b\b\b\b\b\b\b\b\b\b\b\b\b\b\b\b\b\b\b\b\b\b\b\b\b\b\b 42% 4 - train/click_log_train.json\b\b\b\b\b\b\b\b\b\b\b\b\b\b\b\b\b\b\b\b\b\b\b\b\b\b\b\b\b\b\b\b\b\b\b                                   \b\b\b\b\b\b\b\b\b\b\b\b\b\b\b\b\b\b\b\b\b\b\b\b\b\b\b\b\b\b\b\b\b\b\b 43% 4 - train/click_log_train.json\b\b\b\b\b\b\b\b\b\b\b\b\b\b\b\b\b\b\b\b\b\b\b\b\b\b\b\b\b\b\b\b\b\b\b                                   \b\b\b\b\b\b\b\b\b\b\b\b\b\b\b\b\b\b\b\b\b\b\b\b\b\b\b\b\b\b\b\b\b\b\b 44% 4 - train/click_log_train.json\b\b\b\b\b\b\b\b\b\b\b\b\b\b\b\b\b\b\b\b\b\b\b\b\b\b\b\b\b\b\b\b\b\b\b                                   \b\b\b\b\b\b\b\b\b\b\b\b\b\b\b\b\b\b\b\b\b\b\b\b\b\b\b\b\b\b\b\b\b\b\b 45% 4 - train/click_log_train.json\b\b\b\b\b\b\b\b\b\b\b\b\b\b\b\b\b\b\b\b\b\b\b\b\b\b\b\b\b\b\b\b\b\b\b                                   \b\b\b\b\b\b\b\b\b\b\b\b\b\b\b\b\b\b\b\b\b\b\b\b\b\b\b\b\b\b\b\b\b\b\b 46% 4 - train/click_log_train.json\b\b\b\b\b\b\b\b\b\b\b\b\b\b\b\b\b\b\b\b\b\b\b\b\b\b\b\b\b\b\b\b\b\b\b                                   \b\b\b\b\b\b\b\b\b\b\b\b\b\b\b\b\b\b\b\b\b\b\b\b\b\b\b\b\b\b\b\b\b\b\b 47% 4 - train/click_log_train.json\b\b\b\b\b\b\b\b\b\b\b\b\b\b\b\b\b\b\b\b\b\b\b\b\b\b\b\b\b\b\b\b\b\b\b                                   \b\b\b\b\b\b\b\b\b\b\b\b\b\b\b\b\b\b\b\b\b\b\b\b\b\b\b\b\b\b\b\b\b\b\b 48% 4 - train/click_log_train.json\b\b\b\b\b\b\b\b\b\b\b\b\b\b\b\b\b\b\b\b\b\b\b\b\b\b\b\b\b\b\b\b\b\b\b                                   \b\b\b\b\b\b\b\b\b\b\b\b\b\b\b\b\b\b\b\b\b\b\b\b\b\b\b\b\b\b\b\b\b\b\b 49% 4 - train/click_log_train.json\b\b\b\b\b\b\b\b\b\b\b\b\b\b\b\b\b\b\b\b\b\b\b\b\b\b\b\b\b\b\b\b\b\b\b                                   \b\b\b\b\b\b\b\b\b\b\b\b\b\b\b\b\b\b\b\b\b\b\b\b\b\b\b\b\b\b\b\b\b\b\b 50% 4 - train/click_log_train.json\b\b\b\b\b\b\b\b\b\b\b\b\b\b\b\b\b\b\b\b\b\b\b\b\b\b\b\b\b\b\b\b\b\b\b                                   \b\b\b\b\b\b\b\b\b\b\b\b\b\b\b\b\b\b\b\b\b\b\b\b\b\b\b\b\b\b\b\b\b\b\b 51% 4 - train/click_log_train.json\b\b\b\b\b\b\b\b\b\b\b\b\b\b\b\b\b\b\b\b\b\b\b\b\b\b\b\b\b\b\b\b\b\b\b                                   \b\b\b\b\b\b\b\b\b\b\b\b\b\b\b\b\b\b\b\b\b\b\b\b\b\b\b\b\b\b\b\b\b\b\b 52% 4 - train/click_log_train.json\b\b\b\b\b\b\b\b\b\b\b\b\b\b\b\b\b\b\b\b\b\b\b\b\b\b\b\b\b\b\b\b\b\b\b                                   \b\b\b\b\b\b\b\b\b\b\b\b\b\b\b\b\b\b\b\b\b\b\b\b\b\b\b\b\b\b\b\b\b\b\b 53% 4 - train/click_log_train.json\b\b\b\b\b\b\b\b\b\b\b\b\b\b\b\b\b\b\b\b\b\b\b\b\b\b\b\b\b\b\b\b\b\b\b                                   \b\b\b\b\b\b\b\b\b\b\b\b\b\b\b\b\b\b\b\b\b\b\b\b\b\b\b\b\b\b\b\b\b\b\b 54% 4 - train/click_log_train.json\b\b\b\b\b\b\b\b\b\b\b\b\b\b\b\b\b\b\b\b\b\b\b\b\b\b\b\b\b\b\b\b\b\b\b                                   \b\b\b\b\b\b\b\b\b\b\b\b\b\b\b\b\b\b\b\b\b\b\b\b\b\b\b\b\b\b\b\b\b\b\b 55% 4 - train/click_log_train.json\b\b\b\b\b\b\b\b\b\b\b\b\b\b\b\b\b\b\b\b\b\b\b\b\b\b\b\b\b\b\b\b\b\b\b                                   \b\b\b\b\b\b\b\b\b\b\b\b\b\b\b\b\b\b\b\b\b\b\b\b\b\b\b\b\b\b\b\b\b\b\b 56% 4 - train/click_log_train.json\b\b\b\b\b\b\b\b\b\b\b\b\b\b\b\b\b\b\b\b\b\b\b\b\b\b\b\b\b\b\b\b\b\b\b                                   \b\b\b\b\b\b\b\b\b\b\b\b\b\b\b\b\b\b\b\b\b\b\b\b\b\b\b\b\b\b\b\b\b\b\b 57% 4 - train/click_log_train.json\b\b\b\b\b\b\b\b\b\b\b\b\b\b\b\b\b\b\b\b\b\b\b\b\b\b\b\b\b\b\b\b\b\b\b                                   \b\b\b\b\b\b\b\b\b\b\b\b\b\b\b\b\b\b\b\b\b\b\b\b\b\b\b\b\b\b\b\b\b\b\b 58% 4 - train/click_log_train.json\b\b\b\b\b\b\b\b\b\b\b\b\b\b\b\b\b\b\b\b\b\b\b\b\b\b\b\b\b\b\b\b\b\b\b                                   \b\b\b\b\b\b\b\b\b\b\b\b\b\b\b\b\b\b\b\b\b\b\b\b\b\b\b\b\b\b\b\b\b\b\b 59% 4 - train/click_log_train.json\b\b\b\b\b\b\b\b\b\b\b\b\b\b\b\b\b\b\b\b\b\b\b\b\b\b\b\b\b\b\b\b\b\b\b                                   \b\b\b\b\b\b\b\b\b\b\b\b\b\b\b\b\b\b\b\b\b\b\b\b\b\b\b\b\b\b\b\b\b\b\b 60% 4 - train/click_log_train.json\b\b\b\b\b\b\b\b\b\b\b\b\b\b\b\b\b\b\b\b\b\b\b\b\b\b\b\b\b\b\b\b\b\b\b                                   \b\b\b\b\b\b\b\b\b\b\b\b\b\b\b\b\b\b\b\b\b\b\b\b\b\b\b\b\b\b\b\b\b\b\b 61% 4 - train/click_log_train.json\b\b\b\b\b\b\b\b\b\b\b\b\b\b\b\b\b\b\b\b\b\b\b\b\b\b\b\b\b\b\b\b\b\b\b                                   \b\b\b\b\b\b\b\b\b\b\b\b\b\b\b\b\b\b\b\b\b\b\b\b\b\b\b\b\b\b\b\b\b\b\b 62% 4 - train/click_log_train.json\b\b\b\b\b\b\b\b\b\b\b\b\b\b\b\b\b\b\b\b\b\b\b\b\b\b\b\b\b\b\b\b\b\b\b                                   \b\b\b\b\b\b\b\b\b\b\b\b\b\b\b\b\b\b\b\b\b\b\b\b\b\b\b\b\b\b\b\b\b\b\b 63% 4 - train/click_log_train.json\b\b\b\b\b\b\b\b\b\b\b\b\b\b\b\b\b\b\b\b\b\b\b\b\b\b\b\b\b\b\b\b\b\b\b                                   \b\b\b\b\b\b\b\b\b\b\b\b\b\b\b\b\b\b\b\b\b\b\b\b\b\b\b\b\b\b\b\b\b\b\b 64% 4 - train/click_log_train.json\b\b\b\b\b\b\b\b\b\b\b\b\b\b\b\b\b\b\b\b\b\b\b\b\b\b\b\b\b\b\b\b\b\b\b                                   \b\b\b\b\b\b\b\b\b\b\b\b\b\b\b\b\b\b\b\b\b\b\b\b\b\b\b\b\b\b\b\b\b\b\b 65% 4 - train/click_log_train.json\b\b\b\b\b\b\b\b\b\b\b\b\b\b\b\b\b\b\b\b\b\b\b\b\b\b\b\b\b\b\b\b\b\b\b                                   \b\b\b\b\b\b\b\b\b\b\b\b\b\b\b\b\b\b\b\b\b\b\b\b\b\b\b\b\b\b\b\b\b\b\b 65% 5\b\b\b\b\b\b      \b\b\b\b\b\b 66% 5 - train/search_log_train.json\b\b\b\b\b\b\b\b\b\b\b\b\b\b\b\b\b\b\b\b\b\b\b\b\b\b\b\b\b\b\b\b\b\b\b\b                                    \b\b\b\b\b\b\b\b\b\b\b\b\b\b\b\b\b\b\b\b\b\b\b\b\b\b\b\b\b\b\b\b\b\b\b\b 67% 5 - train/search_log_train.json\b\b\b\b\b\b\b\b\b\b\b\b\b\b\b\b\b\b\b\b\b\b\b\b\b\b\b\b\b\b\b\b\b\b\b\b                                    \b\b\b\b\b\b\b\b\b\b\b\b\b\b\b\b\b\b\b\b\b\b\b\b\b\b\b\b\b\b\b\b\b\b\b\b 68% 5 - train/search_log_train.json\b\b\b\b\b\b\b\b\b\b\b\b\b\b\b\b\b\b\b\b\b\b\b\b\b\b\b\b\b\b\b\b\b\b\b\b                                    \b\b\b\b\b\b\b\b\b\b\b\b\b\b\b\b\b\b\b\b\b\b\b\b\b\b\b\b\b\b\b\b\b\b\b\b 69% 5 - train/search_log_train.json\b\b\b\b\b\b\b\b\b\b\b\b\b\b\b\b\b\b\b\b\b\b\b\b\b\b\b\b\b\b\b\b\b\b\b\b                                    \b\b\b\b\b\b\b\b\b\b\b\b\b\b\b\b\b\b\b\b\b\b\b\b\b\b\b\b\b\b\b\b\b\b\b\b 70% 5 - train/search_log_train.json\b\b\b\b\b\b\b\b\b\b\b\b\b\b\b\b\b\b\b\b\b\b\b\b\b\b\b\b\b\b\b\b\b\b\b\b                                    \b\b\b\b\b\b\b\b\b\b\b\b\b\b\b\b\b\b\b\b\b\b\b\b\b\b\b\b\b\b\b\b\b\b\b\b 71% 5 - train/search_log_train.json\b\b\b\b\b\b\b\b\b\b\b\b\b\b\b\b\b\b\b\b\b\b\b\b\b\b\b\b\b\b\b\b\b\b\b\b                                    \b\b\b\b\b\b\b\b\b\b\b\b\b\b\b\b\b\b\b\b\b\b\b\b\b\b\b\b\b\b\b\b\b\b\b\b 72% 5 - train/search_log_train.json\b\b\b\b\b\b\b\b\b\b\b\b\b\b\b\b\b\b\b\b\b\b\b\b\b\b\b\b\b\b\b\b\b\b\b\b                                    \b\b\b\b\b\b\b\b\b\b\b\b\b\b\b\b\b\b\b\b\b\b\b\b\b\b\b\b\b\b\b\b\b\b\b\b 73% 5 - train/search_log_train.json\b\b\b\b\b\b\b\b\b\b\b\b\b\b\b\b\b\b\b\b\b\b\b\b\b\b\b\b\b\b\b\b\b\b\b\b                                    \b\b\b\b\b\b\b\b\b\b\b\b\b\b\b\b\b\b\b\b\b\b\b\b\b\b\b\b\b\b\b\b\b\b\b\b 74% 5 - train/search_log_train.json\b\b\b\b\b\b\b\b\b\b\b\b\b\b\b\b\b\b\b\b\b\b\b\b\b\b\b\b\b\b\b\b\b\b\b\b                                    \b\b\b\b\b\b\b\b\b\b\b\b\b\b\b\b\b\b\b\b\b\b\b\b\b\b\b\b\b\b\b\b\b\b\b\b 75% 5 - train/search_log_train.json\b\b\b\b\b\b\b\b\b\b\b\b\b\b\b\b\b\b\b\b\b\b\b\b\b\b\b\b\b\b\b\b\b\b\b\b                                    \b\b\b\b\b\b\b\b\b\b\b\b\b\b\b\b\b\b\b\b\b\b\b\b\b\b\b\b\b\b\b\b\b\b\b\b 76% 5 - train/search_log_train.json\b\b\b\b\b\b\b\b\b\b\b\b\b\b\b\b\b\b\b\b\b\b\b\b\b\b\b\b\b\b\b\b\b\b\b\b                                    \b\b\b\b\b\b\b\b\b\b\b\b\b\b\b\b\b\b\b\b\b\b\b\b\b\b\b\b\b\b\b\b\b\b\b\b 77% 5 - train/search_log_train.json\b\b\b\b\b\b\b\b\b\b\b\b\b\b\b\b\b\b\b\b\b\b\b\b\b\b\b\b\b\b\b\b\b\b\b\b                                    \b\b\b\b\b\b\b\b\b\b\b\b\b\b\b\b\b\b\b\b\b\b\b\b\b\b\b\b\b\b\b\b\b\b\b\b 78% 5 - train/search_log_train.json\b\b\b\b\b\b\b\b\b\b\b\b\b\b\b\b\b\b\b\b\b\b\b\b\b\b\b\b\b\b\b\b\b\b\b\b                                    \b\b\b\b\b\b\b\b\b\b\b\b\b\b\b\b\b\b\b\b\b\b\b\b\b\b\b\b\b\b\b\b\b\b\b\b 79% 5 - train/search_log_train.json\b\b\b\b\b\b\b\b\b\b\b\b\b\b\b\b\b\b\b\b\b\b\b\b\b\b\b\b\b\b\b\b\b\b\b\b                                    \b\b\b\b\b\b\b\b\b\b\b\b\b\b\b\b\b\b\b\b\b\b\b\b\b\b\b\b\b\b\b\b\b\b\b\b 80% 5 - train/search_log_train.json\b\b\b\b\b\b\b\b\b\b\b\b\b\b\b\b\b\b\b\b\b\b\b\b\b\b\b\b\b\b\b\b\b\b\b\b                                    \b\b\b\b\b\b\b\b\b\b\b\b\b\b\b\b\b\b\b\b\b\b\b\b\b\b\b\b\b\b\b\b\b\b\b\b 81% 5 - train/search_log_train.json\b\b\b\b\b\b\b\b\b\b\b\b\b\b\b\b\b\b\b\b\b\b\b\b\b\b\b\b\b\b\b\b\b\b\b\b                                    \b\b\b\b\b\b\b\b\b\b\b\b\b\b\b\b\b\b\b\b\b\b\b\b\b\b\b\b\b\b\b\b\b\b\b\b 82% 5 - train/search_log_train.json\b\b\b\b\b\b\b\b\b\b\b\b\b\b\b\b\b\b\b\b\b\b\b\b\b\b\b\b\b\b\b\b\b\b\b\b                                    \b\b\b\b\b\b\b\b\b\b\b\b\b\b\b\b\b\b\b\b\b\b\b\b\b\b\b\b\b\b\b\b\b\b\b\b 83% 5 - train/search_log_train.json\b\b\b\b\b\b\b\b\b\b\b\b\b\b\b\b\b\b\b\b\b\b\b\b\b\b\b\b\b\b\b\b\b\b\b\b                                    \b\b\b\b\b\b\b\b\b\b\b\b\b\b\b\b\b\b\b\b\b\b\b\b\b\b\b\b\b\b\b\b\b\b\b\b 84% 5 - train/search_log_train.json\b\b\b\b\b\b\b\b\b\b\b\b\b\b\b\b\b\b\b\b\b\b\b\b\b\b\b\b\b\b\b\b\b\b\b\b                                    \b\b\b\b\b\b\b\b\b\b\b\b\b\b\b\b\b\b\b\b\b\b\b\b\b\b\b\b\b\b\b\b\b\b\b\b 85% 5 - train/search_log_train.json\b\b\b\b\b\b\b\b\b\b\b\b\b\b\b\b\b\b\b\b\b\b\b\b\b\b\b\b\b\b\b\b\b\b\b\b                                    \b\b\b\b\b\b\b\b\b\b\b\b\b\b\b\b\b\b\b\b\b\b\b\b\b\b\b\b\b\b\b\b\b\b\b\b 86% 5 - train/search_log_train.json\b\b\b\b\b\b\b\b\b\b\b\b\b\b\b\b\b\b\b\b\b\b\b\b\b\b\b\b\b\b\b\b\b\b\b\b                                    \b\b\b\b\b\b\b\b\b\b\b\b\b\b\b\b\b\b\b\b\b\b\b\b\b\b\b\b\b\b\b\b\b\b\b\b 87% 5 - train/search_log_train.json\b\b\b\b\b\b\b\b\b\b\b\b\b\b\b\b\b\b\b\b\b\b\b\b\b\b\b\b\b\b\b\b\b\b\b\b                                    \b\b\b\b\b\b\b\b\b\b\b\b\b\b\b\b\b\b\b\b\b\b\b\b\b\b\b\b\b\b\b\b\b\b\b\b 88% 5 - train/search_log_train.json\b\b\b\b\b\b\b\b\b\b\b\b\b\b\b\b\b\b\b\b\b\b\b\b\b\b\b\b\b\b\b\b\b\b\b\b                                    \b\b\b\b\b\b\b\b\b\b\b\b\b\b\b\b\b\b\b\b\b\b\b\b\b\b\b\b\b\b\b\b\b\b\b\b 89% 5 - train/search_log_train.json\b\b\b\b\b\b\b\b\b\b\b\b\b\b\b\b\b\b\b\b\b\b\b\b\b\b\b\b\b\b\b\b\b\b\b\b                                    \b\b\b\b\b\b\b\b\b\b\b\b\b\b\b\b\b\b\b\b\b\b\b\b\b\b\b\b\b\b\b\b\b\b\b\b 90% 5 - train/search_log_train.json\b\b\b\b\b\b\b\b\b\b\b\b\b\b\b\b\b\b\b\b\b\b\b\b\b\b\b\b\b\b\b\b\b\b\b\b                                    \b\b\b\b\b\b\b\b\b\b\b\b\b\b\b\b\b\b\b\b\b\b\b\b\b\b\b\b\b\b\b\b\b\b\b\b 91% 5 - train/search_log_train.json\b\b\b\b\b\b\b\b\b\b\b\b\b\b\b\b\b\b\b\b\b\b\b\b\b\b\b\b\b\b\b\b\b\b\b\b                                    \b\b\b\b\b\b\b\b\b\b\b\b\b\b\b\b\b\b\b\b\b\b\b\b\b\b\b\b\b\b\b\b\b\b\b\b 92% 5 - train/search_log_train.json\b\b\b\b\b\b\b\b\b\b\b\b\b\b\b\b\b\b\b\b\b\b\b\b\b\b\b\b\b\b\b\b\b\b\b\b                                    \b\b\b\b\b\b\b\b\b\b\b\b\b\b\b\b\b\b\b\b\b\b\b\b\b\b\b\b\b\b\b\b\b\b\b\b 93% 5 - train/search_log_train.json\b\b\b\b\b\b\b\b\b\b\b\b\b\b\b\b\b\b\b\b\b\b\b\b\b\b\b\b\b\b\b\b\b\b\b\b                                    \b\b\b\b\b\b\b\b\b\b\b\b\b\b\b\b\b\b\b\b\b\b\b\b\b\b\b\b\b\b\b\b\b\b\b\b 94% 5 - train/search_log_train.json\b\b\b\b\b\b\b\b\b\b\b\b\b\b\b\b\b\b\b\b\b\b\b\b\b\b\b\b\b\b\b\b\b\b\b\b                                    \b\b\b\b\b\b\b\b\b\b\b\b\b\b\b\b\b\b\b\b\b\b\b\b\b\b\b\b\b\b\b\b\b\b\b\b 95% 5 - train/search_log_train.json\b\b\b\b\b\b\b\b\b\b\b\b\b\b\b\b\b\b\b\b\b\b\b\b\b\b\b\b\b\b\b\b\b\b\b\b                                    \b\b\b\b\b\b\b\b\b\b\b\b\b\b\b\b\b\b\b\b\b\b\b\b\b\b\b\b\b\b\b\b\b\b\b\b 96% 5 - train/search_log_train.json\b\b\b\b\b\b\b\b\b\b\b\b\b\b\b\b\b\b\b\b\b\b\b\b\b\b\b\b\b\b\b\b\b\b\b\b                                    \b\b\b\b\b\b\b\b\b\b\b\b\b\b\b\b\b\b\b\b\b\b\b\b\b\b\b\b\b\b\b\b\b\b\b\b 97% 5 - train/search_log_train.json\b\b\b\b\b\b\b\b\b\b\b\b\b\b\b\b\b\b\b\b\b\b\b\b\b\b\b\b\b\b\b\b\b\b\b\b                                    \b\b\b\b\b\b\b\b\b\b\b\b\b\b\b\b\b\b\b\b\b\b\b\b\b\b\b\b\b\b\b\b\b\b\b\b 98% 5 - train/search_log_train.json\b\b\b\b\b\b\b\b\b\b\b\b\b\b\b\b\b\b\b\b\b\b\b\b\b\b\b\b\b\b\b\b\b\b\b\b                                    \b\b\b\b\b\b\b\b\b\b\b\b\b\b\b\b\b\b\b\b\b\b\b\b\b\b\b\b\b\b\b\b\b\b\b\b 99% 5 - train/search_log_train.json\b\b\b\b\b\b\b\b\b\b\b\b\b\b\b\b\b\b\b\b\b\b\b\b\b\b\b\b\b\b\b\b\b\b\b\b                                    \b\b\b\b\b\b\b\b\b\b\b\b\b\b\b\b\b\b\b\b\b\b\b\b\b\b\b\b\b\b\b\b\b\b\b\b100% 6\b\b\b\b\b\b      \b\b\b\b\b\bEverything is Ok\n",
            "\n",
            "Folders: 2\n",
            "Files: 4\n",
            "Size:       2791617278\n",
            "Compressed: 295162437\n"
          ],
          "name": "stdout"
        }
      ]
    },
    {
      "cell_type": "markdown",
      "metadata": {
        "id": "Ab-tSipX_-NO"
      },
      "source": [
        "## Placing into DataFrames"
      ]
    },
    {
      "cell_type": "code",
      "metadata": {
        "colab": {
          "base_uri": "https://localhost:8080/"
        },
        "id": "BiMKVBrtAEyu",
        "outputId": "217cb1f5-734b-4ef7-94d3-5967f8655203"
      },
      "source": [
        "def read_lowmem(path):\n",
        "  with open(path) as f:\n",
        "    res = [json.loads(line) for line in tqdm(f)]\n",
        "    res = pd.DataFrame(res)\n",
        "  return res  \n",
        "\n",
        "product = read_lowmem('train/base_products.json')\n",
        "click = read_lowmem('train/click_log_train.json') \n",
        "search = read_lowmem('train/search_log_train.json') \n",
        "\n",
        "# Garbage collector\n",
        "gc.collect()"
      ],
      "execution_count": null,
      "outputs": [
        {
          "output_type": "stream",
          "text": [
            "1985152it [00:35, 55407.63it/s]\n",
            "6317934it [00:30, 209268.11it/s]\n",
            "3694579it [00:49, 74310.83it/s] \n"
          ],
          "name": "stderr"
        },
        {
          "output_type": "execute_result",
          "data": {
            "text/plain": [
              "0"
            ]
          },
          "metadata": {
            "tags": []
          },
          "execution_count": 26
        }
      ]
    },
    {
      "cell_type": "markdown",
      "metadata": {
        "id": "P_VoputWXG7O"
      },
      "source": [
        "Optional slicing of data for releasing the RAM"
      ]
    },
    {
      "cell_type": "code",
      "metadata": {
        "colab": {
          "base_uri": "https://localhost:8080/"
        },
        "id": "H2uoPXHvsJJ8",
        "outputId": "ebcc92d0-0009-4a95-bb36-dacd203c1c6d"
      },
      "source": [
        "h_product = product.head(10000).copy()\n",
        "h_click = click.head(10000).copy()\n",
        "h_search = search.head(10000).copy()\n",
        "del product\n",
        "del click\n",
        "del search\n",
        "gc.collect()"
      ],
      "execution_count": null,
      "outputs": [
        {
          "output_type": "execute_result",
          "data": {
            "text/plain": [
              "230"
            ]
          },
          "metadata": {
            "tags": []
          },
          "execution_count": 27
        }
      ]
    },
    {
      "cell_type": "code",
      "metadata": {
        "colab": {
          "base_uri": "https://localhost:8080/"
        },
        "id": "4-69Madcsm5f",
        "outputId": "650c827b-86bb-4440-e8e5-665ec98dc1e5"
      },
      "source": [
        "h_product.info()\n",
        "h_click.info()"
      ],
      "execution_count": null,
      "outputs": [
        {
          "output_type": "stream",
          "text": [
            "<class 'pandas.core.frame.DataFrame'>\n",
            "RangeIndex: 10000 entries, 0 to 9999\n",
            "Data columns (total 3 columns):\n",
            " #   Column         Non-Null Count  Dtype \n",
            "---  ------         --------------  ----- \n",
            " 0   _id            10000 non-null  object\n",
            " 1   category_name  10000 non-null  object\n",
            " 2   sellers        10000 non-null  object\n",
            "dtypes: object(3)\n",
            "memory usage: 234.5+ KB\n",
            "<class 'pandas.core.frame.DataFrame'>\n",
            "RangeIndex: 10000 entries, 0 to 9999\n",
            "Data columns (total 4 columns):\n",
            " #   Column           Non-Null Count  Dtype \n",
            "---  ------           --------------  ----- \n",
            " 0   datetime         10000 non-null  object\n",
            " 1   search_log_id    10000 non-null  object\n",
            " 2   rank             10000 non-null  int64 \n",
            " 3   base_product_id  10000 non-null  object\n",
            "dtypes: int64(1), object(3)\n",
            "memory usage: 312.6+ KB\n"
          ],
          "name": "stdout"
        }
      ]
    },
    {
      "cell_type": "markdown",
      "metadata": {
        "id": "qavBRX2mGD99"
      },
      "source": [
        "## Defining Useful Columns\n",
        "\n",
        "\n",
        "> 1- Conversion of Dates\n",
        "\n",
        "\n",
        "> 2- Defining \"nsellers\" as number of sellers for each product\n",
        "\n",
        "\n",
        "\n",
        "\n",
        "\n",
        "\n"
      ]
    },
    {
      "cell_type": "code",
      "metadata": {
        "id": "jYMO-pLKHEKX"
      },
      "source": [
        "search['datetime'] = [datetime.fromisoformat(d) for d in search.datetime]\n",
        "click['datetime'] = [datetime.fromisoformat(d) for d in click.datetime]\n",
        "product['nsellers'] = [len(p) for p in product.sellers]\n",
        "product = product[product.nsellers > 0]"
      ],
      "execution_count": null,
      "outputs": []
    },
    {
      "cell_type": "markdown",
      "metadata": {
        "id": "Q4YCBvSQlBL3"
      },
      "source": [
        "# **Overview on Input Data**"
      ]
    },
    {
      "cell_type": "markdown",
      "metadata": {
        "id": "O6tS-_RkPqHt"
      },
      "source": [
        "## Basic Information about each dataset"
      ]
    },
    {
      "cell_type": "code",
      "metadata": {
        "colab": {
          "base_uri": "https://localhost:8080/"
        },
        "id": "hx18LR65PvyX",
        "outputId": "1c8e43a2-1212-451d-87e7-22a3cd668824"
      },
      "source": [
        "print(search.info(verbose=True))"
      ],
      "execution_count": null,
      "outputs": [
        {
          "output_type": "stream",
          "text": [
            "<class 'pandas.core.frame.DataFrame'>\n",
            "RangeIndex: 3694579 entries, 0 to 3694578\n",
            "Data columns (total 5 columns):\n",
            " #   Column     Dtype         \n",
            "---  ------     -----         \n",
            " 0   _id        object        \n",
            " 1   raw_query  object        \n",
            " 2   page       int64         \n",
            " 3   result     object        \n",
            " 4   datetime   datetime64[ns]\n",
            "dtypes: datetime64[ns](1), int64(1), object(3)\n",
            "memory usage: 140.9+ MB\n",
            "None\n"
          ],
          "name": "stdout"
        }
      ]
    },
    {
      "cell_type": "code",
      "metadata": {
        "colab": {
          "base_uri": "https://localhost:8080/"
        },
        "id": "vyiJYdceP6xD",
        "outputId": "3d57056d-c0d8-4071-d3f2-bcbdbcd1d9eb"
      },
      "source": [
        "print(click.info(verbose=True))"
      ],
      "execution_count": null,
      "outputs": [
        {
          "output_type": "stream",
          "text": [
            "<class 'pandas.core.frame.DataFrame'>\n",
            "RangeIndex: 6317934 entries, 0 to 6317933\n",
            "Data columns (total 4 columns):\n",
            " #   Column           Dtype         \n",
            "---  ------           -----         \n",
            " 0   datetime         datetime64[ns]\n",
            " 1   search_log_id    object        \n",
            " 2   rank             int64         \n",
            " 3   base_product_id  object        \n",
            "dtypes: datetime64[ns](1), int64(1), object(2)\n",
            "memory usage: 192.8+ MB\n",
            "None\n"
          ],
          "name": "stdout"
        }
      ]
    },
    {
      "cell_type": "code",
      "metadata": {
        "colab": {
          "base_uri": "https://localhost:8080/"
        },
        "id": "1CsXcVUJP-1o",
        "outputId": "eeb50ba3-35bf-4a9b-94e1-74a39dbb7eee"
      },
      "source": [
        "print(product.info(verbose=True))"
      ],
      "execution_count": null,
      "outputs": [
        {
          "output_type": "stream",
          "text": [
            "<class 'pandas.core.frame.DataFrame'>\n",
            "Int64Index: 1769291 entries, 0 to 1985151\n",
            "Data columns (total 4 columns):\n",
            " #   Column         Dtype \n",
            "---  ------         ----- \n",
            " 0   _id            object\n",
            " 1   category_name  object\n",
            " 2   sellers        object\n",
            " 3   nsellers       int64 \n",
            "dtypes: int64(1), object(3)\n",
            "memory usage: 67.5+ MB\n",
            "None\n"
          ],
          "name": "stdout"
        }
      ]
    },
    {
      "cell_type": "markdown",
      "metadata": {
        "id": "dhuzkgZBO1NG"
      },
      "source": [
        "## Heads\n",
        "A few first datas of 'search', 'click' and 'product' datasets:"
      ]
    },
    {
      "cell_type": "code",
      "metadata": {
        "colab": {
          "base_uri": "https://localhost:8080/",
          "height": 289
        },
        "id": "w3sNrp6NPAA5",
        "outputId": "cff69c47-aded-4fa2-f6de-b26d73109b58"
      },
      "source": [
        "search.head()"
      ],
      "execution_count": null,
      "outputs": [
        {
          "output_type": "execute_result",
          "data": {
            "text/html": [
              "<div>\n",
              "<style scoped>\n",
              "    .dataframe tbody tr th:only-of-type {\n",
              "        vertical-align: middle;\n",
              "    }\n",
              "\n",
              "    .dataframe tbody tr th {\n",
              "        vertical-align: top;\n",
              "    }\n",
              "\n",
              "    .dataframe thead th {\n",
              "        text-align: right;\n",
              "    }\n",
              "</style>\n",
              "<table border=\"1\" class=\"dataframe\">\n",
              "  <thead>\n",
              "    <tr style=\"text-align: right;\">\n",
              "      <th></th>\n",
              "      <th>_id</th>\n",
              "      <th>raw_query</th>\n",
              "      <th>page</th>\n",
              "      <th>result</th>\n",
              "      <th>datetime</th>\n",
              "    </tr>\n",
              "  </thead>\n",
              "  <tbody>\n",
              "    <tr>\n",
              "      <th>0</th>\n",
              "      <td>609d7e3a6c2e88f6b241b089</td>\n",
              "      <td>گوشی موبایل</td>\n",
              "      <td>3</td>\n",
              "      <td>[mmmmm, mmmmy, mmmmu, mmmmk, mmmmb, mmmma, mmmmt, mmmmz, mmmmd, mmmmf]</td>\n",
              "      <td>2021-05-13 19:30:02.664</td>\n",
              "    </tr>\n",
              "    <tr>\n",
              "      <th>1</th>\n",
              "      <td>609d7e4802589dff17211ce4</td>\n",
              "      <td>گوشی</td>\n",
              "      <td>38</td>\n",
              "      <td>[mmmmn, mmmmi, mmmmo, mmmmx, mmmms, mmmmw, mmmme, mmmmr, mmmmc]</td>\n",
              "      <td>2021-05-13 19:30:16.244</td>\n",
              "    </tr>\n",
              "    <tr>\n",
              "      <th>2</th>\n",
              "      <td>609d7e4aa0194216c0994b29</td>\n",
              "      <td>گوشی سامسونگ</td>\n",
              "      <td>0</td>\n",
              "      <td>[mmmmq, mmmmv, mmmml, mmmmp, mmmmj, mmmmh, mmmym, mmmyy, mmmmu, mmmyu]</td>\n",
              "      <td>2021-05-13 19:30:18.246</td>\n",
              "    </tr>\n",
              "    <tr>\n",
              "      <th>3</th>\n",
              "      <td>609d7e58efd179e80a6fcd99</td>\n",
              "      <td>گوشی</td>\n",
              "      <td>39</td>\n",
              "      <td>[mmmka, mmmkz, mmmkf, mmmkg, mmmkx]</td>\n",
              "      <td>2021-05-13 19:30:32.254</td>\n",
              "    </tr>\n",
              "    <tr>\n",
              "      <th>4</th>\n",
              "      <td>609d7e5b8c23961847786454</td>\n",
              "      <td>گوشی</td>\n",
              "      <td>7</td>\n",
              "      <td>[mmmks, mmmkw, mmmke, mmmkr, mmmkc, mmmkq, mmmkv, mmmkl, mmmkp, mmmkj]</td>\n",
              "      <td>2021-05-13 19:30:35.460</td>\n",
              "    </tr>\n",
              "  </tbody>\n",
              "</table>\n",
              "</div>"
            ],
            "text/plain": [
              "                        _id     raw_query  page                                                                  result                datetime\n",
              "0  609d7e3a6c2e88f6b241b089   گوشی موبایل     3  [mmmmm, mmmmy, mmmmu, mmmmk, mmmmb, mmmma, mmmmt, mmmmz, mmmmd, mmmmf] 2021-05-13 19:30:02.664\n",
              "1  609d7e4802589dff17211ce4          گوشی    38         [mmmmn, mmmmi, mmmmo, mmmmx, mmmms, mmmmw, mmmme, mmmmr, mmmmc] 2021-05-13 19:30:16.244\n",
              "2  609d7e4aa0194216c0994b29  گوشی سامسونگ     0  [mmmmq, mmmmv, mmmml, mmmmp, mmmmj, mmmmh, mmmym, mmmyy, mmmmu, mmmyu] 2021-05-13 19:30:18.246\n",
              "3  609d7e58efd179e80a6fcd99          گوشی    39                                     [mmmka, mmmkz, mmmkf, mmmkg, mmmkx] 2021-05-13 19:30:32.254\n",
              "4  609d7e5b8c23961847786454          گوشی     7  [mmmks, mmmkw, mmmke, mmmkr, mmmkc, mmmkq, mmmkv, mmmkl, mmmkp, mmmkj] 2021-05-13 19:30:35.460"
            ]
          },
          "metadata": {
            "tags": []
          },
          "execution_count": 10
        }
      ]
    },
    {
      "cell_type": "code",
      "metadata": {
        "colab": {
          "base_uri": "https://localhost:8080/",
          "height": 204
        },
        "id": "_XoHh_o7PSxW",
        "outputId": "fe2b5487-d103-41b6-c03a-a5a205d4ad10"
      },
      "source": [
        "click.head()"
      ],
      "execution_count": null,
      "outputs": [
        {
          "output_type": "execute_result",
          "data": {
            "text/html": [
              "<div>\n",
              "<style scoped>\n",
              "    .dataframe tbody tr th:only-of-type {\n",
              "        vertical-align: middle;\n",
              "    }\n",
              "\n",
              "    .dataframe tbody tr th {\n",
              "        vertical-align: top;\n",
              "    }\n",
              "\n",
              "    .dataframe thead th {\n",
              "        text-align: right;\n",
              "    }\n",
              "</style>\n",
              "<table border=\"1\" class=\"dataframe\">\n",
              "  <thead>\n",
              "    <tr style=\"text-align: right;\">\n",
              "      <th></th>\n",
              "      <th>datetime</th>\n",
              "      <th>search_log_id</th>\n",
              "      <th>rank</th>\n",
              "      <th>base_product_id</th>\n",
              "    </tr>\n",
              "  </thead>\n",
              "  <tbody>\n",
              "    <tr>\n",
              "      <th>0</th>\n",
              "      <td>2021-05-13 19:30:47.249</td>\n",
              "      <td>609d7e4802589dff17211ce4</td>\n",
              "      <td>386</td>\n",
              "      <td>mmmmw</td>\n",
              "    </tr>\n",
              "    <tr>\n",
              "      <th>1</th>\n",
              "      <td>2021-05-13 19:31:14.383</td>\n",
              "      <td>609d7e58efd179e80a6fcd99</td>\n",
              "      <td>394</td>\n",
              "      <td>mmmkf</td>\n",
              "    </tr>\n",
              "    <tr>\n",
              "      <th>2</th>\n",
              "      <td>2021-05-13 19:31:56.974</td>\n",
              "      <td>609d7e3a6c2e88f6b241b089</td>\n",
              "      <td>34</td>\n",
              "      <td>mmmmb</td>\n",
              "    </tr>\n",
              "    <tr>\n",
              "      <th>3</th>\n",
              "      <td>2021-05-13 19:32:13.437</td>\n",
              "      <td>609d7eac2bf9491ab8fa0275</td>\n",
              "      <td>444</td>\n",
              "      <td>mmmtq</td>\n",
              "    </tr>\n",
              "    <tr>\n",
              "      <th>4</th>\n",
              "      <td>2021-05-13 19:32:14.086</td>\n",
              "      <td>609d7ea747bd1ff6b3eac1ba</td>\n",
              "      <td>4</td>\n",
              "      <td>mmmmq</td>\n",
              "    </tr>\n",
              "  </tbody>\n",
              "</table>\n",
              "</div>"
            ],
            "text/plain": [
              "                 datetime             search_log_id  rank base_product_id\n",
              "0 2021-05-13 19:30:47.249  609d7e4802589dff17211ce4   386           mmmmw\n",
              "1 2021-05-13 19:31:14.383  609d7e58efd179e80a6fcd99   394           mmmkf\n",
              "2 2021-05-13 19:31:56.974  609d7e3a6c2e88f6b241b089    34           mmmmb\n",
              "3 2021-05-13 19:32:13.437  609d7eac2bf9491ab8fa0275   444           mmmtq\n",
              "4 2021-05-13 19:32:14.086  609d7ea747bd1ff6b3eac1ba     4           mmmmq"
            ]
          },
          "metadata": {
            "tags": []
          },
          "execution_count": 11
        }
      ]
    },
    {
      "cell_type": "code",
      "metadata": {
        "colab": {
          "base_uri": "https://localhost:8080/",
          "height": 544
        },
        "id": "MUaAOFLKPa9V",
        "outputId": "2138c46a-a2ab-45a7-9558-8933a57e9ada"
      },
      "source": [
        "product.head()"
      ],
      "execution_count": null,
      "outputs": [
        {
          "output_type": "execute_result",
          "data": {
            "text/html": [
              "<div>\n",
              "<style scoped>\n",
              "    .dataframe tbody tr th:only-of-type {\n",
              "        vertical-align: middle;\n",
              "    }\n",
              "\n",
              "    .dataframe tbody tr th {\n",
              "        vertical-align: top;\n",
              "    }\n",
              "\n",
              "    .dataframe thead th {\n",
              "        text-align: right;\n",
              "    }\n",
              "</style>\n",
              "<table border=\"1\" class=\"dataframe\">\n",
              "  <thead>\n",
              "    <tr style=\"text-align: right;\">\n",
              "      <th></th>\n",
              "      <th>_id</th>\n",
              "      <th>category_name</th>\n",
              "      <th>sellers</th>\n",
              "      <th>nsellers</th>\n",
              "    </tr>\n",
              "  </thead>\n",
              "  <tbody>\n",
              "    <tr>\n",
              "      <th>0</th>\n",
              "      <td>yxwrs</td>\n",
              "      <td>ویدیو پروژکتور اپتما</td>\n",
              "      <td>[{'name1': 'پروژکتور Optoma HD142X 1080p 3000 Lumens 3D DLP صفحه اصلی سینمای خانگی', 'name2': 'Optoma HD142X 1080p 3000 Lumens 3D DLP Home Theater Projector', 'price': 31852600, 'availability': True, 'date_added': '2018-06-10T17:27:45.418776+00:00'}, {'name1': 'ویدئو پروژکتور اوپتوما optoma hd142x : خانگی، 3D، رزولوشن 1920x1080 HD', 'name2': '', 'price': 12645000, 'availability': False, 'date_added': '2018-05-24T16:59:16.465159+00:00'}, {'name1': 'Video Projector Optoma HD142X', 'name2': 'دی...</td>\n",
              "      <td>6</td>\n",
              "    </tr>\n",
              "    <tr>\n",
              "      <th>1</th>\n",
              "      <td>mbeby</td>\n",
              "      <td>تقویت کننده مژه و ابرو</td>\n",
              "      <td>[{'name1': 'ژل حالت دهنده ابرو و مژه essence', 'name2': 'Essence Lash And Brow Gel', 'price': 60000, 'availability': True, 'date_added': '2020-06-29T20:02:26.427948+00:00'}, {'name1': 'ژل حالت دهنده ابرو و مژه اسنس', 'name2': 'ESSENCE LASH AND BROW GEL', 'price': 65000, 'availability': False, 'date_added': '2021-02-07T16:00:26.664478+00:00'}, {'name1': 'ژل ابرو اسنس', 'name2': '', 'price': 98000, 'availability': True, 'date_added': '2021-03-10T12:18:51.632557+00:00'}, {'name1': 'ژل حالت دهند...</td>\n",
              "      <td>33</td>\n",
              "    </tr>\n",
              "    <tr>\n",
              "      <th>2</th>\n",
              "      <td>yovgc</td>\n",
              "      <td>مام و اسپری</td>\n",
              "      <td>[{'name1': 'استیک مردانه وی ایت رکسونا V8', 'name2': 'REXONA Men Stick V8', 'price': 0, 'availability': False, 'date_added': '2020-04-30T17:09:55.121061+00:00'}, {'name1': 'استیک دئودرانت مردانه رکسونا مدل V8 Tuning', 'name2': '', 'price': 60000, 'availability': False, 'date_added': '2020-05-14T15:16:17.862829+00:00'}, {'name1': 'استیک ضد تعریق مردانه رکسونا مدل V8 وزن 40 گرم', 'name2': '', 'price': 30000, 'availability': False, 'date_added': '2019-04-30T19:05:27.777683+00:00'}, {'name1': 'د...</td>\n",
              "      <td>5</td>\n",
              "    </tr>\n",
              "    <tr>\n",
              "      <th>3</th>\n",
              "      <td>yokff</td>\n",
              "      <td>مام و اسپری</td>\n",
              "      <td>[{'name1': 'مام صابونی رکسونا زنانه کاتون درای الگودون Rexona Deodorant Cotton Dry Algodon', 'name2': '', 'price': 49000, 'availability': True, 'date_added': '2020-04-14T15:01:10.103048+00:00'}, {'name1': 'استیک ضد تعریق مدل Cotton Dry رکسونا حجم 40 میل', 'name2': 'Rexona Cotton Dry Stick Deodorant 40ml', 'price': 50000, 'availability': True, 'date_added': '2020-06-07T14:50:38.449131+00:00'}, {'name1': 'استیک ضد تعریق زنانه رکسونا مدل cotton dry حجم 40 میل', 'name2': '', 'price': 45000, 'ava...</td>\n",
              "      <td>16</td>\n",
              "    </tr>\n",
              "    <tr>\n",
              "      <th>4</th>\n",
              "      <td>uduyq</td>\n",
              "      <td>گوشی هوآوی</td>\n",
              "      <td>[{'name1': 'Huawei Ascend Y550', 'name2': 'Huawei Ascend Y550', 'price': 0, 'availability': False, 'date_added': '2017-04-24T19:33:29.044830+00:00'}, {'name1': 'گوشی موبایل هواوی HUAWEI ASCEND Y550', 'name2': '', 'price': 0, 'availability': False, 'date_added': '2018-03-12T10:26:23.683039+00:00'}, {'name1': 'گوشی موبایل هواوی اسند وای 550', 'name2': '', 'price': 0, 'availability': False, 'date_added': '2017-06-02T01:46:01.935024+00:00'}, {'name1': 'گوشی موبایل هوآوی Huawei Ascend Y550', 'nam...</td>\n",
              "      <td>5</td>\n",
              "    </tr>\n",
              "  </tbody>\n",
              "</table>\n",
              "</div>"
            ],
            "text/plain": [
              "     _id           category_name                                                                                                                                                                                                                                                                                                                                                                                                                                                                                                              sellers  nsellers\n",
              "0  yxwrs    ویدیو پروژکتور اپتما  [{'name1': 'پروژکتور Optoma HD142X 1080p 3000 Lumens 3D DLP صفحه اصلی سینمای خانگی', 'name2': 'Optoma HD142X 1080p 3000 Lumens 3D DLP Home Theater Projector', 'price': 31852600, 'availability': True, 'date_added': '2018-06-10T17:27:45.418776+00:00'}, {'name1': 'ویدئو پروژکتور اوپتوما optoma hd142x : خانگی، 3D، رزولوشن 1920x1080 HD', 'name2': '', 'price': 12645000, 'availability': False, 'date_added': '2018-05-24T16:59:16.465159+00:00'}, {'name1': 'Video Projector Optoma HD142X', 'name2': 'دی...         6\n",
              "1  mbeby  تقویت کننده مژه و ابرو  [{'name1': 'ژل حالت دهنده ابرو و مژه essence', 'name2': 'Essence Lash And Brow Gel', 'price': 60000, 'availability': True, 'date_added': '2020-06-29T20:02:26.427948+00:00'}, {'name1': 'ژل حالت دهنده ابرو و مژه اسنس', 'name2': 'ESSENCE LASH AND BROW GEL', 'price': 65000, 'availability': False, 'date_added': '2021-02-07T16:00:26.664478+00:00'}, {'name1': 'ژل ابرو اسنس', 'name2': '', 'price': 98000, 'availability': True, 'date_added': '2021-03-10T12:18:51.632557+00:00'}, {'name1': 'ژل حالت دهند...        33\n",
              "2  yovgc             مام و اسپری  [{'name1': 'استیک مردانه وی ایت رکسونا V8', 'name2': 'REXONA Men Stick V8', 'price': 0, 'availability': False, 'date_added': '2020-04-30T17:09:55.121061+00:00'}, {'name1': 'استیک دئودرانت مردانه رکسونا مدل V8 Tuning', 'name2': '', 'price': 60000, 'availability': False, 'date_added': '2020-05-14T15:16:17.862829+00:00'}, {'name1': 'استیک ضد تعریق مردانه رکسونا مدل V8 وزن 40 گرم', 'name2': '', 'price': 30000, 'availability': False, 'date_added': '2019-04-30T19:05:27.777683+00:00'}, {'name1': 'د...         5\n",
              "3  yokff             مام و اسپری  [{'name1': 'مام صابونی رکسونا زنانه کاتون درای الگودون Rexona Deodorant Cotton Dry Algodon', 'name2': '', 'price': 49000, 'availability': True, 'date_added': '2020-04-14T15:01:10.103048+00:00'}, {'name1': 'استیک ضد تعریق مدل Cotton Dry رکسونا حجم 40 میل', 'name2': 'Rexona Cotton Dry Stick Deodorant 40ml', 'price': 50000, 'availability': True, 'date_added': '2020-06-07T14:50:38.449131+00:00'}, {'name1': 'استیک ضد تعریق زنانه رکسونا مدل cotton dry حجم 40 میل', 'name2': '', 'price': 45000, 'ava...        16\n",
              "4  uduyq              گوشی هوآوی  [{'name1': 'Huawei Ascend Y550', 'name2': 'Huawei Ascend Y550', 'price': 0, 'availability': False, 'date_added': '2017-04-24T19:33:29.044830+00:00'}, {'name1': 'گوشی موبایل هواوی HUAWEI ASCEND Y550', 'name2': '', 'price': 0, 'availability': False, 'date_added': '2018-03-12T10:26:23.683039+00:00'}, {'name1': 'گوشی موبایل هواوی اسند وای 550', 'name2': '', 'price': 0, 'availability': False, 'date_added': '2017-06-02T01:46:01.935024+00:00'}, {'name1': 'گوشی موبایل هوآوی Huawei Ascend Y550', 'nam...         5"
            ]
          },
          "metadata": {
            "tags": []
          },
          "execution_count": 12
        }
      ]
    },
    {
      "cell_type": "markdown",
      "metadata": {
        "id": "cG7Y3a-rsft2"
      },
      "source": [
        "# **Analysis**"
      ]
    },
    {
      "cell_type": "markdown",
      "metadata": {
        "id": "LoyPvL44RcrV"
      },
      "source": [
        "## Ranking Performance\n",
        "\n",
        "> By plotting the correlation between the given ranks and clicks to each product, we notice the proper accuracy of ranking algorithm.\n",
        "\n"
      ]
    },
    {
      "cell_type": "code",
      "metadata": {
        "colab": {
          "base_uri": "https://localhost:8080/",
          "height": 621
        },
        "id": "sRB5v_BnSHeg",
        "outputId": "bb83a534-5a71-4d20-a449-8bde2e102fdc"
      },
      "source": [
        "plt.figure(figsize=(20,12))\n",
        "click[\"rank\"].value_counts().sort_index()[:30].plot.barh(color = 'crimson').invert_yaxis()\n",
        "plt.show()"
      ],
      "execution_count": null,
      "outputs": [
        {
          "output_type": "display_data",
          "data": {
            "image/png": "[encoded data removed]",
            "text/plain": [
              "<Figure size 1440x864 with 1 Axes>"
            ]
          },
          "metadata": {
            "tags": [],
            "needs_background": "light"
          }
        }
      ]
    },
    {
      "cell_type": "markdown",
      "metadata": {
        "id": "jRdD33pmSeQ5"
      },
      "source": [
        "\n",
        "\n",
        "> The relation between clicks and page numbers related to each click, we'll see that most of clicks are appeared on few first pages\n",
        "\n"
      ]
    },
    {
      "cell_type": "code",
      "metadata": {
        "colab": {
          "base_uri": "https://localhost:8080/",
          "height": 486
        },
        "id": "W1pSrIjtTQvy",
        "outputId": "2af77212-0164-4edc-9ad0-aa6a18958230"
      },
      "source": [
        "plt.figure(figsize=(20,9))\n",
        "search.page.value_counts()[0:20].plot.bar(color = 'green')\n",
        "plt.show()"
      ],
      "execution_count": null,
      "outputs": [
        {
          "output_type": "display_data",
          "data": {
            "image/png": "[encoded data removed]",
            "text/plain": [
              "<Figure size 1440x648 with 1 Axes>"
            ]
          },
          "metadata": {
            "tags": [],
            "needs_background": "light"
          }
        }
      ]
    },
    {
      "cell_type": "markdown",
      "metadata": {
        "id": "pAm_hmk6U5Au"
      },
      "source": [
        "## Abundance of Products in Each Category"
      ]
    },
    {
      "cell_type": "code",
      "metadata": {
        "colab": {
          "base_uri": "https://localhost:8080/",
          "height": 871
        },
        "id": "_6jplyfOV3Kp",
        "outputId": "0ee4b4ce-f7ad-4aaa-aeb0-5aab77bce745"
      },
      "source": [
        "plt.figure(figsize=(20,20))\n",
        "product.category_name.value_counts()[:30].plot.barh(color = 'orange').invert_yaxis()\n",
        "plt.show()"
      ],
      "execution_count": null,
      "outputs": [
        {
          "output_type": "display_data",
          "data": {
            "image/png": "[encoded data removed]",
            "text/plain": [
              "<Figure size 1440x1440 with 1 Axes>"
            ]
          },
          "metadata": {
            "tags": [],
            "needs_background": "light"
          }
        }
      ]
    },
    {
      "cell_type": "markdown",
      "metadata": {
        "id": "RIERRkUqWLtU"
      },
      "source": [
        "## Considering a 24 h Period\n",
        "\n",
        "\n",
        "> Analayzing searches and clicks regarding to a random 24 hour:\n",
        "\n"
      ]
    },
    {
      "cell_type": "code",
      "metadata": {
        "colab": {
          "base_uri": "https://localhost:8080/"
        },
        "id": "ysn499unYw8t",
        "outputId": "347a80a2-ff2f-431d-80fb-0ac669b3aa6a"
      },
      "source": [
        "from_date = datetime.strptime('5/5/2021 00:00:00', '%d/%m/%Y %H:%M:%S')\n",
        "to_date = datetime.strptime('6/5/2021 00:00:00', '%d/%m/%Y %H:%M:%S')\n",
        "\n",
        "print(from_date, to_date)"
      ],
      "execution_count": null,
      "outputs": [
        {
          "output_type": "stream",
          "text": [
            "2021-05-05 00:00:00 2021-05-06 00:00:00\n"
          ],
          "name": "stdout"
        }
      ]
    },
    {
      "cell_type": "code",
      "metadata": {
        "id": "JkXukITfZwnz"
      },
      "source": [
        "search = search[[from_date < d < to_date for d in search.datetime]]\n",
        "click = click[[from_date < d < to_date for d in click.datetime]]"
      ],
      "execution_count": null,
      "outputs": []
    },
    {
      "cell_type": "code",
      "metadata": {
        "colab": {
          "base_uri": "https://localhost:8080/"
        },
        "id": "GxgSGrY2NNpd",
        "outputId": "90509313-1d58-41c5-a545-28f74927afa7"
      },
      "source": [
        "# Retrieving products shown in search results in this period\n",
        "needed_product_ids = set(itertools.chain(*[set(r) for r in search.result]))\n",
        "product = product[[idx in needed_product_ids for idx in product._id]]\n",
        "len(needed_product_ids), len(product)"
      ],
      "execution_count": null,
      "outputs": [
        {
          "output_type": "execute_result",
          "data": {
            "text/plain": [
              "(256568, 256568)"
            ]
          },
          "metadata": {
            "tags": []
          },
          "execution_count": 18
        }
      ]
    },
    {
      "cell_type": "markdown",
      "metadata": {
        "id": "VJPwOfxKPDWX"
      },
      "source": [
        "Modifying clicks is this period:"
      ]
    },
    {
      "cell_type": "code",
      "metadata": {
        "id": "A61jZFolfQH5"
      },
      "source": [
        "search = search[[\"_id\",\"raw_query\", \"result\"]]\n",
        "gc.collect()\n",
        "def extract_name_1(x):\n",
        "    try:\n",
        "        return x[0]['name1']\n",
        "    except:\n",
        "        return 'no name'\n",
        "def extract_name_2(x):\n",
        "    try:\n",
        "        return x[0]['name2']\n",
        "    except:\n",
        "        return 'no name'\n",
        "def extract_price(x):\n",
        "    try:\n",
        "        return x[0]['price']\n",
        "    except:\n",
        "        return -999\n",
        "def extract_date(x):\n",
        "    try:\n",
        "        return x[0]['date_added']\n",
        "    except:\n",
        "        return '2022-01-01'\n",
        "click = pd.merge(click, product, how='left', left_on='base_product_id', right_on='_id')\n",
        "click['product_name_1'] = click['sellers'].apply(extract_name_1)\n",
        "click['product_name_2'] = click['sellers'].apply(extract_name_2)\n",
        "click['price'] = click['sellers'].apply(extract_price)\n",
        "click['date'] = click['sellers'].apply(extract_date)"
      ],
      "execution_count": null,
      "outputs": []
    },
    {
      "cell_type": "code",
      "metadata": {
        "colab": {
          "base_uri": "https://localhost:8080/",
          "height": 213
        },
        "id": "Q5OH4DEBTdUf",
        "outputId": "a7c17fde-8ea7-4b1d-8da1-deac58661926"
      },
      "source": [
        "click[click.columns[~click.columns.isin(['sellers'])]].head(3)\n",
        "# Sellers column is not shown because of its dirty appearance"
      ],
      "execution_count": null,
      "outputs": [
        {
          "output_type": "execute_result",
          "data": {
            "text/html": [
              "<div>\n",
              "<style scoped>\n",
              "    .dataframe tbody tr th:only-of-type {\n",
              "        vertical-align: middle;\n",
              "    }\n",
              "\n",
              "    .dataframe tbody tr th {\n",
              "        vertical-align: top;\n",
              "    }\n",
              "\n",
              "    .dataframe thead th {\n",
              "        text-align: right;\n",
              "    }\n",
              "</style>\n",
              "<table border=\"1\" class=\"dataframe\">\n",
              "  <thead>\n",
              "    <tr style=\"text-align: right;\">\n",
              "      <th></th>\n",
              "      <th>datetime</th>\n",
              "      <th>search_log_id</th>\n",
              "      <th>rank</th>\n",
              "      <th>base_product_id</th>\n",
              "      <th>_id</th>\n",
              "      <th>category_name</th>\n",
              "      <th>nsellers</th>\n",
              "      <th>product_name_1</th>\n",
              "      <th>product_name_2</th>\n",
              "      <th>price</th>\n",
              "      <th>date</th>\n",
              "    </tr>\n",
              "  </thead>\n",
              "  <tbody>\n",
              "    <tr>\n",
              "      <th>0</th>\n",
              "      <td>2021-05-05 19:31:53.866</td>\n",
              "      <td>6092f282af85a6df5d6ed9c8</td>\n",
              "      <td>27</td>\n",
              "      <td>mmmyy</td>\n",
              "      <td>mmmyy</td>\n",
              "      <td>گوشی سامسونگ</td>\n",
              "      <td>260.0</td>\n",
              "      <td>Samsung Galaxy A12 128GB</td>\n",
              "      <td>Samsung Galaxy A12 128GB</td>\n",
              "      <td>4020000</td>\n",
              "      <td>2021-01-08T01:57:36.574557+00:00</td>\n",
              "    </tr>\n",
              "    <tr>\n",
              "      <th>1</th>\n",
              "      <td>2021-05-05 19:32:06.366</td>\n",
              "      <td>6092f2a5d666e955ea0af30d</td>\n",
              "      <td>486</td>\n",
              "      <td>muyhc</td>\n",
              "      <td>muyhc</td>\n",
              "      <td>سایر برندهای گوشی موبایل</td>\n",
              "      <td>1.0</td>\n",
              "      <td>گوشی موبایل تاشو VNUS V100</td>\n",
              "      <td></td>\n",
              "      <td>500000</td>\n",
              "      <td>2020-10-18T09:12:57.064705+00:00</td>\n",
              "    </tr>\n",
              "    <tr>\n",
              "      <th>2</th>\n",
              "      <td>2021-05-05 19:33:31.715</td>\n",
              "      <td>6092f238778372a51a4c221a</td>\n",
              "      <td>374</td>\n",
              "      <td>mynlp</td>\n",
              "      <td>mynlp</td>\n",
              "      <td>گوشی نوکیا</td>\n",
              "      <td>1.0</td>\n",
              "      <td>گوشی Nokia 6303</td>\n",
              "      <td></td>\n",
              "      <td>250000</td>\n",
              "      <td>2021-04-28T20:53:15.486780+00:00</td>\n",
              "    </tr>\n",
              "  </tbody>\n",
              "</table>\n",
              "</div>"
            ],
            "text/plain": [
              "                 datetime             search_log_id  rank base_product_id    _id             category_name  nsellers              product_name_1            product_name_2    price                              date\n",
              "0 2021-05-05 19:31:53.866  6092f282af85a6df5d6ed9c8    27           mmmyy  mmmyy              گوشی سامسونگ     260.0    Samsung Galaxy A12 128GB  Samsung Galaxy A12 128GB  4020000  2021-01-08T01:57:36.574557+00:00\n",
              "1 2021-05-05 19:32:06.366  6092f2a5d666e955ea0af30d   486           muyhc  muyhc  سایر برندهای گوشی موبایل       1.0  گوشی موبایل تاشو VNUS V100                             500000  2020-10-18T09:12:57.064705+00:00\n",
              "2 2021-05-05 19:33:31.715  6092f238778372a51a4c221a   374           mynlp  mynlp                گوشی نوکیا       1.0             گوشی Nokia 6303                             250000  2021-04-28T20:53:15.486780+00:00"
            ]
          },
          "metadata": {
            "tags": []
          },
          "execution_count": 20
        }
      ]
    },
    {
      "cell_type": "markdown",
      "metadata": {
        "id": "ZWQQI0FAunte"
      },
      "source": [
        "## Pie Plot of First Rank When Query is \"گوشی\""
      ]
    },
    {
      "cell_type": "code",
      "metadata": {
        "id": "tH-o0nbPvOeg",
        "colab": {
          "base_uri": "https://localhost:8080/",
          "height": 249
        },
        "outputId": "c15ea4bf-a344-43e2-ba52-00f1db357a07"
      },
      "source": [
        "gc.collect()\n",
        "click_analysis = pd.merge(click , search, how=\"inner\" , left_on=\"search_log_id\" , right_on=\"_id\")\n",
        "\n",
        "click_analysis = click_analysis.drop_duplicates(['search_log_id', 'rank', 'category_name', 'raw_query'])\n",
        "a0 = click_analysis[(click_analysis.raw_query == \"گوشی\")&(click_analysis[\"rank\"]==0)].category_name.value_counts()[:8]\n",
        "fig,ax = plt.subplots(figsize=(7, 7))\n",
        "a=0\n",
        "b=0\n",
        "colors = ['#ff9999','#66b3ff','#99ff99']\n",
        "# plt.pie(a0,[0,0,0,0.2,0.3,0.4,0.5,1.4], labels=a0.index)\n",
        "plt.pie(a0,[0,0.5,0.7], labels=a0.index, shadow=True, colors = colors)\n",
        "plt.show()"
      ],
      "execution_count": null,
      "outputs": [
        {
          "output_type": "error",
          "ename": "NameError",
          "evalue": "ignored",
          "traceback": [
            "\u001b[0;31m---------------------------------------------------------------------------\u001b[0m",
            "\u001b[0;31mNameError\u001b[0m                                 Traceback (most recent call last)",
            "\u001b[0;32m<ipython-input-4-7e6ae57c7c2e>\u001b[0m in \u001b[0;36m<module>\u001b[0;34m()\u001b[0m\n\u001b[1;32m      1\u001b[0m \u001b[0mgc\u001b[0m\u001b[0;34m.\u001b[0m\u001b[0mcollect\u001b[0m\u001b[0;34m(\u001b[0m\u001b[0;34m)\u001b[0m\u001b[0;34m\u001b[0m\u001b[0;34m\u001b[0m\u001b[0m\n\u001b[0;32m----> 2\u001b[0;31m \u001b[0mclick_analysis\u001b[0m \u001b[0;34m=\u001b[0m \u001b[0mpd\u001b[0m\u001b[0;34m.\u001b[0m\u001b[0mmerge\u001b[0m\u001b[0;34m(\u001b[0m\u001b[0mclick\u001b[0m \u001b[0;34m,\u001b[0m \u001b[0msearch\u001b[0m\u001b[0;34m,\u001b[0m \u001b[0mhow\u001b[0m\u001b[0;34m=\u001b[0m\u001b[0;34m\"inner\"\u001b[0m \u001b[0;34m,\u001b[0m \u001b[0mleft_on\u001b[0m\u001b[0;34m=\u001b[0m\u001b[0;34m\"search_log_id\"\u001b[0m \u001b[0;34m,\u001b[0m \u001b[0mright_on\u001b[0m\u001b[0;34m=\u001b[0m\u001b[0;34m\"_id\"\u001b[0m\u001b[0;34m)\u001b[0m\u001b[0;34m\u001b[0m\u001b[0;34m\u001b[0m\u001b[0m\n\u001b[0m\u001b[1;32m      3\u001b[0m \u001b[0;34m\u001b[0m\u001b[0m\n\u001b[1;32m      4\u001b[0m \u001b[0mclick_analysis\u001b[0m \u001b[0;34m=\u001b[0m \u001b[0mclick_analysis\u001b[0m\u001b[0;34m.\u001b[0m\u001b[0mdrop_duplicates\u001b[0m\u001b[0;34m(\u001b[0m\u001b[0;34m[\u001b[0m\u001b[0;34m'search_log_id'\u001b[0m\u001b[0;34m,\u001b[0m \u001b[0;34m'rank'\u001b[0m\u001b[0;34m,\u001b[0m \u001b[0;34m'category_name'\u001b[0m\u001b[0;34m,\u001b[0m \u001b[0;34m'raw_query'\u001b[0m\u001b[0;34m]\u001b[0m\u001b[0;34m)\u001b[0m\u001b[0;34m\u001b[0m\u001b[0;34m\u001b[0m\u001b[0m\n\u001b[1;32m      5\u001b[0m \u001b[0ma0\u001b[0m \u001b[0;34m=\u001b[0m \u001b[0mclick_analysis\u001b[0m\u001b[0;34m[\u001b[0m\u001b[0;34m(\u001b[0m\u001b[0mclick_analysis\u001b[0m\u001b[0;34m.\u001b[0m\u001b[0mraw_query\u001b[0m \u001b[0;34m==\u001b[0m \u001b[0;34m\"گوشی\"\u001b[0m\u001b[0;34m)\u001b[0m\u001b[0;34m&\u001b[0m\u001b[0;34m(\u001b[0m\u001b[0mclick_analysis\u001b[0m\u001b[0;34m[\u001b[0m\u001b[0;34m\"rank\"\u001b[0m\u001b[0;34m]\u001b[0m\u001b[0;34m==\u001b[0m\u001b[0;36m0\u001b[0m\u001b[0;34m)\u001b[0m\u001b[0;34m]\u001b[0m\u001b[0;34m.\u001b[0m\u001b[0mcategory_name\u001b[0m\u001b[0;34m.\u001b[0m\u001b[0mvalue_counts\u001b[0m\u001b[0;34m(\u001b[0m\u001b[0;34m)\u001b[0m\u001b[0;34m[\u001b[0m\u001b[0;34m:\u001b[0m\u001b[0;36m8\u001b[0m\u001b[0;34m]\u001b[0m\u001b[0;34m\u001b[0m\u001b[0;34m\u001b[0m\u001b[0m\n",
            "\u001b[0;31mNameError\u001b[0m: name 'click' is not defined"
          ]
        }
      ]
    }
  ]
}